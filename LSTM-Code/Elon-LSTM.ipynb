{
 "cells": [
  {
   "cell_type": "code",
   "execution_count": 47,
   "metadata": {},
   "outputs": [],
   "source": [
    "import numpy as np\n",
    "from pandas import read_csv\n",
    "import pandas_datareader.data as web\n",
    "import matplotlib.pyplot as plt\n"
   ]
  },
  {
   "cell_type": "code",
   "execution_count": 48,
   "metadata": {},
   "outputs": [
    {
     "data": {
      "text/html": [
       "<div>\n",
       "<style scoped>\n",
       "    .dataframe tbody tr th:only-of-type {\n",
       "        vertical-align: middle;\n",
       "    }\n",
       "\n",
       "    .dataframe tbody tr th {\n",
       "        vertical-align: top;\n",
       "    }\n",
       "\n",
       "    .dataframe thead th {\n",
       "        text-align: right;\n",
       "    }\n",
       "</style>\n",
       "<table border=\"1\" class=\"dataframe\">\n",
       "  <thead>\n",
       "    <tr style=\"text-align: right;\">\n",
       "      <th></th>\n",
       "      <th>High</th>\n",
       "      <th>Low</th>\n",
       "      <th>Open</th>\n",
       "      <th>Close</th>\n",
       "      <th>Volume</th>\n",
       "      <th>Adj Close</th>\n",
       "    </tr>\n",
       "    <tr>\n",
       "      <th>Date</th>\n",
       "      <th></th>\n",
       "      <th></th>\n",
       "      <th></th>\n",
       "      <th></th>\n",
       "      <th></th>\n",
       "      <th></th>\n",
       "    </tr>\n",
       "  </thead>\n",
       "  <tbody>\n",
       "    <tr>\n",
       "      <th>2021-04-23</th>\n",
       "      <td>0.000000e+00</td>\n",
       "      <td>0.000000e+00</td>\n",
       "      <td>0.000000e+00</td>\n",
       "      <td>0.000000e+00</td>\n",
       "      <td>523817</td>\n",
       "      <td>0.000000e+00</td>\n",
       "    </tr>\n",
       "    <tr>\n",
       "      <th>2021-04-24</th>\n",
       "      <td>0.000000e+00</td>\n",
       "      <td>0.000000e+00</td>\n",
       "      <td>0.000000e+00</td>\n",
       "      <td>0.000000e+00</td>\n",
       "      <td>51157783</td>\n",
       "      <td>0.000000e+00</td>\n",
       "    </tr>\n",
       "    <tr>\n",
       "      <th>2021-04-25</th>\n",
       "      <td>0.000000e+00</td>\n",
       "      <td>0.000000e+00</td>\n",
       "      <td>0.000000e+00</td>\n",
       "      <td>0.000000e+00</td>\n",
       "      <td>14962631</td>\n",
       "      <td>0.000000e+00</td>\n",
       "    </tr>\n",
       "    <tr>\n",
       "      <th>2021-04-26</th>\n",
       "      <td>0.000000e+00</td>\n",
       "      <td>0.000000e+00</td>\n",
       "      <td>0.000000e+00</td>\n",
       "      <td>0.000000e+00</td>\n",
       "      <td>30621745</td>\n",
       "      <td>0.000000e+00</td>\n",
       "    </tr>\n",
       "    <tr>\n",
       "      <th>2021-04-27</th>\n",
       "      <td>0.000000e+00</td>\n",
       "      <td>0.000000e+00</td>\n",
       "      <td>0.000000e+00</td>\n",
       "      <td>0.000000e+00</td>\n",
       "      <td>37492592</td>\n",
       "      <td>0.000000e+00</td>\n",
       "    </tr>\n",
       "    <tr>\n",
       "      <th>...</th>\n",
       "      <td>...</td>\n",
       "      <td>...</td>\n",
       "      <td>...</td>\n",
       "      <td>...</td>\n",
       "      <td>...</td>\n",
       "      <td>...</td>\n",
       "    </tr>\n",
       "    <tr>\n",
       "      <th>2022-05-11</th>\n",
       "      <td>1.000000e-06</td>\n",
       "      <td>0.000000e+00</td>\n",
       "      <td>1.000000e-06</td>\n",
       "      <td>1.000000e-06</td>\n",
       "      <td>39800103</td>\n",
       "      <td>1.000000e-06</td>\n",
       "    </tr>\n",
       "    <tr>\n",
       "      <th>2022-05-12</th>\n",
       "      <td>1.000000e-06</td>\n",
       "      <td>0.000000e+00</td>\n",
       "      <td>1.000000e-06</td>\n",
       "      <td>0.000000e+00</td>\n",
       "      <td>49921379</td>\n",
       "      <td>0.000000e+00</td>\n",
       "    </tr>\n",
       "    <tr>\n",
       "      <th>2022-05-13</th>\n",
       "      <td>1.000000e-06</td>\n",
       "      <td>0.000000e+00</td>\n",
       "      <td>0.000000e+00</td>\n",
       "      <td>1.000000e-06</td>\n",
       "      <td>44454142</td>\n",
       "      <td>1.000000e-06</td>\n",
       "    </tr>\n",
       "    <tr>\n",
       "      <th>2022-05-14</th>\n",
       "      <td>1.000000e-06</td>\n",
       "      <td>0.000000e+00</td>\n",
       "      <td>1.000000e-06</td>\n",
       "      <td>0.000000e+00</td>\n",
       "      <td>21933727</td>\n",
       "      <td>0.000000e+00</td>\n",
       "    </tr>\n",
       "    <tr>\n",
       "      <th>2022-05-15</th>\n",
       "      <td>5.089316e-07</td>\n",
       "      <td>4.733898e-07</td>\n",
       "      <td>4.945900e-07</td>\n",
       "      <td>5.011623e-07</td>\n",
       "      <td>11037584</td>\n",
       "      <td>5.011623e-07</td>\n",
       "    </tr>\n",
       "  </tbody>\n",
       "</table>\n",
       "<p>388 rows × 6 columns</p>\n",
       "</div>"
      ],
      "text/plain": [
       "                    High           Low          Open         Close    Volume  \\\n",
       "Date                                                                           \n",
       "2021-04-23  0.000000e+00  0.000000e+00  0.000000e+00  0.000000e+00    523817   \n",
       "2021-04-24  0.000000e+00  0.000000e+00  0.000000e+00  0.000000e+00  51157783   \n",
       "2021-04-25  0.000000e+00  0.000000e+00  0.000000e+00  0.000000e+00  14962631   \n",
       "2021-04-26  0.000000e+00  0.000000e+00  0.000000e+00  0.000000e+00  30621745   \n",
       "2021-04-27  0.000000e+00  0.000000e+00  0.000000e+00  0.000000e+00  37492592   \n",
       "...                  ...           ...           ...           ...       ...   \n",
       "2022-05-11  1.000000e-06  0.000000e+00  1.000000e-06  1.000000e-06  39800103   \n",
       "2022-05-12  1.000000e-06  0.000000e+00  1.000000e-06  0.000000e+00  49921379   \n",
       "2022-05-13  1.000000e-06  0.000000e+00  0.000000e+00  1.000000e-06  44454142   \n",
       "2022-05-14  1.000000e-06  0.000000e+00  1.000000e-06  0.000000e+00  21933727   \n",
       "2022-05-15  5.089316e-07  4.733898e-07  4.945900e-07  5.011623e-07  11037584   \n",
       "\n",
       "               Adj Close  \n",
       "Date                      \n",
       "2021-04-23  0.000000e+00  \n",
       "2021-04-24  0.000000e+00  \n",
       "2021-04-25  0.000000e+00  \n",
       "2021-04-26  0.000000e+00  \n",
       "2021-04-27  0.000000e+00  \n",
       "...                  ...  \n",
       "2022-05-11  1.000000e-06  \n",
       "2022-05-12  0.000000e+00  \n",
       "2022-05-13  1.000000e-06  \n",
       "2022-05-14  0.000000e+00  \n",
       "2022-05-15  5.011623e-07  \n",
       "\n",
       "[388 rows x 6 columns]"
      ]
     },
     "execution_count": 48,
     "metadata": {},
     "output_type": "execute_result"
    }
   ],
   "source": [
    "doge = web.DataReader('ELON-USD', 'yahoo')\n",
    "doge"
   ]
  },
  {
   "cell_type": "code",
   "execution_count": null,
   "metadata": {},
   "outputs": [],
   "source": []
  },
  {
   "cell_type": "code",
   "execution_count": 49,
   "metadata": {},
   "outputs": [
    {
     "name": "stdout",
     "output_type": "stream",
     "text": [
      "            High           Low          Open         Close    Volume  \\\n",
      "0   2.000000e-06  2.000000e-06  2.000000e-06  2.000000e-06  28411316   \n",
      "1   1.000000e-06  1.000000e-06  1.000000e-06  1.000000e-06   8614416   \n",
      "2   1.000000e-06  1.000000e-06  1.000000e-06  1.000000e-06   8764455   \n",
      "3   1.000000e-06  1.000000e-06  1.000000e-06  1.000000e-06  15698350   \n",
      "4   9.001561e-07  8.835249e-07  8.877650e-07  8.941861e-07  24119686   \n",
      "..           ...           ...           ...           ...       ...   \n",
      "59  1.000000e-06  1.000000e-06  1.000000e-06  1.000000e-06  47114985   \n",
      "60  1.000000e-06  1.000000e-06  1.000000e-06  1.000000e-06  34279213   \n",
      "61  1.000000e-06  1.000000e-06  1.000000e-06  1.000000e-06  25056237   \n",
      "62  1.000000e-06  1.000000e-06  1.000000e-06  1.000000e-06  33291619   \n",
      "63  1.000000e-06  1.000000e-06  1.000000e-06  1.000000e-06  26147666   \n",
      "\n",
      "       Adj Close  Polarity Score  \n",
      "0   2.000000e-06        0.095867  \n",
      "1   1.000000e-06        0.146020  \n",
      "2   1.000000e-06        0.138143  \n",
      "3   1.000000e-06        0.146417  \n",
      "4   8.941861e-07        0.134860  \n",
      "..           ...             ...  \n",
      "59  1.000000e-06        0.114973  \n",
      "60  1.000000e-06        0.131016  \n",
      "61  1.000000e-06        0.107061  \n",
      "62  1.000000e-06        0.141040  \n",
      "63  1.000000e-06        0.083907  \n",
      "\n",
      "[64 rows x 7 columns]\n"
     ]
    }
   ],
   "source": [
    "#lstm_data = np.genfromtxt('./sample_data/lstm.csv', delimiter=',', skip_header=True)\n",
    "lstm_data = read_csv('lstmelon.csv')\n",
    "lstm_data = lstm_data.drop(['Date'], axis=1)\n",
    "print(lstm_data)"
   ]
  },
  {
   "cell_type": "code",
   "execution_count": 50,
   "metadata": {},
   "outputs": [],
   "source": [
    "lstm_data_X = lstm_data.drop(['Close'], axis=1)\n",
    "lstm_data_y = lstm_data['Close']"
   ]
  },
  {
   "cell_type": "code",
   "execution_count": 51,
   "metadata": {},
   "outputs": [],
   "source": [
    "look_back = 5 # how many days to look back\n",
    "batch_size = 3 # size of batches used when training\n",
    "n_feat = 6 # number of features \n",
    "n_target = 2\n",
    "n_validation = 6\n",
    "n_test = 8\n",
    "n_train = lstm_data_X.shape[0] - n_validation - n_test - 1\n"
   ]
  },
  {
   "cell_type": "code",
   "execution_count": 52,
   "metadata": {},
   "outputs": [
    {
     "data": {
      "text/plain": [
       "49"
      ]
     },
     "execution_count": 52,
     "metadata": {},
     "output_type": "execute_result"
    }
   ],
   "source": [
    "n_train"
   ]
  },
  {
   "cell_type": "code",
   "execution_count": 53,
   "metadata": {},
   "outputs": [],
   "source": [
    "#lstm_data_X_train = lstm_data_X.iloc[:30,:]\n",
    "#lstm_data_X_val = lstm_data_X.iloc[30:40,:]\n",
    "#lstm_data_X_test = lstm_data_X.iloc[40:52,:]\n",
    "\n",
    "#lstm_data_y_train = lstm_data_y.iloc[:30]\n",
    "#lstm_data_y_val = lstm_data_y.iloc[30:40]\n",
    "#lstm_data_y_test = lstm_data_y.iloc[40:52]\n",
    "# Convert to numpy arrays\n",
    "#X_train = lstm_data_X_train.to_numpy()\n",
    "#X_val = lstm_data_X_val.to_numpy()\n",
    "#X_test = lstm_data_X_test.to_numpy()\n",
    "#y_train = lstm_data_y_train.to_numpy()\n",
    "#y_val = lstm_data_y_val.to_numpy()\n",
    "#y_test = lstm_data_y_test.to_numpy()"
   ]
  },
  {
   "cell_type": "code",
   "execution_count": 54,
   "metadata": {},
   "outputs": [],
   "source": [
    "lstm_data_X_train = lstm_data_X.iloc[:n_train,:]\n",
    "lstm_data_X_val = lstm_data_X.iloc[n_train:n_train + n_validation,:]\n",
    "lstm_data_X_test = lstm_data_X.iloc[n_train + n_validation:n_train + n_validation + n_test,:]\n",
    "\n",
    "lstm_data_y_train = lstm_data_y.iloc[:n_train]\n",
    "lstm_data_y_val = lstm_data_y.iloc[n_train:n_train + n_validation]\n",
    "lstm_data_y_test = lstm_data_y.iloc[n_train + n_validation:n_train + n_validation + n_test]\n",
    "# Convert to numpy arrays\n",
    "X_train = lstm_data_X_train.to_numpy()\n",
    "X_val = lstm_data_X_val.to_numpy()\n",
    "X_test = lstm_data_X_test.to_numpy()\n",
    "y_train = lstm_data_y_train.to_numpy()\n",
    "y_val = lstm_data_y_val.to_numpy()\n",
    "y_test = lstm_data_y_test.to_numpy()"
   ]
  },
  {
   "cell_type": "code",
   "execution_count": 55,
   "metadata": {},
   "outputs": [
    {
     "data": {
      "text/plain": [
       "array([[9.99999997e-07, 9.99999997e-07, 9.99999997e-07, 4.12034450e+07,\n",
       "        9.99999997e-07, 1.48283467e-01],\n",
       "       [9.99999997e-07, 9.99999997e-07, 9.99999997e-07, 1.30700530e+07,\n",
       "        9.99999997e-07, 1.31502325e-01],\n",
       "       [9.99999997e-07, 9.99999997e-07, 9.99999997e-07, 9.40005620e+07,\n",
       "        9.99999997e-07, 1.53586280e-01],\n",
       "       [9.99999997e-07, 9.99999997e-07, 9.99999997e-07, 3.23330640e+07,\n",
       "        9.99999997e-07, 1.28670540e-01],\n",
       "       [9.99999997e-07, 9.99999997e-07, 9.99999997e-07, 4.71149850e+07,\n",
       "        9.99999997e-07, 1.14973180e-01],\n",
       "       [9.99999997e-07, 9.99999997e-07, 9.99999997e-07, 3.42792130e+07,\n",
       "        9.99999997e-07, 1.31015680e-01],\n",
       "       [9.99999997e-07, 9.99999997e-07, 9.99999997e-07, 2.50562370e+07,\n",
       "        9.99999997e-07, 1.07060620e-01],\n",
       "       [9.99999997e-07, 9.99999997e-07, 9.99999997e-07, 3.32916190e+07,\n",
       "        9.99999997e-07, 1.41039940e-01]])"
      ]
     },
     "execution_count": 55,
     "metadata": {},
     "output_type": "execute_result"
    }
   ],
   "source": [
    "X_test"
   ]
  },
  {
   "cell_type": "code",
   "execution_count": 56,
   "metadata": {},
   "outputs": [
    {
     "data": {
      "text/plain": [
       "array([9.99999997e-07, 9.99999997e-07, 9.99999997e-07, 9.99999997e-07,\n",
       "       9.99999997e-07, 9.99999997e-07, 9.99999997e-07, 9.99999997e-07])"
      ]
     },
     "execution_count": 56,
     "metadata": {},
     "output_type": "execute_result"
    }
   ],
   "source": [
    "y_test"
   ]
  },
  {
   "cell_type": "code",
   "execution_count": 57,
   "metadata": {},
   "outputs": [
    {
     "name": "stdout",
     "output_type": "stream",
     "text": [
      "The tensorboard extension is already loaded. To reload it, use:\n",
      "  %reload_ext tensorboard\n"
     ]
    }
   ],
   "source": [
    "import keras\n",
    "from keras.preprocessing.sequence import TimeseriesGenerator\n",
    "from keras.models import Sequential\n",
    "from keras.layers import LSTM, Dense, Activation, ThresholdedReLU, MaxPooling2D, Embedding, Dropout\n",
    "from tensorflow.keras.optimizers import Adam, SGD, RMSprop\n",
    "# Load the TensorBoard notebook extension.\n",
    "%load_ext tensorboard\n",
    "from datetime import datetime\n"
   ]
  },
  {
   "cell_type": "code",
   "execution_count": 58,
   "metadata": {},
   "outputs": [],
   "source": [
    "train_data_gen = TimeseriesGenerator(X_train, y_train, length=look_back, batch_size=batch_size)\n",
    "val_data_gen = TimeseriesGenerator(X_val, y_val, length=look_back, batch_size=batch_size)\n",
    "test_data_gen = TimeseriesGenerator(X_test, y_test, length=look_back, batch_size=batch_size)"
   ]
  },
  {
   "cell_type": "code",
   "execution_count": 59,
   "metadata": {},
   "outputs": [
    {
     "name": "stdout",
     "output_type": "stream",
     "text": [
      "(3, 5, 6) (3,)\n",
      "(3, 5, 6) (3,)\n",
      "(3, 5, 6) (3,)\n",
      "(3, 5, 6) (3,)\n",
      "(3, 5, 6) (3,)\n",
      "(3, 5, 6) (3,)\n",
      "(3, 5, 6) (3,)\n",
      "(3, 5, 6) (3,)\n",
      "(3, 5, 6) (3,)\n",
      "(3, 5, 6) (3,)\n",
      "(3, 5, 6) (3,)\n",
      "(3, 5, 6) (3,)\n",
      "(3, 5, 6) (3,)\n",
      "(3, 5, 6) (3,)\n",
      "(2, 5, 6) (2,)\n"
     ]
    }
   ],
   "source": [
    "# check generator dimensions\n",
    "for i in range(len(train_data_gen)):\n",
    "    x, y = train_data_gen[i]\n",
    "    print(x.shape, y.shape)"
   ]
  },
  {
   "cell_type": "code",
   "execution_count": 60,
   "metadata": {},
   "outputs": [
    {
     "name": "stdout",
     "output_type": "stream",
     "text": [
      "Model: \"sequential_2\"\n",
      "_________________________________________________________________\n",
      " Layer (type)                Output Shape              Param #   \n",
      "=================================================================\n",
      " lstm_4 (LSTM)               (None, 5, 32)             4992      \n",
      "                                                                 \n",
      " dropout_4 (Dropout)         (None, 5, 32)             0         \n",
      "                                                                 \n",
      " lstm_5 (LSTM)               (None, 32)                8320      \n",
      "                                                                 \n",
      " dropout_5 (Dropout)         (None, 32)                0         \n",
      "                                                                 \n",
      " dense_2 (Dense)             (None, 1)                 33        \n",
      "                                                                 \n",
      "=================================================================\n",
      "Total params: 13,345\n",
      "Trainable params: 13,345\n",
      "Non-trainable params: 0\n",
      "_________________________________________________________________\n",
      "None\n"
     ]
    }
   ],
   "source": [
    "model_lstm = Sequential()\n",
    "model_lstm.add(LSTM(32, input_shape=(look_back, n_feat), return_sequences=True))\n",
    "model_lstm.add(Dropout(0.1))\n",
    "model_lstm.add(LSTM(32))\n",
    "model_lstm.add(Dropout(0.1))\n",
    "model_lstm.add(Dense(1))\n",
    "model_lstm.compile(optimizer=\"adam\", loss='mse', metrics=[\"mse\"])\n",
    "print(model_lstm.summary())"
   ]
  },
  {
   "cell_type": "code",
   "execution_count": 61,
   "metadata": {},
   "outputs": [
    {
     "name": "stdout",
     "output_type": "stream",
     "text": [
      "Epoch 1/30\n"
     ]
    },
    {
     "name": "stderr",
     "output_type": "stream",
     "text": [
      "C:\\Users\\moham\\AppData\\Local\\Temp/ipykernel_18152/531576743.py:4: UserWarning: `Model.fit_generator` is deprecated and will be removed in a future version. Please use `Model.fit`, which supports generators.\n",
      "  hist = model_lstm.fit_generator(train_data_gen,\n"
     ]
    },
    {
     "name": "stdout",
     "output_type": "stream",
     "text": [
      "10/10 [==============================] - 5s 111ms/step - loss: 0.0185 - mse: 0.0185 - val_loss: 0.0020 - val_mse: 0.0020\n",
      "Epoch 2/30\n",
      "10/10 [==============================] - 0s 17ms/step - loss: 0.0097 - mse: 0.0097 - val_loss: 0.0026 - val_mse: 0.0026\n",
      "Epoch 3/30\n",
      "10/10 [==============================] - 0s 23ms/step - loss: 0.0109 - mse: 0.0109 - val_loss: 8.7842e-04 - val_mse: 8.7842e-04\n",
      "Epoch 4/30\n",
      "10/10 [==============================] - 0s 17ms/step - loss: 0.0060 - mse: 0.0060 - val_loss: 7.4012e-04 - val_mse: 7.4012e-04\n",
      "Epoch 5/30\n",
      "10/10 [==============================] - 0s 17ms/step - loss: 0.0064 - mse: 0.0064 - val_loss: 0.0030 - val_mse: 0.0030\n",
      "Epoch 6/30\n",
      "10/10 [==============================] - 0s 17ms/step - loss: 0.0080 - mse: 0.0080 - val_loss: 3.7262e-07 - val_mse: 3.7262e-07\n",
      "Epoch 7/30\n",
      "10/10 [==============================] - 0s 16ms/step - loss: 0.0048 - mse: 0.0048 - val_loss: 6.8646e-06 - val_mse: 6.8646e-06\n",
      "Epoch 8/30\n",
      "10/10 [==============================] - 0s 16ms/step - loss: 0.0044 - mse: 0.0044 - val_loss: 0.0013 - val_mse: 0.0013\n",
      "Epoch 9/30\n",
      "10/10 [==============================] - 0s 17ms/step - loss: 0.0059 - mse: 0.0059 - val_loss: 1.5122e-04 - val_mse: 1.5122e-04\n",
      "Epoch 10/30\n",
      "10/10 [==============================] - 0s 16ms/step - loss: 0.0057 - mse: 0.0057 - val_loss: 4.8350e-05 - val_mse: 4.8350e-05\n",
      "Epoch 11/30\n",
      "10/10 [==============================] - 0s 16ms/step - loss: 0.0038 - mse: 0.0038 - val_loss: 3.3504e-05 - val_mse: 3.3504e-05\n",
      "Epoch 12/30\n",
      "10/10 [==============================] - 0s 16ms/step - loss: 0.0048 - mse: 0.0048 - val_loss: 1.0765e-04 - val_mse: 1.0765e-04\n",
      "Epoch 13/30\n",
      "10/10 [==============================] - 0s 17ms/step - loss: 0.0041 - mse: 0.0041 - val_loss: 4.8454e-05 - val_mse: 4.8454e-05\n",
      "Epoch 14/30\n",
      "10/10 [==============================] - 0s 17ms/step - loss: 0.0027 - mse: 0.0027 - val_loss: 2.8564e-05 - val_mse: 2.8564e-05\n",
      "Epoch 15/30\n",
      "10/10 [==============================] - 0s 16ms/step - loss: 0.0025 - mse: 0.0025 - val_loss: 3.0165e-05 - val_mse: 3.0165e-05\n",
      "Epoch 16/30\n",
      "10/10 [==============================] - 0s 17ms/step - loss: 0.0026 - mse: 0.0026 - val_loss: 2.0936e-05 - val_mse: 2.0936e-05\n",
      "Epoch 17/30\n",
      "10/10 [==============================] - 0s 17ms/step - loss: 0.0025 - mse: 0.0025 - val_loss: 2.1626e-04 - val_mse: 2.1626e-04\n",
      "Epoch 18/30\n",
      "10/10 [==============================] - 0s 17ms/step - loss: 0.0023 - mse: 0.0023 - val_loss: 7.1255e-04 - val_mse: 7.1255e-04\n",
      "Epoch 19/30\n",
      "10/10 [==============================] - 0s 18ms/step - loss: 0.0021 - mse: 0.0021 - val_loss: 5.5772e-04 - val_mse: 5.5772e-04\n",
      "Epoch 20/30\n",
      "10/10 [==============================] - 0s 16ms/step - loss: 0.0020 - mse: 0.0020 - val_loss: 5.9331e-06 - val_mse: 5.9331e-06\n",
      "Epoch 21/30\n",
      "10/10 [==============================] - 0s 17ms/step - loss: 0.0013 - mse: 0.0013 - val_loss: 1.8413e-05 - val_mse: 1.8413e-05\n",
      "Epoch 22/30\n",
      "10/10 [==============================] - 0s 16ms/step - loss: 0.0019 - mse: 0.0019 - val_loss: 6.0112e-04 - val_mse: 6.0112e-04\n",
      "Epoch 23/30\n",
      "10/10 [==============================] - 0s 17ms/step - loss: 0.0016 - mse: 0.0016 - val_loss: 2.0559e-04 - val_mse: 2.0559e-04\n",
      "Epoch 24/30\n",
      "10/10 [==============================] - 0s 18ms/step - loss: 0.0011 - mse: 0.0011 - val_loss: 6.2655e-04 - val_mse: 6.2655e-04\n",
      "Epoch 25/30\n",
      "10/10 [==============================] - 0s 18ms/step - loss: 0.0014 - mse: 0.0014 - val_loss: 1.7879e-04 - val_mse: 1.7879e-04\n",
      "Epoch 26/30\n",
      "10/10 [==============================] - 0s 19ms/step - loss: 0.0014 - mse: 0.0014 - val_loss: 1.9460e-04 - val_mse: 1.9460e-04\n",
      "Epoch 27/30\n",
      "10/10 [==============================] - 0s 19ms/step - loss: 0.0011 - mse: 0.0011 - val_loss: 5.8101e-05 - val_mse: 5.8101e-05\n",
      "Epoch 28/30\n",
      "10/10 [==============================] - 0s 19ms/step - loss: 9.9237e-04 - mse: 9.9237e-04 - val_loss: 6.0630e-06 - val_mse: 6.0630e-06\n",
      "Epoch 29/30\n",
      "10/10 [==============================] - 0s 17ms/step - loss: 7.5301e-04 - mse: 7.5301e-04 - val_loss: 1.6012e-05 - val_mse: 1.6012e-05\n",
      "Epoch 30/30\n",
      "10/10 [==============================] - 0s 18ms/step - loss: 0.0010 - mse: 0.0010 - val_loss: 7.8116e-05 - val_mse: 7.8116e-05\n"
     ]
    }
   ],
   "source": [
    "# Define the Keras TensorBoard callback.\n",
    "logdir=\"logs/fit/\" + datetime.now().strftime(\"%Y%m%d-%H%M%S\")\n",
    "tensorboard_callback = keras.callbacks.TensorBoard(log_dir=logdir)\n",
    "hist = model_lstm.fit_generator(train_data_gen,\n",
    "                                        steps_per_epoch=10,\n",
    "                                        epochs=30,\n",
    "                                        verbose=1,\n",
    "                                        validation_data=val_data_gen, #training put a graph of traing loss and val loss\n",
    "                                        callbacks=[tensorboard_callback])\n"
   ]
  },
  {
   "cell_type": "code",
   "execution_count": 62,
   "metadata": {},
   "outputs": [
    {
     "data": {
      "image/png": "[encoded data removed]",
      "text/plain": [
       "<Figure size 432x288 with 1 Axes>"
      ]
     },
     "metadata": {
      "needs_background": "light"
     },
     "output_type": "display_data"
    }
   ],
   "source": [
    "plt.plot(hist.history['loss'])\n",
    "plt.plot(hist.history['val_loss'])\n",
    "plt.title('model loss')\n",
    "plt.ylabel('loss')\n",
    "plt.xlabel('epoch')\n",
    "plt.legend(['train', 'validation'], loc='upper right')\n",
    "plt.show()"
   ]
  },
  {
   "cell_type": "code",
   "execution_count": 63,
   "metadata": {},
   "outputs": [],
   "source": [
    "pred = model_lstm.predict(test_data_gen)"
   ]
  },
  {
   "cell_type": "code",
   "execution_count": 64,
   "metadata": {},
   "outputs": [
    {
     "data": {
      "text/plain": [
       "(array([[[9.99999997e-07, 9.99999997e-07, 9.99999997e-07, 4.12034450e+07,\n",
       "          9.99999997e-07, 1.48283467e-01],\n",
       "         [9.99999997e-07, 9.99999997e-07, 9.99999997e-07, 1.30700530e+07,\n",
       "          9.99999997e-07, 1.31502325e-01],\n",
       "         [9.99999997e-07, 9.99999997e-07, 9.99999997e-07, 9.40005620e+07,\n",
       "          9.99999997e-07, 1.53586280e-01],\n",
       "         [9.99999997e-07, 9.99999997e-07, 9.99999997e-07, 3.23330640e+07,\n",
       "          9.99999997e-07, 1.28670540e-01],\n",
       "         [9.99999997e-07, 9.99999997e-07, 9.99999997e-07, 4.71149850e+07,\n",
       "          9.99999997e-07, 1.14973180e-01]],\n",
       " \n",
       "        [[9.99999997e-07, 9.99999997e-07, 9.99999997e-07, 1.30700530e+07,\n",
       "          9.99999997e-07, 1.31502325e-01],\n",
       "         [9.99999997e-07, 9.99999997e-07, 9.99999997e-07, 9.40005620e+07,\n",
       "          9.99999997e-07, 1.53586280e-01],\n",
       "         [9.99999997e-07, 9.99999997e-07, 9.99999997e-07, 3.23330640e+07,\n",
       "          9.99999997e-07, 1.28670540e-01],\n",
       "         [9.99999997e-07, 9.99999997e-07, 9.99999997e-07, 4.71149850e+07,\n",
       "          9.99999997e-07, 1.14973180e-01],\n",
       "         [9.99999997e-07, 9.99999997e-07, 9.99999997e-07, 3.42792130e+07,\n",
       "          9.99999997e-07, 1.31015680e-01]],\n",
       " \n",
       "        [[9.99999997e-07, 9.99999997e-07, 9.99999997e-07, 9.40005620e+07,\n",
       "          9.99999997e-07, 1.53586280e-01],\n",
       "         [9.99999997e-07, 9.99999997e-07, 9.99999997e-07, 3.23330640e+07,\n",
       "          9.99999997e-07, 1.28670540e-01],\n",
       "         [9.99999997e-07, 9.99999997e-07, 9.99999997e-07, 4.71149850e+07,\n",
       "          9.99999997e-07, 1.14973180e-01],\n",
       "         [9.99999997e-07, 9.99999997e-07, 9.99999997e-07, 3.42792130e+07,\n",
       "          9.99999997e-07, 1.31015680e-01],\n",
       "         [9.99999997e-07, 9.99999997e-07, 9.99999997e-07, 2.50562370e+07,\n",
       "          9.99999997e-07, 1.07060620e-01]]]),\n",
       " array([9.99999997e-07, 9.99999997e-07, 9.99999997e-07]))"
      ]
     },
     "execution_count": 64,
     "metadata": {},
     "output_type": "execute_result"
    }
   ],
   "source": [
    "test_data_gen[0]"
   ]
  },
  {
   "cell_type": "code",
   "execution_count": 65,
   "metadata": {},
   "outputs": [
    {
     "data": {
      "text/plain": [
       "array([[0.00883932],\n",
       "       [0.00883932],\n",
       "       [0.00883932]], dtype=float32)"
      ]
     },
     "execution_count": 65,
     "metadata": {},
     "output_type": "execute_result"
    }
   ],
   "source": [
    "pred"
   ]
  },
  {
   "cell_type": "code",
   "execution_count": 66,
   "metadata": {},
   "outputs": [],
   "source": [
    "import matplotlib.pyplot as plt"
   ]
  },
  {
   "cell_type": "code",
   "execution_count": 67,
   "metadata": {},
   "outputs": [
    {
     "data": {
      "image/png": "[encoded data removed]",
      "text/plain": [
       "<Figure size 720x288 with 1 Axes>"
      ]
     },
     "metadata": {
      "needs_background": "light"
     },
     "output_type": "display_data"
    }
   ],
   "source": [
    "# Visualising the results\n",
    "plt.figure(figsize=(10,4))\n",
    "plt.plot(y_test[0:y_test.shape[0]-5], color = 'red', label = 'Real ELON Price')\n",
    "plt.plot(pred, color = 'blue', label = 'Predicted ELON Price')\n",
    "plt.title('ELON Price Prediction')\n",
    "plt.xlabel('Time')\n",
    "plt.ylabel('DOGELON Price')\n",
    "plt.ylim(0,1)\n",
    "plt.legend()\n",
    "plt.show()"
   ]
  },
  {
   "cell_type": "code",
   "execution_count": 68,
   "metadata": {},
   "outputs": [],
   "source": [
    "# on cmd promt, you should use the function below to kill the tensorboard \n",
    "#taskkill /im tensorboard.exe /f\n",
    "#del /q %TMP%\\.tensorboard-info\\*#"
   ]
  },
  {
   "cell_type": "code",
   "execution_count": 69,
   "metadata": {},
   "outputs": [
    {
     "data": {
      "text/plain": [
       "Reusing TensorBoard on port 6006 (pid 2592), started 1 day, 6:32:15 ago. (Use '!kill 2592' to kill it.)"
      ]
     },
     "metadata": {},
     "output_type": "display_data"
    },
    {
     "data": {
      "text/html": [
       "\n",
       "      <iframe id=\"tensorboard-frame-4b4bcc80e0d8f28a\" width=\"100%\" height=\"800\" frameborder=\"0\">\n",
       "      </iframe>\n",
       "      <script>\n",
       "        (function() {\n",
       "          const frame = document.getElementById(\"tensorboard-frame-4b4bcc80e0d8f28a\");\n",
       "          const url = new URL(\"http://localhost\");\n",
       "          const port = 6006;\n",
       "          if (port) {\n",
       "            url.port = port;\n",
       "          }\n",
       "          frame.src = url;\n",
       "        })();\n",
       "      </script>\n",
       "    "
      ],
      "text/plain": [
       "<IPython.core.display.HTML object>"
      ]
     },
     "metadata": {},
     "output_type": "display_data"
    }
   ],
   "source": [
    "%tensorboard --logdir logs"
   ]
  }
 ],
 "metadata": {
  "interpreter": {
   "hash": "2f2e1fb2a3b1494e2ce2d620806ace1f30b1e2c236dd55f932f68dad84626b10"
  },
  "kernelspec": {
   "display_name": "Python 3.9.5 64-bit",
   "language": "python",
   "name": "python3"
  },
  "language_info": {
   "codemirror_mode": {
    "name": "ipython",
    "version": 3
   },
   "file_extension": ".py",
   "mimetype": "text/x-python",
   "name": "python",
   "nbconvert_exporter": "python",
   "pygments_lexer": "ipython3",
   "version": "3.9.5"
  },
  "orig_nbformat": 4
 },
 "nbformat": 4,
 "nbformat_minor": 2
}
