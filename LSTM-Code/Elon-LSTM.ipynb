{
 "cells": [
  {
   "cell_type": "code",
   "execution_count": 21,
   "metadata": {},
   "outputs": [],
   "source": [
    "import numpy as np\n",
    "from pandas import read_csv\n",
    "import pandas_datareader.data as web"
   ]
  },
  {
   "cell_type": "code",
   "execution_count": 22,
   "metadata": {},
   "outputs": [
    {
     "data": {
      "text/html": [
       "<div>\n",
       "<style scoped>\n",
       "    .dataframe tbody tr th:only-of-type {\n",
       "        vertical-align: middle;\n",
       "    }\n",
       "\n",
       "    .dataframe tbody tr th {\n",
       "        vertical-align: top;\n",
       "    }\n",
       "\n",
       "    .dataframe thead th {\n",
       "        text-align: right;\n",
       "    }\n",
       "</style>\n",
       "<table border=\"1\" class=\"dataframe\">\n",
       "  <thead>\n",
       "    <tr style=\"text-align: right;\">\n",
       "      <th></th>\n",
       "      <th>High</th>\n",
       "      <th>Low</th>\n",
       "      <th>Open</th>\n",
       "      <th>Close</th>\n",
       "      <th>Volume</th>\n",
       "      <th>Adj Close</th>\n",
       "    </tr>\n",
       "    <tr>\n",
       "      <th>Date</th>\n",
       "      <th></th>\n",
       "      <th></th>\n",
       "      <th></th>\n",
       "      <th></th>\n",
       "      <th></th>\n",
       "      <th></th>\n",
       "    </tr>\n",
       "  </thead>\n",
       "  <tbody>\n",
       "    <tr>\n",
       "      <th>2021-04-23</th>\n",
       "      <td>0.000000e+00</td>\n",
       "      <td>0.000000e+00</td>\n",
       "      <td>0.000000e+00</td>\n",
       "      <td>0.000000e+00</td>\n",
       "      <td>523817</td>\n",
       "      <td>0.000000e+00</td>\n",
       "    </tr>\n",
       "    <tr>\n",
       "      <th>2021-04-24</th>\n",
       "      <td>0.000000e+00</td>\n",
       "      <td>0.000000e+00</td>\n",
       "      <td>0.000000e+00</td>\n",
       "      <td>0.000000e+00</td>\n",
       "      <td>51157783</td>\n",
       "      <td>0.000000e+00</td>\n",
       "    </tr>\n",
       "    <tr>\n",
       "      <th>2021-04-25</th>\n",
       "      <td>0.000000e+00</td>\n",
       "      <td>0.000000e+00</td>\n",
       "      <td>0.000000e+00</td>\n",
       "      <td>0.000000e+00</td>\n",
       "      <td>14962631</td>\n",
       "      <td>0.000000e+00</td>\n",
       "    </tr>\n",
       "    <tr>\n",
       "      <th>2021-04-26</th>\n",
       "      <td>0.000000e+00</td>\n",
       "      <td>0.000000e+00</td>\n",
       "      <td>0.000000e+00</td>\n",
       "      <td>0.000000e+00</td>\n",
       "      <td>30621745</td>\n",
       "      <td>0.000000e+00</td>\n",
       "    </tr>\n",
       "    <tr>\n",
       "      <th>2021-04-27</th>\n",
       "      <td>0.000000e+00</td>\n",
       "      <td>0.000000e+00</td>\n",
       "      <td>0.000000e+00</td>\n",
       "      <td>0.000000e+00</td>\n",
       "      <td>37492592</td>\n",
       "      <td>0.000000e+00</td>\n",
       "    </tr>\n",
       "    <tr>\n",
       "      <th>...</th>\n",
       "      <td>...</td>\n",
       "      <td>...</td>\n",
       "      <td>...</td>\n",
       "      <td>...</td>\n",
       "      <td>...</td>\n",
       "      <td>...</td>\n",
       "    </tr>\n",
       "    <tr>\n",
       "      <th>2022-04-20</th>\n",
       "      <td>1.000000e-06</td>\n",
       "      <td>1.000000e-06</td>\n",
       "      <td>1.000000e-06</td>\n",
       "      <td>1.000000e-06</td>\n",
       "      <td>224367601</td>\n",
       "      <td>1.000000e-06</td>\n",
       "    </tr>\n",
       "    <tr>\n",
       "      <th>2022-04-21</th>\n",
       "      <td>1.000000e-06</td>\n",
       "      <td>1.000000e-06</td>\n",
       "      <td>1.000000e-06</td>\n",
       "      <td>1.000000e-06</td>\n",
       "      <td>71395669</td>\n",
       "      <td>1.000000e-06</td>\n",
       "    </tr>\n",
       "    <tr>\n",
       "      <th>2022-04-22</th>\n",
       "      <td>1.000000e-06</td>\n",
       "      <td>1.000000e-06</td>\n",
       "      <td>1.000000e-06</td>\n",
       "      <td>1.000000e-06</td>\n",
       "      <td>45563738</td>\n",
       "      <td>1.000000e-06</td>\n",
       "    </tr>\n",
       "    <tr>\n",
       "      <th>2022-04-23</th>\n",
       "      <td>1.000000e-06</td>\n",
       "      <td>1.000000e-06</td>\n",
       "      <td>1.000000e-06</td>\n",
       "      <td>1.000000e-06</td>\n",
       "      <td>59655564</td>\n",
       "      <td>1.000000e-06</td>\n",
       "    </tr>\n",
       "    <tr>\n",
       "      <th>2022-04-24</th>\n",
       "      <td>1.105118e-06</td>\n",
       "      <td>1.014575e-06</td>\n",
       "      <td>1.015593e-06</td>\n",
       "      <td>1.039833e-06</td>\n",
       "      <td>81044328</td>\n",
       "      <td>1.039833e-06</td>\n",
       "    </tr>\n",
       "  </tbody>\n",
       "</table>\n",
       "<p>367 rows × 6 columns</p>\n",
       "</div>"
      ],
      "text/plain": [
       "                    High           Low          Open         Close     Volume  \\\n",
       "Date                                                                            \n",
       "2021-04-23  0.000000e+00  0.000000e+00  0.000000e+00  0.000000e+00     523817   \n",
       "2021-04-24  0.000000e+00  0.000000e+00  0.000000e+00  0.000000e+00   51157783   \n",
       "2021-04-25  0.000000e+00  0.000000e+00  0.000000e+00  0.000000e+00   14962631   \n",
       "2021-04-26  0.000000e+00  0.000000e+00  0.000000e+00  0.000000e+00   30621745   \n",
       "2021-04-27  0.000000e+00  0.000000e+00  0.000000e+00  0.000000e+00   37492592   \n",
       "...                  ...           ...           ...           ...        ...   \n",
       "2022-04-20  1.000000e-06  1.000000e-06  1.000000e-06  1.000000e-06  224367601   \n",
       "2022-04-21  1.000000e-06  1.000000e-06  1.000000e-06  1.000000e-06   71395669   \n",
       "2022-04-22  1.000000e-06  1.000000e-06  1.000000e-06  1.000000e-06   45563738   \n",
       "2022-04-23  1.000000e-06  1.000000e-06  1.000000e-06  1.000000e-06   59655564   \n",
       "2022-04-24  1.105118e-06  1.014575e-06  1.015593e-06  1.039833e-06   81044328   \n",
       "\n",
       "               Adj Close  \n",
       "Date                      \n",
       "2021-04-23  0.000000e+00  \n",
       "2021-04-24  0.000000e+00  \n",
       "2021-04-25  0.000000e+00  \n",
       "2021-04-26  0.000000e+00  \n",
       "2021-04-27  0.000000e+00  \n",
       "...                  ...  \n",
       "2022-04-20  1.000000e-06  \n",
       "2022-04-21  1.000000e-06  \n",
       "2022-04-22  1.000000e-06  \n",
       "2022-04-23  1.000000e-06  \n",
       "2022-04-24  1.039833e-06  \n",
       "\n",
       "[367 rows x 6 columns]"
      ]
     },
     "execution_count": 22,
     "metadata": {},
     "output_type": "execute_result"
    }
   ],
   "source": [
    "doge = web.DataReader('ELON-USD', 'yahoo')\n",
    "doge"
   ]
  },
  {
   "cell_type": "code",
   "execution_count": null,
   "metadata": {},
   "outputs": [],
   "source": []
  },
  {
   "cell_type": "code",
   "execution_count": 23,
   "metadata": {},
   "outputs": [
    {
     "name": "stdout",
     "output_type": "stream",
     "text": [
      "            High           Low          Open         Close     Volume  \\\n",
      "0   2.000000e-06  2.000000e-06  2.000000e-06  2.000000e-06   28411316   \n",
      "1   1.000000e-06  1.000000e-06  1.000000e-06  1.000000e-06    8614416   \n",
      "2   1.000000e-06  1.000000e-06  1.000000e-06  1.000000e-06    8764455   \n",
      "3   1.000000e-06  1.000000e-06  1.000000e-06  1.000000e-06   15698350   \n",
      "4   2.000000e-06  2.000000e-06  2.000000e-06  2.000000e-06   18802843   \n",
      "5   1.000000e-06  1.000000e-06  1.000000e-06  1.000000e-06   23063025   \n",
      "6   1.000000e-06  1.000000e-06  1.000000e-06  1.000000e-06   10131973   \n",
      "7   1.000000e-06  1.000000e-06  1.000000e-06  1.000000e-06   20949400   \n",
      "8   1.000000e-06  1.000000e-06  1.000000e-06  1.000000e-06   13373327   \n",
      "9   1.000000e-06  1.000000e-06  1.000000e-06  1.000000e-06    7160283   \n",
      "10  1.000000e-06  1.000000e-06  1.000000e-06  1.000000e-06   15246592   \n",
      "11  1.000000e-06  1.000000e-06  1.000000e-06  1.000000e-06   11656733   \n",
      "12  1.000000e-06  1.000000e-06  1.000000e-06  1.000000e-06    5541743   \n",
      "13  1.000000e-06  1.000000e-06  1.000000e-06  1.000000e-06   10840332   \n",
      "14  1.000000e-06  1.000000e-06  1.000000e-06  1.000000e-06   16703972   \n",
      "15  1.000000e-06  1.000000e-06  1.000000e-06  1.000000e-06    6058100   \n",
      "16  1.000000e-06  1.000000e-06  1.000000e-06  1.000000e-06    7861073   \n",
      "17  1.000000e-06  1.000000e-06  1.000000e-06  1.000000e-06    8647344   \n",
      "18  1.000000e-06  1.000000e-06  1.000000e-06  1.000000e-06    8380695   \n",
      "19  1.000000e-06  1.000000e-06  1.000000e-06  1.000000e-06   10269530   \n",
      "20  1.000000e-06  1.000000e-06  1.000000e-06  1.000000e-06   15240904   \n",
      "21  1.000000e-06  1.000000e-06  1.000000e-06  1.000000e-06    5405860   \n",
      "22  1.000000e-06  1.000000e-06  1.000000e-06  1.000000e-06   11924911   \n",
      "23  1.000000e-06  1.000000e-06  1.000000e-06  1.000000e-06   16277741   \n",
      "24  1.000000e-06  1.000000e-06  1.000000e-06  1.000000e-06    6210203   \n",
      "25  1.000000e-06  1.000000e-06  1.000000e-06  1.000000e-06   39104660   \n",
      "26  1.000000e-06  1.000000e-06  1.000000e-06  1.000000e-06   12689756   \n",
      "27  1.000000e-06  1.000000e-06  1.000000e-06  1.000000e-06    9102055   \n",
      "28  1.000000e-06  1.000000e-06  1.000000e-06  1.000000e-06   16203336   \n",
      "29  1.000000e-06  1.000000e-06  1.000000e-06  1.000000e-06   11627666   \n",
      "30  1.000000e-06  1.000000e-06  1.000000e-06  1.000000e-06    6201599   \n",
      "31  1.000000e-06  1.000000e-06  1.000000e-06  1.000000e-06  224367601   \n",
      "32  1.000000e-06  1.000000e-06  1.000000e-06  1.000000e-06   15993641   \n",
      "33  1.000000e-06  1.000000e-06  1.000000e-06  1.000000e-06    5189715   \n",
      "34  1.000000e-06  1.000000e-06  1.000000e-06  1.000000e-06   71395669   \n",
      "35  1.000000e-06  1.000000e-06  1.000000e-06  1.000000e-06   11634940   \n",
      "36  1.000000e-06  1.000000e-06  1.000000e-06  1.000000e-06    5513457   \n",
      "37  1.000000e-06  1.000000e-06  1.000000e-06  1.000000e-06   45563738   \n",
      "38  1.000000e-06  1.000000e-06  1.000000e-06  1.000000e-06    9604818   \n",
      "39  1.000000e-06  1.000000e-06  1.000000e-06  1.000000e-06    5277463   \n",
      "40  1.000000e-06  1.000000e-06  1.000000e-06  1.000000e-06   59655564   \n",
      "41  1.000000e-06  1.000000e-06  1.000000e-06  1.000000e-06   20920843   \n",
      "42  1.000000e-06  1.000000e-06  1.000000e-06  1.000000e-06    8743302   \n",
      "43  1.105118e-06  1.014575e-06  1.015593e-06  1.039274e-06   81131552   \n",
      "44  1.000000e-06  1.000000e-06  1.000000e-06  1.000000e-06   13099956   \n",
      "45  1.000000e-06  1.000000e-06  1.000000e-06  1.000000e-06   20687759   \n",
      "46  1.000000e-06  1.000000e-06  1.000000e-06  1.000000e-06    8084363   \n",
      "47  1.000000e-06  1.000000e-06  1.000000e-06  1.000000e-06    9426454   \n",
      "48  1.000000e-06  1.000000e-06  1.000000e-06  1.000000e-06    9309265   \n",
      "49  1.000000e-06  1.000000e-06  1.000000e-06  1.000000e-06    9245220   \n",
      "50  1.000000e-06  1.000000e-06  1.000000e-06  1.000000e-06   13070053   \n",
      "51  1.000000e-06  1.000000e-06  1.000000e-06  1.000000e-06   94000562   \n",
      "52  1.000000e-06  1.000000e-06  1.000000e-06  1.000000e-06   47114985   \n",
      "53  1.000000e-06  1.000000e-06  1.000000e-06  1.000000e-06   25056237   \n",
      "54  1.000000e-06  1.000000e-06  1.000000e-06  1.000000e-06   26147666   \n",
      "\n",
      "       Adj Close  Polarity Score  \n",
      "0   2.000000e-06        0.095867  \n",
      "1   1.000000e-06        0.146020  \n",
      "2   1.000000e-06        0.138143  \n",
      "3   1.000000e-06        0.146417  \n",
      "4   2.000000e-06        0.071015  \n",
      "5   1.000000e-06        0.096342  \n",
      "6   1.000000e-06        0.085107  \n",
      "7   1.000000e-06        0.090832  \n",
      "8   1.000000e-06        0.113200  \n",
      "9   1.000000e-06        0.111060  \n",
      "10  1.000000e-06        0.119920  \n",
      "11  1.000000e-06        0.367391  \n",
      "12  1.000000e-06        0.075841  \n",
      "13  1.000000e-06        0.167889  \n",
      "14  1.000000e-06        0.150535  \n",
      "15  1.000000e-06        0.100922  \n",
      "16  1.000000e-06        0.115242  \n",
      "17  1.000000e-06        0.010105  \n",
      "18  1.000000e-06        0.076036  \n",
      "19  1.000000e-06        0.131267  \n",
      "20  1.000000e-06        0.232539  \n",
      "21  1.000000e-06        0.133072  \n",
      "22  1.000000e-06        0.129466  \n",
      "23  1.000000e-06        0.245144  \n",
      "24  1.000000e-06        0.089275  \n",
      "25  1.000000e-06        0.141833  \n",
      "26  1.000000e-06        0.000168  \n",
      "27  1.000000e-06        0.223525  \n",
      "28  1.000000e-06        0.141011  \n",
      "29  1.000000e-06        0.219473  \n",
      "30  1.000000e-06        0.110555  \n",
      "31  1.000000e-06        0.127655  \n",
      "32  1.000000e-06        0.135519  \n",
      "33  1.000000e-06        0.115944  \n",
      "34  1.000000e-06        0.131129  \n",
      "35  1.000000e-06        0.112503  \n",
      "36  1.000000e-06        0.000000  \n",
      "37  1.000000e-06        0.112926  \n",
      "38  1.000000e-06        0.153502  \n",
      "39  1.000000e-06        0.140484  \n",
      "40  1.000000e-06        0.121865  \n",
      "41  1.000000e-06        0.109284  \n",
      "42  1.000000e-06        0.117736  \n",
      "43  1.039274e-06        0.101390  \n",
      "44  1.000000e-06        0.107181  \n",
      "45  1.000000e-06        0.161422  \n",
      "46  1.000000e-06        0.141459  \n",
      "47  1.000000e-06        0.227658  \n",
      "48  1.000000e-06        0.199485  \n",
      "49  1.000000e-06        0.169030  \n",
      "50  1.000000e-06        0.131502  \n",
      "51  1.000000e-06        0.153586  \n",
      "52  1.000000e-06        0.114973  \n",
      "53  1.000000e-06        0.107061  \n",
      "54  1.000000e-06        0.083907  \n"
     ]
    }
   ],
   "source": [
    "#lstm_data = np.genfromtxt('./sample_data/lstm.csv', delimiter=',', skip_header=True)\n",
    "lstm_data = read_csv('lstmelon.csv')\n",
    "lstm_data = lstm_data.drop(['Date'], axis=1)\n",
    "print(lstm_data)"
   ]
  },
  {
   "cell_type": "code",
   "execution_count": 24,
   "metadata": {},
   "outputs": [],
   "source": [
    "lstm_data_X = lstm_data.drop(['Close'], axis=1)\n",
    "lstm_data_y = lstm_data['Close']"
   ]
  },
  {
   "cell_type": "code",
   "execution_count": 25,
   "metadata": {},
   "outputs": [],
   "source": [
    "look_back = 5 # how many days to look back\n",
    "batch_size = 3 # size of batches used when training\n",
    "n_feat = 6 # number of features \n",
    "n_target = 2\n",
    "n_validation = 6\n",
    "n_test = 8\n",
    "n_train = lstm_data_X.shape[0] - n_validation - n_test - 1\n"
   ]
  },
  {
   "cell_type": "code",
   "execution_count": 26,
   "metadata": {},
   "outputs": [
    {
     "data": {
      "text/plain": [
       "40"
      ]
     },
     "execution_count": 26,
     "metadata": {},
     "output_type": "execute_result"
    }
   ],
   "source": [
    "n_train"
   ]
  },
  {
   "cell_type": "code",
   "execution_count": 27,
   "metadata": {},
   "outputs": [],
   "source": [
    "#lstm_data_X_train = lstm_data_X.iloc[:30,:]\n",
    "#lstm_data_X_val = lstm_data_X.iloc[30:40,:]\n",
    "#lstm_data_X_test = lstm_data_X.iloc[40:52,:]\n",
    "\n",
    "#lstm_data_y_train = lstm_data_y.iloc[:30]\n",
    "#lstm_data_y_val = lstm_data_y.iloc[30:40]\n",
    "#lstm_data_y_test = lstm_data_y.iloc[40:52]\n",
    "# Convert to numpy arrays\n",
    "#X_train = lstm_data_X_train.to_numpy()\n",
    "#X_val = lstm_data_X_val.to_numpy()\n",
    "#X_test = lstm_data_X_test.to_numpy()\n",
    "#y_train = lstm_data_y_train.to_numpy()\n",
    "#y_val = lstm_data_y_val.to_numpy()\n",
    "#y_test = lstm_data_y_test.to_numpy()"
   ]
  },
  {
   "cell_type": "code",
   "execution_count": 28,
   "metadata": {},
   "outputs": [],
   "source": [
    "lstm_data_X_train = lstm_data_X.iloc[:n_train,:]\n",
    "lstm_data_X_val = lstm_data_X.iloc[n_train:n_train + n_validation,:]\n",
    "lstm_data_X_test = lstm_data_X.iloc[n_train + n_validation:n_train + n_validation + n_test,:]\n",
    "\n",
    "lstm_data_y_train = lstm_data_y.iloc[:n_train]\n",
    "lstm_data_y_val = lstm_data_y.iloc[n_train:n_train + n_validation]\n",
    "lstm_data_y_test = lstm_data_y.iloc[n_train + n_validation:n_train + n_validation + n_test]\n",
    "# Convert to numpy arrays\n",
    "X_train = lstm_data_X_train.to_numpy()\n",
    "X_val = lstm_data_X_val.to_numpy()\n",
    "X_test = lstm_data_X_test.to_numpy()\n",
    "y_train = lstm_data_y_train.to_numpy()\n",
    "y_val = lstm_data_y_val.to_numpy()\n",
    "y_test = lstm_data_y_test.to_numpy()"
   ]
  },
  {
   "cell_type": "code",
   "execution_count": 29,
   "metadata": {},
   "outputs": [
    {
     "data": {
      "text/plain": [
       "array([[9.99999997e-07, 9.99999997e-07, 9.99999997e-07, 8.08436300e+06,\n",
       "        9.99999997e-07, 1.41458700e-01],\n",
       "       [9.99999997e-07, 9.99999997e-07, 9.99999997e-07, 9.42645400e+06,\n",
       "        9.99999997e-07, 2.27658000e-01],\n",
       "       [9.99999997e-07, 9.99999997e-07, 9.99999997e-07, 9.30926500e+06,\n",
       "        9.99999997e-07, 1.99485454e-01],\n",
       "       [9.99999997e-07, 9.99999997e-07, 9.99999997e-07, 9.24522000e+06,\n",
       "        9.99999997e-07, 1.69029840e-01],\n",
       "       [9.99999997e-07, 9.99999997e-07, 9.99999997e-07, 1.30700530e+07,\n",
       "        9.99999997e-07, 1.31502325e-01],\n",
       "       [9.99999997e-07, 9.99999997e-07, 9.99999997e-07, 9.40005620e+07,\n",
       "        9.99999997e-07, 1.53586280e-01],\n",
       "       [9.99999997e-07, 9.99999997e-07, 9.99999997e-07, 4.71149850e+07,\n",
       "        9.99999997e-07, 1.14973180e-01],\n",
       "       [9.99999997e-07, 9.99999997e-07, 9.99999997e-07, 2.50562370e+07,\n",
       "        9.99999997e-07, 1.07060620e-01]])"
      ]
     },
     "execution_count": 29,
     "metadata": {},
     "output_type": "execute_result"
    }
   ],
   "source": [
    "X_test"
   ]
  },
  {
   "cell_type": "code",
   "execution_count": 30,
   "metadata": {},
   "outputs": [
    {
     "data": {
      "text/plain": [
       "array([9.99999997e-07, 9.99999997e-07, 9.99999997e-07, 9.99999997e-07,\n",
       "       9.99999997e-07, 9.99999997e-07, 9.99999997e-07, 9.99999997e-07])"
      ]
     },
     "execution_count": 30,
     "metadata": {},
     "output_type": "execute_result"
    }
   ],
   "source": [
    "y_test"
   ]
  },
  {
   "cell_type": "code",
   "execution_count": 31,
   "metadata": {},
   "outputs": [],
   "source": [
    "import keras\n",
    "from keras.preprocessing.sequence import TimeseriesGenerator\n",
    "from keras.models import Sequential\n",
    "from keras.layers import LSTM, Dense, Activation, ThresholdedReLU, MaxPooling2D, Embedding, Dropout\n",
    "from tensorflow.keras.optimizers import Adam, SGD, RMSprop"
   ]
  },
  {
   "cell_type": "code",
   "execution_count": 32,
   "metadata": {},
   "outputs": [],
   "source": [
    "train_data_gen = TimeseriesGenerator(X_train, y_train, length=look_back, batch_size=batch_size)\n",
    "val_data_gen = TimeseriesGenerator(X_val, y_val, length=look_back, batch_size=batch_size)\n",
    "test_data_gen = TimeseriesGenerator(X_test, y_test, length=look_back, batch_size=batch_size)"
   ]
  },
  {
   "cell_type": "code",
   "execution_count": 33,
   "metadata": {},
   "outputs": [
    {
     "name": "stdout",
     "output_type": "stream",
     "text": [
      "(3, 5, 6) (3,)\n",
      "(3, 5, 6) (3,)\n",
      "(3, 5, 6) (3,)\n",
      "(3, 5, 6) (3,)\n",
      "(3, 5, 6) (3,)\n",
      "(3, 5, 6) (3,)\n",
      "(3, 5, 6) (3,)\n",
      "(3, 5, 6) (3,)\n",
      "(3, 5, 6) (3,)\n",
      "(3, 5, 6) (3,)\n",
      "(3, 5, 6) (3,)\n",
      "(2, 5, 6) (2,)\n"
     ]
    }
   ],
   "source": [
    "# check generator dimensions\n",
    "for i in range(len(train_data_gen)):\n",
    "    x, y = train_data_gen[i]\n",
    "    print(x.shape, y.shape)"
   ]
  },
  {
   "cell_type": "code",
   "execution_count": 34,
   "metadata": {},
   "outputs": [
    {
     "name": "stdout",
     "output_type": "stream",
     "text": [
      "Model: \"sequential_1\"\n",
      "_________________________________________________________________\n",
      " Layer (type)                Output Shape              Param #   \n",
      "=================================================================\n",
      " lstm_2 (LSTM)               (None, 5, 32)             4992      \n",
      "                                                                 \n",
      " dropout_2 (Dropout)         (None, 5, 32)             0         \n",
      "                                                                 \n",
      " lstm_3 (LSTM)               (None, 32)                8320      \n",
      "                                                                 \n",
      " dropout_3 (Dropout)         (None, 32)                0         \n",
      "                                                                 \n",
      " dense_1 (Dense)             (None, 1)                 33        \n",
      "                                                                 \n",
      "=================================================================\n",
      "Total params: 13,345\n",
      "Trainable params: 13,345\n",
      "Non-trainable params: 0\n",
      "_________________________________________________________________\n",
      "None\n"
     ]
    }
   ],
   "source": [
    "model_lstm = Sequential()\n",
    "model_lstm.add(LSTM(32, input_shape=(look_back, n_feat), return_sequences=True))\n",
    "model_lstm.add(Dropout(0.1))\n",
    "model_lstm.add(LSTM(32))\n",
    "model_lstm.add(Dropout(0.1))\n",
    "model_lstm.add(Dense(1))\n",
    "model_lstm.compile(optimizer=\"adam\", loss='mse', metrics=[\"mse\"])\n",
    "print(model_lstm.summary())"
   ]
  },
  {
   "cell_type": "code",
   "execution_count": 35,
   "metadata": {},
   "outputs": [
    {
     "name": "stdout",
     "output_type": "stream",
     "text": [
      "Epoch 1/20\n"
     ]
    },
    {
     "name": "stderr",
     "output_type": "stream",
     "text": [
      "C:\\Users\\moham\\AppData\\Local\\Temp/ipykernel_20992/192094070.py:1: UserWarning: `Model.fit_generator` is deprecated and will be removed in a future version. Please use `Model.fit`, which supports generators.\n",
      "  hist = model_lstm.fit_generator(train_data_gen,\n"
     ]
    },
    {
     "name": "stdout",
     "output_type": "stream",
     "text": [
      "10/10 [==============================] - 4s 97ms/step - loss: 0.0132 - mse: 0.0132 - val_loss: 0.0100 - val_mse: 0.0100\n",
      "Epoch 2/20\n",
      "10/10 [==============================] - 0s 11ms/step - loss: 0.0281 - mse: 0.0281 - val_loss: 0.0074 - val_mse: 0.0074\n",
      "Epoch 3/20\n",
      "10/10 [==============================] - 0s 10ms/step - loss: 0.0112 - mse: 0.0112 - val_loss: 0.0023 - val_mse: 0.0023\n",
      "Epoch 4/20\n",
      "10/10 [==============================] - 0s 10ms/step - loss: 0.0135 - mse: 0.0135 - val_loss: 0.0085 - val_mse: 0.0085\n",
      "Epoch 5/20\n",
      "10/10 [==============================] - 0s 11ms/step - loss: 0.0216 - mse: 0.0216 - val_loss: 0.0033 - val_mse: 0.0033\n",
      "Epoch 6/20\n",
      "10/10 [==============================] - 0s 10ms/step - loss: 0.0130 - mse: 0.0130 - val_loss: 0.0018 - val_mse: 0.0018\n",
      "Epoch 7/20\n",
      "10/10 [==============================] - 0s 11ms/step - loss: 0.0051 - mse: 0.0051 - val_loss: 1.1185e-04 - val_mse: 1.1185e-04\n",
      "Epoch 8/20\n",
      "10/10 [==============================] - 0s 10ms/step - loss: 0.0084 - mse: 0.0084 - val_loss: 6.7685e-04 - val_mse: 6.7685e-04\n",
      "Epoch 9/20\n",
      "10/10 [==============================] - 0s 9ms/step - loss: 0.0104 - mse: 0.0104 - val_loss: 5.9863e-05 - val_mse: 5.9863e-05\n",
      "Epoch 10/20\n",
      "10/10 [==============================] - 0s 10ms/step - loss: 0.0065 - mse: 0.0065 - val_loss: 3.7818e-04 - val_mse: 3.7818e-04\n",
      "Epoch 11/20\n",
      "10/10 [==============================] - 0s 10ms/step - loss: 0.0062 - mse: 0.0062 - val_loss: 0.0011 - val_mse: 0.0011\n",
      "Epoch 12/20\n",
      "10/10 [==============================] - 0s 10ms/step - loss: 0.0060 - mse: 0.0060 - val_loss: 2.6067e-04 - val_mse: 2.6067e-04\n",
      "Epoch 13/20\n",
      "10/10 [==============================] - 0s 11ms/step - loss: 0.0039 - mse: 0.0039 - val_loss: 2.2526e-04 - val_mse: 2.2526e-04\n",
      "Epoch 14/20\n",
      "10/10 [==============================] - 0s 12ms/step - loss: 0.0041 - mse: 0.0041 - val_loss: 5.8149e-05 - val_mse: 5.8149e-05\n",
      "Epoch 15/20\n",
      "10/10 [==============================] - 0s 11ms/step - loss: 0.0053 - mse: 0.0053 - val_loss: 8.9169e-04 - val_mse: 8.9169e-04\n",
      "Epoch 16/20\n",
      "10/10 [==============================] - 0s 10ms/step - loss: 0.0043 - mse: 0.0043 - val_loss: 0.0011 - val_mse: 0.0011\n",
      "Epoch 17/20\n",
      "10/10 [==============================] - 0s 12ms/step - loss: 0.0051 - mse: 0.0051 - val_loss: 1.0143e-04 - val_mse: 1.0143e-04\n",
      "Epoch 18/20\n",
      "10/10 [==============================] - 0s 10ms/step - loss: 0.0035 - mse: 0.0035 - val_loss: 1.6428e-04 - val_mse: 1.6428e-04\n",
      "Epoch 19/20\n",
      "10/10 [==============================] - 0s 10ms/step - loss: 0.0019 - mse: 0.0019 - val_loss: 2.5668e-04 - val_mse: 2.5668e-04\n",
      "Epoch 20/20\n",
      "10/10 [==============================] - 0s 11ms/step - loss: 0.0021 - mse: 0.0021 - val_loss: 2.2311e-04 - val_mse: 2.2311e-04\n"
     ]
    }
   ],
   "source": [
    "hist = model_lstm.fit_generator(train_data_gen,\n",
    "                                        steps_per_epoch=10,\n",
    "                                        epochs=20,\n",
    "                                        verbose=1,\n",
    "                                        validation_data=val_data_gen)"
   ]
  },
  {
   "cell_type": "code",
   "execution_count": 36,
   "metadata": {},
   "outputs": [],
   "source": [
    "pred = model_lstm.predict(test_data_gen)"
   ]
  },
  {
   "cell_type": "code",
   "execution_count": 37,
   "metadata": {},
   "outputs": [
    {
     "data": {
      "text/plain": [
       "(array([[[9.99999997e-07, 9.99999997e-07, 9.99999997e-07, 8.08436300e+06,\n",
       "          9.99999997e-07, 1.41458700e-01],\n",
       "         [9.99999997e-07, 9.99999997e-07, 9.99999997e-07, 9.42645400e+06,\n",
       "          9.99999997e-07, 2.27658000e-01],\n",
       "         [9.99999997e-07, 9.99999997e-07, 9.99999997e-07, 9.30926500e+06,\n",
       "          9.99999997e-07, 1.99485454e-01],\n",
       "         [9.99999997e-07, 9.99999997e-07, 9.99999997e-07, 9.24522000e+06,\n",
       "          9.99999997e-07, 1.69029840e-01],\n",
       "         [9.99999997e-07, 9.99999997e-07, 9.99999997e-07, 1.30700530e+07,\n",
       "          9.99999997e-07, 1.31502325e-01]],\n",
       " \n",
       "        [[9.99999997e-07, 9.99999997e-07, 9.99999997e-07, 9.42645400e+06,\n",
       "          9.99999997e-07, 2.27658000e-01],\n",
       "         [9.99999997e-07, 9.99999997e-07, 9.99999997e-07, 9.30926500e+06,\n",
       "          9.99999997e-07, 1.99485454e-01],\n",
       "         [9.99999997e-07, 9.99999997e-07, 9.99999997e-07, 9.24522000e+06,\n",
       "          9.99999997e-07, 1.69029840e-01],\n",
       "         [9.99999997e-07, 9.99999997e-07, 9.99999997e-07, 1.30700530e+07,\n",
       "          9.99999997e-07, 1.31502325e-01],\n",
       "         [9.99999997e-07, 9.99999997e-07, 9.99999997e-07, 9.40005620e+07,\n",
       "          9.99999997e-07, 1.53586280e-01]],\n",
       " \n",
       "        [[9.99999997e-07, 9.99999997e-07, 9.99999997e-07, 9.30926500e+06,\n",
       "          9.99999997e-07, 1.99485454e-01],\n",
       "         [9.99999997e-07, 9.99999997e-07, 9.99999997e-07, 9.24522000e+06,\n",
       "          9.99999997e-07, 1.69029840e-01],\n",
       "         [9.99999997e-07, 9.99999997e-07, 9.99999997e-07, 1.30700530e+07,\n",
       "          9.99999997e-07, 1.31502325e-01],\n",
       "         [9.99999997e-07, 9.99999997e-07, 9.99999997e-07, 9.40005620e+07,\n",
       "          9.99999997e-07, 1.53586280e-01],\n",
       "         [9.99999997e-07, 9.99999997e-07, 9.99999997e-07, 4.71149850e+07,\n",
       "          9.99999997e-07, 1.14973180e-01]]]),\n",
       " array([9.99999997e-07, 9.99999997e-07, 9.99999997e-07]))"
      ]
     },
     "execution_count": 37,
     "metadata": {},
     "output_type": "execute_result"
    }
   ],
   "source": [
    "test_data_gen[0]"
   ]
  },
  {
   "cell_type": "code",
   "execution_count": 38,
   "metadata": {},
   "outputs": [
    {
     "data": {
      "text/plain": [
       "array([[-0.01493586],\n",
       "       [-0.01493586],\n",
       "       [-0.01493586]], dtype=float32)"
      ]
     },
     "execution_count": 38,
     "metadata": {},
     "output_type": "execute_result"
    }
   ],
   "source": [
    "pred"
   ]
  },
  {
   "cell_type": "code",
   "execution_count": 39,
   "metadata": {},
   "outputs": [],
   "source": [
    "import matplotlib.pyplot as plt"
   ]
  },
  {
   "cell_type": "code",
   "execution_count": 40,
   "metadata": {},
   "outputs": [
    {
     "data": {
      "image/png": "[encoded data removed]",
      "text/plain": [
       "<Figure size 720x288 with 1 Axes>"
      ]
     },
     "metadata": {
      "needs_background": "light"
     },
     "output_type": "display_data"
    }
   ],
   "source": [
    "# Visualising the results\n",
    "plt.figure(figsize=(10,4))\n",
    "plt.plot(y_test[0:y_test.shape[0]-5], color = 'red', label = 'Real ELON Price')\n",
    "plt.plot(pred, color = 'blue', label = 'Predicted ELON Price')\n",
    "plt.title('ELON Price Prediction')\n",
    "plt.xlabel('Time')\n",
    "plt.ylabel('DOGELON Price')\n",
    "plt.ylim(0,1)\n",
    "plt.legend()\n",
    "plt.show()"
   ]
  }
 ],
 "metadata": {
  "interpreter": {
   "hash": "b2d2dc41cbfaf67ac4a91a427b68830b69dde48fe3ce74dedd3ecbeef6226b1d"
  },
  "kernelspec": {
   "display_name": "Python 3.9.7 ('base')",
   "language": "python",
   "name": "python3"
  },
  "language_info": {
   "codemirror_mode": {
    "name": "ipython",
    "version": 3
   },
   "file_extension": ".py",
   "mimetype": "text/x-python",
   "name": "python",
   "nbconvert_exporter": "python",
   "pygments_lexer": "ipython3",
   "version": "3.9.5"
  },
  "orig_nbformat": 4
 },
 "nbformat": 4,
 "nbformat_minor": 2
}
