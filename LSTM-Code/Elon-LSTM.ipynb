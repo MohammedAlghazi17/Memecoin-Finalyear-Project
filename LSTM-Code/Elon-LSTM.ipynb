{
 "cells": [
  {
   "cell_type": "code",
   "execution_count": 1,
   "metadata": {},
   "outputs": [],
   "source": [
    "import numpy as np\n",
    "from pandas import read_csv\n",
    "import pandas_datareader.data as web"
   ]
  },
  {
   "cell_type": "code",
   "execution_count": 2,
   "metadata": {},
   "outputs": [
    {
     "data": {
      "text/html": [
       "<div>\n",
       "<style scoped>\n",
       "    .dataframe tbody tr th:only-of-type {\n",
       "        vertical-align: middle;\n",
       "    }\n",
       "\n",
       "    .dataframe tbody tr th {\n",
       "        vertical-align: top;\n",
       "    }\n",
       "\n",
       "    .dataframe thead th {\n",
       "        text-align: right;\n",
       "    }\n",
       "</style>\n",
       "<table border=\"1\" class=\"dataframe\">\n",
       "  <thead>\n",
       "    <tr style=\"text-align: right;\">\n",
       "      <th></th>\n",
       "      <th>High</th>\n",
       "      <th>Low</th>\n",
       "      <th>Open</th>\n",
       "      <th>Close</th>\n",
       "      <th>Volume</th>\n",
       "      <th>Adj Close</th>\n",
       "    </tr>\n",
       "    <tr>\n",
       "      <th>Date</th>\n",
       "      <th></th>\n",
       "      <th></th>\n",
       "      <th></th>\n",
       "      <th></th>\n",
       "      <th></th>\n",
       "      <th></th>\n",
       "    </tr>\n",
       "  </thead>\n",
       "  <tbody>\n",
       "    <tr>\n",
       "      <th>2021-04-23</th>\n",
       "      <td>0.000000e+00</td>\n",
       "      <td>0.000000e+00</td>\n",
       "      <td>0.000000e+00</td>\n",
       "      <td>0.000000e+00</td>\n",
       "      <td>523817</td>\n",
       "      <td>0.000000e+00</td>\n",
       "    </tr>\n",
       "    <tr>\n",
       "      <th>2021-04-24</th>\n",
       "      <td>0.000000e+00</td>\n",
       "      <td>0.000000e+00</td>\n",
       "      <td>0.000000e+00</td>\n",
       "      <td>0.000000e+00</td>\n",
       "      <td>51157783</td>\n",
       "      <td>0.000000e+00</td>\n",
       "    </tr>\n",
       "    <tr>\n",
       "      <th>2021-04-25</th>\n",
       "      <td>0.000000e+00</td>\n",
       "      <td>0.000000e+00</td>\n",
       "      <td>0.000000e+00</td>\n",
       "      <td>0.000000e+00</td>\n",
       "      <td>14962631</td>\n",
       "      <td>0.000000e+00</td>\n",
       "    </tr>\n",
       "    <tr>\n",
       "      <th>2021-04-26</th>\n",
       "      <td>0.000000e+00</td>\n",
       "      <td>0.000000e+00</td>\n",
       "      <td>0.000000e+00</td>\n",
       "      <td>0.000000e+00</td>\n",
       "      <td>30621745</td>\n",
       "      <td>0.000000e+00</td>\n",
       "    </tr>\n",
       "    <tr>\n",
       "      <th>2021-04-27</th>\n",
       "      <td>0.000000e+00</td>\n",
       "      <td>0.000000e+00</td>\n",
       "      <td>0.000000e+00</td>\n",
       "      <td>0.000000e+00</td>\n",
       "      <td>37492592</td>\n",
       "      <td>0.000000e+00</td>\n",
       "    </tr>\n",
       "    <tr>\n",
       "      <th>...</th>\n",
       "      <td>...</td>\n",
       "      <td>...</td>\n",
       "      <td>...</td>\n",
       "      <td>...</td>\n",
       "      <td>...</td>\n",
       "      <td>...</td>\n",
       "    </tr>\n",
       "    <tr>\n",
       "      <th>2022-05-10</th>\n",
       "      <td>1.000000e-06</td>\n",
       "      <td>1.000000e-06</td>\n",
       "      <td>1.000000e-06</td>\n",
       "      <td>1.000000e-06</td>\n",
       "      <td>33911553</td>\n",
       "      <td>1.000000e-06</td>\n",
       "    </tr>\n",
       "    <tr>\n",
       "      <th>2022-05-11</th>\n",
       "      <td>1.000000e-06</td>\n",
       "      <td>0.000000e+00</td>\n",
       "      <td>1.000000e-06</td>\n",
       "      <td>1.000000e-06</td>\n",
       "      <td>39800103</td>\n",
       "      <td>1.000000e-06</td>\n",
       "    </tr>\n",
       "    <tr>\n",
       "      <th>2022-05-12</th>\n",
       "      <td>1.000000e-06</td>\n",
       "      <td>0.000000e+00</td>\n",
       "      <td>1.000000e-06</td>\n",
       "      <td>0.000000e+00</td>\n",
       "      <td>49921379</td>\n",
       "      <td>0.000000e+00</td>\n",
       "    </tr>\n",
       "    <tr>\n",
       "      <th>2022-05-13</th>\n",
       "      <td>1.000000e-06</td>\n",
       "      <td>0.000000e+00</td>\n",
       "      <td>0.000000e+00</td>\n",
       "      <td>1.000000e-06</td>\n",
       "      <td>44454142</td>\n",
       "      <td>1.000000e-06</td>\n",
       "    </tr>\n",
       "    <tr>\n",
       "      <th>2022-05-14</th>\n",
       "      <td>5.585869e-07</td>\n",
       "      <td>4.504363e-07</td>\n",
       "      <td>5.330480e-07</td>\n",
       "      <td>4.650654e-07</td>\n",
       "      <td>33863452</td>\n",
       "      <td>4.650654e-07</td>\n",
       "    </tr>\n",
       "  </tbody>\n",
       "</table>\n",
       "<p>387 rows × 6 columns</p>\n",
       "</div>"
      ],
      "text/plain": [
       "                    High           Low          Open         Close    Volume  \\\n",
       "Date                                                                           \n",
       "2021-04-23  0.000000e+00  0.000000e+00  0.000000e+00  0.000000e+00    523817   \n",
       "2021-04-24  0.000000e+00  0.000000e+00  0.000000e+00  0.000000e+00  51157783   \n",
       "2021-04-25  0.000000e+00  0.000000e+00  0.000000e+00  0.000000e+00  14962631   \n",
       "2021-04-26  0.000000e+00  0.000000e+00  0.000000e+00  0.000000e+00  30621745   \n",
       "2021-04-27  0.000000e+00  0.000000e+00  0.000000e+00  0.000000e+00  37492592   \n",
       "...                  ...           ...           ...           ...       ...   \n",
       "2022-05-10  1.000000e-06  1.000000e-06  1.000000e-06  1.000000e-06  33911553   \n",
       "2022-05-11  1.000000e-06  0.000000e+00  1.000000e-06  1.000000e-06  39800103   \n",
       "2022-05-12  1.000000e-06  0.000000e+00  1.000000e-06  0.000000e+00  49921379   \n",
       "2022-05-13  1.000000e-06  0.000000e+00  0.000000e+00  1.000000e-06  44454142   \n",
       "2022-05-14  5.585869e-07  4.504363e-07  5.330480e-07  4.650654e-07  33863452   \n",
       "\n",
       "               Adj Close  \n",
       "Date                      \n",
       "2021-04-23  0.000000e+00  \n",
       "2021-04-24  0.000000e+00  \n",
       "2021-04-25  0.000000e+00  \n",
       "2021-04-26  0.000000e+00  \n",
       "2021-04-27  0.000000e+00  \n",
       "...                  ...  \n",
       "2022-05-10  1.000000e-06  \n",
       "2022-05-11  1.000000e-06  \n",
       "2022-05-12  0.000000e+00  \n",
       "2022-05-13  1.000000e-06  \n",
       "2022-05-14  4.650654e-07  \n",
       "\n",
       "[387 rows x 6 columns]"
      ]
     },
     "execution_count": 2,
     "metadata": {},
     "output_type": "execute_result"
    }
   ],
   "source": [
    "doge = web.DataReader('ELON-USD', 'yahoo')\n",
    "doge"
   ]
  },
  {
   "cell_type": "code",
   "execution_count": null,
   "metadata": {},
   "outputs": [],
   "source": []
  },
  {
   "cell_type": "code",
   "execution_count": 3,
   "metadata": {},
   "outputs": [
    {
     "name": "stdout",
     "output_type": "stream",
     "text": [
      "            High           Low          Open         Close    Volume  \\\n",
      "0   2.000000e-06  2.000000e-06  2.000000e-06  2.000000e-06  28411316   \n",
      "1   1.000000e-06  1.000000e-06  1.000000e-06  1.000000e-06   8614416   \n",
      "2   1.000000e-06  1.000000e-06  1.000000e-06  1.000000e-06   8764455   \n",
      "3   1.000000e-06  1.000000e-06  1.000000e-06  1.000000e-06  15698350   \n",
      "4   9.001561e-07  8.835249e-07  8.877650e-07  8.941861e-07  24119686   \n",
      "..           ...           ...           ...           ...       ...   \n",
      "59  1.000000e-06  1.000000e-06  1.000000e-06  1.000000e-06  47114985   \n",
      "60  1.000000e-06  1.000000e-06  1.000000e-06  1.000000e-06  34279213   \n",
      "61  1.000000e-06  1.000000e-06  1.000000e-06  1.000000e-06  25056237   \n",
      "62  1.000000e-06  1.000000e-06  1.000000e-06  1.000000e-06  33291619   \n",
      "63  1.000000e-06  1.000000e-06  1.000000e-06  1.000000e-06  26147666   \n",
      "\n",
      "       Adj Close  Polarity Score  \n",
      "0   2.000000e-06        0.095867  \n",
      "1   1.000000e-06        0.146020  \n",
      "2   1.000000e-06        0.138143  \n",
      "3   1.000000e-06        0.146417  \n",
      "4   8.941861e-07        0.134860  \n",
      "..           ...             ...  \n",
      "59  1.000000e-06        0.114973  \n",
      "60  1.000000e-06        0.131016  \n",
      "61  1.000000e-06        0.107061  \n",
      "62  1.000000e-06        0.141040  \n",
      "63  1.000000e-06        0.083907  \n",
      "\n",
      "[64 rows x 7 columns]\n"
     ]
    }
   ],
   "source": [
    "#lstm_data = np.genfromtxt('./sample_data/lstm.csv', delimiter=',', skip_header=True)\n",
    "lstm_data = read_csv('lstmelon.csv')\n",
    "lstm_data = lstm_data.drop(['Date'], axis=1)\n",
    "print(lstm_data)"
   ]
  },
  {
   "cell_type": "code",
   "execution_count": 4,
   "metadata": {},
   "outputs": [],
   "source": [
    "lstm_data_X = lstm_data.drop(['Close'], axis=1)\n",
    "lstm_data_y = lstm_data['Close']"
   ]
  },
  {
   "cell_type": "code",
   "execution_count": 5,
   "metadata": {},
   "outputs": [],
   "source": [
    "look_back = 5 # how many days to look back\n",
    "batch_size = 3 # size of batches used when training\n",
    "n_feat = 6 # number of features \n",
    "n_target = 2\n",
    "n_validation = 6\n",
    "n_test = 8\n",
    "n_train = lstm_data_X.shape[0] - n_validation - n_test - 1\n"
   ]
  },
  {
   "cell_type": "code",
   "execution_count": 6,
   "metadata": {},
   "outputs": [
    {
     "data": {
      "text/plain": [
       "49"
      ]
     },
     "execution_count": 6,
     "metadata": {},
     "output_type": "execute_result"
    }
   ],
   "source": [
    "n_train"
   ]
  },
  {
   "cell_type": "code",
   "execution_count": 7,
   "metadata": {},
   "outputs": [],
   "source": [
    "#lstm_data_X_train = lstm_data_X.iloc[:30,:]\n",
    "#lstm_data_X_val = lstm_data_X.iloc[30:40,:]\n",
    "#lstm_data_X_test = lstm_data_X.iloc[40:52,:]\n",
    "\n",
    "#lstm_data_y_train = lstm_data_y.iloc[:30]\n",
    "#lstm_data_y_val = lstm_data_y.iloc[30:40]\n",
    "#lstm_data_y_test = lstm_data_y.iloc[40:52]\n",
    "# Convert to numpy arrays\n",
    "#X_train = lstm_data_X_train.to_numpy()\n",
    "#X_val = lstm_data_X_val.to_numpy()\n",
    "#X_test = lstm_data_X_test.to_numpy()\n",
    "#y_train = lstm_data_y_train.to_numpy()\n",
    "#y_val = lstm_data_y_val.to_numpy()\n",
    "#y_test = lstm_data_y_test.to_numpy()"
   ]
  },
  {
   "cell_type": "code",
   "execution_count": 8,
   "metadata": {},
   "outputs": [],
   "source": [
    "lstm_data_X_train = lstm_data_X.iloc[:n_train,:]\n",
    "lstm_data_X_val = lstm_data_X.iloc[n_train:n_train + n_validation,:]\n",
    "lstm_data_X_test = lstm_data_X.iloc[n_train + n_validation:n_train + n_validation + n_test,:]\n",
    "\n",
    "lstm_data_y_train = lstm_data_y.iloc[:n_train]\n",
    "lstm_data_y_val = lstm_data_y.iloc[n_train:n_train + n_validation]\n",
    "lstm_data_y_test = lstm_data_y.iloc[n_train + n_validation:n_train + n_validation + n_test]\n",
    "# Convert to numpy arrays\n",
    "X_train = lstm_data_X_train.to_numpy()\n",
    "X_val = lstm_data_X_val.to_numpy()\n",
    "X_test = lstm_data_X_test.to_numpy()\n",
    "y_train = lstm_data_y_train.to_numpy()\n",
    "y_val = lstm_data_y_val.to_numpy()\n",
    "y_test = lstm_data_y_test.to_numpy()"
   ]
  },
  {
   "cell_type": "code",
   "execution_count": 9,
   "metadata": {},
   "outputs": [
    {
     "data": {
      "text/plain": [
       "array([[9.99999997e-07, 9.99999997e-07, 9.99999997e-07, 4.12034450e+07,\n",
       "        9.99999997e-07, 1.48283467e-01],\n",
       "       [9.99999997e-07, 9.99999997e-07, 9.99999997e-07, 1.30700530e+07,\n",
       "        9.99999997e-07, 1.31502325e-01],\n",
       "       [9.99999997e-07, 9.99999997e-07, 9.99999997e-07, 9.40005620e+07,\n",
       "        9.99999997e-07, 1.53586280e-01],\n",
       "       [9.99999997e-07, 9.99999997e-07, 9.99999997e-07, 3.23330640e+07,\n",
       "        9.99999997e-07, 1.28670540e-01],\n",
       "       [9.99999997e-07, 9.99999997e-07, 9.99999997e-07, 4.71149850e+07,\n",
       "        9.99999997e-07, 1.14973180e-01],\n",
       "       [9.99999997e-07, 9.99999997e-07, 9.99999997e-07, 3.42792130e+07,\n",
       "        9.99999997e-07, 1.31015680e-01],\n",
       "       [9.99999997e-07, 9.99999997e-07, 9.99999997e-07, 2.50562370e+07,\n",
       "        9.99999997e-07, 1.07060620e-01],\n",
       "       [9.99999997e-07, 9.99999997e-07, 9.99999997e-07, 3.32916190e+07,\n",
       "        9.99999997e-07, 1.41039940e-01]])"
      ]
     },
     "execution_count": 9,
     "metadata": {},
     "output_type": "execute_result"
    }
   ],
   "source": [
    "X_test"
   ]
  },
  {
   "cell_type": "code",
   "execution_count": 10,
   "metadata": {},
   "outputs": [
    {
     "data": {
      "text/plain": [
       "array([9.99999997e-07, 9.99999997e-07, 9.99999997e-07, 9.99999997e-07,\n",
       "       9.99999997e-07, 9.99999997e-07, 9.99999997e-07, 9.99999997e-07])"
      ]
     },
     "execution_count": 10,
     "metadata": {},
     "output_type": "execute_result"
    }
   ],
   "source": [
    "y_test"
   ]
  },
  {
   "cell_type": "code",
   "execution_count": 11,
   "metadata": {},
   "outputs": [],
   "source": [
    "import keras\n",
    "from keras.preprocessing.sequence import TimeseriesGenerator\n",
    "from keras.models import Sequential\n",
    "from keras.layers import LSTM, Dense, Activation, ThresholdedReLU, MaxPooling2D, Embedding, Dropout\n",
    "from tensorflow.keras.optimizers import Adam, SGD, RMSprop\n",
    "# Load the TensorBoard notebook extension.\n",
    "%load_ext tensorboard\n",
    "from datetime import datetime\n"
   ]
  },
  {
   "cell_type": "code",
   "execution_count": 12,
   "metadata": {},
   "outputs": [],
   "source": [
    "train_data_gen = TimeseriesGenerator(X_train, y_train, length=look_back, batch_size=batch_size)\n",
    "val_data_gen = TimeseriesGenerator(X_val, y_val, length=look_back, batch_size=batch_size)\n",
    "test_data_gen = TimeseriesGenerator(X_test, y_test, length=look_back, batch_size=batch_size)"
   ]
  },
  {
   "cell_type": "code",
   "execution_count": 13,
   "metadata": {},
   "outputs": [
    {
     "name": "stdout",
     "output_type": "stream",
     "text": [
      "(3, 5, 6) (3,)\n",
      "(3, 5, 6) (3,)\n",
      "(3, 5, 6) (3,)\n",
      "(3, 5, 6) (3,)\n",
      "(3, 5, 6) (3,)\n",
      "(3, 5, 6) (3,)\n",
      "(3, 5, 6) (3,)\n",
      "(3, 5, 6) (3,)\n",
      "(3, 5, 6) (3,)\n",
      "(3, 5, 6) (3,)\n",
      "(3, 5, 6) (3,)\n",
      "(3, 5, 6) (3,)\n",
      "(3, 5, 6) (3,)\n",
      "(3, 5, 6) (3,)\n",
      "(2, 5, 6) (2,)\n"
     ]
    }
   ],
   "source": [
    "# check generator dimensions\n",
    "for i in range(len(train_data_gen)):\n",
    "    x, y = train_data_gen[i]\n",
    "    print(x.shape, y.shape)"
   ]
  },
  {
   "cell_type": "code",
   "execution_count": 14,
   "metadata": {},
   "outputs": [
    {
     "name": "stdout",
     "output_type": "stream",
     "text": [
      "Model: \"sequential\"\n",
      "_________________________________________________________________\n",
      " Layer (type)                Output Shape              Param #   \n",
      "=================================================================\n",
      " lstm (LSTM)                 (None, 5, 32)             4992      \n",
      "                                                                 \n",
      " dropout (Dropout)           (None, 5, 32)             0         \n",
      "                                                                 \n",
      " lstm_1 (LSTM)               (None, 32)                8320      \n",
      "                                                                 \n",
      " dropout_1 (Dropout)         (None, 32)                0         \n",
      "                                                                 \n",
      " dense (Dense)               (None, 1)                 33        \n",
      "                                                                 \n",
      "=================================================================\n",
      "Total params: 13,345\n",
      "Trainable params: 13,345\n",
      "Non-trainable params: 0\n",
      "_________________________________________________________________\n",
      "None\n"
     ]
    }
   ],
   "source": [
    "model_lstm = Sequential()\n",
    "model_lstm.add(LSTM(32, input_shape=(look_back, n_feat), return_sequences=True))\n",
    "model_lstm.add(Dropout(0.1))\n",
    "model_lstm.add(LSTM(32))\n",
    "model_lstm.add(Dropout(0.1))\n",
    "model_lstm.add(Dense(1))\n",
    "model_lstm.compile(optimizer=\"adam\", loss='mse', metrics=[\"mse\"])\n",
    "print(model_lstm.summary())"
   ]
  },
  {
   "cell_type": "code",
   "execution_count": 15,
   "metadata": {},
   "outputs": [
    {
     "name": "stderr",
     "output_type": "stream",
     "text": [
      "C:\\Users\\moham\\AppData\\Local\\Temp/ipykernel_5884/531576743.py:4: UserWarning: `Model.fit_generator` is deprecated and will be removed in a future version. Please use `Model.fit`, which supports generators.\n",
      "  hist = model_lstm.fit_generator(train_data_gen,\n"
     ]
    },
    {
     "name": "stdout",
     "output_type": "stream",
     "text": [
      "Epoch 1/30\n",
      "10/10 [==============================] - 5s 144ms/step - loss: 0.0419 - mse: 0.0419 - val_loss: 0.0111 - val_mse: 0.0111\n",
      "Epoch 2/30\n",
      "10/10 [==============================] - 1s 67ms/step - loss: 0.0088 - mse: 0.0088 - val_loss: 0.0039 - val_mse: 0.0039\n",
      "Epoch 3/30\n",
      "10/10 [==============================] - 0s 12ms/step - loss: 0.0060 - mse: 0.0060 - val_loss: 0.0021 - val_mse: 0.0021\n",
      "Epoch 4/30\n",
      "10/10 [==============================] - 0s 12ms/step - loss: 0.0050 - mse: 0.0050 - val_loss: 1.6398e-04 - val_mse: 1.6398e-04\n",
      "Epoch 5/30\n",
      "10/10 [==============================] - 0s 16ms/step - loss: 0.0060 - mse: 0.0060 - val_loss: 2.5374e-04 - val_mse: 2.5374e-04\n",
      "Epoch 6/30\n",
      "10/10 [==============================] - 0s 14ms/step - loss: 0.0042 - mse: 0.0042 - val_loss: 2.5159e-05 - val_mse: 2.5159e-05\n",
      "Epoch 7/30\n",
      "10/10 [==============================] - 0s 11ms/step - loss: 0.0069 - mse: 0.0069 - val_loss: 3.7739e-05 - val_mse: 3.7739e-05\n",
      "Epoch 8/30\n",
      "10/10 [==============================] - 0s 11ms/step - loss: 0.0039 - mse: 0.0039 - val_loss: 1.9466e-04 - val_mse: 1.9466e-04\n",
      "Epoch 9/30\n",
      "10/10 [==============================] - 0s 11ms/step - loss: 0.0028 - mse: 0.0028 - val_loss: 1.9979e-04 - val_mse: 1.9979e-04\n",
      "Epoch 10/30\n",
      "10/10 [==============================] - 0s 11ms/step - loss: 0.0027 - mse: 0.0027 - val_loss: 6.3816e-04 - val_mse: 6.3816e-04\n",
      "Epoch 11/30\n",
      "10/10 [==============================] - 0s 12ms/step - loss: 0.0036 - mse: 0.0036 - val_loss: 5.1001e-04 - val_mse: 5.1001e-04\n",
      "Epoch 12/30\n",
      "10/10 [==============================] - 0s 12ms/step - loss: 0.0033 - mse: 0.0033 - val_loss: 4.8147e-05 - val_mse: 4.8147e-05\n",
      "Epoch 13/30\n",
      "10/10 [==============================] - 0s 12ms/step - loss: 0.0043 - mse: 0.0043 - val_loss: 6.7283e-04 - val_mse: 6.7283e-04\n",
      "Epoch 14/30\n",
      "10/10 [==============================] - 0s 11ms/step - loss: 0.0041 - mse: 0.0041 - val_loss: 6.8818e-04 - val_mse: 6.8818e-04\n",
      "Epoch 15/30\n",
      "10/10 [==============================] - 0s 11ms/step - loss: 0.0023 - mse: 0.0023 - val_loss: 2.2799e-06 - val_mse: 2.2799e-06\n",
      "Epoch 16/30\n",
      "10/10 [==============================] - 0s 11ms/step - loss: 0.0021 - mse: 0.0021 - val_loss: 2.1239e-04 - val_mse: 2.1239e-04\n",
      "Epoch 17/30\n",
      "10/10 [==============================] - 0s 12ms/step - loss: 0.0026 - mse: 0.0026 - val_loss: 6.0799e-05 - val_mse: 6.0799e-05\n",
      "Epoch 18/30\n",
      "10/10 [==============================] - 0s 11ms/step - loss: 0.0033 - mse: 0.0033 - val_loss: 1.0521e-04 - val_mse: 1.0521e-04\n",
      "Epoch 19/30\n",
      "10/10 [==============================] - 0s 11ms/step - loss: 0.0017 - mse: 0.0017 - val_loss: 0.0014 - val_mse: 0.0014\n",
      "Epoch 20/30\n",
      "10/10 [==============================] - 0s 12ms/step - loss: 0.0034 - mse: 0.0034 - val_loss: 0.0012 - val_mse: 0.0012\n",
      "Epoch 21/30\n",
      "10/10 [==============================] - 0s 12ms/step - loss: 0.0042 - mse: 0.0042 - val_loss: 4.3178e-04 - val_mse: 4.3178e-04\n",
      "Epoch 22/30\n",
      "10/10 [==============================] - 0s 12ms/step - loss: 0.0030 - mse: 0.0030 - val_loss: 1.5932e-06 - val_mse: 1.5932e-06\n",
      "Epoch 23/30\n",
      "10/10 [==============================] - 0s 12ms/step - loss: 0.0020 - mse: 0.0020 - val_loss: 9.3773e-07 - val_mse: 9.3773e-07\n",
      "Epoch 24/30\n",
      "10/10 [==============================] - 0s 11ms/step - loss: 0.0023 - mse: 0.0023 - val_loss: 6.8283e-05 - val_mse: 6.8283e-05\n",
      "Epoch 25/30\n",
      "10/10 [==============================] - 0s 11ms/step - loss: 0.0014 - mse: 0.0014 - val_loss: 4.6004e-05 - val_mse: 4.6004e-05\n",
      "Epoch 26/30\n",
      "10/10 [==============================] - 0s 11ms/step - loss: 0.0015 - mse: 0.0015 - val_loss: 9.2126e-05 - val_mse: 9.2126e-05\n",
      "Epoch 27/30\n",
      "10/10 [==============================] - 0s 12ms/step - loss: 0.0012 - mse: 0.0012 - val_loss: 8.1977e-06 - val_mse: 8.1977e-06\n",
      "Epoch 28/30\n",
      "10/10 [==============================] - 0s 11ms/step - loss: 0.0015 - mse: 0.0015 - val_loss: 1.8553e-05 - val_mse: 1.8553e-05\n",
      "Epoch 29/30\n",
      "10/10 [==============================] - 0s 13ms/step - loss: 0.0016 - mse: 0.0016 - val_loss: 7.8379e-04 - val_mse: 7.8379e-04\n",
      "Epoch 30/30\n",
      "10/10 [==============================] - 0s 13ms/step - loss: 0.0017 - mse: 0.0017 - val_loss: 6.8142e-04 - val_mse: 6.8142e-04\n"
     ]
    }
   ],
   "source": [
    "# Define the Keras TensorBoard callback.\n",
    "logdir=\"logs/fit/\" + datetime.now().strftime(\"%Y%m%d-%H%M%S\")\n",
    "tensorboard_callback = keras.callbacks.TensorBoard(log_dir=logdir)\n",
    "hist = model_lstm.fit_generator(train_data_gen,\n",
    "                                        steps_per_epoch=10,\n",
    "                                        epochs=30,\n",
    "                                        verbose=1,\n",
    "                                        validation_data=val_data_gen, #training put a graph of traing loss and val loss\n",
    "                                        callbacks=[tensorboard_callback])\n"
   ]
  },
  {
   "cell_type": "code",
   "execution_count": 16,
   "metadata": {},
   "outputs": [],
   "source": [
    "pred = model_lstm.predict(test_data_gen)"
   ]
  },
  {
   "cell_type": "code",
   "execution_count": 17,
   "metadata": {},
   "outputs": [
    {
     "data": {
      "text/plain": [
       "(array([[[9.99999997e-07, 9.99999997e-07, 9.99999997e-07, 4.12034450e+07,\n",
       "          9.99999997e-07, 1.48283467e-01],\n",
       "         [9.99999997e-07, 9.99999997e-07, 9.99999997e-07, 1.30700530e+07,\n",
       "          9.99999997e-07, 1.31502325e-01],\n",
       "         [9.99999997e-07, 9.99999997e-07, 9.99999997e-07, 9.40005620e+07,\n",
       "          9.99999997e-07, 1.53586280e-01],\n",
       "         [9.99999997e-07, 9.99999997e-07, 9.99999997e-07, 3.23330640e+07,\n",
       "          9.99999997e-07, 1.28670540e-01],\n",
       "         [9.99999997e-07, 9.99999997e-07, 9.99999997e-07, 4.71149850e+07,\n",
       "          9.99999997e-07, 1.14973180e-01]],\n",
       " \n",
       "        [[9.99999997e-07, 9.99999997e-07, 9.99999997e-07, 1.30700530e+07,\n",
       "          9.99999997e-07, 1.31502325e-01],\n",
       "         [9.99999997e-07, 9.99999997e-07, 9.99999997e-07, 9.40005620e+07,\n",
       "          9.99999997e-07, 1.53586280e-01],\n",
       "         [9.99999997e-07, 9.99999997e-07, 9.99999997e-07, 3.23330640e+07,\n",
       "          9.99999997e-07, 1.28670540e-01],\n",
       "         [9.99999997e-07, 9.99999997e-07, 9.99999997e-07, 4.71149850e+07,\n",
       "          9.99999997e-07, 1.14973180e-01],\n",
       "         [9.99999997e-07, 9.99999997e-07, 9.99999997e-07, 3.42792130e+07,\n",
       "          9.99999997e-07, 1.31015680e-01]],\n",
       " \n",
       "        [[9.99999997e-07, 9.99999997e-07, 9.99999997e-07, 9.40005620e+07,\n",
       "          9.99999997e-07, 1.53586280e-01],\n",
       "         [9.99999997e-07, 9.99999997e-07, 9.99999997e-07, 3.23330640e+07,\n",
       "          9.99999997e-07, 1.28670540e-01],\n",
       "         [9.99999997e-07, 9.99999997e-07, 9.99999997e-07, 4.71149850e+07,\n",
       "          9.99999997e-07, 1.14973180e-01],\n",
       "         [9.99999997e-07, 9.99999997e-07, 9.99999997e-07, 3.42792130e+07,\n",
       "          9.99999997e-07, 1.31015680e-01],\n",
       "         [9.99999997e-07, 9.99999997e-07, 9.99999997e-07, 2.50562370e+07,\n",
       "          9.99999997e-07, 1.07060620e-01]]]),\n",
       " array([9.99999997e-07, 9.99999997e-07, 9.99999997e-07]))"
      ]
     },
     "execution_count": 17,
     "metadata": {},
     "output_type": "execute_result"
    }
   ],
   "source": [
    "test_data_gen[0]"
   ]
  },
  {
   "cell_type": "code",
   "execution_count": 18,
   "metadata": {},
   "outputs": [
    {
     "data": {
      "text/plain": [
       "array([[0.02610495],\n",
       "       [0.02610495],\n",
       "       [0.02610495]], dtype=float32)"
      ]
     },
     "execution_count": 18,
     "metadata": {},
     "output_type": "execute_result"
    }
   ],
   "source": [
    "pred"
   ]
  },
  {
   "cell_type": "code",
   "execution_count": 19,
   "metadata": {},
   "outputs": [],
   "source": [
    "import matplotlib.pyplot as plt"
   ]
  },
  {
   "cell_type": "code",
   "execution_count": 20,
   "metadata": {},
   "outputs": [
    {
     "data": {
      "image/png": "[encoded data removed]",
      "text/plain": [
       "<Figure size 720x288 with 1 Axes>"
      ]
     },
     "metadata": {
      "needs_background": "light"
     },
     "output_type": "display_data"
    }
   ],
   "source": [
    "# Visualising the results\n",
    "plt.figure(figsize=(10,4))\n",
    "plt.plot(y_test[0:y_test.shape[0]-5], color = 'red', label = 'Real ELON Price')\n",
    "plt.plot(pred, color = 'blue', label = 'Predicted ELON Price')\n",
    "plt.title('ELON Price Prediction')\n",
    "plt.xlabel('Time')\n",
    "plt.ylabel('DOGELON Price')\n",
    "plt.ylim(0,1)\n",
    "plt.legend()\n",
    "plt.show()"
   ]
  },
  {
   "cell_type": "code",
   "execution_count": null,
   "metadata": {},
   "outputs": [],
   "source": [
    "# on cmd promt, you should use the function below to kill the tensorboard \n",
    "#taskkill /im tensorboard.exe /f\n",
    "#del /q %TMP%\\.tensorboard-info\\*#"
   ]
  },
  {
   "cell_type": "code",
   "execution_count": 21,
   "metadata": {},
   "outputs": [
    {
     "data": {
      "text/plain": [
       "Reusing TensorBoard on port 6006 (pid 2592), started 0:04:11 ago. (Use '!kill 2592' to kill it.)"
      ]
     },
     "metadata": {},
     "output_type": "display_data"
    },
    {
     "data": {
      "text/html": [
       "\n",
       "      <iframe id=\"tensorboard-frame-d6b038a9ebea29b5\" width=\"100%\" height=\"800\" frameborder=\"0\">\n",
       "      </iframe>\n",
       "      <script>\n",
       "        (function() {\n",
       "          const frame = document.getElementById(\"tensorboard-frame-d6b038a9ebea29b5\");\n",
       "          const url = new URL(\"http://localhost\");\n",
       "          const port = 6006;\n",
       "          if (port) {\n",
       "            url.port = port;\n",
       "          }\n",
       "          frame.src = url;\n",
       "        })();\n",
       "      </script>\n",
       "    "
      ],
      "text/plain": [
       "<IPython.core.display.HTML object>"
      ]
     },
     "metadata": {},
     "output_type": "display_data"
    }
   ],
   "source": [
    "%tensorboard --logdir logs"
   ]
  }
 ],
 "metadata": {
  "interpreter": {
   "hash": "2f2e1fb2a3b1494e2ce2d620806ace1f30b1e2c236dd55f932f68dad84626b10"
  },
  "kernelspec": {
   "display_name": "Python 3.9.5 64-bit",
   "language": "python",
   "name": "python3"
  },
  "language_info": {
   "codemirror_mode": {
    "name": "ipython",
    "version": 3
   },
   "file_extension": ".py",
   "mimetype": "text/x-python",
   "name": "python",
   "nbconvert_exporter": "python",
   "pygments_lexer": "ipython3",
   "version": "3.9.5"
  },
  "orig_nbformat": 4
 },
 "nbformat": 4,
 "nbformat_minor": 2
}
