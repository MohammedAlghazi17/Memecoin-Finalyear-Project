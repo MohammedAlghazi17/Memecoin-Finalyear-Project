{
 "cells": [
  {
   "cell_type": "code",
   "execution_count": 137,
   "metadata": {},
   "outputs": [],
   "source": [
    "import numpy as np\n",
    "from pandas import read_csv\n",
    "import pandas_datareader.data as web"
   ]
  },
  {
   "cell_type": "code",
   "execution_count": 138,
   "metadata": {},
   "outputs": [
    {
     "data": {
      "text/html": [
       "<div>\n",
       "<style scoped>\n",
       "    .dataframe tbody tr th:only-of-type {\n",
       "        vertical-align: middle;\n",
       "    }\n",
       "\n",
       "    .dataframe tbody tr th {\n",
       "        vertical-align: top;\n",
       "    }\n",
       "\n",
       "    .dataframe thead th {\n",
       "        text-align: right;\n",
       "    }\n",
       "</style>\n",
       "<table border=\"1\" class=\"dataframe\">\n",
       "  <thead>\n",
       "    <tr style=\"text-align: right;\">\n",
       "      <th></th>\n",
       "      <th>High</th>\n",
       "      <th>Low</th>\n",
       "      <th>Open</th>\n",
       "      <th>Close</th>\n",
       "      <th>Volume</th>\n",
       "      <th>Adj Close</th>\n",
       "    </tr>\n",
       "    <tr>\n",
       "      <th>Date</th>\n",
       "      <th></th>\n",
       "      <th></th>\n",
       "      <th></th>\n",
       "      <th></th>\n",
       "      <th></th>\n",
       "      <th></th>\n",
       "    </tr>\n",
       "  </thead>\n",
       "  <tbody>\n",
       "    <tr>\n",
       "      <th>2017-11-09</th>\n",
       "      <td>3.039360</td>\n",
       "      <td>2.840420</td>\n",
       "      <td>2.855220</td>\n",
       "      <td>2.967630</td>\n",
       "      <td>4630550</td>\n",
       "      <td>2.967630</td>\n",
       "    </tr>\n",
       "    <tr>\n",
       "      <th>2017-11-10</th>\n",
       "      <td>2.993850</td>\n",
       "      <td>2.606440</td>\n",
       "      <td>2.959770</td>\n",
       "      <td>2.616590</td>\n",
       "      <td>3069090</td>\n",
       "      <td>2.616590</td>\n",
       "    </tr>\n",
       "    <tr>\n",
       "      <th>2017-11-11</th>\n",
       "      <td>2.714720</td>\n",
       "      <td>2.520320</td>\n",
       "      <td>2.627440</td>\n",
       "      <td>2.597220</td>\n",
       "      <td>3258960</td>\n",
       "      <td>2.597220</td>\n",
       "    </tr>\n",
       "    <tr>\n",
       "      <th>2017-11-12</th>\n",
       "      <td>3.109670</td>\n",
       "      <td>2.173080</td>\n",
       "      <td>2.598040</td>\n",
       "      <td>2.817210</td>\n",
       "      <td>9822060</td>\n",
       "      <td>2.817210</td>\n",
       "    </tr>\n",
       "    <tr>\n",
       "      <th>2017-11-13</th>\n",
       "      <td>3.254420</td>\n",
       "      <td>2.666150</td>\n",
       "      <td>2.795100</td>\n",
       "      <td>2.895720</td>\n",
       "      <td>9818930</td>\n",
       "      <td>2.895720</td>\n",
       "    </tr>\n",
       "    <tr>\n",
       "      <th>...</th>\n",
       "      <td>...</td>\n",
       "      <td>...</td>\n",
       "      <td>...</td>\n",
       "      <td>...</td>\n",
       "      <td>...</td>\n",
       "      <td>...</td>\n",
       "    </tr>\n",
       "    <tr>\n",
       "      <th>2022-04-19</th>\n",
       "      <td>0.896073</td>\n",
       "      <td>0.883590</td>\n",
       "      <td>0.891385</td>\n",
       "      <td>0.889009</td>\n",
       "      <td>151928</td>\n",
       "      <td>0.889009</td>\n",
       "    </tr>\n",
       "    <tr>\n",
       "      <th>2022-04-20</th>\n",
       "      <td>0.898475</td>\n",
       "      <td>0.882716</td>\n",
       "      <td>0.889078</td>\n",
       "      <td>0.892699</td>\n",
       "      <td>192726</td>\n",
       "      <td>0.892699</td>\n",
       "    </tr>\n",
       "    <tr>\n",
       "      <th>2022-04-21</th>\n",
       "      <td>0.902868</td>\n",
       "      <td>0.879381</td>\n",
       "      <td>0.892625</td>\n",
       "      <td>0.881785</td>\n",
       "      <td>167541</td>\n",
       "      <td>0.881785</td>\n",
       "    </tr>\n",
       "    <tr>\n",
       "      <th>2022-04-22</th>\n",
       "      <td>0.883211</td>\n",
       "      <td>0.869527</td>\n",
       "      <td>0.881720</td>\n",
       "      <td>0.878945</td>\n",
       "      <td>186793</td>\n",
       "      <td>0.878945</td>\n",
       "    </tr>\n",
       "    <tr>\n",
       "      <th>2022-04-23</th>\n",
       "      <td>0.885584</td>\n",
       "      <td>0.875964</td>\n",
       "      <td>0.879289</td>\n",
       "      <td>0.878712</td>\n",
       "      <td>147486</td>\n",
       "      <td>0.878712</td>\n",
       "    </tr>\n",
       "  </tbody>\n",
       "</table>\n",
       "<p>1627 rows × 6 columns</p>\n",
       "</div>"
      ],
      "text/plain": [
       "                High       Low      Open     Close   Volume  Adj Close\n",
       "Date                                                                  \n",
       "2017-11-09  3.039360  2.840420  2.855220  2.967630  4630550   2.967630\n",
       "2017-11-10  2.993850  2.606440  2.959770  2.616590  3069090   2.616590\n",
       "2017-11-11  2.714720  2.520320  2.627440  2.597220  3258960   2.597220\n",
       "2017-11-12  3.109670  2.173080  2.598040  2.817210  9822060   2.817210\n",
       "2017-11-13  3.254420  2.666150  2.795100  2.895720  9818930   2.895720\n",
       "...              ...       ...       ...       ...      ...        ...\n",
       "2022-04-19  0.896073  0.883590  0.891385  0.889009   151928   0.889009\n",
       "2022-04-20  0.898475  0.882716  0.889078  0.892699   192726   0.892699\n",
       "2022-04-21  0.902868  0.879381  0.892625  0.881785   167541   0.881785\n",
       "2022-04-22  0.883211  0.869527  0.881720  0.878945   186793   0.878945\n",
       "2022-04-23  0.885584  0.875964  0.879289  0.878712   147486   0.878712\n",
       "\n",
       "[1627 rows x 6 columns]"
      ]
     },
     "execution_count": 138,
     "metadata": {},
     "output_type": "execute_result"
    }
   ],
   "source": [
    "doge = web.DataReader('MONA-USD', 'yahoo')\n",
    "doge"
   ]
  },
  {
   "cell_type": "code",
   "execution_count": null,
   "metadata": {},
   "outputs": [],
   "source": []
  },
  {
   "cell_type": "code",
   "execution_count": 139,
   "metadata": {},
   "outputs": [
    {
     "name": "stdout",
     "output_type": "stream",
     "text": [
      "        High       Low      Open     Close   Volume  Adj Close  Polarity Score\n",
      "0   1.241455  1.182781  1.236694  1.184539  1251855   1.184539        0.095867\n",
      "1   1.054188  1.000561  1.016678  1.008785   467346   1.008785        0.146020\n",
      "2   1.022445  0.989817  1.014940  0.996675   304333   0.996675        0.138143\n",
      "3   0.978820  0.965322  0.970673  0.972663   205397   0.972663        0.146417\n",
      "4   1.197341  1.177413  1.184803  1.184319   696471   1.184319        0.071015\n",
      "5   1.056811  1.008147  1.008871  1.051372   424532   1.051372        0.096342\n",
      "6   0.998576  0.970002  0.996708  0.982647   381357   0.982647        0.085107\n",
      "7   0.972628  0.955275  0.972628  0.965510   194245   0.965510        0.090832\n",
      "8   1.060776  1.041301  1.044525  1.055757   490092   1.055757        0.113200\n",
      "9   0.947661  0.934597  0.945077  0.936507   138229   0.936507        0.111060\n",
      "10  0.922446  0.893750  0.896942  0.921192   231487   0.921192        0.119920\n",
      "11  1.055742  1.021811  1.055726  1.034679   205570   1.034679        0.367391\n",
      "12  0.942785  0.933064  0.936504  0.939886   209986   0.939886        0.075841\n",
      "13  0.926987  0.895919  0.921091  0.896641   180988   0.896641        0.167889\n",
      "14  1.055246  1.022037  1.034578  1.053187   334767   1.053187        0.150535\n",
      "15  0.941809  0.931012  0.939891  0.938026   124396   0.938026        0.100922\n",
      "16  0.909872  0.896238  0.896737  0.909659   174450   0.909659        0.115242\n",
      "17  1.060616  1.035437  1.053166  1.049737   234412   1.049737        0.010105\n",
      "18  0.955998  0.934087  0.938009  0.947942   259295   0.947942        0.076036\n",
      "19  0.915845  0.898617  0.909633  0.900707   157344   0.900707        0.131267\n",
      "20  1.053838  1.017398  1.049745  1.019293   302457   1.019293        0.232539\n",
      "21  0.951459  0.938095  0.947940  0.948282   228895   0.948282        0.133072\n",
      "22  0.910478  0.897731  0.900560  0.898357    94190   0.898357        0.129466\n",
      "23  1.043297  0.999210  1.019312  1.007575   353211   1.007575        0.245144\n",
      "24  0.949749  0.931936  0.948250  0.941657   210373   0.941657        0.089275\n",
      "25  0.901525  0.878735  0.898389  0.891354   256523   0.891354        0.141833\n",
      "26  1.016447  0.986993  1.007664  1.006427   271839   1.006427        0.000168\n",
      "27  0.951966  0.938638  0.941657  0.947400   300176   0.947400        0.223525\n",
      "28  0.896073  0.883590  0.891385  0.889009   151928   0.889009        0.141011\n",
      "29  1.010323  0.964393  1.006419  0.998416   498230   0.998416        0.219473\n",
      "30  0.955283  0.933657  0.947404  0.941641   364295   0.941641        0.110555\n",
      "31  0.898475  0.882716  0.889078  0.892699   192726   0.892699        0.127655\n",
      "32  1.011017  0.974942  0.998303  0.977677   340243   0.977677        0.135519\n",
      "33  0.959084  0.938348  0.941660  0.948626   353478   0.948626        0.115944\n",
      "34  0.902868  0.879381  0.892625  0.881785   167541   0.881785        0.131129\n",
      "35  0.998481  0.962618  0.977620  0.995520   248098   0.995520        0.112503\n",
      "36  0.967868  0.942172  0.948642  0.952501   677719   0.952501        0.000000\n",
      "37  0.883211  0.869527  0.881720  0.878945   186793   0.878945        0.112926\n",
      "38  1.005631  0.988088  0.995582  0.990285   178773   0.990285        0.153502\n",
      "39  0.975304  0.951171  0.952623  0.974095   454355   0.974095        0.140484\n",
      "40  0.885584  0.875964  0.879289  0.877555   151602   0.877555        0.121865\n",
      "41  0.990445  0.939360  0.990238  0.959027   664471   0.959027        0.109284\n",
      "42  0.981590  0.953585  0.974083  0.954097   489069   0.954097        0.117736\n",
      "43  1.006944  0.956165  0.959106  1.000859   823896   1.000859        0.107181\n",
      "44  0.984148  0.950223  0.954149  0.955652   671498   0.955652        0.161422\n",
      "45  1.007445  0.979285  1.000863  0.986811   277347   0.986811        0.141459\n",
      "46  1.001894  0.954017  0.955664  0.985116   853500   0.985116        0.227658\n",
      "47  1.015193  0.974043  0.986870  0.974151   457800   0.974151        0.199485\n",
      "48  1.008562  0.978913  0.985115  1.008550   463497   1.008550        0.169030\n",
      "49  1.018426  0.971316  0.974134  1.014812   371633   1.014812        0.131502\n",
      "50  1.030112  0.999376  1.008556  1.002952   781560   1.002952        0.153586\n",
      "51  1.020251  0.994093  1.002975  0.999426   565050   0.999426        0.114973\n",
      "52  1.002289  0.977300  0.999467  0.985450   564840   0.985450        0.107061\n",
      "53  1.010521  0.969276  0.985485  0.979062   585842   0.979062        0.083907\n"
     ]
    }
   ],
   "source": [
    "#lstm_data = np.genfromtxt('./sample_data/lstm.csv', delimiter=',', skip_header=True)\n",
    "lstm_data = read_csv('lstmsmona.csv')\n",
    "lstm_data = lstm_data.drop(['Date'], axis=1)\n",
    "print(lstm_data)"
   ]
  },
  {
   "cell_type": "code",
   "execution_count": 140,
   "metadata": {},
   "outputs": [],
   "source": [
    "lstm_data_X = lstm_data.drop(['Close'], axis=1)\n",
    "lstm_data_y = lstm_data['Close']"
   ]
  },
  {
   "cell_type": "code",
   "execution_count": 141,
   "metadata": {},
   "outputs": [],
   "source": [
    "look_back = 5 # how many days to look back\n",
    "batch_size = 3 # size of batches used when training\n",
    "n_feat = 6 # number of features \n",
    "n_target = 2\n",
    "n_validation = 6\n",
    "n_test = 8\n",
    "n_train = lstm_data_X.shape[0] - n_validation - n_test - 1\n"
   ]
  },
  {
   "cell_type": "code",
   "execution_count": 142,
   "metadata": {},
   "outputs": [
    {
     "data": {
      "text/plain": [
       "39"
      ]
     },
     "execution_count": 142,
     "metadata": {},
     "output_type": "execute_result"
    }
   ],
   "source": [
    "n_train"
   ]
  },
  {
   "cell_type": "code",
   "execution_count": 143,
   "metadata": {},
   "outputs": [],
   "source": [
    "#lstm_data_X_train = lstm_data_X.iloc[:30,:]\n",
    "#lstm_data_X_val = lstm_data_X.iloc[30:40,:]\n",
    "#lstm_data_X_test = lstm_data_X.iloc[40:52,:]\n",
    "\n",
    "#lstm_data_y_train = lstm_data_y.iloc[:30]\n",
    "#lstm_data_y_val = lstm_data_y.iloc[30:40]\n",
    "#lstm_data_y_test = lstm_data_y.iloc[40:52]\n",
    "# Convert to numpy arrays\n",
    "#X_train = lstm_data_X_train.to_numpy()\n",
    "#X_val = lstm_data_X_val.to_numpy()\n",
    "#X_test = lstm_data_X_test.to_numpy()\n",
    "#y_train = lstm_data_y_train.to_numpy()\n",
    "#y_val = lstm_data_y_val.to_numpy()\n",
    "#y_test = lstm_data_y_test.to_numpy()"
   ]
  },
  {
   "cell_type": "code",
   "execution_count": 144,
   "metadata": {},
   "outputs": [],
   "source": [
    "lstm_data_X_train = lstm_data_X.iloc[:n_train,:]\n",
    "lstm_data_X_val = lstm_data_X.iloc[n_train:n_train + n_validation,:]\n",
    "lstm_data_X_test = lstm_data_X.iloc[n_train + n_validation:n_train + n_validation + n_test,:]\n",
    "\n",
    "lstm_data_y_train = lstm_data_y.iloc[:n_train]\n",
    "lstm_data_y_val = lstm_data_y.iloc[n_train:n_train + n_validation]\n",
    "lstm_data_y_test = lstm_data_y.iloc[n_train + n_validation:n_train + n_validation + n_test]\n",
    "# Convert to numpy arrays\n",
    "X_train = lstm_data_X_train.to_numpy()\n",
    "X_val = lstm_data_X_val.to_numpy()\n",
    "X_test = lstm_data_X_test.to_numpy()\n",
    "y_train = lstm_data_y_train.to_numpy()\n",
    "y_val = lstm_data_y_val.to_numpy()\n",
    "y_test = lstm_data_y_test.to_numpy()"
   ]
  },
  {
   "cell_type": "code",
   "execution_count": 145,
   "metadata": {},
   "outputs": [
    {
     "data": {
      "text/plain": [
       "array([[1.00744498e+00, 9.79285002e-01, 1.00086296e+00, 2.77347000e+05,\n",
       "        9.86810982e-01, 1.41458700e-01],\n",
       "       [1.00189400e+00, 9.54016984e-01, 9.55663979e-01, 8.53500000e+05,\n",
       "        9.85116005e-01, 2.27658000e-01],\n",
       "       [1.01519299e+00, 9.74043012e-01, 9.86869991e-01, 4.57800000e+05,\n",
       "        9.74151015e-01, 1.99485454e-01],\n",
       "       [1.00856197e+00, 9.78913009e-01, 9.85114992e-01, 4.63497000e+05,\n",
       "        1.00855005e+00, 1.69029840e-01],\n",
       "       [1.01842594e+00, 9.71315980e-01, 9.74134028e-01, 3.71633000e+05,\n",
       "        1.01481199e+00, 1.31502325e-01],\n",
       "       [1.03011203e+00, 9.99375999e-01, 1.00855601e+00, 7.81560000e+05,\n",
       "        1.00295198e+00, 1.53586280e-01],\n",
       "       [1.02025104e+00, 9.94093001e-01, 1.00297499e+00, 5.65050000e+05,\n",
       "        9.99426007e-01, 1.14973180e-01],\n",
       "       [1.00228906e+00, 9.77299988e-01, 9.99467015e-01, 5.64840000e+05,\n",
       "        9.85450029e-01, 1.07060620e-01]])"
      ]
     },
     "execution_count": 145,
     "metadata": {},
     "output_type": "execute_result"
    }
   ],
   "source": [
    "X_test"
   ]
  },
  {
   "cell_type": "code",
   "execution_count": 146,
   "metadata": {},
   "outputs": [
    {
     "data": {
      "text/plain": [
       "array([0.98681098, 0.985116  , 0.97415102, 1.00855005, 1.01481199,\n",
       "       1.00295198, 0.99942601, 0.98545003])"
      ]
     },
     "execution_count": 146,
     "metadata": {},
     "output_type": "execute_result"
    }
   ],
   "source": [
    "y_test"
   ]
  },
  {
   "cell_type": "code",
   "execution_count": 147,
   "metadata": {},
   "outputs": [],
   "source": [
    "import keras\n",
    "from keras.preprocessing.sequence import TimeseriesGenerator\n",
    "from keras.models import Sequential\n",
    "from keras.layers import LSTM, Dense, Activation, ThresholdedReLU, MaxPooling2D, Embedding, Dropout\n",
    "from tensorflow.keras.optimizers import Adam, SGD, RMSprop"
   ]
  },
  {
   "cell_type": "code",
   "execution_count": 148,
   "metadata": {},
   "outputs": [],
   "source": [
    "train_data_gen = TimeseriesGenerator(X_train, y_train, length=look_back, batch_size=batch_size)\n",
    "val_data_gen = TimeseriesGenerator(X_val, y_val, length=look_back, batch_size=batch_size)\n",
    "test_data_gen = TimeseriesGenerator(X_test, y_test, length=look_back, batch_size=batch_size)"
   ]
  },
  {
   "cell_type": "code",
   "execution_count": 149,
   "metadata": {},
   "outputs": [
    {
     "name": "stdout",
     "output_type": "stream",
     "text": [
      "(3, 5, 6) (3,)\n",
      "(3, 5, 6) (3,)\n",
      "(3, 5, 6) (3,)\n",
      "(3, 5, 6) (3,)\n",
      "(3, 5, 6) (3,)\n",
      "(3, 5, 6) (3,)\n",
      "(3, 5, 6) (3,)\n",
      "(3, 5, 6) (3,)\n",
      "(3, 5, 6) (3,)\n",
      "(3, 5, 6) (3,)\n",
      "(3, 5, 6) (3,)\n",
      "(1, 5, 6) (1,)\n"
     ]
    }
   ],
   "source": [
    "# check generator dimensions\n",
    "for i in range(len(train_data_gen)):\n",
    "    x, y = train_data_gen[i]\n",
    "    print(x.shape, y.shape)"
   ]
  },
  {
   "cell_type": "code",
   "execution_count": 150,
   "metadata": {},
   "outputs": [
    {
     "name": "stdout",
     "output_type": "stream",
     "text": [
      "Model: \"sequential_8\"\n",
      "_________________________________________________________________\n",
      " Layer (type)                Output Shape              Param #   \n",
      "=================================================================\n",
      " lstm_20 (LSTM)              (None, 5, 32)             4992      \n",
      "                                                                 \n",
      " dropout_13 (Dropout)        (None, 5, 32)             0         \n",
      "                                                                 \n",
      " lstm_21 (LSTM)              (None, 32)                8320      \n",
      "                                                                 \n",
      " dropout_14 (Dropout)        (None, 32)                0         \n",
      "                                                                 \n",
      " dense_4 (Dense)             (None, 1)                 33        \n",
      "                                                                 \n",
      "=================================================================\n",
      "Total params: 13,345\n",
      "Trainable params: 13,345\n",
      "Non-trainable params: 0\n",
      "_________________________________________________________________\n",
      "None\n"
     ]
    }
   ],
   "source": [
    "model_lstm = Sequential()\n",
    "model_lstm.add(LSTM(32, input_shape=(look_back, n_feat), return_sequences=True))\n",
    "model_lstm.add(Dropout(0.1))\n",
    "model_lstm.add(LSTM(32))\n",
    "model_lstm.add(Dropout(0.1))\n",
    "model_lstm.add(Dense(1))\n",
    "model_lstm.compile(optimizer=\"adam\", loss='mse', metrics=[\"mse\"])\n",
    "print(model_lstm.summary())"
   ]
  },
  {
   "cell_type": "code",
   "execution_count": 151,
   "metadata": {},
   "outputs": [
    {
     "name": "stdout",
     "output_type": "stream",
     "text": [
      "Epoch 1/20\n"
     ]
    },
    {
     "name": "stderr",
     "output_type": "stream",
     "text": [
      "C:\\Users\\moham\\AppData\\Local\\Temp/ipykernel_23816/192094070.py:1: UserWarning: `Model.fit_generator` is deprecated and will be removed in a future version. Please use `Model.fit`, which supports generators.\n",
      "  hist = model_lstm.fit_generator(train_data_gen,\n"
     ]
    },
    {
     "name": "stdout",
     "output_type": "stream",
     "text": [
      "10/10 [==============================] - 4s 86ms/step - loss: 0.7137 - mse: 0.7137 - val_loss: 0.2729 - val_mse: 0.2729\n",
      "Epoch 2/20\n",
      "10/10 [==============================] - 0s 11ms/step - loss: 0.1482 - mse: 0.1482 - val_loss: 0.0083 - val_mse: 0.0083\n",
      "Epoch 3/20\n",
      "10/10 [==============================] - 0s 10ms/step - loss: 0.0248 - mse: 0.0248 - val_loss: 0.0230 - val_mse: 0.0230\n",
      "Epoch 4/20\n",
      "10/10 [==============================] - 0s 9ms/step - loss: 0.0361 - mse: 0.0361 - val_loss: 0.0136 - val_mse: 0.0136\n",
      "Epoch 5/20\n",
      "10/10 [==============================] - 0s 10ms/step - loss: 0.0210 - mse: 0.0210 - val_loss: 2.8069e-04 - val_mse: 2.8069e-04\n",
      "Epoch 6/20\n",
      "10/10 [==============================] - 0s 10ms/step - loss: 0.0140 - mse: 0.0140 - val_loss: 0.0017 - val_mse: 0.0017\n",
      "Epoch 7/20\n",
      "10/10 [==============================] - 0s 10ms/step - loss: 0.0139 - mse: 0.0139 - val_loss: 0.0026 - val_mse: 0.0026\n",
      "Epoch 8/20\n",
      "10/10 [==============================] - 0s 10ms/step - loss: 0.0228 - mse: 0.0228 - val_loss: 4.6550e-04 - val_mse: 4.6550e-04\n",
      "Epoch 9/20\n",
      "10/10 [==============================] - 0s 10ms/step - loss: 0.0194 - mse: 0.0194 - val_loss: 2.4927e-04 - val_mse: 2.4927e-04\n",
      "Epoch 10/20\n",
      "10/10 [==============================] - 0s 10ms/step - loss: 0.0212 - mse: 0.0212 - val_loss: 7.4436e-04 - val_mse: 7.4436e-04\n",
      "Epoch 11/20\n",
      "10/10 [==============================] - 0s 10ms/step - loss: 0.0209 - mse: 0.0209 - val_loss: 3.3986e-04 - val_mse: 3.3986e-04\n",
      "Epoch 12/20\n",
      "10/10 [==============================] - 0s 10ms/step - loss: 0.0170 - mse: 0.0170 - val_loss: 6.7612e-05 - val_mse: 6.7612e-05\n",
      "Epoch 13/20\n",
      "10/10 [==============================] - 0s 10ms/step - loss: 0.0244 - mse: 0.0244 - val_loss: 7.0383e-04 - val_mse: 7.0383e-04\n",
      "Epoch 14/20\n",
      "10/10 [==============================] - 0s 10ms/step - loss: 0.0089 - mse: 0.0089 - val_loss: 1.3132e-04 - val_mse: 1.3132e-04\n",
      "Epoch 15/20\n",
      "10/10 [==============================] - 0s 10ms/step - loss: 0.0158 - mse: 0.0158 - val_loss: 1.3843e-05 - val_mse: 1.3843e-05\n",
      "Epoch 16/20\n",
      "10/10 [==============================] - 0s 10ms/step - loss: 0.0176 - mse: 0.0176 - val_loss: 0.0010 - val_mse: 0.0010\n",
      "Epoch 17/20\n",
      "10/10 [==============================] - 0s 10ms/step - loss: 0.0145 - mse: 0.0145 - val_loss: 5.1176e-07 - val_mse: 5.1176e-07\n",
      "Epoch 18/20\n",
      "10/10 [==============================] - 0s 10ms/step - loss: 0.0071 - mse: 0.0071 - val_loss: 6.5963e-05 - val_mse: 6.5963e-05\n",
      "Epoch 19/20\n",
      "10/10 [==============================] - 0s 10ms/step - loss: 0.0204 - mse: 0.0204 - val_loss: 0.0012 - val_mse: 0.0012\n",
      "Epoch 20/20\n",
      "10/10 [==============================] - 0s 10ms/step - loss: 0.0150 - mse: 0.0150 - val_loss: 6.4062e-06 - val_mse: 6.4062e-06\n"
     ]
    }
   ],
   "source": [
    "hist = model_lstm.fit_generator(train_data_gen,\n",
    "                                        steps_per_epoch=10,\n",
    "                                        epochs=20,\n",
    "                                        verbose=1,\n",
    "                                        validation_data=val_data_gen)"
   ]
  },
  {
   "cell_type": "code",
   "execution_count": 152,
   "metadata": {},
   "outputs": [
    {
     "name": "stdout",
     "output_type": "stream",
     "text": [
      "WARNING:tensorflow:5 out of the last 5 calls to <function Model.make_predict_function.<locals>.predict_function at 0x00000139DB69E430> triggered tf.function retracing. Tracing is expensive and the excessive number of tracings could be due to (1) creating @tf.function repeatedly in a loop, (2) passing tensors with different shapes, (3) passing Python objects instead of tensors. For (1), please define your @tf.function outside of the loop. For (2), @tf.function has experimental_relax_shapes=True option that relaxes argument shapes that can avoid unnecessary retracing. For (3), please refer to https://www.tensorflow.org/guide/function#controlling_retracing and https://www.tensorflow.org/api_docs/python/tf/function for  more details.\n"
     ]
    }
   ],
   "source": [
    "pred = model_lstm.predict(test_data_gen)"
   ]
  },
  {
   "cell_type": "code",
   "execution_count": 153,
   "metadata": {},
   "outputs": [
    {
     "data": {
      "text/plain": [
       "(array([[[1.00744498e+00, 9.79285002e-01, 1.00086296e+00, 2.77347000e+05,\n",
       "          9.86810982e-01, 1.41458700e-01],\n",
       "         [1.00189400e+00, 9.54016984e-01, 9.55663979e-01, 8.53500000e+05,\n",
       "          9.85116005e-01, 2.27658000e-01],\n",
       "         [1.01519299e+00, 9.74043012e-01, 9.86869991e-01, 4.57800000e+05,\n",
       "          9.74151015e-01, 1.99485454e-01],\n",
       "         [1.00856197e+00, 9.78913009e-01, 9.85114992e-01, 4.63497000e+05,\n",
       "          1.00855005e+00, 1.69029840e-01],\n",
       "         [1.01842594e+00, 9.71315980e-01, 9.74134028e-01, 3.71633000e+05,\n",
       "          1.01481199e+00, 1.31502325e-01]],\n",
       " \n",
       "        [[1.00189400e+00, 9.54016984e-01, 9.55663979e-01, 8.53500000e+05,\n",
       "          9.85116005e-01, 2.27658000e-01],\n",
       "         [1.01519299e+00, 9.74043012e-01, 9.86869991e-01, 4.57800000e+05,\n",
       "          9.74151015e-01, 1.99485454e-01],\n",
       "         [1.00856197e+00, 9.78913009e-01, 9.85114992e-01, 4.63497000e+05,\n",
       "          1.00855005e+00, 1.69029840e-01],\n",
       "         [1.01842594e+00, 9.71315980e-01, 9.74134028e-01, 3.71633000e+05,\n",
       "          1.01481199e+00, 1.31502325e-01],\n",
       "         [1.03011203e+00, 9.99375999e-01, 1.00855601e+00, 7.81560000e+05,\n",
       "          1.00295198e+00, 1.53586280e-01]],\n",
       " \n",
       "        [[1.01519299e+00, 9.74043012e-01, 9.86869991e-01, 4.57800000e+05,\n",
       "          9.74151015e-01, 1.99485454e-01],\n",
       "         [1.00856197e+00, 9.78913009e-01, 9.85114992e-01, 4.63497000e+05,\n",
       "          1.00855005e+00, 1.69029840e-01],\n",
       "         [1.01842594e+00, 9.71315980e-01, 9.74134028e-01, 3.71633000e+05,\n",
       "          1.01481199e+00, 1.31502325e-01],\n",
       "         [1.03011203e+00, 9.99375999e-01, 1.00855601e+00, 7.81560000e+05,\n",
       "          1.00295198e+00, 1.53586280e-01],\n",
       "         [1.02025104e+00, 9.94093001e-01, 1.00297499e+00, 5.65050000e+05,\n",
       "          9.99426007e-01, 1.14973180e-01]]]),\n",
       " array([1.00295198, 0.99942601, 0.98545003]))"
      ]
     },
     "execution_count": 153,
     "metadata": {},
     "output_type": "execute_result"
    }
   ],
   "source": [
    "test_data_gen[0]"
   ]
  },
  {
   "cell_type": "code",
   "execution_count": 154,
   "metadata": {},
   "outputs": [
    {
     "data": {
      "text/plain": [
       "array([[0.95312095],\n",
       "       [0.95312095],\n",
       "       [0.95312095]], dtype=float32)"
      ]
     },
     "execution_count": 154,
     "metadata": {},
     "output_type": "execute_result"
    }
   ],
   "source": [
    "pred"
   ]
  },
  {
   "cell_type": "code",
   "execution_count": 155,
   "metadata": {},
   "outputs": [],
   "source": [
    "import matplotlib.pyplot as plt"
   ]
  },
  {
   "cell_type": "code",
   "execution_count": 156,
   "metadata": {},
   "outputs": [
    {
     "data": {
      "image/png": "[encoded data removed]",
      "text/plain": [
       "<Figure size 720x288 with 1 Axes>"
      ]
     },
     "metadata": {
      "needs_background": "light"
     },
     "output_type": "display_data"
    }
   ],
   "source": [
    "# Visualising the results\n",
    "plt.figure(figsize=(10,4))\n",
    "plt.plot(y_test[0:y_test.shape[0]-5], color = 'red', label = 'Real MONAPrice')\n",
    "plt.plot(pred, color = 'blue', label = 'Predicted MONA Price')\n",
    "plt.title('MONA Price Prediction')\n",
    "plt.xlabel('Time')\n",
    "plt.ylabel('MONA Price')\n",
    "plt.ylim(0,1)\n",
    "plt.legend()\n",
    "plt.show()"
   ]
  }
 ],
 "metadata": {
  "interpreter": {
   "hash": "b2d2dc41cbfaf67ac4a91a427b68830b69dde48fe3ce74dedd3ecbeef6226b1d"
  },
  "kernelspec": {
   "display_name": "Python 3.9.7 ('base')",
   "language": "python",
   "name": "python3"
  },
  "language_info": {
   "codemirror_mode": {
    "name": "ipython",
    "version": 3
   },
   "file_extension": ".py",
   "mimetype": "text/x-python",
   "name": "python",
   "nbconvert_exporter": "python",
   "pygments_lexer": "ipython3",
   "version": "3.9.5"
  },
  "orig_nbformat": 4
 },
 "nbformat": 4,
 "nbformat_minor": 2
}
