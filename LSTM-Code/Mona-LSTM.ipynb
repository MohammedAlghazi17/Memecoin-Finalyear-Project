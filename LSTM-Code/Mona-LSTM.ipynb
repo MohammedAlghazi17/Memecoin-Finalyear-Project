{
 "cells": [
  {
   "cell_type": "code",
   "execution_count": 1,
   "metadata": {},
   "outputs": [],
   "source": [
    "import numpy as np\n",
    "from pandas import read_csv\n",
    "import pandas_datareader.data as web"
   ]
  },
  {
   "cell_type": "code",
   "execution_count": 2,
   "metadata": {},
   "outputs": [
    {
     "data": {
      "text/html": [
       "<div>\n",
       "<style scoped>\n",
       "    .dataframe tbody tr th:only-of-type {\n",
       "        vertical-align: middle;\n",
       "    }\n",
       "\n",
       "    .dataframe tbody tr th {\n",
       "        vertical-align: top;\n",
       "    }\n",
       "\n",
       "    .dataframe thead th {\n",
       "        text-align: right;\n",
       "    }\n",
       "</style>\n",
       "<table border=\"1\" class=\"dataframe\">\n",
       "  <thead>\n",
       "    <tr style=\"text-align: right;\">\n",
       "      <th></th>\n",
       "      <th>High</th>\n",
       "      <th>Low</th>\n",
       "      <th>Open</th>\n",
       "      <th>Close</th>\n",
       "      <th>Volume</th>\n",
       "      <th>Adj Close</th>\n",
       "    </tr>\n",
       "    <tr>\n",
       "      <th>Date</th>\n",
       "      <th></th>\n",
       "      <th></th>\n",
       "      <th></th>\n",
       "      <th></th>\n",
       "      <th></th>\n",
       "      <th></th>\n",
       "    </tr>\n",
       "  </thead>\n",
       "  <tbody>\n",
       "    <tr>\n",
       "      <th>2017-11-09</th>\n",
       "      <td>3.039360</td>\n",
       "      <td>2.840420</td>\n",
       "      <td>2.855220</td>\n",
       "      <td>2.967630</td>\n",
       "      <td>4630550</td>\n",
       "      <td>2.967630</td>\n",
       "    </tr>\n",
       "    <tr>\n",
       "      <th>2017-11-10</th>\n",
       "      <td>2.993850</td>\n",
       "      <td>2.606440</td>\n",
       "      <td>2.959770</td>\n",
       "      <td>2.616590</td>\n",
       "      <td>3069090</td>\n",
       "      <td>2.616590</td>\n",
       "    </tr>\n",
       "    <tr>\n",
       "      <th>2017-11-11</th>\n",
       "      <td>2.714720</td>\n",
       "      <td>2.520320</td>\n",
       "      <td>2.627440</td>\n",
       "      <td>2.597220</td>\n",
       "      <td>3258960</td>\n",
       "      <td>2.597220</td>\n",
       "    </tr>\n",
       "    <tr>\n",
       "      <th>2017-11-12</th>\n",
       "      <td>3.109670</td>\n",
       "      <td>2.173080</td>\n",
       "      <td>2.598040</td>\n",
       "      <td>2.817210</td>\n",
       "      <td>9822060</td>\n",
       "      <td>2.817210</td>\n",
       "    </tr>\n",
       "    <tr>\n",
       "      <th>2017-11-13</th>\n",
       "      <td>3.254420</td>\n",
       "      <td>2.666150</td>\n",
       "      <td>2.795100</td>\n",
       "      <td>2.895720</td>\n",
       "      <td>9818930</td>\n",
       "      <td>2.895720</td>\n",
       "    </tr>\n",
       "    <tr>\n",
       "      <th>...</th>\n",
       "      <td>...</td>\n",
       "      <td>...</td>\n",
       "      <td>...</td>\n",
       "      <td>...</td>\n",
       "      <td>...</td>\n",
       "      <td>...</td>\n",
       "    </tr>\n",
       "    <tr>\n",
       "      <th>2022-04-26</th>\n",
       "      <td>0.873849</td>\n",
       "      <td>0.848864</td>\n",
       "      <td>0.871581</td>\n",
       "      <td>0.854787</td>\n",
       "      <td>343544</td>\n",
       "      <td>0.854787</td>\n",
       "    </tr>\n",
       "    <tr>\n",
       "      <th>2022-04-27</th>\n",
       "      <td>0.874509</td>\n",
       "      <td>0.846216</td>\n",
       "      <td>0.854779</td>\n",
       "      <td>0.853320</td>\n",
       "      <td>290011</td>\n",
       "      <td>0.853320</td>\n",
       "    </tr>\n",
       "    <tr>\n",
       "      <th>2022-04-28</th>\n",
       "      <td>0.861507</td>\n",
       "      <td>0.836389</td>\n",
       "      <td>0.852525</td>\n",
       "      <td>0.843836</td>\n",
       "      <td>211458</td>\n",
       "      <td>0.843836</td>\n",
       "    </tr>\n",
       "    <tr>\n",
       "      <th>2022-04-29</th>\n",
       "      <td>0.851174</td>\n",
       "      <td>0.818889</td>\n",
       "      <td>0.843720</td>\n",
       "      <td>0.824758</td>\n",
       "      <td>153179</td>\n",
       "      <td>0.824758</td>\n",
       "    </tr>\n",
       "    <tr>\n",
       "      <th>2022-04-30</th>\n",
       "      <td>0.833132</td>\n",
       "      <td>0.822332</td>\n",
       "      <td>0.825314</td>\n",
       "      <td>0.822486</td>\n",
       "      <td>121661</td>\n",
       "      <td>0.822486</td>\n",
       "    </tr>\n",
       "  </tbody>\n",
       "</table>\n",
       "<p>1634 rows × 6 columns</p>\n",
       "</div>"
      ],
      "text/plain": [
       "                High       Low      Open     Close   Volume  Adj Close\n",
       "Date                                                                  \n",
       "2017-11-09  3.039360  2.840420  2.855220  2.967630  4630550   2.967630\n",
       "2017-11-10  2.993850  2.606440  2.959770  2.616590  3069090   2.616590\n",
       "2017-11-11  2.714720  2.520320  2.627440  2.597220  3258960   2.597220\n",
       "2017-11-12  3.109670  2.173080  2.598040  2.817210  9822060   2.817210\n",
       "2017-11-13  3.254420  2.666150  2.795100  2.895720  9818930   2.895720\n",
       "...              ...       ...       ...       ...      ...        ...\n",
       "2022-04-26  0.873849  0.848864  0.871581  0.854787   343544   0.854787\n",
       "2022-04-27  0.874509  0.846216  0.854779  0.853320   290011   0.853320\n",
       "2022-04-28  0.861507  0.836389  0.852525  0.843836   211458   0.843836\n",
       "2022-04-29  0.851174  0.818889  0.843720  0.824758   153179   0.824758\n",
       "2022-04-30  0.833132  0.822332  0.825314  0.822486   121661   0.822486\n",
       "\n",
       "[1634 rows x 6 columns]"
      ]
     },
     "execution_count": 2,
     "metadata": {},
     "output_type": "execute_result"
    }
   ],
   "source": [
    "doge = web.DataReader('MONA-USD', 'yahoo')\n",
    "doge"
   ]
  },
  {
   "cell_type": "code",
   "execution_count": null,
   "metadata": {},
   "outputs": [],
   "source": []
  },
  {
   "cell_type": "code",
   "execution_count": 3,
   "metadata": {},
   "outputs": [
    {
     "name": "stdout",
     "output_type": "stream",
     "text": [
      "        High       Low      Open     Close   Volume  Adj Close  Polarity Score\n",
      "0   1.241455  1.182781  1.236694  1.184539  1251855   1.184539        0.095867\n",
      "1   1.054188  1.000561  1.016678  1.008785   467346   1.008785        0.146020\n",
      "2   1.022445  0.989817  1.014940  0.996675   304333   0.996675        0.138143\n",
      "3   0.978820  0.965322  0.970673  0.972663   205397   0.972663        0.146417\n",
      "4   1.197341  1.177413  1.184803  1.184319   696471   1.184319        0.071015\n",
      "..       ...       ...       ...       ...      ...        ...             ...\n",
      "56  1.020251  0.994093  1.002975  0.999426   565050   0.999426        0.114973\n",
      "57  0.851174  0.818889  0.843720  0.824758   153179   0.824758        0.131016\n",
      "58  1.002289  0.977300  0.999467  0.985450   564840   0.985450        0.107061\n",
      "59  0.833132  0.822332  0.825314  0.823038   121162   0.823038        0.141040\n",
      "60  1.010521  0.969276  0.985485  0.979062   585842   0.979062        0.083907\n",
      "\n",
      "[61 rows x 7 columns]\n"
     ]
    }
   ],
   "source": [
    "#lstm_data = np.genfromtxt('./sample_data/lstm.csv', delimiter=',', skip_header=True)\n",
    "lstm_data = read_csv('lstmmona.csv')\n",
    "lstm_data = lstm_data.drop(['Date'], axis=1)\n",
    "print(lstm_data)"
   ]
  },
  {
   "cell_type": "code",
   "execution_count": 4,
   "metadata": {},
   "outputs": [],
   "source": [
    "lstm_data_X = lstm_data.drop(['Close'], axis=1)\n",
    "lstm_data_y = lstm_data['Close']"
   ]
  },
  {
   "cell_type": "code",
   "execution_count": 5,
   "metadata": {},
   "outputs": [],
   "source": [
    "look_back = 5 # how many days to look back\n",
    "batch_size = 3 # size of batches used when training\n",
    "n_feat = 6 # number of features \n",
    "n_target = 2\n",
    "n_validation = 6\n",
    "n_test = 8\n",
    "n_train = lstm_data_X.shape[0] - n_validation - n_test - 1\n"
   ]
  },
  {
   "cell_type": "code",
   "execution_count": 6,
   "metadata": {},
   "outputs": [
    {
     "data": {
      "text/plain": [
       "46"
      ]
     },
     "execution_count": 6,
     "metadata": {},
     "output_type": "execute_result"
    }
   ],
   "source": [
    "n_train"
   ]
  },
  {
   "cell_type": "code",
   "execution_count": 7,
   "metadata": {},
   "outputs": [],
   "source": [
    "#lstm_data_X_train = lstm_data_X.iloc[:30,:]\n",
    "#lstm_data_X_val = lstm_data_X.iloc[30:40,:]\n",
    "#lstm_data_X_test = lstm_data_X.iloc[40:52,:]\n",
    "\n",
    "#lstm_data_y_train = lstm_data_y.iloc[:30]\n",
    "#lstm_data_y_val = lstm_data_y.iloc[30:40]\n",
    "#lstm_data_y_test = lstm_data_y.iloc[40:52]\n",
    "# Convert to numpy arrays\n",
    "#X_train = lstm_data_X_train.to_numpy()\n",
    "#X_val = lstm_data_X_val.to_numpy()\n",
    "#X_test = lstm_data_X_test.to_numpy()\n",
    "#y_train = lstm_data_y_train.to_numpy()\n",
    "#y_val = lstm_data_y_val.to_numpy()\n",
    "#y_test = lstm_data_y_test.to_numpy()"
   ]
  },
  {
   "cell_type": "code",
   "execution_count": 8,
   "metadata": {},
   "outputs": [],
   "source": [
    "lstm_data_X_train = lstm_data_X.iloc[:n_train,:]\n",
    "lstm_data_X_val = lstm_data_X.iloc[n_train:n_train + n_validation,:]\n",
    "lstm_data_X_test = lstm_data_X.iloc[n_train + n_validation:n_train + n_validation + n_test,:]\n",
    "\n",
    "lstm_data_y_train = lstm_data_y.iloc[:n_train]\n",
    "lstm_data_y_val = lstm_data_y.iloc[n_train:n_train + n_validation]\n",
    "lstm_data_y_test = lstm_data_y.iloc[n_train + n_validation:n_train + n_validation + n_test]\n",
    "# Convert to numpy arrays\n",
    "X_train = lstm_data_X_train.to_numpy()\n",
    "X_val = lstm_data_X_val.to_numpy()\n",
    "X_test = lstm_data_X_test.to_numpy()\n",
    "y_train = lstm_data_y_train.to_numpy()\n",
    "y_val = lstm_data_y_val.to_numpy()\n",
    "y_test = lstm_data_y_test.to_numpy()"
   ]
  },
  {
   "cell_type": "code",
   "execution_count": 9,
   "metadata": {},
   "outputs": [
    {
     "data": {
      "text/plain": [
       "array([[8.74508977e-01, 8.46216023e-01, 8.54779005e-01, 2.90011000e+05,\n",
       "        8.53320003e-01, 1.48283467e-01],\n",
       "       [1.01842594e+00, 9.71315980e-01, 9.74134028e-01, 3.71633000e+05,\n",
       "        1.01481199e+00, 1.31502325e-01],\n",
       "       [1.03011203e+00, 9.99375999e-01, 1.00855601e+00, 7.81560000e+05,\n",
       "        1.00295198e+00, 1.53586280e-01],\n",
       "       [8.61506999e-01, 8.36389005e-01, 8.52524996e-01, 2.11458000e+05,\n",
       "        8.43836010e-01, 1.28670540e-01],\n",
       "       [1.02025104e+00, 9.94093001e-01, 1.00297499e+00, 5.65050000e+05,\n",
       "        9.99426007e-01, 1.14973180e-01],\n",
       "       [8.51173997e-01, 8.18889022e-01, 8.43720019e-01, 1.53179000e+05,\n",
       "        8.24757993e-01, 1.31015680e-01],\n",
       "       [1.00228906e+00, 9.77299988e-01, 9.99467015e-01, 5.64840000e+05,\n",
       "        9.85450029e-01, 1.07060620e-01],\n",
       "       [8.33132386e-01, 8.22332144e-01, 8.25314403e-01, 1.21162000e+05,\n",
       "        8.23037803e-01, 1.41039940e-01]])"
      ]
     },
     "execution_count": 9,
     "metadata": {},
     "output_type": "execute_result"
    }
   ],
   "source": [
    "X_test"
   ]
  },
  {
   "cell_type": "code",
   "execution_count": 10,
   "metadata": {},
   "outputs": [
    {
     "data": {
      "text/plain": [
       "array([0.85332   , 1.01481199, 1.00295198, 0.84383601, 0.99942601,\n",
       "       0.82475799, 0.98545003, 0.8230378 ])"
      ]
     },
     "execution_count": 10,
     "metadata": {},
     "output_type": "execute_result"
    }
   ],
   "source": [
    "y_test"
   ]
  },
  {
   "cell_type": "code",
   "execution_count": 11,
   "metadata": {},
   "outputs": [],
   "source": [
    "import keras\n",
    "from keras.preprocessing.sequence import TimeseriesGenerator\n",
    "from keras.models import Sequential\n",
    "from keras.layers import LSTM, Dense, Activation, ThresholdedReLU, MaxPooling2D, Embedding, Dropout\n",
    "from tensorflow.keras.optimizers import Adam, SGD, RMSprop"
   ]
  },
  {
   "cell_type": "code",
   "execution_count": 12,
   "metadata": {},
   "outputs": [],
   "source": [
    "train_data_gen = TimeseriesGenerator(X_train, y_train, length=look_back, batch_size=batch_size)\n",
    "val_data_gen = TimeseriesGenerator(X_val, y_val, length=look_back, batch_size=batch_size)\n",
    "test_data_gen = TimeseriesGenerator(X_test, y_test, length=look_back, batch_size=batch_size)"
   ]
  },
  {
   "cell_type": "code",
   "execution_count": 13,
   "metadata": {},
   "outputs": [
    {
     "name": "stdout",
     "output_type": "stream",
     "text": [
      "(3, 5, 6) (3,)\n",
      "(3, 5, 6) (3,)\n",
      "(3, 5, 6) (3,)\n",
      "(3, 5, 6) (3,)\n",
      "(3, 5, 6) (3,)\n",
      "(3, 5, 6) (3,)\n",
      "(3, 5, 6) (3,)\n",
      "(3, 5, 6) (3,)\n",
      "(3, 5, 6) (3,)\n",
      "(3, 5, 6) (3,)\n",
      "(3, 5, 6) (3,)\n",
      "(3, 5, 6) (3,)\n",
      "(3, 5, 6) (3,)\n",
      "(2, 5, 6) (2,)\n"
     ]
    }
   ],
   "source": [
    "# check generator dimensions\n",
    "for i in range(len(train_data_gen)):\n",
    "    x, y = train_data_gen[i]\n",
    "    print(x.shape, y.shape)"
   ]
  },
  {
   "cell_type": "code",
   "execution_count": 14,
   "metadata": {},
   "outputs": [
    {
     "name": "stdout",
     "output_type": "stream",
     "text": [
      "Model: \"sequential\"\n",
      "_________________________________________________________________\n",
      " Layer (type)                Output Shape              Param #   \n",
      "=================================================================\n",
      " lstm (LSTM)                 (None, 5, 32)             4992      \n",
      "                                                                 \n",
      " dropout (Dropout)           (None, 5, 32)             0         \n",
      "                                                                 \n",
      " lstm_1 (LSTM)               (None, 32)                8320      \n",
      "                                                                 \n",
      " dropout_1 (Dropout)         (None, 32)                0         \n",
      "                                                                 \n",
      " dense (Dense)               (None, 1)                 33        \n",
      "                                                                 \n",
      "=================================================================\n",
      "Total params: 13,345\n",
      "Trainable params: 13,345\n",
      "Non-trainable params: 0\n",
      "_________________________________________________________________\n",
      "None\n"
     ]
    }
   ],
   "source": [
    "model_lstm = Sequential()\n",
    "model_lstm.add(LSTM(32, input_shape=(look_back, n_feat), return_sequences=True))\n",
    "model_lstm.add(Dropout(0.1))\n",
    "model_lstm.add(LSTM(32))\n",
    "model_lstm.add(Dropout(0.1))\n",
    "model_lstm.add(Dense(1))\n",
    "model_lstm.compile(optimizer=\"adam\", loss='mse', metrics=[\"mse\"])\n",
    "print(model_lstm.summary())"
   ]
  },
  {
   "cell_type": "code",
   "execution_count": 15,
   "metadata": {},
   "outputs": [
    {
     "name": "stdout",
     "output_type": "stream",
     "text": [
      "Epoch 1/20\n"
     ]
    },
    {
     "name": "stderr",
     "output_type": "stream",
     "text": [
      "C:\\Users\\moham\\AppData\\Local\\Temp/ipykernel_13052/192094070.py:1: UserWarning: `Model.fit_generator` is deprecated and will be removed in a future version. Please use `Model.fit`, which supports generators.\n",
      "  hist = model_lstm.fit_generator(train_data_gen,\n"
     ]
    },
    {
     "name": "stdout",
     "output_type": "stream",
     "text": [
      "10/10 [==============================] - 4s 110ms/step - loss: 0.7386 - mse: 0.7386 - val_loss: 0.1937 - val_mse: 0.1937\n",
      "Epoch 2/20\n",
      "10/10 [==============================] - 0s 12ms/step - loss: 0.0574 - mse: 0.0574 - val_loss: 0.0187 - val_mse: 0.0187\n",
      "Epoch 3/20\n",
      "10/10 [==============================] - 0s 11ms/step - loss: 0.0565 - mse: 0.0565 - val_loss: 0.0064 - val_mse: 0.0064\n",
      "Epoch 4/20\n",
      "10/10 [==============================] - 0s 10ms/step - loss: 0.0356 - mse: 0.0356 - val_loss: 0.0071 - val_mse: 0.0071\n",
      "Epoch 5/20\n",
      "10/10 [==============================] - 0s 10ms/step - loss: 0.0190 - mse: 0.0190 - val_loss: 0.0083 - val_mse: 0.0083\n",
      "Epoch 6/20\n",
      "10/10 [==============================] - 0s 11ms/step - loss: 0.0179 - mse: 0.0179 - val_loss: 0.0018 - val_mse: 0.0018\n",
      "Epoch 7/20\n",
      "10/10 [==============================] - 0s 13ms/step - loss: 0.0140 - mse: 0.0140 - val_loss: 0.0026 - val_mse: 0.0026\n",
      "Epoch 8/20\n",
      "10/10 [==============================] - 0s 11ms/step - loss: 0.0133 - mse: 0.0133 - val_loss: 0.0062 - val_mse: 0.0062\n",
      "Epoch 9/20\n",
      "10/10 [==============================] - 0s 11ms/step - loss: 0.0173 - mse: 0.0173 - val_loss: 0.0028 - val_mse: 0.0028\n",
      "Epoch 10/20\n",
      "10/10 [==============================] - 0s 11ms/step - loss: 0.0078 - mse: 0.0078 - val_loss: 7.8030e-04 - val_mse: 7.8030e-04\n",
      "Epoch 11/20\n",
      "10/10 [==============================] - 0s 11ms/step - loss: 0.0107 - mse: 0.0107 - val_loss: 0.0041 - val_mse: 0.0041\n",
      "Epoch 12/20\n",
      "10/10 [==============================] - 0s 11ms/step - loss: 0.0166 - mse: 0.0166 - val_loss: 0.0040 - val_mse: 0.0040\n",
      "Epoch 13/20\n",
      "10/10 [==============================] - 0s 11ms/step - loss: 0.0189 - mse: 0.0189 - val_loss: 2.2002e-05 - val_mse: 2.2002e-05\n",
      "Epoch 14/20\n",
      "10/10 [==============================] - 0s 11ms/step - loss: 0.0199 - mse: 0.0199 - val_loss: 8.4880e-04 - val_mse: 8.4880e-04\n",
      "Epoch 15/20\n",
      "10/10 [==============================] - 0s 12ms/step - loss: 0.0119 - mse: 0.0119 - val_loss: 3.7244e-04 - val_mse: 3.7244e-04\n",
      "Epoch 16/20\n",
      "10/10 [==============================] - 0s 11ms/step - loss: 0.0156 - mse: 0.0156 - val_loss: 1.4113e-04 - val_mse: 1.4113e-04\n",
      "Epoch 17/20\n",
      "10/10 [==============================] - 0s 10ms/step - loss: 0.0158 - mse: 0.0158 - val_loss: 0.0015 - val_mse: 0.0015\n",
      "Epoch 18/20\n",
      "10/10 [==============================] - 0s 10ms/step - loss: 0.0160 - mse: 0.0160 - val_loss: 0.0013 - val_mse: 0.0013\n",
      "Epoch 19/20\n",
      "10/10 [==============================] - 0s 11ms/step - loss: 0.0214 - mse: 0.0214 - val_loss: 1.3713e-04 - val_mse: 1.3713e-04\n",
      "Epoch 20/20\n",
      "10/10 [==============================] - 0s 10ms/step - loss: 0.0128 - mse: 0.0128 - val_loss: 0.0022 - val_mse: 0.0022\n"
     ]
    }
   ],
   "source": [
    "hist = model_lstm.fit_generator(train_data_gen,\n",
    "                                        steps_per_epoch=10,\n",
    "                                        epochs=20,\n",
    "                                        verbose=1,\n",
    "                                        validation_data=val_data_gen)"
   ]
  },
  {
   "cell_type": "code",
   "execution_count": 16,
   "metadata": {},
   "outputs": [],
   "source": [
    "pred = model_lstm.predict(test_data_gen)"
   ]
  },
  {
   "cell_type": "code",
   "execution_count": 17,
   "metadata": {},
   "outputs": [
    {
     "data": {
      "text/plain": [
       "(array([[[8.74508977e-01, 8.46216023e-01, 8.54779005e-01, 2.90011000e+05,\n",
       "          8.53320003e-01, 1.48283467e-01],\n",
       "         [1.01842594e+00, 9.71315980e-01, 9.74134028e-01, 3.71633000e+05,\n",
       "          1.01481199e+00, 1.31502325e-01],\n",
       "         [1.03011203e+00, 9.99375999e-01, 1.00855601e+00, 7.81560000e+05,\n",
       "          1.00295198e+00, 1.53586280e-01],\n",
       "         [8.61506999e-01, 8.36389005e-01, 8.52524996e-01, 2.11458000e+05,\n",
       "          8.43836010e-01, 1.28670540e-01],\n",
       "         [1.02025104e+00, 9.94093001e-01, 1.00297499e+00, 5.65050000e+05,\n",
       "          9.99426007e-01, 1.14973180e-01]],\n",
       " \n",
       "        [[1.01842594e+00, 9.71315980e-01, 9.74134028e-01, 3.71633000e+05,\n",
       "          1.01481199e+00, 1.31502325e-01],\n",
       "         [1.03011203e+00, 9.99375999e-01, 1.00855601e+00, 7.81560000e+05,\n",
       "          1.00295198e+00, 1.53586280e-01],\n",
       "         [8.61506999e-01, 8.36389005e-01, 8.52524996e-01, 2.11458000e+05,\n",
       "          8.43836010e-01, 1.28670540e-01],\n",
       "         [1.02025104e+00, 9.94093001e-01, 1.00297499e+00, 5.65050000e+05,\n",
       "          9.99426007e-01, 1.14973180e-01],\n",
       "         [8.51173997e-01, 8.18889022e-01, 8.43720019e-01, 1.53179000e+05,\n",
       "          8.24757993e-01, 1.31015680e-01]],\n",
       " \n",
       "        [[1.03011203e+00, 9.99375999e-01, 1.00855601e+00, 7.81560000e+05,\n",
       "          1.00295198e+00, 1.53586280e-01],\n",
       "         [8.61506999e-01, 8.36389005e-01, 8.52524996e-01, 2.11458000e+05,\n",
       "          8.43836010e-01, 1.28670540e-01],\n",
       "         [1.02025104e+00, 9.94093001e-01, 1.00297499e+00, 5.65050000e+05,\n",
       "          9.99426007e-01, 1.14973180e-01],\n",
       "         [8.51173997e-01, 8.18889022e-01, 8.43720019e-01, 1.53179000e+05,\n",
       "          8.24757993e-01, 1.31015680e-01],\n",
       "         [1.00228906e+00, 9.77299988e-01, 9.99467015e-01, 5.64840000e+05,\n",
       "          9.85450029e-01, 1.07060620e-01]]]),\n",
       " array([0.82475799, 0.98545003, 0.8230378 ]))"
      ]
     },
     "execution_count": 17,
     "metadata": {},
     "output_type": "execute_result"
    }
   ],
   "source": [
    "test_data_gen[0]"
   ]
  },
  {
   "cell_type": "code",
   "execution_count": 18,
   "metadata": {},
   "outputs": [
    {
     "data": {
      "text/plain": [
       "array([[0.9616529],\n",
       "       [0.9616529],\n",
       "       [0.9616529]], dtype=float32)"
      ]
     },
     "execution_count": 18,
     "metadata": {},
     "output_type": "execute_result"
    }
   ],
   "source": [
    "pred"
   ]
  },
  {
   "cell_type": "code",
   "execution_count": 19,
   "metadata": {},
   "outputs": [],
   "source": [
    "import matplotlib.pyplot as plt"
   ]
  },
  {
   "cell_type": "code",
   "execution_count": 20,
   "metadata": {},
   "outputs": [
    {
     "data": {
      "image/png": "[encoded data removed]",
      "text/plain": [
       "<Figure size 720x288 with 1 Axes>"
      ]
     },
     "metadata": {
      "needs_background": "light"
     },
     "output_type": "display_data"
    }
   ],
   "source": [
    "# Visualising the results\n",
    "plt.figure(figsize=(10,4))\n",
    "plt.plot(y_test[0:y_test.shape[0]-5], color = 'red', label = 'Real MONAPrice')\n",
    "plt.plot(pred, color = 'blue', label = 'Predicted MONA Price')\n",
    "plt.title('MONA Price Prediction')\n",
    "plt.xlabel('Time')\n",
    "plt.ylabel('MONA Price')\n",
    "plt.ylim(0,1)\n",
    "plt.legend()\n",
    "plt.show()"
   ]
  }
 ],
 "metadata": {
  "interpreter": {
   "hash": "b2d2dc41cbfaf67ac4a91a427b68830b69dde48fe3ce74dedd3ecbeef6226b1d"
  },
  "kernelspec": {
   "display_name": "Python 3.9.7 ('base')",
   "language": "python",
   "name": "python3"
  },
  "language_info": {
   "codemirror_mode": {
    "name": "ipython",
    "version": 3
   },
   "file_extension": ".py",
   "mimetype": "text/x-python",
   "name": "python",
   "nbconvert_exporter": "python",
   "pygments_lexer": "ipython3",
   "version": "3.9.5"
  },
  "orig_nbformat": 4
 },
 "nbformat": 4,
 "nbformat_minor": 2
}
