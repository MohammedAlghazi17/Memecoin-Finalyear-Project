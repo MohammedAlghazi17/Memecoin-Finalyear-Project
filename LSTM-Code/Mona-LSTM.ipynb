{
 "cells": [
  {
   "cell_type": "code",
   "execution_count": 1,
   "metadata": {},
   "outputs": [],
   "source": [
    "import numpy as np\n",
    "from pandas import read_csv\n",
    "import pandas_datareader.data as web\n",
    "import matplotlib.pyplot as plt\n"
   ]
  },
  {
   "cell_type": "code",
   "execution_count": 2,
   "metadata": {},
   "outputs": [
    {
     "name": "stdout",
     "output_type": "stream",
     "text": [
      "        High       Low      Open     Close   Volume  Adj Close  Polarity Score\n",
      "0   1.241455  1.182781  1.236694  1.184539  1251855   1.184539        0.095867\n",
      "1   1.054188  1.000561  1.016678  1.008785   467346   1.008785        0.146020\n",
      "2   1.022445  0.989817  1.014940  0.996675   304333   0.996675        0.138143\n",
      "3   0.978820  0.965322  0.970673  0.972663   205397   0.972663        0.146417\n",
      "4   0.815332  0.799816  0.809788  0.803426   128781   0.803426        0.134860\n",
      "..       ...       ...       ...       ...      ...        ...             ...\n",
      "63  1.020251  0.994093  1.002975  0.999426   565050   0.999426        0.114973\n",
      "64  0.851174  0.818889  0.843720  0.824758   153179   0.824758        0.131016\n",
      "65  1.002289  0.977300  0.999467  0.985450   564840   0.985450        0.107061\n",
      "66  0.833132  0.803969  0.825560  0.804979   208142   0.804979        0.141040\n",
      "67  1.010521  0.969276  0.985485  0.979062   585842   0.979062        0.083907\n",
      "\n",
      "[68 rows x 7 columns]\n"
     ]
    }
   ],
   "source": [
    "lstm_data = read_csv('lstmona.csv')\n",
    "lstm_data = lstm_data.drop(['Date'], axis=1)\n",
    "print(lstm_data)"
   ]
  },
  {
   "cell_type": "code",
   "execution_count": 3,
   "metadata": {},
   "outputs": [],
   "source": [
    "lstm_data_X = lstm_data.drop(['Close'], axis=1)\n",
    "lstm_data_y = lstm_data['Close']"
   ]
  },
  {
   "cell_type": "code",
   "execution_count": 4,
   "metadata": {},
   "outputs": [],
   "source": [
    "look_back = 5 # how many days to look back\n",
    "batch_size = 3 # size of batches used when training\n",
    "n_feat = 6 # number of features \n",
    "n_target = 2\n",
    "n_validation = 6\n",
    "n_test = 8\n",
    "n_train = lstm_data_X.shape[0] - n_validation - n_test - 1\n"
   ]
  },
  {
   "cell_type": "code",
   "execution_count": 5,
   "metadata": {},
   "outputs": [
    {
     "data": {
      "text/plain": [
       "53"
      ]
     },
     "execution_count": 5,
     "metadata": {},
     "output_type": "execute_result"
    }
   ],
   "source": [
    "n_train"
   ]
  },
  {
   "cell_type": "code",
   "execution_count": 6,
   "metadata": {},
   "outputs": [],
   "source": [
    "#lstm_data_X_train = lstm_data_X.iloc[:30,:]\n",
    "#lstm_data_X_val = lstm_data_X.iloc[30:40,:]\n",
    "#lstm_data_X_test = lstm_data_X.iloc[40:52,:]\n",
    "\n",
    "#lstm_data_y_train = lstm_data_y.iloc[:30]\n",
    "#lstm_data_y_val = lstm_data_y.iloc[30:40]\n",
    "#lstm_data_y_test = lstm_data_y.iloc[40:52]\n",
    "# Convert to numpy arrays\n",
    "#X_train = lstm_data_X_train.to_numpy()\n",
    "#X_val = lstm_data_X_val.to_numpy()\n",
    "#X_test = lstm_data_X_test.to_numpy()\n",
    "#y_train = lstm_data_y_train.to_numpy()\n",
    "#y_val = lstm_data_y_val.to_numpy()\n",
    "#y_test = lstm_data_y_test.to_numpy()"
   ]
  },
  {
   "cell_type": "code",
   "execution_count": 7,
   "metadata": {},
   "outputs": [],
   "source": [
    "lstm_data_X_train = lstm_data_X.iloc[:n_train,:]\n",
    "lstm_data_X_val = lstm_data_X.iloc[n_train:n_train + n_validation,:]\n",
    "lstm_data_X_test = lstm_data_X.iloc[n_train + n_validation:n_train + n_validation + n_test,:]\n",
    "\n",
    "lstm_data_y_train = lstm_data_y.iloc[:n_train]\n",
    "lstm_data_y_val = lstm_data_y.iloc[n_train:n_train + n_validation]\n",
    "lstm_data_y_test = lstm_data_y.iloc[n_train + n_validation:n_train + n_validation + n_test]\n",
    "# Convert to numpy arrays\n",
    "X_train = lstm_data_X_train.to_numpy()\n",
    "X_val = lstm_data_X_val.to_numpy()\n",
    "X_test = lstm_data_X_test.to_numpy()\n",
    "y_train = lstm_data_y_train.to_numpy()\n",
    "y_val = lstm_data_y_val.to_numpy()\n",
    "y_test = lstm_data_y_test.to_numpy()"
   ]
  },
  {
   "cell_type": "code",
   "execution_count": 8,
   "metadata": {},
   "outputs": [
    {
     "data": {
      "text/plain": [
       "array([[8.74508977e-01, 8.46216023e-01, 8.54779005e-01, 2.90011000e+05,\n",
       "        8.53320003e-01, 1.48283467e-01],\n",
       "       [1.01842594e+00, 9.71315980e-01, 9.74134028e-01, 3.71633000e+05,\n",
       "        1.01481199e+00, 1.31502325e-01],\n",
       "       [1.03011203e+00, 9.99375999e-01, 1.00855601e+00, 7.81560000e+05,\n",
       "        1.00295198e+00, 1.53586280e-01],\n",
       "       [8.61506999e-01, 8.36389005e-01, 8.52524996e-01, 2.11458000e+05,\n",
       "        8.43836010e-01, 1.28670540e-01],\n",
       "       [1.02025104e+00, 9.94093001e-01, 1.00297499e+00, 5.65050000e+05,\n",
       "        9.99426007e-01, 1.14973180e-01],\n",
       "       [8.51173997e-01, 8.18889022e-01, 8.43720019e-01, 1.53179000e+05,\n",
       "        8.24757993e-01, 1.31015680e-01],\n",
       "       [1.00228906e+00, 9.77299988e-01, 9.99467015e-01, 5.64840000e+05,\n",
       "        9.85450029e-01, 1.07060620e-01],\n",
       "       [8.33132029e-01, 8.03969026e-01, 8.25559974e-01, 2.08142000e+05,\n",
       "        8.04979026e-01, 1.41039940e-01]])"
      ]
     },
     "execution_count": 8,
     "metadata": {},
     "output_type": "execute_result"
    }
   ],
   "source": [
    "X_test"
   ]
  },
  {
   "cell_type": "code",
   "execution_count": 9,
   "metadata": {},
   "outputs": [
    {
     "data": {
      "text/plain": [
       "array([0.85332   , 1.01481199, 1.00295198, 0.84383601, 0.99942601,\n",
       "       0.82475799, 0.98545003, 0.80497903])"
      ]
     },
     "execution_count": 9,
     "metadata": {},
     "output_type": "execute_result"
    }
   ],
   "source": [
    "y_test"
   ]
  },
  {
   "cell_type": "code",
   "execution_count": 10,
   "metadata": {},
   "outputs": [],
   "source": [
    "import keras\n",
    "from keras.preprocessing.sequence import TimeseriesGenerator\n",
    "from keras.models import Sequential\n",
    "from keras.layers import LSTM, Dense, Activation, ThresholdedReLU, MaxPooling2D, Embedding, Dropout\n",
    "from tensorflow.keras.optimizers import Adam, SGD, RMSprop\n",
    "# Load the TensorBoard notebook extension.\n",
    "%load_ext tensorboard\n",
    "from datetime import datetime\n"
   ]
  },
  {
   "cell_type": "code",
   "execution_count": 11,
   "metadata": {},
   "outputs": [],
   "source": [
    "train_data_gen = TimeseriesGenerator(X_train, y_train, length=look_back, batch_size=batch_size)\n",
    "val_data_gen = TimeseriesGenerator(X_val, y_val, length=look_back, batch_size=batch_size)\n",
    "test_data_gen = TimeseriesGenerator(X_test, y_test, length=look_back, batch_size=batch_size)"
   ]
  },
  {
   "cell_type": "code",
   "execution_count": 12,
   "metadata": {},
   "outputs": [
    {
     "name": "stdout",
     "output_type": "stream",
     "text": [
      "(3, 5, 6) (3,)\n",
      "(3, 5, 6) (3,)\n",
      "(3, 5, 6) (3,)\n",
      "(3, 5, 6) (3,)\n",
      "(3, 5, 6) (3,)\n",
      "(3, 5, 6) (3,)\n",
      "(3, 5, 6) (3,)\n",
      "(3, 5, 6) (3,)\n",
      "(3, 5, 6) (3,)\n",
      "(3, 5, 6) (3,)\n",
      "(3, 5, 6) (3,)\n",
      "(3, 5, 6) (3,)\n",
      "(3, 5, 6) (3,)\n",
      "(3, 5, 6) (3,)\n",
      "(3, 5, 6) (3,)\n",
      "(3, 5, 6) (3,)\n"
     ]
    }
   ],
   "source": [
    "# check generator dimensions\n",
    "for i in range(len(train_data_gen)):\n",
    "    x, y = train_data_gen[i]\n",
    "    print(x.shape, y.shape)"
   ]
  },
  {
   "cell_type": "code",
   "execution_count": 13,
   "metadata": {},
   "outputs": [
    {
     "name": "stdout",
     "output_type": "stream",
     "text": [
      "Model: \"sequential\"\n",
      "_________________________________________________________________\n",
      " Layer (type)                Output Shape              Param #   \n",
      "=================================================================\n",
      " lstm (LSTM)                 (None, 5, 32)             4992      \n",
      "                                                                 \n",
      " dropout (Dropout)           (None, 5, 32)             0         \n",
      "                                                                 \n",
      " lstm_1 (LSTM)               (None, 32)                8320      \n",
      "                                                                 \n",
      " dropout_1 (Dropout)         (None, 32)                0         \n",
      "                                                                 \n",
      " dense (Dense)               (None, 1)                 33        \n",
      "                                                                 \n",
      "=================================================================\n",
      "Total params: 13,345\n",
      "Trainable params: 13,345\n",
      "Non-trainable params: 0\n",
      "_________________________________________________________________\n",
      "None\n"
     ]
    }
   ],
   "source": [
    "model_lstm = Sequential()\n",
    "model_lstm.add(LSTM(32, input_shape=(look_back, n_feat), return_sequences=True))\n",
    "model_lstm.add(Dropout(0.1))\n",
    "model_lstm.add(LSTM(32))\n",
    "model_lstm.add(Dropout(0.1))\n",
    "model_lstm.add(Dense(1))\n",
    "model_lstm.compile(optimizer=\"adam\", loss='mse', metrics=[\"mse\"])\n",
    "print(model_lstm.summary())"
   ]
  },
  {
   "cell_type": "code",
   "execution_count": 14,
   "metadata": {},
   "outputs": [
    {
     "name": "stderr",
     "output_type": "stream",
     "text": [
      "C:\\Users\\moham\\AppData\\Local\\Temp/ipykernel_784/531576743.py:4: UserWarning: `Model.fit_generator` is deprecated and will be removed in a future version. Please use `Model.fit`, which supports generators.\n",
      "  hist = model_lstm.fit_generator(train_data_gen,\n"
     ]
    },
    {
     "name": "stdout",
     "output_type": "stream",
     "text": [
      "Epoch 1/30\n",
      "10/10 [==============================] - 6s 226ms/step - loss: 1.0279 - mse: 1.0279 - val_loss: 0.4607 - val_mse: 0.4607\n",
      "Epoch 2/30\n",
      "10/10 [==============================] - 1s 84ms/step - loss: 0.1375 - mse: 0.1375 - val_loss: 1.1303e-04 - val_mse: 1.1303e-04\n",
      "Epoch 3/30\n",
      "10/10 [==============================] - 0s 41ms/step - loss: 0.0602 - mse: 0.0602 - val_loss: 0.0326 - val_mse: 0.0326\n",
      "Epoch 4/30\n",
      "10/10 [==============================] - 0s 12ms/step - loss: 0.0433 - mse: 0.0433 - val_loss: 0.0011 - val_mse: 0.0011\n",
      "Epoch 5/30\n",
      "10/10 [==============================] - 0s 13ms/step - loss: 0.0280 - mse: 0.0280 - val_loss: 0.0082 - val_mse: 0.0082\n",
      "Epoch 6/30\n",
      "10/10 [==============================] - 0s 12ms/step - loss: 0.0204 - mse: 0.0204 - val_loss: 0.0038 - val_mse: 0.0038\n",
      "Epoch 7/30\n",
      "10/10 [==============================] - 0s 15ms/step - loss: 0.0126 - mse: 0.0126 - val_loss: 0.0021 - val_mse: 0.0021\n",
      "Epoch 8/30\n",
      "10/10 [==============================] - 0s 11ms/step - loss: 0.0141 - mse: 0.0141 - val_loss: 1.6769e-04 - val_mse: 1.6769e-04\n",
      "Epoch 9/30\n",
      "10/10 [==============================] - 0s 17ms/step - loss: 0.0181 - mse: 0.0181 - val_loss: 0.0047 - val_mse: 0.0047\n",
      "Epoch 10/30\n",
      "10/10 [==============================] - 0s 13ms/step - loss: 0.0143 - mse: 0.0143 - val_loss: 0.0108 - val_mse: 0.0108\n",
      "Epoch 11/30\n",
      "10/10 [==============================] - 0s 15ms/step - loss: 0.0240 - mse: 0.0240 - val_loss: 0.0021 - val_mse: 0.0021\n",
      "Epoch 12/30\n",
      "10/10 [==============================] - 0s 14ms/step - loss: 0.0136 - mse: 0.0136 - val_loss: 0.0016 - val_mse: 0.0016\n",
      "Epoch 13/30\n",
      "10/10 [==============================] - 0s 15ms/step - loss: 0.0115 - mse: 0.0115 - val_loss: 0.0107 - val_mse: 0.0107\n",
      "Epoch 14/30\n",
      "10/10 [==============================] - 0s 11ms/step - loss: 0.0100 - mse: 0.0100 - val_loss: 0.0052 - val_mse: 0.0052\n",
      "Epoch 15/30\n",
      "10/10 [==============================] - 0s 14ms/step - loss: 0.0152 - mse: 0.0152 - val_loss: 9.8572e-05 - val_mse: 9.8572e-05\n",
      "Epoch 16/30\n",
      "10/10 [==============================] - 0s 11ms/step - loss: 0.0175 - mse: 0.0175 - val_loss: 0.0023 - val_mse: 0.0023\n",
      "Epoch 17/30\n",
      "10/10 [==============================] - 0s 12ms/step - loss: 0.0117 - mse: 0.0117 - val_loss: 0.0059 - val_mse: 0.0059\n",
      "Epoch 18/30\n",
      "10/10 [==============================] - 0s 12ms/step - loss: 0.0154 - mse: 0.0154 - val_loss: 4.3955e-05 - val_mse: 4.3955e-05\n",
      "Epoch 19/30\n",
      "10/10 [==============================] - 0s 13ms/step - loss: 0.0142 - mse: 0.0142 - val_loss: 0.0027 - val_mse: 0.0027\n",
      "Epoch 20/30\n",
      "10/10 [==============================] - 0s 13ms/step - loss: 0.0163 - mse: 0.0163 - val_loss: 0.0073 - val_mse: 0.0073\n",
      "Epoch 21/30\n",
      "10/10 [==============================] - 0s 23ms/step - loss: 0.0170 - mse: 0.0170 - val_loss: 0.0023 - val_mse: 0.0023\n",
      "Epoch 22/30\n",
      "10/10 [==============================] - 0s 16ms/step - loss: 0.0201 - mse: 0.0201 - val_loss: 6.2081e-04 - val_mse: 6.2081e-04\n",
      "Epoch 23/30\n",
      "10/10 [==============================] - 0s 26ms/step - loss: 0.0166 - mse: 0.0166 - val_loss: 0.0049 - val_mse: 0.0049\n",
      "Epoch 24/30\n",
      "10/10 [==============================] - 0s 20ms/step - loss: 0.0100 - mse: 0.0100 - val_loss: 0.0013 - val_mse: 0.0013\n",
      "Epoch 25/30\n",
      "10/10 [==============================] - 0s 19ms/step - loss: 0.0184 - mse: 0.0184 - val_loss: 3.7973e-04 - val_mse: 3.7973e-04\n",
      "Epoch 26/30\n",
      "10/10 [==============================] - 0s 27ms/step - loss: 0.0202 - mse: 0.0202 - val_loss: 3.5650e-04 - val_mse: 3.5650e-04\n",
      "Epoch 27/30\n",
      "10/10 [==============================] - 0s 22ms/step - loss: 0.0127 - mse: 0.0127 - val_loss: 0.0028 - val_mse: 0.0028\n",
      "Epoch 28/30\n",
      "10/10 [==============================] - 0s 17ms/step - loss: 0.0136 - mse: 0.0136 - val_loss: 0.0042 - val_mse: 0.0042\n",
      "Epoch 29/30\n",
      "10/10 [==============================] - 0s 20ms/step - loss: 0.0176 - mse: 0.0176 - val_loss: 0.0024 - val_mse: 0.0024\n",
      "Epoch 30/30\n",
      "10/10 [==============================] - 0s 22ms/step - loss: 0.0142 - mse: 0.0142 - val_loss: 0.0033 - val_mse: 0.0033\n"
     ]
    }
   ],
   "source": [
    "# Define the Keras TensorBoard callback.\n",
    "logdir=\"logs/fit/\" + datetime.now().strftime(\"%Y%m%d-%H%M%S\")\n",
    "tensorboard_callback = keras.callbacks.TensorBoard(log_dir=logdir)\n",
    "hist = model_lstm.fit_generator(train_data_gen,\n",
    "                                        steps_per_epoch=10,\n",
    "                                        epochs=30,\n",
    "                                        verbose=1,\n",
    "                                        validation_data=val_data_gen, #training put a graph of traing loss and val loss\n",
    "                                        callbacks=[tensorboard_callback])\n"
   ]
  },
  {
   "cell_type": "code",
   "execution_count": 15,
   "metadata": {},
   "outputs": [
    {
     "data": {
      "image/png": "[encoded data removed]",
      "text/plain": [
       "<Figure size 432x288 with 1 Axes>"
      ]
     },
     "metadata": {
      "needs_background": "light"
     },
     "output_type": "display_data"
    }
   ],
   "source": [
    "plt.plot(hist.history['loss'])\n",
    "plt.plot(hist.history['val_loss'])\n",
    "plt.title('model loss')\n",
    "plt.ylabel('loss')\n",
    "plt.xlabel('epoch')\n",
    "plt.legend(['train', 'validation'], loc='upper right')\n",
    "plt.show()"
   ]
  },
  {
   "cell_type": "code",
   "execution_count": 16,
   "metadata": {},
   "outputs": [],
   "source": [
    "pred = model_lstm.predict(test_data_gen)"
   ]
  },
  {
   "cell_type": "code",
   "execution_count": 17,
   "metadata": {},
   "outputs": [
    {
     "name": "stdout",
     "output_type": "stream",
     "text": [
      "1/1 [==============================] - 0s 48ms/step - loss: 0.0129 - mse: 0.0129\n"
     ]
    }
   ],
   "source": [
    "score, acc = model_lstm.evaluate(test_data_gen) #test"
   ]
  },
  {
   "cell_type": "code",
   "execution_count": 18,
   "metadata": {},
   "outputs": [
    {
     "data": {
      "text/plain": [
       "(array([[[8.74508977e-01, 8.46216023e-01, 8.54779005e-01, 2.90011000e+05,\n",
       "          8.53320003e-01, 1.48283467e-01],\n",
       "         [1.01842594e+00, 9.71315980e-01, 9.74134028e-01, 3.71633000e+05,\n",
       "          1.01481199e+00, 1.31502325e-01],\n",
       "         [1.03011203e+00, 9.99375999e-01, 1.00855601e+00, 7.81560000e+05,\n",
       "          1.00295198e+00, 1.53586280e-01],\n",
       "         [8.61506999e-01, 8.36389005e-01, 8.52524996e-01, 2.11458000e+05,\n",
       "          8.43836010e-01, 1.28670540e-01],\n",
       "         [1.02025104e+00, 9.94093001e-01, 1.00297499e+00, 5.65050000e+05,\n",
       "          9.99426007e-01, 1.14973180e-01]],\n",
       " \n",
       "        [[1.01842594e+00, 9.71315980e-01, 9.74134028e-01, 3.71633000e+05,\n",
       "          1.01481199e+00, 1.31502325e-01],\n",
       "         [1.03011203e+00, 9.99375999e-01, 1.00855601e+00, 7.81560000e+05,\n",
       "          1.00295198e+00, 1.53586280e-01],\n",
       "         [8.61506999e-01, 8.36389005e-01, 8.52524996e-01, 2.11458000e+05,\n",
       "          8.43836010e-01, 1.28670540e-01],\n",
       "         [1.02025104e+00, 9.94093001e-01, 1.00297499e+00, 5.65050000e+05,\n",
       "          9.99426007e-01, 1.14973180e-01],\n",
       "         [8.51173997e-01, 8.18889022e-01, 8.43720019e-01, 1.53179000e+05,\n",
       "          8.24757993e-01, 1.31015680e-01]],\n",
       " \n",
       "        [[1.03011203e+00, 9.99375999e-01, 1.00855601e+00, 7.81560000e+05,\n",
       "          1.00295198e+00, 1.53586280e-01],\n",
       "         [8.61506999e-01, 8.36389005e-01, 8.52524996e-01, 2.11458000e+05,\n",
       "          8.43836010e-01, 1.28670540e-01],\n",
       "         [1.02025104e+00, 9.94093001e-01, 1.00297499e+00, 5.65050000e+05,\n",
       "          9.99426007e-01, 1.14973180e-01],\n",
       "         [8.51173997e-01, 8.18889022e-01, 8.43720019e-01, 1.53179000e+05,\n",
       "          8.24757993e-01, 1.31015680e-01],\n",
       "         [1.00228906e+00, 9.77299988e-01, 9.99467015e-01, 5.64840000e+05,\n",
       "          9.85450029e-01, 1.07060620e-01]]]),\n",
       " array([0.82475799, 0.98545003, 0.80497903]))"
      ]
     },
     "execution_count": 18,
     "metadata": {},
     "output_type": "execute_result"
    }
   ],
   "source": [
    "test_data_gen[0]"
   ]
  },
  {
   "cell_type": "code",
   "execution_count": 19,
   "metadata": {},
   "outputs": [
    {
     "data": {
      "text/plain": [
       "array([[0.9513867],\n",
       "       [0.9513867],\n",
       "       [0.9513867]], dtype=float32)"
      ]
     },
     "execution_count": 19,
     "metadata": {},
     "output_type": "execute_result"
    }
   ],
   "source": [
    "pred"
   ]
  },
  {
   "cell_type": "code",
   "execution_count": 20,
   "metadata": {},
   "outputs": [
    {
     "data": {
      "image/png": "[encoded data removed]",
      "text/plain": [
       "<Figure size 720x288 with 1 Axes>"
      ]
     },
     "metadata": {
      "needs_background": "light"
     },
     "output_type": "display_data"
    }
   ],
   "source": [
    "# Visualising the results\n",
    "plt.figure(figsize=(10,4))\n",
    "plt.plot(y_test[0:y_test.shape[0]-5], color = 'red', label = 'Real MONAPrice')\n",
    "plt.plot(pred, color = 'blue', label = 'Predicted MONA Price')\n",
    "plt.title('MONA Price Prediction')\n",
    "plt.xlabel('Time')\n",
    "plt.ylabel('MONA Price')\n",
    "plt.ylim(0,1)\n",
    "plt.legend()\n",
    "plt.show()"
   ]
  },
  {
   "cell_type": "code",
   "execution_count": 21,
   "metadata": {},
   "outputs": [],
   "source": [
    "# on cmd promt, you should use the function below to kill the tensorboard \n",
    "#taskkill /im tensorboard.exe /f\n",
    "#del /q %TMP%\\.tensorboard-info\\*#"
   ]
  },
  {
   "cell_type": "code",
   "execution_count": 22,
   "metadata": {},
   "outputs": [
    {
     "name": "stderr",
     "output_type": "stream",
     "text": [
      "'kill' is not recognized as an internal or external command,\n",
      "operable program or batch file.\n"
     ]
    }
   ],
   "source": [
    "!kill 2592"
   ]
  },
  {
   "cell_type": "code",
   "execution_count": 23,
   "metadata": {},
   "outputs": [
    {
     "data": {
      "text/plain": [
       "Reusing TensorBoard on port 6006 (pid 2592), started 1 day, 6:28:29 ago. (Use '!kill 2592' to kill it.)"
      ]
     },
     "metadata": {},
     "output_type": "display_data"
    },
    {
     "data": {
      "text/html": [
       "\n",
       "      <iframe id=\"tensorboard-frame-b8e6cae0e772b5cd\" width=\"100%\" height=\"800\" frameborder=\"0\">\n",
       "      </iframe>\n",
       "      <script>\n",
       "        (function() {\n",
       "          const frame = document.getElementById(\"tensorboard-frame-b8e6cae0e772b5cd\");\n",
       "          const url = new URL(\"http://localhost\");\n",
       "          const port = 6006;\n",
       "          if (port) {\n",
       "            url.port = port;\n",
       "          }\n",
       "          frame.src = url;\n",
       "        })();\n",
       "      </script>\n",
       "    "
      ],
      "text/plain": [
       "<IPython.core.display.HTML object>"
      ]
     },
     "metadata": {},
     "output_type": "display_data"
    }
   ],
   "source": [
    "%tensorboard --logdir logs"
   ]
  }
 ],
 "metadata": {
  "interpreter": {
   "hash": "2f2e1fb2a3b1494e2ce2d620806ace1f30b1e2c236dd55f932f68dad84626b10"
  },
  "kernelspec": {
   "display_name": "Python 3.9.5 64-bit",
   "language": "python",
   "name": "python3"
  },
  "language_info": {
   "codemirror_mode": {
    "name": "ipython",
    "version": 3
   },
   "file_extension": ".py",
   "mimetype": "text/x-python",
   "name": "python",
   "nbconvert_exporter": "python",
   "pygments_lexer": "ipython3",
   "version": "3.9.5"
  },
  "orig_nbformat": 4
 },
 "nbformat": 4,
 "nbformat_minor": 2
}
