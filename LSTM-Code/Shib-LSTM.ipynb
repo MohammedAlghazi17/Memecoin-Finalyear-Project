{
 "cells": [
  {
   "cell_type": "code",
   "execution_count": 1,
   "metadata": {},
   "outputs": [],
   "source": [
    "import numpy as np\n",
    "from pandas import read_csv"
   ]
  },
  {
   "cell_type": "code",
   "execution_count": 2,
   "metadata": {},
   "outputs": [
    {
     "name": "stdout",
     "output_type": "stream",
     "text": [
      "        High       Low      Open     Close      Volume  Adj Close  \\\n",
      "0   0.000034  0.000032  0.000034  0.000033   720676202   0.000033   \n",
      "1   0.000021  0.000020  0.000021  0.000021   421850042   0.000021   \n",
      "2   0.000026  0.000025  0.000026  0.000025   963213922   0.000025   \n",
      "3   0.000027  0.000026  0.000026  0.000027   918512393   0.000027   \n",
      "4   0.000033  0.000032  0.000033  0.000032   717218977   0.000032   \n",
      "..       ...       ...       ...       ...         ...        ...   \n",
      "56  0.000028  0.000026  0.000026  0.000027  2063838416   0.000027   \n",
      "57  0.000023  0.000022  0.000023  0.000022   677823796   0.000022   \n",
      "58  0.000028  0.000026  0.000027  0.000027  1629913880   0.000027   \n",
      "59  0.000022  0.000022  0.000022  0.000022   609617152   0.000022   \n",
      "60  0.000028  0.000026  0.000027  0.000026  1418516436   0.000026   \n",
      "\n",
      "    Polarity Score  \n",
      "0         0.095867  \n",
      "1         0.146020  \n",
      "2         0.138143  \n",
      "3         0.146417  \n",
      "4         0.071015  \n",
      "..             ...  \n",
      "56        0.114973  \n",
      "57        0.131016  \n",
      "58        0.107061  \n",
      "59        0.141040  \n",
      "60        0.083907  \n",
      "\n",
      "[61 rows x 7 columns]\n"
     ]
    }
   ],
   "source": [
    "#lstm_data = np.genfromtxt('./sample_data/lstm.csv', delimiter=',', skip_header=True)\n",
    "lstm_data = read_csv('lstmshib.csv')\n",
    "lstm_data = lstm_data.drop(['Date'], axis=1)\n",
    "print(lstm_data)"
   ]
  },
  {
   "cell_type": "code",
   "execution_count": 3,
   "metadata": {},
   "outputs": [],
   "source": [
    "lstm_data_X = lstm_data.drop(['Close'], axis=1)\n",
    "lstm_data_y = lstm_data['Close']"
   ]
  },
  {
   "cell_type": "code",
   "execution_count": 4,
   "metadata": {},
   "outputs": [],
   "source": [
    "look_back = 5 # how many days to look back\n",
    "batch_size = 3 # size of batches used when training\n",
    "n_feat = 6 # number of features \n",
    "n_target = 2\n",
    "n_validation = 6\n",
    "n_test = 8\n",
    "n_train = lstm_data_X.shape[0] - n_validation - n_test - 1\n"
   ]
  },
  {
   "cell_type": "code",
   "execution_count": 5,
   "metadata": {},
   "outputs": [],
   "source": [
    "lstm_data_X_train = lstm_data_X.iloc[:n_train,:]\n",
    "lstm_data_X_val = lstm_data_X.iloc[n_train:n_train + n_validation,:]\n",
    "lstm_data_X_test = lstm_data_X.iloc[n_train + n_validation:n_train + n_validation + n_test,:]\n",
    "\n",
    "lstm_data_y_train = lstm_data_y.iloc[:n_train]\n",
    "lstm_data_y_val = lstm_data_y.iloc[n_train:n_train + n_validation]\n",
    "lstm_data_y_test = lstm_data_y.iloc[n_train + n_validation:n_train + n_validation + n_test]\n",
    "# Convert to numpy arrays\n",
    "X_train = lstm_data_X_train.to_numpy()\n",
    "X_val = lstm_data_X_val.to_numpy()\n",
    "X_test = lstm_data_X_test.to_numpy()\n",
    "y_train = lstm_data_y_train.to_numpy()\n",
    "y_val = lstm_data_y_val.to_numpy()\n",
    "y_test = lstm_data_y_test.to_numpy()"
   ]
  },
  {
   "cell_type": "code",
   "execution_count": 6,
   "metadata": {},
   "outputs": [
    {
     "data": {
      "text/plain": [
       "array([[2.40000008e-05, 2.30000005e-05, 2.30000005e-05, 6.50386644e+08,\n",
       "        2.30000005e-05, 1.48283467e-01],\n",
       "       [2.59999997e-05, 2.30000005e-05, 2.30000005e-05, 1.51395371e+09,\n",
       "        2.59999997e-05, 1.31502325e-01],\n",
       "       [2.90000007e-05, 2.49999994e-05, 2.59999997e-05, 3.56160726e+09,\n",
       "        2.59999997e-05, 1.53586280e-01],\n",
       "       [2.30000005e-05, 2.30000005e-05, 2.30000005e-05, 4.72878759e+08,\n",
       "        2.30000005e-05, 1.28670540e-01],\n",
       "       [2.80000004e-05, 2.59999997e-05, 2.59999997e-05, 2.06383842e+09,\n",
       "        2.70000000e-05, 1.14973180e-01],\n",
       "       [2.30000005e-05, 2.20000002e-05, 2.30000005e-05, 6.77823796e+08,\n",
       "        2.20000002e-05, 1.31015680e-01],\n",
       "       [2.80000004e-05, 2.59999997e-05, 2.70000000e-05, 1.62991388e+09,\n",
       "        2.70000000e-05, 1.07060620e-01],\n",
       "       [2.24316573e-05, 2.21589107e-05, 2.21966893e-05, 6.09617152e+08,\n",
       "        2.23027873e-05, 1.41039940e-01]])"
      ]
     },
     "execution_count": 6,
     "metadata": {},
     "output_type": "execute_result"
    }
   ],
   "source": [
    "X_test"
   ]
  },
  {
   "cell_type": "code",
   "execution_count": 7,
   "metadata": {},
   "outputs": [
    {
     "data": {
      "text/plain": [
       "array([2.30000005e-05, 2.59999997e-05, 2.59999997e-05, 2.30000005e-05,\n",
       "       2.70000000e-05, 2.20000002e-05, 2.70000000e-05, 2.23027873e-05])"
      ]
     },
     "execution_count": 7,
     "metadata": {},
     "output_type": "execute_result"
    }
   ],
   "source": [
    "y_test"
   ]
  },
  {
   "cell_type": "code",
   "execution_count": 8,
   "metadata": {},
   "outputs": [],
   "source": [
    "import keras\n",
    "from keras.preprocessing.sequence import TimeseriesGenerator\n",
    "from keras.models import Sequential\n",
    "from keras.layers import LSTM, Dense, Activation, ThresholdedReLU, MaxPooling2D, Embedding, Dropout\n",
    "from tensorflow.keras.optimizers import Adam, SGD, RMSprop"
   ]
  },
  {
   "cell_type": "code",
   "execution_count": 9,
   "metadata": {},
   "outputs": [],
   "source": [
    "train_data_gen = TimeseriesGenerator(X_train, y_train, length=look_back, batch_size=batch_size)\n",
    "val_data_gen = TimeseriesGenerator(X_val, y_val, length=look_back, batch_size=batch_size)\n",
    "test_data_gen = TimeseriesGenerator(X_test, y_test, length=look_back, batch_size=batch_size)"
   ]
  },
  {
   "cell_type": "code",
   "execution_count": 10,
   "metadata": {},
   "outputs": [
    {
     "name": "stdout",
     "output_type": "stream",
     "text": [
      "(3, 5, 6) (3,)\n",
      "(3, 5, 6) (3,)\n",
      "(3, 5, 6) (3,)\n",
      "(3, 5, 6) (3,)\n",
      "(3, 5, 6) (3,)\n",
      "(3, 5, 6) (3,)\n",
      "(3, 5, 6) (3,)\n",
      "(3, 5, 6) (3,)\n",
      "(3, 5, 6) (3,)\n",
      "(3, 5, 6) (3,)\n",
      "(3, 5, 6) (3,)\n",
      "(3, 5, 6) (3,)\n",
      "(3, 5, 6) (3,)\n",
      "(2, 5, 6) (2,)\n"
     ]
    }
   ],
   "source": [
    "# check generator dimensions\n",
    "for i in range(len(train_data_gen)):\n",
    "    x, y = train_data_gen[i]\n",
    "    print(x.shape, y.shape)"
   ]
  },
  {
   "cell_type": "code",
   "execution_count": 11,
   "metadata": {},
   "outputs": [
    {
     "name": "stdout",
     "output_type": "stream",
     "text": [
      "Model: \"sequential\"\n",
      "_________________________________________________________________\n",
      " Layer (type)                Output Shape              Param #   \n",
      "=================================================================\n",
      " lstm (LSTM)                 (None, 5, 32)             4992      \n",
      "                                                                 \n",
      " dropout (Dropout)           (None, 5, 32)             0         \n",
      "                                                                 \n",
      " lstm_1 (LSTM)               (None, 32)                8320      \n",
      "                                                                 \n",
      " dropout_1 (Dropout)         (None, 32)                0         \n",
      "                                                                 \n",
      " dense (Dense)               (None, 1)                 33        \n",
      "                                                                 \n",
      "=================================================================\n",
      "Total params: 13,345\n",
      "Trainable params: 13,345\n",
      "Non-trainable params: 0\n",
      "_________________________________________________________________\n",
      "None\n"
     ]
    }
   ],
   "source": [
    "model_lstm = Sequential()\n",
    "model_lstm.add(LSTM(32, input_shape=(look_back, n_feat), return_sequences=True))\n",
    "model_lstm.add(Dropout(0.1))\n",
    "model_lstm.add(LSTM(32))\n",
    "model_lstm.add(Dropout(0.1))\n",
    "model_lstm.add(Dense(1))\n",
    "model_lstm.compile(optimizer=\"adam\", loss='mse', metrics=[\"mse\"])\n",
    "print(model_lstm.summary())"
   ]
  },
  {
   "cell_type": "code",
   "execution_count": 12,
   "metadata": {},
   "outputs": [
    {
     "name": "stderr",
     "output_type": "stream",
     "text": [
      "C:\\Users\\moham\\AppData\\Local\\Temp/ipykernel_27324/192094070.py:1: UserWarning: `Model.fit_generator` is deprecated and will be removed in a future version. Please use `Model.fit`, which supports generators.\n",
      "  hist = model_lstm.fit_generator(train_data_gen,\n"
     ]
    },
    {
     "name": "stdout",
     "output_type": "stream",
     "text": [
      "Epoch 1/20\n",
      "10/10 [==============================] - 4s 144ms/step - loss: 0.0041 - mse: 0.0041 - val_loss: 0.0033 - val_mse: 0.0033\n",
      "Epoch 2/20\n",
      "10/10 [==============================] - 1s 59ms/step - loss: 0.0064 - mse: 0.0064 - val_loss: 0.0025 - val_mse: 0.0025\n",
      "Epoch 3/20\n",
      "10/10 [==============================] - 0s 11ms/step - loss: 0.0051 - mse: 0.0051 - val_loss: 2.9979e-04 - val_mse: 2.9979e-04\n",
      "Epoch 4/20\n",
      "10/10 [==============================] - 0s 10ms/step - loss: 0.0036 - mse: 0.0036 - val_loss: 6.8343e-08 - val_mse: 6.8343e-08\n",
      "Epoch 5/20\n",
      "10/10 [==============================] - 0s 11ms/step - loss: 0.0024 - mse: 0.0024 - val_loss: 4.6260e-04 - val_mse: 4.6260e-04\n",
      "Epoch 6/20\n",
      "10/10 [==============================] - 0s 10ms/step - loss: 0.0015 - mse: 0.0015 - val_loss: 5.2779e-04 - val_mse: 5.2779e-04\n",
      "Epoch 7/20\n",
      "10/10 [==============================] - 0s 11ms/step - loss: 0.0035 - mse: 0.0035 - val_loss: 0.0010 - val_mse: 0.0010\n",
      "Epoch 8/20\n",
      "10/10 [==============================] - 0s 11ms/step - loss: 0.0030 - mse: 0.0030 - val_loss: 4.0755e-05 - val_mse: 4.0755e-05\n",
      "Epoch 9/20\n",
      "10/10 [==============================] - 0s 11ms/step - loss: 0.0031 - mse: 0.0031 - val_loss: 3.5133e-04 - val_mse: 3.5133e-04\n",
      "Epoch 10/20\n",
      "10/10 [==============================] - 0s 11ms/step - loss: 0.0015 - mse: 0.0015 - val_loss: 5.4704e-04 - val_mse: 5.4704e-04\n",
      "Epoch 11/20\n",
      "10/10 [==============================] - 0s 11ms/step - loss: 0.0025 - mse: 0.0025 - val_loss: 4.4318e-06 - val_mse: 4.4318e-06\n",
      "Epoch 12/20\n",
      "10/10 [==============================] - 0s 10ms/step - loss: 0.0019 - mse: 0.0019 - val_loss: 2.7865e-04 - val_mse: 2.7865e-04\n",
      "Epoch 13/20\n",
      "10/10 [==============================] - 0s 11ms/step - loss: 0.0012 - mse: 0.0012 - val_loss: 5.1642e-06 - val_mse: 5.1642e-06\n",
      "Epoch 14/20\n",
      "10/10 [==============================] - 0s 10ms/step - loss: 0.0013 - mse: 0.0013 - val_loss: 2.7100e-05 - val_mse: 2.7100e-05\n",
      "Epoch 15/20\n",
      "10/10 [==============================] - 0s 11ms/step - loss: 0.0012 - mse: 0.0012 - val_loss: 9.5252e-05 - val_mse: 9.5252e-05\n",
      "Epoch 16/20\n",
      "10/10 [==============================] - 0s 11ms/step - loss: 0.0013 - mse: 0.0013 - val_loss: 2.2035e-04 - val_mse: 2.2035e-04\n",
      "Epoch 17/20\n",
      "10/10 [==============================] - 0s 11ms/step - loss: 0.0020 - mse: 0.0020 - val_loss: 3.2880e-06 - val_mse: 3.2880e-06\n",
      "Epoch 18/20\n",
      "10/10 [==============================] - 0s 10ms/step - loss: 9.4588e-04 - mse: 9.4588e-04 - val_loss: 8.5059e-07 - val_mse: 8.5059e-07\n",
      "Epoch 19/20\n",
      "10/10 [==============================] - 0s 11ms/step - loss: 8.7637e-04 - mse: 8.7637e-04 - val_loss: 6.5458e-06 - val_mse: 6.5458e-06\n",
      "Epoch 20/20\n",
      "10/10 [==============================] - 0s 10ms/step - loss: 0.0010 - mse: 0.0010 - val_loss: 2.5392e-06 - val_mse: 2.5392e-06\n"
     ]
    }
   ],
   "source": [
    "hist = model_lstm.fit_generator(train_data_gen,\n",
    "                                        steps_per_epoch=10,\n",
    "                                        epochs=20,\n",
    "                                        verbose=1,\n",
    "                                        validation_data=val_data_gen)"
   ]
  },
  {
   "cell_type": "code",
   "execution_count": 13,
   "metadata": {},
   "outputs": [],
   "source": [
    "pred = model_lstm.predict(test_data_gen)"
   ]
  },
  {
   "cell_type": "code",
   "execution_count": 14,
   "metadata": {},
   "outputs": [
    {
     "data": {
      "text/plain": [
       "(array([[[2.40000008e-05, 2.30000005e-05, 2.30000005e-05, 6.50386644e+08,\n",
       "          2.30000005e-05, 1.48283467e-01],\n",
       "         [2.59999997e-05, 2.30000005e-05, 2.30000005e-05, 1.51395371e+09,\n",
       "          2.59999997e-05, 1.31502325e-01],\n",
       "         [2.90000007e-05, 2.49999994e-05, 2.59999997e-05, 3.56160726e+09,\n",
       "          2.59999997e-05, 1.53586280e-01],\n",
       "         [2.30000005e-05, 2.30000005e-05, 2.30000005e-05, 4.72878759e+08,\n",
       "          2.30000005e-05, 1.28670540e-01],\n",
       "         [2.80000004e-05, 2.59999997e-05, 2.59999997e-05, 2.06383842e+09,\n",
       "          2.70000000e-05, 1.14973180e-01]],\n",
       " \n",
       "        [[2.59999997e-05, 2.30000005e-05, 2.30000005e-05, 1.51395371e+09,\n",
       "          2.59999997e-05, 1.31502325e-01],\n",
       "         [2.90000007e-05, 2.49999994e-05, 2.59999997e-05, 3.56160726e+09,\n",
       "          2.59999997e-05, 1.53586280e-01],\n",
       "         [2.30000005e-05, 2.30000005e-05, 2.30000005e-05, 4.72878759e+08,\n",
       "          2.30000005e-05, 1.28670540e-01],\n",
       "         [2.80000004e-05, 2.59999997e-05, 2.59999997e-05, 2.06383842e+09,\n",
       "          2.70000000e-05, 1.14973180e-01],\n",
       "         [2.30000005e-05, 2.20000002e-05, 2.30000005e-05, 6.77823796e+08,\n",
       "          2.20000002e-05, 1.31015680e-01]],\n",
       " \n",
       "        [[2.90000007e-05, 2.49999994e-05, 2.59999997e-05, 3.56160726e+09,\n",
       "          2.59999997e-05, 1.53586280e-01],\n",
       "         [2.30000005e-05, 2.30000005e-05, 2.30000005e-05, 4.72878759e+08,\n",
       "          2.30000005e-05, 1.28670540e-01],\n",
       "         [2.80000004e-05, 2.59999997e-05, 2.59999997e-05, 2.06383842e+09,\n",
       "          2.70000000e-05, 1.14973180e-01],\n",
       "         [2.30000005e-05, 2.20000002e-05, 2.30000005e-05, 6.77823796e+08,\n",
       "          2.20000002e-05, 1.31015680e-01],\n",
       "         [2.80000004e-05, 2.59999997e-05, 2.70000000e-05, 1.62991388e+09,\n",
       "          2.70000000e-05, 1.07060620e-01]]]),\n",
       " array([2.20000002e-05, 2.70000000e-05, 2.23027873e-05]))"
      ]
     },
     "execution_count": 14,
     "metadata": {},
     "output_type": "execute_result"
    }
   ],
   "source": [
    "test_data_gen[0]"
   ]
  },
  {
   "cell_type": "code",
   "execution_count": 15,
   "metadata": {},
   "outputs": [
    {
     "data": {
      "text/plain": [
       "array([[0.00161951],\n",
       "       [0.00161951],\n",
       "       [0.00161951]], dtype=float32)"
      ]
     },
     "execution_count": 15,
     "metadata": {},
     "output_type": "execute_result"
    }
   ],
   "source": [
    "pred"
   ]
  },
  {
   "cell_type": "code",
   "execution_count": 16,
   "metadata": {},
   "outputs": [],
   "source": [
    "import matplotlib.pyplot as plt"
   ]
  },
  {
   "cell_type": "code",
   "execution_count": 17,
   "metadata": {},
   "outputs": [
    {
     "data": {
      "image/png": "[encoded data removed]",
      "text/plain": [
       "<Figure size 720x288 with 1 Axes>"
      ]
     },
     "metadata": {
      "needs_background": "light"
     },
     "output_type": "display_data"
    }
   ],
   "source": [
    "# Visualising the results\n",
    "plt.figure(figsize=(10,4))\n",
    "plt.plot(y_test[0:y_test.shape[0]-5], color = 'red', label = 'Real SHIBAPrice')\n",
    "plt.plot(pred, color = 'blue', label = 'Predicted SHIBA Price')\n",
    "plt.title('SHIBA Price Prediction')\n",
    "plt.xlabel('Time')\n",
    "plt.ylabel('SHIBA Price')\n",
    "plt.ylim(0,1)\n",
    "plt.legend()\n",
    "plt.show()"
   ]
  }
 ],
 "metadata": {
  "interpreter": {
   "hash": "b2d2dc41cbfaf67ac4a91a427b68830b69dde48fe3ce74dedd3ecbeef6226b1d"
  },
  "kernelspec": {
   "display_name": "Python 3.9.7 ('base')",
   "language": "python",
   "name": "python3"
  },
  "language_info": {
   "codemirror_mode": {
    "name": "ipython",
    "version": 3
   },
   "file_extension": ".py",
   "mimetype": "text/x-python",
   "name": "python",
   "nbconvert_exporter": "python",
   "pygments_lexer": "ipython3",
   "version": "3.9.7"
  },
  "orig_nbformat": 4
 },
 "nbformat": 4,
 "nbformat_minor": 2
}
