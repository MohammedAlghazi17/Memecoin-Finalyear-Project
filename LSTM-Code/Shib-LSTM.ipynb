{
 "cells": [
  {
   "cell_type": "code",
   "execution_count": 1,
   "metadata": {},
   "outputs": [],
   "source": [
    "import numpy as np\n",
    "from pandas import read_csv"
   ]
  },
  {
   "cell_type": "code",
   "execution_count": 2,
   "metadata": {},
   "outputs": [
    {
     "name": "stdout",
     "output_type": "stream",
     "text": [
      "        High       Low      Open     Close      Volume  Adj Close  \\\n",
      "0   0.000021  0.000020  0.000021  0.000021   421850042   0.000021   \n",
      "1   0.000022  0.000021  0.000021  0.000022   609855710   0.000022   \n",
      "2   0.000032  0.000029  0.000029  0.000030  2065365631   0.000030   \n",
      "3   0.000031  0.000029  0.000030  0.000030  1558119657   0.000030   \n",
      "4   0.000032  0.000030  0.000030  0.000031  1602354887   0.000031   \n",
      "5   0.000031  0.000030  0.000031  0.000031  1350071541   0.000031   \n",
      "6   0.000032  0.000028  0.000031  0.000028  2067544526   0.000028   \n",
      "7   0.000030  0.000028  0.000028  0.000028  1458694142   0.000028   \n",
      "8   0.000029  0.000027  0.000028  0.000028   929189862   0.000028   \n",
      "9   0.000028  0.000025  0.000028  0.000026  1235841144   0.000026   \n",
      "10  0.000027  0.000024  0.000026  0.000024  2001180593   0.000024   \n",
      "11  0.000025  0.000023  0.000024  0.000025  1524043647   0.000025   \n",
      "12  0.000027  0.000025  0.000025  0.000025  1728129985   0.000025   \n",
      "13  0.000025  0.000021  0.000025  0.000024  3275038601   0.000024   \n",
      "14  0.000025  0.000023  0.000024  0.000025  1740381961   0.000025   \n",
      "15  0.000026  0.000024  0.000025  0.000024  1099351580   0.000024   \n",
      "16  0.000025  0.000023  0.000024  0.000023  1217089606   0.000023   \n",
      "17  0.000026  0.000023  0.000023  0.000026  1513953706   0.000026   \n",
      "18  0.000026  0.000025  0.000026  0.000025   963213922   0.000025   \n",
      "19  0.000025  0.000023  0.000025  0.000024   977852640   0.000024   \n",
      "20  0.000023  0.000021  0.000022  0.000022   660720467   0.000022   \n",
      "21  0.000022  0.000021  0.000022  0.000022   632243876   0.000022   \n",
      "22  0.000022  0.000021  0.000022  0.000022   640514222   0.000022   \n",
      "23  0.000023  0.000022  0.000022  0.000023   841713079   0.000023   \n",
      "24  0.000023  0.000022  0.000023  0.000022   594487997   0.000022   \n",
      "25  0.000023  0.000022  0.000022  0.000022   696479699   0.000022   \n",
      "26  0.000025  0.000022  0.000022  0.000024  1912871449   0.000024   \n",
      "27  0.000024  0.000023  0.000024  0.000023  1176567440   0.000023   \n",
      "28  0.000023  0.000022  0.000023  0.000023   746003820   0.000023   \n",
      "29  0.000024  0.000023  0.000023  0.000023   987790840   0.000023   \n",
      "30  0.000025  0.000023  0.000023  0.000024  1272114432   0.000024   \n",
      "31  0.000025  0.000024  0.000024  0.000025  1339708814   0.000025   \n",
      "32  0.000025  0.000024  0.000025  0.000024   906531254   0.000024   \n",
      "33  0.000025  0.000024  0.000024  0.000024   472902729   0.000024   \n",
      "34  0.000026  0.000024  0.000024  0.000026   792774798   0.000026   \n",
      "35  0.000029  0.000025  0.000026  0.000026  3561607258   0.000026   \n",
      "36  0.000028  0.000026  0.000026  0.000027  2063838416   0.000027   \n",
      "37  0.000028  0.000026  0.000027  0.000027  1629913880   0.000027   \n",
      "38  0.000028  0.000026  0.000027  0.000026  1418516436   0.000026   \n",
      "39  0.000027  0.000026  0.000026  0.000027   918512393   0.000027   \n",
      "40  0.000027  0.000026  0.000027  0.000026  1101356399   0.000026   \n",
      "41  0.000028  0.000026  0.000027  0.000027  2032682825   0.000027   \n",
      "42  0.000027  0.000025  0.000027  0.000026  1152162515   0.000026   \n",
      "43  0.000026  0.000026  0.000026  0.000026   464520286   0.000026   \n",
      "44  0.000026  0.000025  0.000026  0.000026   338664091   0.000026   \n",
      "45  0.000026  0.000025  0.000026  0.000025   420838842   0.000025   \n",
      "46  0.000025  0.000024  0.000025  0.000025   713137006   0.000025   \n",
      "47  0.000026  0.000025  0.000025  0.000025   514266085   0.000025   \n",
      "48  0.000026  0.000025  0.000025  0.000025   628811523   0.000025   \n",
      "49  0.000025  0.000024  0.000025  0.000024   490435232   0.000024   \n",
      "\n",
      "    Polarity Score  \n",
      "0         0.146020  \n",
      "1         0.096342  \n",
      "2         0.113200  \n",
      "3         0.367391  \n",
      "4         0.150535  \n",
      "5         0.010105  \n",
      "6         0.232539  \n",
      "7         0.245144  \n",
      "8         0.000168  \n",
      "9         0.219473  \n",
      "10        0.135519  \n",
      "11        0.112503  \n",
      "12        0.153502  \n",
      "13        0.109284  \n",
      "14        0.107181  \n",
      "15        0.141459  \n",
      "16        0.199485  \n",
      "17        0.131502  \n",
      "18        0.138143  \n",
      "19        0.085107  \n",
      "20        0.111060  \n",
      "21        0.075841  \n",
      "22        0.100922  \n",
      "23        0.076036  \n",
      "24        0.133072  \n",
      "25        0.089275  \n",
      "26        0.223525  \n",
      "27        0.110555  \n",
      "28        0.115944  \n",
      "29        0.000000  \n",
      "30        0.140484  \n",
      "31        0.117736  \n",
      "32        0.161422  \n",
      "33        0.227658  \n",
      "34        0.169030  \n",
      "35        0.153586  \n",
      "36        0.114973  \n",
      "37        0.107061  \n",
      "38        0.083907  \n",
      "39        0.146417  \n",
      "40        0.090832  \n",
      "41        0.119920  \n",
      "42        0.167889  \n",
      "43        0.115242  \n",
      "44        0.131267  \n",
      "45        0.129466  \n",
      "46        0.141833  \n",
      "47        0.141011  \n",
      "48        0.127655  \n",
      "49        0.131129  \n"
     ]
    }
   ],
   "source": [
    "#lstm_data = np.genfromtxt('./sample_data/lstm.csv', delimiter=',', skip_header=True)\n",
    "lstm_data = read_csv('lstmshib.csv')\n",
    "lstm_data = lstm_data.drop(['Date'], axis=1)\n",
    "print(lstm_data)"
   ]
  },
  {
   "cell_type": "code",
   "execution_count": 3,
   "metadata": {},
   "outputs": [],
   "source": [
    "lstm_data_X = lstm_data.drop(['Close'], axis=1)\n",
    "lstm_data_y = lstm_data['Close']"
   ]
  },
  {
   "cell_type": "code",
   "execution_count": 4,
   "metadata": {},
   "outputs": [],
   "source": [
    "look_back = 3 # how many days to look back\n",
    "batch_size = 5 # size of batches used when training\n",
    "n_feat = 6 # number of features \n",
    "n_target = 2\n",
    "n_train = 30\n",
    "n_validation = 5\n",
    "n_test = 6"
   ]
  },
  {
   "cell_type": "code",
   "execution_count": 5,
   "metadata": {},
   "outputs": [],
   "source": [
    "lstm_data_X_train = lstm_data_X.iloc[:30,:]\n",
    "lstm_data_X_val = lstm_data_X.iloc[30:35,:]\n",
    "lstm_data_X_test = lstm_data_X.iloc[35:50,:]\n",
    "\n",
    "lstm_data_y_train = lstm_data_y.iloc[:30]\n",
    "lstm_data_y_val = lstm_data_y.iloc[30:35]\n",
    "lstm_data_y_test = lstm_data_y.iloc[35:50]\n",
    "# Convert to numpy arrays\n",
    "X_train = lstm_data_X_train.to_numpy()\n",
    "X_val = lstm_data_X_val.to_numpy()\n",
    "X_test = lstm_data_X_test.to_numpy()\n",
    "y_train = lstm_data_y_train.to_numpy()\n",
    "y_val = lstm_data_y_val.to_numpy()\n",
    "y_test = lstm_data_y_test.to_numpy()"
   ]
  },
  {
   "cell_type": "code",
   "execution_count": 6,
   "metadata": {},
   "outputs": [
    {
     "data": {
      "text/plain": [
       "array([[2.90000000e-05, 2.50000000e-05, 2.60000000e-05, 3.56160726e+09,\n",
       "        2.60000000e-05, 1.53586280e-01],\n",
       "       [2.80000000e-05, 2.60000000e-05, 2.60000000e-05, 2.06383842e+09,\n",
       "        2.70000000e-05, 1.14973180e-01],\n",
       "       [2.80000000e-05, 2.60000000e-05, 2.70000000e-05, 1.62991388e+09,\n",
       "        2.70000000e-05, 1.07060620e-01],\n",
       "       [2.80000000e-05, 2.60000000e-05, 2.70000000e-05, 1.41851644e+09,\n",
       "        2.60000000e-05, 8.39072810e-02],\n",
       "       [2.70000000e-05, 2.60000000e-05, 2.60000000e-05, 9.18512393e+08,\n",
       "        2.70000000e-05, 1.46417220e-01],\n",
       "       [2.70000000e-05, 2.60000000e-05, 2.70000000e-05, 1.10135640e+09,\n",
       "        2.60000000e-05, 9.08316200e-02],\n",
       "       [2.80000000e-05, 2.60000000e-05, 2.70000000e-05, 2.03268282e+09,\n",
       "        2.70000000e-05, 1.19920160e-01],\n",
       "       [2.70000000e-05, 2.50000000e-05, 2.70000000e-05, 1.15216252e+09,\n",
       "        2.60000000e-05, 1.67889080e-01],\n",
       "       [2.60000000e-05, 2.60000000e-05, 2.60000000e-05, 4.64520286e+08,\n",
       "        2.60000000e-05, 1.15242019e-01],\n",
       "       [2.60000000e-05, 2.50000000e-05, 2.60000000e-05, 3.38664091e+08,\n",
       "        2.60000000e-05, 1.31267300e-01],\n",
       "       [2.60000000e-05, 2.50000000e-05, 2.60000000e-05, 4.20838842e+08,\n",
       "        2.50000000e-05, 1.29466020e-01],\n",
       "       [2.50000000e-05, 2.40000000e-05, 2.50000000e-05, 7.13137006e+08,\n",
       "        2.50000000e-05, 1.41832680e-01],\n",
       "       [2.60000000e-05, 2.50000000e-05, 2.50000000e-05, 5.14266085e+08,\n",
       "        2.50000000e-05, 1.41011480e-01],\n",
       "       [2.60000000e-05, 2.50000000e-05, 2.50000000e-05, 6.28811523e+08,\n",
       "        2.50000000e-05, 1.27655320e-01],\n",
       "       [2.54000000e-05, 2.42000000e-05, 2.48000000e-05, 4.90435232e+08,\n",
       "        2.43000000e-05, 1.31128780e-01]])"
      ]
     },
     "execution_count": 6,
     "metadata": {},
     "output_type": "execute_result"
    }
   ],
   "source": [
    "X_test"
   ]
  },
  {
   "cell_type": "code",
   "execution_count": 7,
   "metadata": {},
   "outputs": [
    {
     "data": {
      "text/plain": [
       "array([2.60e-05, 2.70e-05, 2.70e-05, 2.60e-05, 2.70e-05, 2.60e-05,\n",
       "       2.70e-05, 2.60e-05, 2.60e-05, 2.60e-05, 2.50e-05, 2.50e-05,\n",
       "       2.50e-05, 2.50e-05, 2.43e-05])"
      ]
     },
     "execution_count": 7,
     "metadata": {},
     "output_type": "execute_result"
    }
   ],
   "source": [
    "y_test"
   ]
  },
  {
   "cell_type": "code",
   "execution_count": 8,
   "metadata": {},
   "outputs": [],
   "source": [
    "import keras\n",
    "from keras.preprocessing.sequence import TimeseriesGenerator\n",
    "from keras.models import Sequential\n",
    "from keras.layers import LSTM, Dense, Activation, ThresholdedReLU, MaxPooling2D, Embedding, Dropout\n",
    "from tensorflow.keras.optimizers import Adam, SGD, RMSprop"
   ]
  },
  {
   "cell_type": "code",
   "execution_count": 9,
   "metadata": {},
   "outputs": [],
   "source": [
    "train_data_gen = TimeseriesGenerator(X_train, y_train, length=look_back, batch_size=batch_size)\n",
    "val_data_gen = TimeseriesGenerator(X_val, y_val, length=look_back, batch_size=batch_size)\n",
    "test_data_gen = TimeseriesGenerator(X_test, y_test, length=look_back, batch_size=batch_size)"
   ]
  },
  {
   "cell_type": "code",
   "execution_count": 10,
   "metadata": {},
   "outputs": [
    {
     "name": "stdout",
     "output_type": "stream",
     "text": [
      "(5, 3, 6) (5,)\n",
      "(5, 3, 6) (5,)\n",
      "(5, 3, 6) (5,)\n",
      "(5, 3, 6) (5,)\n",
      "(5, 3, 6) (5,)\n",
      "(2, 3, 6) (2,)\n"
     ]
    }
   ],
   "source": [
    "# check generator dimensions\n",
    "for i in range(len(train_data_gen)):\n",
    "    x, y = train_data_gen[i]\n",
    "    print(x.shape, y.shape)"
   ]
  },
  {
   "cell_type": "code",
   "execution_count": 11,
   "metadata": {},
   "outputs": [
    {
     "name": "stdout",
     "output_type": "stream",
     "text": [
      "Model: \"sequential\"\n",
      "_________________________________________________________________\n",
      " Layer (type)                Output Shape              Param #   \n",
      "=================================================================\n",
      " lstm (LSTM)                 (None, 3, 32)             4992      \n",
      "                                                                 \n",
      " dropout (Dropout)           (None, 3, 32)             0         \n",
      "                                                                 \n",
      " lstm_1 (LSTM)               (None, 32)                8320      \n",
      "                                                                 \n",
      " dropout_1 (Dropout)         (None, 32)                0         \n",
      "                                                                 \n",
      " dense (Dense)               (None, 1)                 33        \n",
      "                                                                 \n",
      "=================================================================\n",
      "Total params: 13,345\n",
      "Trainable params: 13,345\n",
      "Non-trainable params: 0\n",
      "_________________________________________________________________\n",
      "None\n"
     ]
    }
   ],
   "source": [
    "model_lstm = Sequential()\n",
    "model_lstm.add(LSTM(32, input_shape=(look_back, n_feat), return_sequences=True))\n",
    "model_lstm.add(Dropout(0.1))\n",
    "model_lstm.add(LSTM(32))\n",
    "model_lstm.add(Dropout(0.1))\n",
    "model_lstm.add(Dense(1))\n",
    "model_lstm.compile(optimizer=\"adam\", loss='mse', metrics=[\"mse\"])\n",
    "print(model_lstm.summary())"
   ]
  },
  {
   "cell_type": "code",
   "execution_count": 12,
   "metadata": {},
   "outputs": [
    {
     "name": "stderr",
     "output_type": "stream",
     "text": [
      "C:\\Users\\moham\\AppData\\Local\\Temp/ipykernel_11696/192094070.py:1: UserWarning: `Model.fit_generator` is deprecated and will be removed in a future version. Please use `Model.fit`, which supports generators.\n",
      "  hist = model_lstm.fit_generator(train_data_gen,\n"
     ]
    },
    {
     "name": "stdout",
     "output_type": "stream",
     "text": [
      "Epoch 1/20\n",
      " 1/10 [==>...........................] - ETA: 47s - loss: 0.0035 - mse: 0.0035WARNING:tensorflow:Your input ran out of data; interrupting training. Make sure that your dataset or generator can generate at least `steps_per_epoch * epochs` batches (in this case, 200 batches). You may need to use the repeat() function when building your dataset.\n",
      "10/10 [==============================] - 8s 311ms/step - loss: 0.0027 - mse: 0.0027 - val_loss: 8.1934e-04 - val_mse: 8.1934e-04\n"
     ]
    }
   ],
   "source": [
    "hist = model_lstm.fit_generator(train_data_gen,\n",
    "                                        steps_per_epoch=10,\n",
    "                                        epochs=20,\n",
    "                                        verbose=1,\n",
    "                                        validation_data=val_data_gen)"
   ]
  },
  {
   "cell_type": "code",
   "execution_count": 13,
   "metadata": {},
   "outputs": [],
   "source": [
    "pred = model_lstm.predict(test_data_gen)"
   ]
  },
  {
   "cell_type": "code",
   "execution_count": 14,
   "metadata": {},
   "outputs": [
    {
     "data": {
      "text/plain": [
       "(array([[[2.90000000e-05, 2.50000000e-05, 2.60000000e-05, 3.56160726e+09,\n",
       "          2.60000000e-05, 1.53586280e-01],\n",
       "         [2.80000000e-05, 2.60000000e-05, 2.60000000e-05, 2.06383842e+09,\n",
       "          2.70000000e-05, 1.14973180e-01],\n",
       "         [2.80000000e-05, 2.60000000e-05, 2.70000000e-05, 1.62991388e+09,\n",
       "          2.70000000e-05, 1.07060620e-01]],\n",
       " \n",
       "        [[2.80000000e-05, 2.60000000e-05, 2.60000000e-05, 2.06383842e+09,\n",
       "          2.70000000e-05, 1.14973180e-01],\n",
       "         [2.80000000e-05, 2.60000000e-05, 2.70000000e-05, 1.62991388e+09,\n",
       "          2.70000000e-05, 1.07060620e-01],\n",
       "         [2.80000000e-05, 2.60000000e-05, 2.70000000e-05, 1.41851644e+09,\n",
       "          2.60000000e-05, 8.39072810e-02]],\n",
       " \n",
       "        [[2.80000000e-05, 2.60000000e-05, 2.70000000e-05, 1.62991388e+09,\n",
       "          2.70000000e-05, 1.07060620e-01],\n",
       "         [2.80000000e-05, 2.60000000e-05, 2.70000000e-05, 1.41851644e+09,\n",
       "          2.60000000e-05, 8.39072810e-02],\n",
       "         [2.70000000e-05, 2.60000000e-05, 2.60000000e-05, 9.18512393e+08,\n",
       "          2.70000000e-05, 1.46417220e-01]],\n",
       " \n",
       "        [[2.80000000e-05, 2.60000000e-05, 2.70000000e-05, 1.41851644e+09,\n",
       "          2.60000000e-05, 8.39072810e-02],\n",
       "         [2.70000000e-05, 2.60000000e-05, 2.60000000e-05, 9.18512393e+08,\n",
       "          2.70000000e-05, 1.46417220e-01],\n",
       "         [2.70000000e-05, 2.60000000e-05, 2.70000000e-05, 1.10135640e+09,\n",
       "          2.60000000e-05, 9.08316200e-02]],\n",
       " \n",
       "        [[2.70000000e-05, 2.60000000e-05, 2.60000000e-05, 9.18512393e+08,\n",
       "          2.70000000e-05, 1.46417220e-01],\n",
       "         [2.70000000e-05, 2.60000000e-05, 2.70000000e-05, 1.10135640e+09,\n",
       "          2.60000000e-05, 9.08316200e-02],\n",
       "         [2.80000000e-05, 2.60000000e-05, 2.70000000e-05, 2.03268282e+09,\n",
       "          2.70000000e-05, 1.19920160e-01]]]),\n",
       " array([2.6e-05, 2.7e-05, 2.6e-05, 2.7e-05, 2.6e-05]))"
      ]
     },
     "execution_count": 14,
     "metadata": {},
     "output_type": "execute_result"
    }
   ],
   "source": [
    "test_data_gen[0]"
   ]
  },
  {
   "cell_type": "code",
   "execution_count": 15,
   "metadata": {},
   "outputs": [
    {
     "data": {
      "text/plain": [
       "array([[0.02864908],\n",
       "       [0.02864908],\n",
       "       [0.02864908],\n",
       "       [0.02864908],\n",
       "       [0.02864908],\n",
       "       [0.02864908],\n",
       "       [0.02864908],\n",
       "       [0.02864908],\n",
       "       [0.02864908],\n",
       "       [0.02864908],\n",
       "       [0.02864908],\n",
       "       [0.02864908]], dtype=float32)"
      ]
     },
     "execution_count": 15,
     "metadata": {},
     "output_type": "execute_result"
    }
   ],
   "source": [
    "pred"
   ]
  }
 ],
 "metadata": {
  "interpreter": {
   "hash": "b2d2dc41cbfaf67ac4a91a427b68830b69dde48fe3ce74dedd3ecbeef6226b1d"
  },
  "kernelspec": {
   "display_name": "Python 3.9.7 ('base')",
   "language": "python",
   "name": "python3"
  },
  "language_info": {
   "codemirror_mode": {
    "name": "ipython",
    "version": 3
   },
   "file_extension": ".py",
   "mimetype": "text/x-python",
   "name": "python",
   "nbconvert_exporter": "python",
   "pygments_lexer": "ipython3",
   "version": "3.9.7"
  },
  "orig_nbformat": 4
 },
 "nbformat": 4,
 "nbformat_minor": 2
}
