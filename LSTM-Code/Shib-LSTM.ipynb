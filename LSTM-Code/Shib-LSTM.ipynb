{
 "cells": [
  {
   "cell_type": "code",
   "execution_count": 69,
   "metadata": {},
   "outputs": [],
   "source": [
    "import numpy as np\n",
    "from pandas import read_csv"
   ]
  },
  {
   "cell_type": "code",
   "execution_count": 70,
   "metadata": {},
   "outputs": [
    {
     "name": "stdout",
     "output_type": "stream",
     "text": [
      "        High       Low      Open     Close      Volume  Adj Close  \\\n",
      "0   0.000034  0.000032  0.000034  0.000033   720676202   0.000033   \n",
      "1   0.000021  0.000020  0.000021  0.000021   421850042   0.000021   \n",
      "2   0.000026  0.000025  0.000026  0.000025   963213922   0.000025   \n",
      "3   0.000027  0.000026  0.000026  0.000027   918512393   0.000027   \n",
      "4   0.000033  0.000032  0.000033  0.000032   717218977   0.000032   \n",
      "5   0.000022  0.000021  0.000021  0.000022   609855710   0.000022   \n",
      "6   0.000025  0.000023  0.000025  0.000024   977852640   0.000024   \n",
      "7   0.000027  0.000026  0.000027  0.000026  1101356399   0.000026   \n",
      "8   0.000032  0.000029  0.000029  0.000030  2065365631   0.000030   \n",
      "9   0.000023  0.000021  0.000022  0.000022   660720467   0.000022   \n",
      "10  0.000028  0.000026  0.000027  0.000027  2032682825   0.000027   \n",
      "11  0.000031  0.000029  0.000030  0.000030  1558119657   0.000030   \n",
      "12  0.000022  0.000021  0.000022  0.000022   632243876   0.000022   \n",
      "13  0.000027  0.000025  0.000027  0.000026  1152162515   0.000026   \n",
      "14  0.000032  0.000030  0.000030  0.000031  1602354887   0.000031   \n",
      "15  0.000022  0.000021  0.000022  0.000022   640514222   0.000022   \n",
      "16  0.000026  0.000026  0.000026  0.000026   464520286   0.000026   \n",
      "17  0.000031  0.000030  0.000031  0.000031  1350071541   0.000031   \n",
      "18  0.000023  0.000022  0.000022  0.000023   841713079   0.000023   \n",
      "19  0.000026  0.000025  0.000026  0.000026   338664091   0.000026   \n",
      "20  0.000032  0.000028  0.000031  0.000028  2067544526   0.000028   \n",
      "21  0.000023  0.000022  0.000023  0.000022   594487997   0.000022   \n",
      "22  0.000026  0.000025  0.000026  0.000025   420838842   0.000025   \n",
      "23  0.000030  0.000028  0.000028  0.000028  1458694142   0.000028   \n",
      "24  0.000023  0.000022  0.000022  0.000022   696479699   0.000022   \n",
      "25  0.000025  0.000024  0.000025  0.000025   713137006   0.000025   \n",
      "26  0.000029  0.000027  0.000028  0.000028   929189862   0.000028   \n",
      "27  0.000025  0.000022  0.000022  0.000024  1912871449   0.000024   \n",
      "28  0.000026  0.000025  0.000025  0.000025   514266085   0.000025   \n",
      "29  0.000028  0.000025  0.000028  0.000026  1235841144   0.000026   \n",
      "30  0.000024  0.000023  0.000024  0.000023  1176567440   0.000023   \n",
      "31  0.000026  0.000025  0.000025  0.000025   628811523   0.000025   \n",
      "32  0.000027  0.000024  0.000026  0.000024  2001180593   0.000024   \n",
      "33  0.000023  0.000022  0.000023  0.000023   746003820   0.000023   \n",
      "34  0.000025  0.000024  0.000025  0.000024   520836111   0.000024   \n",
      "35  0.000025  0.000023  0.000024  0.000025  1524043647   0.000025   \n",
      "36  0.000024  0.000023  0.000023  0.000023   987790840   0.000023   \n",
      "37  0.000025  0.000024  0.000024  0.000024   431642746   0.000024   \n",
      "38  0.000027  0.000025  0.000025  0.000025  1728129985   0.000025   \n",
      "39  0.000025  0.000023  0.000023  0.000024  1272114432   0.000024   \n",
      "40  0.000025  0.000024  0.000024  0.000024   341880954   0.000024   \n",
      "41  0.000025  0.000021  0.000025  0.000024  3275038601   0.000024   \n",
      "42  0.000025  0.000024  0.000024  0.000025  1339708814   0.000025   \n",
      "43  0.000024  0.000024  0.000024  0.000024   305995904   0.000024   \n",
      "44  0.000025  0.000023  0.000024  0.000025  1740381961   0.000025   \n",
      "45  0.000025  0.000024  0.000025  0.000024   906531254   0.000024   \n",
      "46  0.000026  0.000024  0.000025  0.000024  1099351580   0.000024   \n",
      "47  0.000025  0.000024  0.000024  0.000024   472902729   0.000024   \n",
      "48  0.000025  0.000023  0.000024  0.000023  1217089606   0.000023   \n",
      "49  0.000026  0.000024  0.000024  0.000026   792774798   0.000026   \n",
      "50  0.000026  0.000023  0.000023  0.000026  1513953706   0.000026   \n",
      "51  0.000029  0.000025  0.000026  0.000026  3561607258   0.000026   \n",
      "52  0.000028  0.000026  0.000026  0.000027  2063838416   0.000027   \n",
      "53  0.000028  0.000026  0.000027  0.000027  1629913880   0.000027   \n",
      "54  0.000028  0.000026  0.000027  0.000026  1418516436   0.000026   \n",
      "\n",
      "    Polarity Score  \n",
      "0         0.095867  \n",
      "1         0.146020  \n",
      "2         0.138143  \n",
      "3         0.146417  \n",
      "4         0.071015  \n",
      "5         0.096342  \n",
      "6         0.085107  \n",
      "7         0.090832  \n",
      "8         0.113200  \n",
      "9         0.111060  \n",
      "10        0.119920  \n",
      "11        0.367391  \n",
      "12        0.075841  \n",
      "13        0.167889  \n",
      "14        0.150535  \n",
      "15        0.100922  \n",
      "16        0.115242  \n",
      "17        0.010105  \n",
      "18        0.076036  \n",
      "19        0.131267  \n",
      "20        0.232539  \n",
      "21        0.133072  \n",
      "22        0.129466  \n",
      "23        0.245144  \n",
      "24        0.089275  \n",
      "25        0.141833  \n",
      "26        0.000168  \n",
      "27        0.223525  \n",
      "28        0.141011  \n",
      "29        0.219473  \n",
      "30        0.110555  \n",
      "31        0.127655  \n",
      "32        0.135519  \n",
      "33        0.115944  \n",
      "34        0.131129  \n",
      "35        0.112503  \n",
      "36        0.000000  \n",
      "37        0.112926  \n",
      "38        0.153502  \n",
      "39        0.140484  \n",
      "40        0.121865  \n",
      "41        0.109284  \n",
      "42        0.117736  \n",
      "43        0.101390  \n",
      "44        0.107181  \n",
      "45        0.161422  \n",
      "46        0.141459  \n",
      "47        0.227658  \n",
      "48        0.199485  \n",
      "49        0.169030  \n",
      "50        0.131502  \n",
      "51        0.153586  \n",
      "52        0.114973  \n",
      "53        0.107061  \n",
      "54        0.083907  \n"
     ]
    }
   ],
   "source": [
    "#lstm_data = np.genfromtxt('./sample_data/lstm.csv', delimiter=',', skip_header=True)\n",
    "lstm_data = read_csv('lstmshib.csv')\n",
    "lstm_data = lstm_data.drop(['Date'], axis=1)\n",
    "print(lstm_data)"
   ]
  },
  {
   "cell_type": "code",
   "execution_count": 71,
   "metadata": {},
   "outputs": [],
   "source": [
    "lstm_data_X = lstm_data.drop(['Close'], axis=1)\n",
    "lstm_data_y = lstm_data['Close']"
   ]
  },
  {
   "cell_type": "code",
   "execution_count": 72,
   "metadata": {},
   "outputs": [],
   "source": [
    "look_back = 5 # how many days to look back\n",
    "batch_size = 3 # size of batches used when training\n",
    "n_feat = 6 # number of features \n",
    "n_target = 2\n",
    "n_validation = 6\n",
    "n_test = 8\n",
    "n_train = lstm_data_X.shape[0] - n_validation - n_test - 1\n"
   ]
  },
  {
   "cell_type": "code",
   "execution_count": 73,
   "metadata": {},
   "outputs": [],
   "source": [
    "lstm_data_X_train = lstm_data_X.iloc[:n_train,:]\n",
    "lstm_data_X_val = lstm_data_X.iloc[n_train:n_train + n_validation,:]\n",
    "lstm_data_X_test = lstm_data_X.iloc[n_train + n_validation:n_train + n_validation + n_test,:]\n",
    "\n",
    "lstm_data_y_train = lstm_data_y.iloc[:n_train]\n",
    "lstm_data_y_val = lstm_data_y.iloc[n_train:n_train + n_validation]\n",
    "lstm_data_y_test = lstm_data_y.iloc[n_train + n_validation:n_train + n_validation + n_test]\n",
    "# Convert to numpy arrays\n",
    "X_train = lstm_data_X_train.to_numpy()\n",
    "X_val = lstm_data_X_val.to_numpy()\n",
    "X_test = lstm_data_X_test.to_numpy()\n",
    "y_train = lstm_data_y_train.to_numpy()\n",
    "y_val = lstm_data_y_val.to_numpy()\n",
    "y_test = lstm_data_y_test.to_numpy()"
   ]
  },
  {
   "cell_type": "code",
   "execution_count": 74,
   "metadata": {},
   "outputs": [
    {
     "data": {
      "text/plain": [
       "array([[2.59999997e-05, 2.40000008e-05, 2.49999994e-05, 1.09935158e+09,\n",
       "        2.40000008e-05, 1.41458700e-01],\n",
       "       [2.49999994e-05, 2.40000008e-05, 2.40000008e-05, 4.72902729e+08,\n",
       "        2.40000008e-05, 2.27658000e-01],\n",
       "       [2.49999994e-05, 2.30000005e-05, 2.40000008e-05, 1.21708961e+09,\n",
       "        2.30000005e-05, 1.99485454e-01],\n",
       "       [2.59999997e-05, 2.40000008e-05, 2.40000008e-05, 7.92774798e+08,\n",
       "        2.59999997e-05, 1.69029840e-01],\n",
       "       [2.59999997e-05, 2.30000005e-05, 2.30000005e-05, 1.51395371e+09,\n",
       "        2.59999997e-05, 1.31502325e-01],\n",
       "       [2.90000007e-05, 2.49999994e-05, 2.59999997e-05, 3.56160726e+09,\n",
       "        2.59999997e-05, 1.53586280e-01],\n",
       "       [2.80000004e-05, 2.59999997e-05, 2.59999997e-05, 2.06383842e+09,\n",
       "        2.70000000e-05, 1.14973180e-01],\n",
       "       [2.80000004e-05, 2.59999997e-05, 2.70000000e-05, 1.62991388e+09,\n",
       "        2.70000000e-05, 1.07060620e-01]])"
      ]
     },
     "execution_count": 74,
     "metadata": {},
     "output_type": "execute_result"
    }
   ],
   "source": [
    "X_test"
   ]
  },
  {
   "cell_type": "code",
   "execution_count": 75,
   "metadata": {},
   "outputs": [
    {
     "data": {
      "text/plain": [
       "array([2.40000008e-05, 2.40000008e-05, 2.30000005e-05, 2.59999997e-05,\n",
       "       2.59999997e-05, 2.59999997e-05, 2.70000000e-05, 2.70000000e-05])"
      ]
     },
     "execution_count": 75,
     "metadata": {},
     "output_type": "execute_result"
    }
   ],
   "source": [
    "y_test"
   ]
  },
  {
   "cell_type": "code",
   "execution_count": 76,
   "metadata": {},
   "outputs": [],
   "source": [
    "import keras\n",
    "from keras.preprocessing.sequence import TimeseriesGenerator\n",
    "from keras.models import Sequential\n",
    "from keras.layers import LSTM, Dense, Activation, ThresholdedReLU, MaxPooling2D, Embedding, Dropout\n",
    "from tensorflow.keras.optimizers import Adam, SGD, RMSprop"
   ]
  },
  {
   "cell_type": "code",
   "execution_count": 77,
   "metadata": {},
   "outputs": [],
   "source": [
    "train_data_gen = TimeseriesGenerator(X_train, y_train, length=look_back, batch_size=batch_size)\n",
    "val_data_gen = TimeseriesGenerator(X_val, y_val, length=look_back, batch_size=batch_size)\n",
    "test_data_gen = TimeseriesGenerator(X_test, y_test, length=look_back, batch_size=batch_size)"
   ]
  },
  {
   "cell_type": "code",
   "execution_count": 78,
   "metadata": {},
   "outputs": [
    {
     "name": "stdout",
     "output_type": "stream",
     "text": [
      "(3, 5, 6) (3,)\n",
      "(3, 5, 6) (3,)\n",
      "(3, 5, 6) (3,)\n",
      "(3, 5, 6) (3,)\n",
      "(3, 5, 6) (3,)\n",
      "(3, 5, 6) (3,)\n",
      "(3, 5, 6) (3,)\n",
      "(3, 5, 6) (3,)\n",
      "(3, 5, 6) (3,)\n",
      "(3, 5, 6) (3,)\n",
      "(3, 5, 6) (3,)\n",
      "(2, 5, 6) (2,)\n"
     ]
    }
   ],
   "source": [
    "# check generator dimensions\n",
    "for i in range(len(train_data_gen)):\n",
    "    x, y = train_data_gen[i]\n",
    "    print(x.shape, y.shape)"
   ]
  },
  {
   "cell_type": "code",
   "execution_count": 79,
   "metadata": {},
   "outputs": [
    {
     "name": "stdout",
     "output_type": "stream",
     "text": [
      "Model: \"sequential_4\"\n",
      "_________________________________________________________________\n",
      " Layer (type)                Output Shape              Param #   \n",
      "=================================================================\n",
      " lstm_8 (LSTM)               (None, 5, 32)             4992      \n",
      "                                                                 \n",
      " dropout_8 (Dropout)         (None, 5, 32)             0         \n",
      "                                                                 \n",
      " lstm_9 (LSTM)               (None, 32)                8320      \n",
      "                                                                 \n",
      " dropout_9 (Dropout)         (None, 32)                0         \n",
      "                                                                 \n",
      " dense_4 (Dense)             (None, 1)                 33        \n",
      "                                                                 \n",
      "=================================================================\n",
      "Total params: 13,345\n",
      "Trainable params: 13,345\n",
      "Non-trainable params: 0\n",
      "_________________________________________________________________\n",
      "None\n"
     ]
    }
   ],
   "source": [
    "model_lstm = Sequential()\n",
    "model_lstm.add(LSTM(32, input_shape=(look_back, n_feat), return_sequences=True))\n",
    "model_lstm.add(Dropout(0.1))\n",
    "model_lstm.add(LSTM(32))\n",
    "model_lstm.add(Dropout(0.1))\n",
    "model_lstm.add(Dense(1))\n",
    "model_lstm.compile(optimizer=\"adam\", loss='mse', metrics=[\"mse\"])\n",
    "print(model_lstm.summary())"
   ]
  },
  {
   "cell_type": "code",
   "execution_count": 80,
   "metadata": {},
   "outputs": [
    {
     "name": "stdout",
     "output_type": "stream",
     "text": [
      "Epoch 1/20\n"
     ]
    },
    {
     "name": "stderr",
     "output_type": "stream",
     "text": [
      "C:\\Users\\moham\\AppData\\Local\\Temp/ipykernel_1520/192094070.py:1: UserWarning: `Model.fit_generator` is deprecated and will be removed in a future version. Please use `Model.fit`, which supports generators.\n",
      "  hist = model_lstm.fit_generator(train_data_gen,\n"
     ]
    },
    {
     "name": "stdout",
     "output_type": "stream",
     "text": [
      "10/10 [==============================] - 4s 85ms/step - loss: 0.0147 - mse: 0.0147 - val_loss: 0.0091 - val_mse: 0.0091\n",
      "Epoch 2/20\n",
      "10/10 [==============================] - 0s 11ms/step - loss: 0.0120 - mse: 0.0120 - val_loss: 0.0048 - val_mse: 0.0048\n",
      "Epoch 3/20\n",
      "10/10 [==============================] - 0s 11ms/step - loss: 0.0110 - mse: 0.0110 - val_loss: 2.3004e-05 - val_mse: 2.3004e-05\n",
      "Epoch 4/20\n",
      "10/10 [==============================] - 0s 13ms/step - loss: 0.0069 - mse: 0.0069 - val_loss: 6.7093e-05 - val_mse: 6.7093e-05\n",
      "Epoch 5/20\n",
      "10/10 [==============================] - 0s 10ms/step - loss: 0.0039 - mse: 0.0039 - val_loss: 3.7165e-05 - val_mse: 3.7165e-05\n",
      "Epoch 6/20\n",
      "10/10 [==============================] - 0s 10ms/step - loss: 0.0027 - mse: 0.0027 - val_loss: 5.7373e-06 - val_mse: 5.7373e-06\n",
      "Epoch 7/20\n",
      "10/10 [==============================] - 0s 10ms/step - loss: 0.0062 - mse: 0.0062 - val_loss: 5.4146e-04 - val_mse: 5.4146e-04\n",
      "Epoch 8/20\n",
      "10/10 [==============================] - 0s 10ms/step - loss: 0.0052 - mse: 0.0052 - val_loss: 4.4370e-11 - val_mse: 4.4370e-11\n",
      "Epoch 9/20\n",
      "10/10 [==============================] - 0s 10ms/step - loss: 0.0039 - mse: 0.0039 - val_loss: 7.6461e-04 - val_mse: 7.6461e-04\n",
      "Epoch 10/20\n",
      "10/10 [==============================] - 0s 10ms/step - loss: 0.0044 - mse: 0.0044 - val_loss: 4.4891e-07 - val_mse: 4.4891e-07\n",
      "Epoch 11/20\n",
      "10/10 [==============================] - 0s 10ms/step - loss: 0.0039 - mse: 0.0039 - val_loss: 0.0015 - val_mse: 0.0015\n",
      "Epoch 12/20\n",
      "10/10 [==============================] - 0s 10ms/step - loss: 0.0031 - mse: 0.0031 - val_loss: 0.0016 - val_mse: 0.0016\n",
      "Epoch 13/20\n",
      "10/10 [==============================] - 0s 10ms/step - loss: 0.0022 - mse: 0.0022 - val_loss: 7.4522e-05 - val_mse: 7.4522e-05\n",
      "Epoch 14/20\n",
      "10/10 [==============================] - 0s 10ms/step - loss: 0.0024 - mse: 0.0024 - val_loss: 2.9277e-04 - val_mse: 2.9277e-04\n",
      "Epoch 15/20\n",
      "10/10 [==============================] - 0s 10ms/step - loss: 0.0026 - mse: 0.0026 - val_loss: 1.7279e-04 - val_mse: 1.7279e-04\n",
      "Epoch 16/20\n",
      "10/10 [==============================] - 0s 10ms/step - loss: 0.0032 - mse: 0.0032 - val_loss: 2.2517e-04 - val_mse: 2.2517e-04\n",
      "Epoch 17/20\n",
      "10/10 [==============================] - 0s 10ms/step - loss: 0.0015 - mse: 0.0015 - val_loss: 6.5542e-05 - val_mse: 6.5542e-05\n",
      "Epoch 18/20\n",
      "10/10 [==============================] - 0s 10ms/step - loss: 0.0021 - mse: 0.0021 - val_loss: 3.7938e-06 - val_mse: 3.7938e-06\n",
      "Epoch 19/20\n",
      "10/10 [==============================] - 0s 10ms/step - loss: 0.0021 - mse: 0.0021 - val_loss: 4.2004e-06 - val_mse: 4.2004e-06\n",
      "Epoch 20/20\n",
      "10/10 [==============================] - 0s 10ms/step - loss: 7.4252e-04 - mse: 7.4252e-04 - val_loss: 5.1531e-05 - val_mse: 5.1531e-05\n"
     ]
    }
   ],
   "source": [
    "hist = model_lstm.fit_generator(train_data_gen,\n",
    "                                        steps_per_epoch=10,\n",
    "                                        epochs=20,\n",
    "                                        verbose=1,\n",
    "                                        validation_data=val_data_gen)"
   ]
  },
  {
   "cell_type": "code",
   "execution_count": 81,
   "metadata": {},
   "outputs": [
    {
     "name": "stdout",
     "output_type": "stream",
     "text": [
      "WARNING:tensorflow:5 out of the last 9 calls to <function Model.make_predict_function.<locals>.predict_function at 0x000002274B4DBC10> triggered tf.function retracing. Tracing is expensive and the excessive number of tracings could be due to (1) creating @tf.function repeatedly in a loop, (2) passing tensors with different shapes, (3) passing Python objects instead of tensors. For (1), please define your @tf.function outside of the loop. For (2), @tf.function has experimental_relax_shapes=True option that relaxes argument shapes that can avoid unnecessary retracing. For (3), please refer to https://www.tensorflow.org/guide/function#controlling_retracing and https://www.tensorflow.org/api_docs/python/tf/function for  more details.\n"
     ]
    }
   ],
   "source": [
    "pred = model_lstm.predict(test_data_gen)"
   ]
  },
  {
   "cell_type": "code",
   "execution_count": 82,
   "metadata": {},
   "outputs": [
    {
     "data": {
      "text/plain": [
       "(array([[[2.59999997e-05, 2.40000008e-05, 2.49999994e-05, 1.09935158e+09,\n",
       "          2.40000008e-05, 1.41458700e-01],\n",
       "         [2.49999994e-05, 2.40000008e-05, 2.40000008e-05, 4.72902729e+08,\n",
       "          2.40000008e-05, 2.27658000e-01],\n",
       "         [2.49999994e-05, 2.30000005e-05, 2.40000008e-05, 1.21708961e+09,\n",
       "          2.30000005e-05, 1.99485454e-01],\n",
       "         [2.59999997e-05, 2.40000008e-05, 2.40000008e-05, 7.92774798e+08,\n",
       "          2.59999997e-05, 1.69029840e-01],\n",
       "         [2.59999997e-05, 2.30000005e-05, 2.30000005e-05, 1.51395371e+09,\n",
       "          2.59999997e-05, 1.31502325e-01]],\n",
       " \n",
       "        [[2.49999994e-05, 2.40000008e-05, 2.40000008e-05, 4.72902729e+08,\n",
       "          2.40000008e-05, 2.27658000e-01],\n",
       "         [2.49999994e-05, 2.30000005e-05, 2.40000008e-05, 1.21708961e+09,\n",
       "          2.30000005e-05, 1.99485454e-01],\n",
       "         [2.59999997e-05, 2.40000008e-05, 2.40000008e-05, 7.92774798e+08,\n",
       "          2.59999997e-05, 1.69029840e-01],\n",
       "         [2.59999997e-05, 2.30000005e-05, 2.30000005e-05, 1.51395371e+09,\n",
       "          2.59999997e-05, 1.31502325e-01],\n",
       "         [2.90000007e-05, 2.49999994e-05, 2.59999997e-05, 3.56160726e+09,\n",
       "          2.59999997e-05, 1.53586280e-01]],\n",
       " \n",
       "        [[2.49999994e-05, 2.30000005e-05, 2.40000008e-05, 1.21708961e+09,\n",
       "          2.30000005e-05, 1.99485454e-01],\n",
       "         [2.59999997e-05, 2.40000008e-05, 2.40000008e-05, 7.92774798e+08,\n",
       "          2.59999997e-05, 1.69029840e-01],\n",
       "         [2.59999997e-05, 2.30000005e-05, 2.30000005e-05, 1.51395371e+09,\n",
       "          2.59999997e-05, 1.31502325e-01],\n",
       "         [2.90000007e-05, 2.49999994e-05, 2.59999997e-05, 3.56160726e+09,\n",
       "          2.59999997e-05, 1.53586280e-01],\n",
       "         [2.80000004e-05, 2.59999997e-05, 2.59999997e-05, 2.06383842e+09,\n",
       "          2.70000000e-05, 1.14973180e-01]]]),\n",
       " array([2.59999997e-05, 2.70000000e-05, 2.70000000e-05]))"
      ]
     },
     "execution_count": 82,
     "metadata": {},
     "output_type": "execute_result"
    }
   ],
   "source": [
    "test_data_gen[0]"
   ]
  },
  {
   "cell_type": "code",
   "execution_count": 83,
   "metadata": {},
   "outputs": [
    {
     "data": {
      "text/plain": [
       "array([[0.00720249],\n",
       "       [0.00720249],\n",
       "       [0.00720249]], dtype=float32)"
      ]
     },
     "execution_count": 83,
     "metadata": {},
     "output_type": "execute_result"
    }
   ],
   "source": [
    "pred"
   ]
  },
  {
   "cell_type": "code",
   "execution_count": 84,
   "metadata": {},
   "outputs": [],
   "source": [
    "import matplotlib.pyplot as plt"
   ]
  },
  {
   "cell_type": "code",
   "execution_count": 85,
   "metadata": {},
   "outputs": [
    {
     "data": {
      "image/png": "[encoded data removed]",
      "text/plain": [
       "<Figure size 720x288 with 1 Axes>"
      ]
     },
     "metadata": {
      "needs_background": "light"
     },
     "output_type": "display_data"
    }
   ],
   "source": [
    "# Visualising the results\n",
    "plt.figure(figsize=(10,4))\n",
    "plt.plot(y_test[0:y_test.shape[0]-5], color = 'red', label = 'Real SHIBAPrice')\n",
    "plt.plot(pred, color = 'blue', label = 'Predicted SHIBA Price')\n",
    "plt.title('SHIBA Price Prediction')\n",
    "plt.xlabel('Time')\n",
    "plt.ylabel('SHIBA Price')\n",
    "plt.ylim(0,1)\n",
    "plt.legend()\n",
    "plt.show()"
   ]
  }
 ],
 "metadata": {
  "interpreter": {
   "hash": "b2d2dc41cbfaf67ac4a91a427b68830b69dde48fe3ce74dedd3ecbeef6226b1d"
  },
  "kernelspec": {
   "display_name": "Python 3.9.7 ('base')",
   "language": "python",
   "name": "python3"
  },
  "language_info": {
   "codemirror_mode": {
    "name": "ipython",
    "version": 3
   },
   "file_extension": ".py",
   "mimetype": "text/x-python",
   "name": "python",
   "nbconvert_exporter": "python",
   "pygments_lexer": "ipython3",
   "version": "3.9.7"
  },
  "orig_nbformat": 4
 },
 "nbformat": 4,
 "nbformat_minor": 2
}
