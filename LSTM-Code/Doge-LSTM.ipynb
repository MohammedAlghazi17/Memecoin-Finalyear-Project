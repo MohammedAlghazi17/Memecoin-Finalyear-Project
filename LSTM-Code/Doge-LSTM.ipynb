{
 "cells": [
  {
   "cell_type": "code",
   "execution_count": 17,
   "metadata": {},
   "outputs": [],
   "source": [
    "import numpy as np\n",
    "from pandas import read_csv\n",
    "import pandas_datareader.data as web\n",
    "import matplotlib.pyplot as plt\n"
   ]
  },
  {
   "cell_type": "code",
   "execution_count": 18,
   "metadata": {},
   "outputs": [
    {
     "data": {
      "text/html": [
       "<div>\n",
       "<style scoped>\n",
       "    .dataframe tbody tr th:only-of-type {\n",
       "        vertical-align: middle;\n",
       "    }\n",
       "\n",
       "    .dataframe tbody tr th {\n",
       "        vertical-align: top;\n",
       "    }\n",
       "\n",
       "    .dataframe thead th {\n",
       "        text-align: right;\n",
       "    }\n",
       "</style>\n",
       "<table border=\"1\" class=\"dataframe\">\n",
       "  <thead>\n",
       "    <tr style=\"text-align: right;\">\n",
       "      <th></th>\n",
       "      <th>High</th>\n",
       "      <th>Low</th>\n",
       "      <th>Open</th>\n",
       "      <th>Close</th>\n",
       "      <th>Volume</th>\n",
       "      <th>Adj Close</th>\n",
       "    </tr>\n",
       "    <tr>\n",
       "      <th>Date</th>\n",
       "      <th></th>\n",
       "      <th></th>\n",
       "      <th></th>\n",
       "      <th></th>\n",
       "      <th></th>\n",
       "      <th></th>\n",
       "    </tr>\n",
       "  </thead>\n",
       "  <tbody>\n",
       "    <tr>\n",
       "      <th>2017-11-09</th>\n",
       "      <td>0.001415</td>\n",
       "      <td>0.001181</td>\n",
       "      <td>0.001207</td>\n",
       "      <td>0.001415</td>\n",
       "      <td>6259550</td>\n",
       "      <td>0.001415</td>\n",
       "    </tr>\n",
       "    <tr>\n",
       "      <th>2017-11-10</th>\n",
       "      <td>0.001431</td>\n",
       "      <td>0.001125</td>\n",
       "      <td>0.001421</td>\n",
       "      <td>0.001163</td>\n",
       "      <td>4246520</td>\n",
       "      <td>0.001163</td>\n",
       "    </tr>\n",
       "    <tr>\n",
       "      <th>2017-11-11</th>\n",
       "      <td>0.001257</td>\n",
       "      <td>0.001141</td>\n",
       "      <td>0.001146</td>\n",
       "      <td>0.001201</td>\n",
       "      <td>2231080</td>\n",
       "      <td>0.001201</td>\n",
       "    </tr>\n",
       "    <tr>\n",
       "      <th>2017-11-12</th>\n",
       "      <td>0.001210</td>\n",
       "      <td>0.001002</td>\n",
       "      <td>0.001189</td>\n",
       "      <td>0.001038</td>\n",
       "      <td>3288960</td>\n",
       "      <td>0.001038</td>\n",
       "    </tr>\n",
       "    <tr>\n",
       "      <th>2017-11-13</th>\n",
       "      <td>0.001212</td>\n",
       "      <td>0.001019</td>\n",
       "      <td>0.001046</td>\n",
       "      <td>0.001211</td>\n",
       "      <td>2481270</td>\n",
       "      <td>0.001211</td>\n",
       "    </tr>\n",
       "    <tr>\n",
       "      <th>...</th>\n",
       "      <td>...</td>\n",
       "      <td>...</td>\n",
       "      <td>...</td>\n",
       "      <td>...</td>\n",
       "      <td>...</td>\n",
       "      <td>...</td>\n",
       "    </tr>\n",
       "    <tr>\n",
       "      <th>2022-05-11</th>\n",
       "      <td>0.110565</td>\n",
       "      <td>0.080036</td>\n",
       "      <td>0.108449</td>\n",
       "      <td>0.084581</td>\n",
       "      <td>2556008051</td>\n",
       "      <td>0.084581</td>\n",
       "    </tr>\n",
       "    <tr>\n",
       "      <th>2022-05-12</th>\n",
       "      <td>0.089028</td>\n",
       "      <td>0.070037</td>\n",
       "      <td>0.084636</td>\n",
       "      <td>0.082671</td>\n",
       "      <td>2631064083</td>\n",
       "      <td>0.082671</td>\n",
       "    </tr>\n",
       "    <tr>\n",
       "      <th>2022-05-13</th>\n",
       "      <td>0.094254</td>\n",
       "      <td>0.082371</td>\n",
       "      <td>0.082639</td>\n",
       "      <td>0.088331</td>\n",
       "      <td>1444350618</td>\n",
       "      <td>0.088331</td>\n",
       "    </tr>\n",
       "    <tr>\n",
       "      <th>2022-05-14</th>\n",
       "      <td>0.091598</td>\n",
       "      <td>0.084483</td>\n",
       "      <td>0.088341</td>\n",
       "      <td>0.089796</td>\n",
       "      <td>902479951</td>\n",
       "      <td>0.089796</td>\n",
       "    </tr>\n",
       "    <tr>\n",
       "      <th>2022-05-15</th>\n",
       "      <td>0.090358</td>\n",
       "      <td>0.086906</td>\n",
       "      <td>0.089522</td>\n",
       "      <td>0.090358</td>\n",
       "      <td>625415232</td>\n",
       "      <td>0.090358</td>\n",
       "    </tr>\n",
       "  </tbody>\n",
       "</table>\n",
       "<p>1649 rows × 6 columns</p>\n",
       "</div>"
      ],
      "text/plain": [
       "                High       Low      Open     Close      Volume  Adj Close\n",
       "Date                                                                     \n",
       "2017-11-09  0.001415  0.001181  0.001207  0.001415     6259550   0.001415\n",
       "2017-11-10  0.001431  0.001125  0.001421  0.001163     4246520   0.001163\n",
       "2017-11-11  0.001257  0.001141  0.001146  0.001201     2231080   0.001201\n",
       "2017-11-12  0.001210  0.001002  0.001189  0.001038     3288960   0.001038\n",
       "2017-11-13  0.001212  0.001019  0.001046  0.001211     2481270   0.001211\n",
       "...              ...       ...       ...       ...         ...        ...\n",
       "2022-05-11  0.110565  0.080036  0.108449  0.084581  2556008051   0.084581\n",
       "2022-05-12  0.089028  0.070037  0.084636  0.082671  2631064083   0.082671\n",
       "2022-05-13  0.094254  0.082371  0.082639  0.088331  1444350618   0.088331\n",
       "2022-05-14  0.091598  0.084483  0.088341  0.089796   902479951   0.089796\n",
       "2022-05-15  0.090358  0.086906  0.089522  0.090358   625415232   0.090358\n",
       "\n",
       "[1649 rows x 6 columns]"
      ]
     },
     "execution_count": 18,
     "metadata": {},
     "output_type": "execute_result"
    }
   ],
   "source": [
    "doge = web.DataReader('DOGE-USD', 'yahoo')\n",
    "doge"
   ]
  },
  {
   "cell_type": "code",
   "execution_count": null,
   "metadata": {},
   "outputs": [],
   "source": []
  },
  {
   "cell_type": "code",
   "execution_count": 19,
   "metadata": {},
   "outputs": [
    {
     "name": "stdout",
     "output_type": "stream",
     "text": [
      "        High       Low      Open     Close      Volume  Adj Close  \\\n",
      "0   0.174406  0.168271  0.174406  0.170088   505900382   0.170088   \n",
      "1   0.138747  0.135565  0.137213  0.137541   383506507   0.137541   \n",
      "2   0.133649  0.127810  0.132998  0.129610   518193386   0.129610   \n",
      "3   0.148558  0.137088  0.138903  0.146453  1047399132   0.146453   \n",
      "4   0.131833  0.127399  0.130935  0.129520   555706527   0.129520   \n",
      "..       ...       ...       ...       ...         ...        ...   \n",
      "63  0.148559  0.141290  0.142557  0.144470   961074557   0.144470   \n",
      "64  0.144643  0.134099  0.137376  0.135027  1555397213   0.135027   \n",
      "65  0.144997  0.139880  0.144456  0.143210   884305263   0.143210   \n",
      "66  0.136528  0.126239  0.135033  0.127557   916612071   0.127557   \n",
      "67  0.147220  0.137172  0.143184  0.137826  1055136949   0.137826   \n",
      "\n",
      "    Polarity Score  \n",
      "0         0.095867  \n",
      "1         0.146020  \n",
      "2         0.138143  \n",
      "3         0.146417  \n",
      "4         0.134860  \n",
      "..             ...  \n",
      "63        0.114973  \n",
      "64        0.131016  \n",
      "65        0.107061  \n",
      "66        0.141040  \n",
      "67        0.083907  \n",
      "\n",
      "[68 rows x 7 columns]\n"
     ]
    }
   ],
   "source": [
    "#lstm_data = np.genfromtxt('./sample_data/lstm.csv', delimiter=',', skip_header=True)\n",
    "lstm_data = read_csv('lstmdoge.csv')\n",
    "lstm_data = lstm_data.drop(['Date'], axis=1)\n",
    "print(lstm_data)"
   ]
  },
  {
   "cell_type": "code",
   "execution_count": 20,
   "metadata": {},
   "outputs": [],
   "source": [
    "lstm_data_X = lstm_data.drop(['Close'], axis=1)\n",
    "lstm_data_y = lstm_data['Close']"
   ]
  },
  {
   "cell_type": "code",
   "execution_count": 21,
   "metadata": {},
   "outputs": [],
   "source": [
    "look_back = 5 # how many days to look back\n",
    "batch_size = 3 # size of batches used when training\n",
    "n_feat = 6 # number of features \n",
    "n_target = 2\n",
    "n_validation = 6\n",
    "n_test = 8\n",
    "n_train = lstm_data_X.shape[0] - n_validation - n_test - 1\n"
   ]
  },
  {
   "cell_type": "code",
   "execution_count": 22,
   "metadata": {},
   "outputs": [
    {
     "data": {
      "text/plain": [
       "53"
      ]
     },
     "execution_count": 22,
     "metadata": {},
     "output_type": "execute_result"
    }
   ],
   "source": [
    "n_train"
   ]
  },
  {
   "cell_type": "code",
   "execution_count": 23,
   "metadata": {},
   "outputs": [],
   "source": [
    "#lstm_data_X_train = lstm_data_X.iloc[:30,:]\n",
    "#lstm_data_X_val = lstm_data_X.iloc[30:40,:]\n",
    "#lstm_data_X_test = lstm_data_X.iloc[40:52,:]\n",
    "\n",
    "#lstm_data_y_train = lstm_data_y.iloc[:30]\n",
    "#lstm_data_y_val = lstm_data_y.iloc[30:40]\n",
    "#lstm_data_y_test = lstm_data_y.iloc[40:52]\n",
    "# Convert to numpy arrays\n",
    "#X_train = lstm_data_X_train.to_numpy()\n",
    "#X_val = lstm_data_X_val.to_numpy()\n",
    "#X_test = lstm_data_X_test.to_numpy()\n",
    "#y_train = lstm_data_y_train.to_numpy()\n",
    "#y_val = lstm_data_y_val.to_numpy()\n",
    "#y_test = lstm_data_y_test.to_numpy()"
   ]
  },
  {
   "cell_type": "code",
   "execution_count": 24,
   "metadata": {},
   "outputs": [],
   "source": [
    "lstm_data_X_train = lstm_data_X.iloc[:n_train,:]\n",
    "lstm_data_X_val = lstm_data_X.iloc[n_train:n_train + n_validation,:]\n",
    "lstm_data_X_test = lstm_data_X.iloc[n_train + n_validation:n_train + n_validation + n_test,:]\n",
    "\n",
    "lstm_data_y_train = lstm_data_y.iloc[:n_train]\n",
    "lstm_data_y_val = lstm_data_y.iloc[n_train:n_train + n_validation]\n",
    "lstm_data_y_test = lstm_data_y.iloc[n_train + n_validation:n_train + n_validation + n_test]\n",
    "# Convert to numpy arrays\n",
    "X_train = lstm_data_X_train.to_numpy()\n",
    "X_val = lstm_data_X_val.to_numpy()\n",
    "X_test = lstm_data_X_test.to_numpy()\n",
    "y_train = lstm_data_y_train.to_numpy()\n",
    "y_val = lstm_data_y_val.to_numpy()\n",
    "y_test = lstm_data_y_test.to_numpy()"
   ]
  },
  {
   "cell_type": "code",
   "execution_count": 25,
   "metadata": {},
   "outputs": [
    {
     "data": {
      "text/plain": [
       "array([[1.45404994e-01, 1.36271998e-01, 1.37847006e-01, 1.76537097e+09,\n",
       "        1.39699996e-01, 1.48283467e-01],\n",
       "       [1.34479001e-01, 1.21954001e-01, 1.23117998e-01, 7.65755924e+08,\n",
       "        1.33156002e-01, 1.31502325e-01],\n",
       "       [1.52737007e-01, 1.42456993e-01, 1.44724995e-01, 1.47687551e+09,\n",
       "        1.42656997e-01, 1.53586280e-01],\n",
       "       [1.42618001e-01, 1.36058003e-01, 1.39690995e-01, 1.10513751e+09,\n",
       "        1.37363002e-01, 1.28670540e-01],\n",
       "       [1.48559004e-01, 1.41289994e-01, 1.42556995e-01, 9.61074557e+08,\n",
       "        1.44470006e-01, 1.14973180e-01],\n",
       "       [1.44642994e-01, 1.34099007e-01, 1.37375996e-01, 1.55539721e+09,\n",
       "        1.35027006e-01, 1.31015680e-01],\n",
       "       [1.44997001e-01, 1.39880002e-01, 1.44455999e-01, 8.84305263e+08,\n",
       "        1.43209994e-01, 1.07060620e-01],\n",
       "       [1.36528000e-01, 1.26239002e-01, 1.35032997e-01, 9.16612071e+08,\n",
       "        1.27556995e-01, 1.41039940e-01]])"
      ]
     },
     "execution_count": 25,
     "metadata": {},
     "output_type": "execute_result"
    }
   ],
   "source": [
    "X_test"
   ]
  },
  {
   "cell_type": "code",
   "execution_count": 26,
   "metadata": {},
   "outputs": [
    {
     "data": {
      "text/plain": [
       "array([0.1397    , 0.133156  , 0.142657  , 0.137363  , 0.14447001,\n",
       "       0.13502701, 0.14320999, 0.12755699])"
      ]
     },
     "execution_count": 26,
     "metadata": {},
     "output_type": "execute_result"
    }
   ],
   "source": [
    "y_test"
   ]
  },
  {
   "cell_type": "code",
   "execution_count": 27,
   "metadata": {},
   "outputs": [
    {
     "name": "stdout",
     "output_type": "stream",
     "text": [
      "The tensorboard extension is already loaded. To reload it, use:\n",
      "  %reload_ext tensorboard\n"
     ]
    }
   ],
   "source": [
    "import keras\n",
    "from keras.preprocessing.sequence import TimeseriesGenerator\n",
    "from keras.models import Sequential\n",
    "from keras.layers import LSTM, Dense, Activation, ThresholdedReLU, MaxPooling2D, Embedding, Dropout\n",
    "from tensorflow.keras.optimizers import Adam, SGD, RMSprop\n",
    "# Load the TensorBoard notebook extension.\n",
    "%load_ext tensorboard\n",
    "from datetime import datetime\n"
   ]
  },
  {
   "cell_type": "code",
   "execution_count": 28,
   "metadata": {},
   "outputs": [],
   "source": [
    "train_data_gen = TimeseriesGenerator(X_train, y_train, length=look_back, batch_size=batch_size)\n",
    "val_data_gen = TimeseriesGenerator(X_val, y_val, length=look_back, batch_size=batch_size)\n",
    "test_data_gen = TimeseriesGenerator(X_test, y_test, length=look_back, batch_size=batch_size)"
   ]
  },
  {
   "cell_type": "code",
   "execution_count": 29,
   "metadata": {},
   "outputs": [
    {
     "name": "stdout",
     "output_type": "stream",
     "text": [
      "(3, 5, 6) (3,)\n",
      "(3, 5, 6) (3,)\n",
      "(3, 5, 6) (3,)\n",
      "(3, 5, 6) (3,)\n",
      "(3, 5, 6) (3,)\n",
      "(3, 5, 6) (3,)\n",
      "(3, 5, 6) (3,)\n",
      "(3, 5, 6) (3,)\n",
      "(3, 5, 6) (3,)\n",
      "(3, 5, 6) (3,)\n",
      "(3, 5, 6) (3,)\n",
      "(3, 5, 6) (3,)\n",
      "(3, 5, 6) (3,)\n",
      "(3, 5, 6) (3,)\n",
      "(3, 5, 6) (3,)\n",
      "(3, 5, 6) (3,)\n"
     ]
    }
   ],
   "source": [
    "# check generator dimensions\n",
    "for i in range(len(train_data_gen)):\n",
    "    x, y = train_data_gen[i]\n",
    "    print(x.shape, y.shape)"
   ]
  },
  {
   "cell_type": "code",
   "execution_count": 30,
   "metadata": {},
   "outputs": [
    {
     "name": "stdout",
     "output_type": "stream",
     "text": [
      "Model: \"sequential_1\"\n",
      "_________________________________________________________________\n",
      " Layer (type)                Output Shape              Param #   \n",
      "=================================================================\n",
      " lstm_2 (LSTM)               (None, 5, 32)             4992      \n",
      "                                                                 \n",
      " dropout_2 (Dropout)         (None, 5, 32)             0         \n",
      "                                                                 \n",
      " lstm_3 (LSTM)               (None, 32)                8320      \n",
      "                                                                 \n",
      " dropout_3 (Dropout)         (None, 32)                0         \n",
      "                                                                 \n",
      " dense_1 (Dense)             (None, 1)                 33        \n",
      "                                                                 \n",
      "=================================================================\n",
      "Total params: 13,345\n",
      "Trainable params: 13,345\n",
      "Non-trainable params: 0\n",
      "_________________________________________________________________\n",
      "None\n"
     ]
    }
   ],
   "source": [
    "model_lstm = Sequential()\n",
    "model_lstm.add(LSTM(32, input_shape=(look_back, n_feat), return_sequences=True))\n",
    "model_lstm.add(Dropout(0.1))\n",
    "model_lstm.add(LSTM(32))\n",
    "model_lstm.add(Dropout(0.1))\n",
    "model_lstm.add(Dense(1))\n",
    "model_lstm.compile(optimizer=\"adam\", loss='mse', metrics=[\"mse\"])\n",
    "print(model_lstm.summary())"
   ]
  },
  {
   "cell_type": "code",
   "execution_count": 31,
   "metadata": {},
   "outputs": [
    {
     "name": "stdout",
     "output_type": "stream",
     "text": [
      "Epoch 1/30\n"
     ]
    },
    {
     "name": "stderr",
     "output_type": "stream",
     "text": [
      "C:\\Users\\moham\\AppData\\Local\\Temp/ipykernel_13368/531576743.py:4: UserWarning: `Model.fit_generator` is deprecated and will be removed in a future version. Please use `Model.fit`, which supports generators.\n",
      "  hist = model_lstm.fit_generator(train_data_gen,\n"
     ]
    },
    {
     "name": "stdout",
     "output_type": "stream",
     "text": [
      "10/10 [==============================] - 4s 101ms/step - loss: 0.0084 - mse: 0.0084 - val_loss: 6.4352e-04 - val_mse: 6.4352e-04\n",
      "Epoch 2/30\n",
      "10/10 [==============================] - 0s 16ms/step - loss: 0.0037 - mse: 0.0037 - val_loss: 8.8279e-04 - val_mse: 8.8279e-04\n",
      "Epoch 3/30\n",
      "10/10 [==============================] - 0s 15ms/step - loss: 0.0039 - mse: 0.0039 - val_loss: 2.0397e-04 - val_mse: 2.0397e-04\n",
      "Epoch 4/30\n",
      "10/10 [==============================] - 0s 15ms/step - loss: 0.0033 - mse: 0.0033 - val_loss: 0.0013 - val_mse: 0.0013\n",
      "Epoch 5/30\n",
      "10/10 [==============================] - 0s 16ms/step - loss: 0.0029 - mse: 0.0029 - val_loss: 9.7832e-04 - val_mse: 9.7832e-04\n",
      "Epoch 6/30\n",
      "10/10 [==============================] - 0s 16ms/step - loss: 0.0034 - mse: 0.0034 - val_loss: 1.2924e-04 - val_mse: 1.2924e-04\n",
      "Epoch 7/30\n",
      "10/10 [==============================] - 0s 15ms/step - loss: 0.0028 - mse: 0.0028 - val_loss: 1.6017e-05 - val_mse: 1.6017e-05\n",
      "Epoch 8/30\n",
      "10/10 [==============================] - 0s 16ms/step - loss: 0.0027 - mse: 0.0027 - val_loss: 5.3964e-05 - val_mse: 5.3964e-05\n",
      "Epoch 9/30\n",
      "10/10 [==============================] - 0s 17ms/step - loss: 0.0018 - mse: 0.0018 - val_loss: 6.2330e-04 - val_mse: 6.2330e-04\n",
      "Epoch 10/30\n",
      "10/10 [==============================] - 0s 15ms/step - loss: 0.0021 - mse: 0.0021 - val_loss: 6.8035e-04 - val_mse: 6.8035e-04\n",
      "Epoch 11/30\n",
      "10/10 [==============================] - 0s 18ms/step - loss: 0.0026 - mse: 0.0026 - val_loss: 1.0048e-08 - val_mse: 1.0048e-08\n",
      "Epoch 12/30\n",
      "10/10 [==============================] - 0s 16ms/step - loss: 0.0030 - mse: 0.0030 - val_loss: 3.2365e-05 - val_mse: 3.2365e-05\n",
      "Epoch 13/30\n",
      "10/10 [==============================] - 0s 18ms/step - loss: 0.0011 - mse: 0.0011 - val_loss: 5.5314e-04 - val_mse: 5.5314e-04\n",
      "Epoch 14/30\n",
      "10/10 [==============================] - 0s 16ms/step - loss: 0.0016 - mse: 0.0016 - val_loss: 6.0422e-04 - val_mse: 6.0422e-04\n",
      "Epoch 15/30\n",
      "10/10 [==============================] - 0s 15ms/step - loss: 0.0015 - mse: 0.0015 - val_loss: 7.6184e-04 - val_mse: 7.6184e-04\n",
      "Epoch 16/30\n",
      "10/10 [==============================] - 0s 15ms/step - loss: 0.0012 - mse: 0.0012 - val_loss: 1.4015e-04 - val_mse: 1.4015e-04\n",
      "Epoch 17/30\n",
      "10/10 [==============================] - 0s 15ms/step - loss: 0.0011 - mse: 0.0011 - val_loss: 3.1577e-04 - val_mse: 3.1577e-04\n",
      "Epoch 18/30\n",
      "10/10 [==============================] - 0s 15ms/step - loss: 0.0016 - mse: 0.0016 - val_loss: 1.7498e-04 - val_mse: 1.7498e-04\n",
      "Epoch 19/30\n",
      "10/10 [==============================] - 0s 16ms/step - loss: 9.5093e-04 - mse: 9.5093e-04 - val_loss: 2.1424e-04 - val_mse: 2.1424e-04\n",
      "Epoch 20/30\n",
      "10/10 [==============================] - 0s 16ms/step - loss: 0.0013 - mse: 0.0013 - val_loss: 1.1841e-04 - val_mse: 1.1841e-04\n",
      "Epoch 21/30\n",
      "10/10 [==============================] - 0s 16ms/step - loss: 7.4935e-04 - mse: 7.4935e-04 - val_loss: 1.7890e-06 - val_mse: 1.7890e-06\n",
      "Epoch 22/30\n",
      "10/10 [==============================] - 0s 16ms/step - loss: 0.0012 - mse: 0.0012 - val_loss: 1.1902e-04 - val_mse: 1.1902e-04\n",
      "Epoch 23/30\n",
      "10/10 [==============================] - 0s 17ms/step - loss: 8.9124e-04 - mse: 8.9124e-04 - val_loss: 6.6124e-05 - val_mse: 6.6124e-05\n",
      "Epoch 24/30\n",
      "10/10 [==============================] - 0s 17ms/step - loss: 7.2706e-04 - mse: 7.2706e-04 - val_loss: 1.9665e-04 - val_mse: 1.9665e-04\n",
      "Epoch 25/30\n",
      "10/10 [==============================] - 0s 16ms/step - loss: 4.2645e-04 - mse: 4.2645e-04 - val_loss: 1.5136e-04 - val_mse: 1.5136e-04\n",
      "Epoch 26/30\n",
      "10/10 [==============================] - 0s 16ms/step - loss: 6.5922e-04 - mse: 6.5922e-04 - val_loss: 1.1895e-04 - val_mse: 1.1895e-04\n",
      "Epoch 27/30\n",
      "10/10 [==============================] - 0s 16ms/step - loss: 9.8118e-04 - mse: 9.8118e-04 - val_loss: 1.7948e-04 - val_mse: 1.7948e-04\n",
      "Epoch 28/30\n",
      "10/10 [==============================] - 0s 15ms/step - loss: 7.4889e-04 - mse: 7.4889e-04 - val_loss: 3.1526e-04 - val_mse: 3.1526e-04\n",
      "Epoch 29/30\n",
      "10/10 [==============================] - 0s 16ms/step - loss: 5.1093e-04 - mse: 5.1093e-04 - val_loss: 2.3590e-04 - val_mse: 2.3590e-04\n",
      "Epoch 30/30\n",
      "10/10 [==============================] - 0s 15ms/step - loss: 5.5659e-04 - mse: 5.5659e-04 - val_loss: 4.3542e-05 - val_mse: 4.3542e-05\n"
     ]
    }
   ],
   "source": [
    "# Define the Keras TensorBoard callback.\n",
    "logdir=\"logs/fit/\" + datetime.now().strftime(\"%Y%m%d-%H%M%S\")\n",
    "tensorboard_callback = keras.callbacks.TensorBoard(log_dir=logdir)\n",
    "hist = model_lstm.fit_generator(train_data_gen,\n",
    "                                        steps_per_epoch=10,\n",
    "                                        epochs=30,\n",
    "                                        verbose=1,\n",
    "                                        validation_data=val_data_gen, #training put a graph of traing loss and val loss\n",
    "                                        callbacks=[tensorboard_callback])\n"
   ]
  },
  {
   "cell_type": "code",
   "execution_count": 32,
   "metadata": {},
   "outputs": [
    {
     "data": {
      "image/png": "[encoded data removed]",
      "text/plain": [
       "<Figure size 432x288 with 1 Axes>"
      ]
     },
     "metadata": {
      "needs_background": "light"
     },
     "output_type": "display_data"
    }
   ],
   "source": [
    "plt.plot(hist.history['loss'])\n",
    "plt.plot(hist.history['val_loss'])\n",
    "plt.title('model loss')\n",
    "plt.ylabel('loss')\n",
    "plt.xlabel('epoch')\n",
    "plt.legend(['train', 'validation'], loc='upper right')\n",
    "plt.show()"
   ]
  },
  {
   "cell_type": "code",
   "execution_count": 33,
   "metadata": {},
   "outputs": [],
   "source": [
    "pred = model_lstm.predict(test_data_gen)"
   ]
  },
  {
   "cell_type": "code",
   "execution_count": 34,
   "metadata": {},
   "outputs": [
    {
     "data": {
      "text/plain": [
       "(array([[[1.45404994e-01, 1.36271998e-01, 1.37847006e-01, 1.76537097e+09,\n",
       "          1.39699996e-01, 1.48283467e-01],\n",
       "         [1.34479001e-01, 1.21954001e-01, 1.23117998e-01, 7.65755924e+08,\n",
       "          1.33156002e-01, 1.31502325e-01],\n",
       "         [1.52737007e-01, 1.42456993e-01, 1.44724995e-01, 1.47687551e+09,\n",
       "          1.42656997e-01, 1.53586280e-01],\n",
       "         [1.42618001e-01, 1.36058003e-01, 1.39690995e-01, 1.10513751e+09,\n",
       "          1.37363002e-01, 1.28670540e-01],\n",
       "         [1.48559004e-01, 1.41289994e-01, 1.42556995e-01, 9.61074557e+08,\n",
       "          1.44470006e-01, 1.14973180e-01]],\n",
       " \n",
       "        [[1.34479001e-01, 1.21954001e-01, 1.23117998e-01, 7.65755924e+08,\n",
       "          1.33156002e-01, 1.31502325e-01],\n",
       "         [1.52737007e-01, 1.42456993e-01, 1.44724995e-01, 1.47687551e+09,\n",
       "          1.42656997e-01, 1.53586280e-01],\n",
       "         [1.42618001e-01, 1.36058003e-01, 1.39690995e-01, 1.10513751e+09,\n",
       "          1.37363002e-01, 1.28670540e-01],\n",
       "         [1.48559004e-01, 1.41289994e-01, 1.42556995e-01, 9.61074557e+08,\n",
       "          1.44470006e-01, 1.14973180e-01],\n",
       "         [1.44642994e-01, 1.34099007e-01, 1.37375996e-01, 1.55539721e+09,\n",
       "          1.35027006e-01, 1.31015680e-01]],\n",
       " \n",
       "        [[1.52737007e-01, 1.42456993e-01, 1.44724995e-01, 1.47687551e+09,\n",
       "          1.42656997e-01, 1.53586280e-01],\n",
       "         [1.42618001e-01, 1.36058003e-01, 1.39690995e-01, 1.10513751e+09,\n",
       "          1.37363002e-01, 1.28670540e-01],\n",
       "         [1.48559004e-01, 1.41289994e-01, 1.42556995e-01, 9.61074557e+08,\n",
       "          1.44470006e-01, 1.14973180e-01],\n",
       "         [1.44642994e-01, 1.34099007e-01, 1.37375996e-01, 1.55539721e+09,\n",
       "          1.35027006e-01, 1.31015680e-01],\n",
       "         [1.44997001e-01, 1.39880002e-01, 1.44455999e-01, 8.84305263e+08,\n",
       "          1.43209994e-01, 1.07060620e-01]]]),\n",
       " array([0.13502701, 0.14320999, 0.12755699]))"
      ]
     },
     "execution_count": 34,
     "metadata": {},
     "output_type": "execute_result"
    }
   ],
   "source": [
    "test_data_gen[0]"
   ]
  },
  {
   "cell_type": "code",
   "execution_count": 35,
   "metadata": {},
   "outputs": [
    {
     "data": {
      "text/plain": [
       "array([[0.13813335],\n",
       "       [0.13813335],\n",
       "       [0.13813335]], dtype=float32)"
      ]
     },
     "execution_count": 35,
     "metadata": {},
     "output_type": "execute_result"
    }
   ],
   "source": [
    "pred"
   ]
  },
  {
   "cell_type": "code",
   "execution_count": 36,
   "metadata": {},
   "outputs": [],
   "source": [
    "import matplotlib.pyplot as plt"
   ]
  },
  {
   "cell_type": "code",
   "execution_count": 37,
   "metadata": {},
   "outputs": [
    {
     "data": {
      "image/png": "[encoded data removed]",
      "text/plain": [
       "<Figure size 720x288 with 1 Axes>"
      ]
     },
     "metadata": {
      "needs_background": "light"
     },
     "output_type": "display_data"
    }
   ],
   "source": [
    "# Visualising the results\n",
    "plt.figure(figsize=(10,4))\n",
    "plt.plot(y_test[0:y_test.shape[0]-5], color = 'red', label = 'Real Dogecoin Price')\n",
    "plt.plot(pred, color = 'blue', label = 'Predicted Dogecoin Price')\n",
    "plt.title('Doge Price Prediction')\n",
    "plt.xlabel('Time')\n",
    "plt.ylabel('Doge Price')\n",
    "plt.ylim(0,1)\n",
    "plt.legend()\n",
    "plt.show()"
   ]
  },
  {
   "cell_type": "code",
   "execution_count": 38,
   "metadata": {},
   "outputs": [],
   "source": [
    "# on cmd promt, you should use the function below to kill the tensorboard \n",
    "#taskkill /im tensorboard.exe /f\n",
    "#del /q %TMP%\\.tensorboard-info\\*#"
   ]
  },
  {
   "cell_type": "code",
   "execution_count": 39,
   "metadata": {},
   "outputs": [
    {
     "data": {
      "text/plain": [
       "Reusing TensorBoard on port 6006 (pid 2592), started 1 day, 6:29:08 ago. (Use '!kill 2592' to kill it.)"
      ]
     },
     "metadata": {},
     "output_type": "display_data"
    },
    {
     "data": {
      "text/html": [
       "\n",
       "      <iframe id=\"tensorboard-frame-f6b954b93af841db\" width=\"100%\" height=\"800\" frameborder=\"0\">\n",
       "      </iframe>\n",
       "      <script>\n",
       "        (function() {\n",
       "          const frame = document.getElementById(\"tensorboard-frame-f6b954b93af841db\");\n",
       "          const url = new URL(\"http://localhost\");\n",
       "          const port = 6006;\n",
       "          if (port) {\n",
       "            url.port = port;\n",
       "          }\n",
       "          frame.src = url;\n",
       "        })();\n",
       "      </script>\n",
       "    "
      ],
      "text/plain": [
       "<IPython.core.display.HTML object>"
      ]
     },
     "metadata": {},
     "output_type": "display_data"
    }
   ],
   "source": [
    "%tensorboard --logdir logs"
   ]
  }
 ],
 "metadata": {
  "interpreter": {
   "hash": "2f2e1fb2a3b1494e2ce2d620806ace1f30b1e2c236dd55f932f68dad84626b10"
  },
  "kernelspec": {
   "display_name": "Python 3.9.5 64-bit",
   "language": "python",
   "name": "python3"
  },
  "language_info": {
   "codemirror_mode": {
    "name": "ipython",
    "version": 3
   },
   "file_extension": ".py",
   "mimetype": "text/x-python",
   "name": "python",
   "nbconvert_exporter": "python",
   "pygments_lexer": "ipython3",
   "version": "3.9.5"
  },
  "orig_nbformat": 4
 },
 "nbformat": 4,
 "nbformat_minor": 2
}
