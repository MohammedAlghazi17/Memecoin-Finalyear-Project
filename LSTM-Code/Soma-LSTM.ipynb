{
 "cells": [
  {
   "cell_type": "code",
   "execution_count": 1,
   "metadata": {},
   "outputs": [],
   "source": [
    "import numpy as np\n",
    "from pandas import read_csv\n",
    "import pandas_datareader.data as web\n",
    "import matplotlib.pyplot as plt\n"
   ]
  },
  {
   "cell_type": "code",
   "execution_count": 2,
   "metadata": {},
   "outputs": [
    {
     "data": {
      "text/html": [
       "<div>\n",
       "<style scoped>\n",
       "    .dataframe tbody tr th:only-of-type {\n",
       "        vertical-align: middle;\n",
       "    }\n",
       "\n",
       "    .dataframe tbody tr th {\n",
       "        vertical-align: top;\n",
       "    }\n",
       "\n",
       "    .dataframe thead th {\n",
       "        text-align: right;\n",
       "    }\n",
       "</style>\n",
       "<table border=\"1\" class=\"dataframe\">\n",
       "  <thead>\n",
       "    <tr style=\"text-align: right;\">\n",
       "      <th></th>\n",
       "      <th>High</th>\n",
       "      <th>Low</th>\n",
       "      <th>Open</th>\n",
       "      <th>Close</th>\n",
       "      <th>Volume</th>\n",
       "      <th>Adj Close</th>\n",
       "    </tr>\n",
       "    <tr>\n",
       "      <th>Date</th>\n",
       "      <th></th>\n",
       "      <th></th>\n",
       "      <th></th>\n",
       "      <th></th>\n",
       "      <th></th>\n",
       "      <th></th>\n",
       "    </tr>\n",
       "  </thead>\n",
       "  <tbody>\n",
       "    <tr>\n",
       "      <th>2017-11-09</th>\n",
       "      <td>3.039360</td>\n",
       "      <td>2.840420</td>\n",
       "      <td>2.855220</td>\n",
       "      <td>2.967630</td>\n",
       "      <td>4630550</td>\n",
       "      <td>2.967630</td>\n",
       "    </tr>\n",
       "    <tr>\n",
       "      <th>2017-11-10</th>\n",
       "      <td>2.993850</td>\n",
       "      <td>2.606440</td>\n",
       "      <td>2.959770</td>\n",
       "      <td>2.616590</td>\n",
       "      <td>3069090</td>\n",
       "      <td>2.616590</td>\n",
       "    </tr>\n",
       "    <tr>\n",
       "      <th>2017-11-11</th>\n",
       "      <td>2.714720</td>\n",
       "      <td>2.520320</td>\n",
       "      <td>2.627440</td>\n",
       "      <td>2.597220</td>\n",
       "      <td>3258960</td>\n",
       "      <td>2.597220</td>\n",
       "    </tr>\n",
       "    <tr>\n",
       "      <th>2017-11-12</th>\n",
       "      <td>3.109670</td>\n",
       "      <td>2.173080</td>\n",
       "      <td>2.598040</td>\n",
       "      <td>2.817210</td>\n",
       "      <td>9822060</td>\n",
       "      <td>2.817210</td>\n",
       "    </tr>\n",
       "    <tr>\n",
       "      <th>2017-11-13</th>\n",
       "      <td>3.254420</td>\n",
       "      <td>2.666150</td>\n",
       "      <td>2.795100</td>\n",
       "      <td>2.895720</td>\n",
       "      <td>9818930</td>\n",
       "      <td>2.895720</td>\n",
       "    </tr>\n",
       "    <tr>\n",
       "      <th>...</th>\n",
       "      <td>...</td>\n",
       "      <td>...</td>\n",
       "      <td>...</td>\n",
       "      <td>...</td>\n",
       "      <td>...</td>\n",
       "      <td>...</td>\n",
       "    </tr>\n",
       "    <tr>\n",
       "      <th>2022-05-11</th>\n",
       "      <td>0.745291</td>\n",
       "      <td>0.641406</td>\n",
       "      <td>0.727768</td>\n",
       "      <td>0.643084</td>\n",
       "      <td>391894</td>\n",
       "      <td>0.643084</td>\n",
       "    </tr>\n",
       "    <tr>\n",
       "      <th>2022-05-12</th>\n",
       "      <td>0.656063</td>\n",
       "      <td>0.560419</td>\n",
       "      <td>0.643348</td>\n",
       "      <td>0.639287</td>\n",
       "      <td>526501</td>\n",
       "      <td>0.639287</td>\n",
       "    </tr>\n",
       "    <tr>\n",
       "      <th>2022-05-13</th>\n",
       "      <td>0.708057</td>\n",
       "      <td>0.634488</td>\n",
       "      <td>0.638468</td>\n",
       "      <td>0.674481</td>\n",
       "      <td>407607</td>\n",
       "      <td>0.674481</td>\n",
       "    </tr>\n",
       "    <tr>\n",
       "      <th>2022-05-14</th>\n",
       "      <td>0.695439</td>\n",
       "      <td>0.655490</td>\n",
       "      <td>0.674821</td>\n",
       "      <td>0.690910</td>\n",
       "      <td>222011</td>\n",
       "      <td>0.690910</td>\n",
       "    </tr>\n",
       "    <tr>\n",
       "      <th>2022-05-15</th>\n",
       "      <td>0.693841</td>\n",
       "      <td>0.674689</td>\n",
       "      <td>0.689188</td>\n",
       "      <td>0.680900</td>\n",
       "      <td>204418</td>\n",
       "      <td>0.680900</td>\n",
       "    </tr>\n",
       "  </tbody>\n",
       "</table>\n",
       "<p>1649 rows × 6 columns</p>\n",
       "</div>"
      ],
      "text/plain": [
       "                High       Low      Open     Close   Volume  Adj Close\n",
       "Date                                                                  \n",
       "2017-11-09  3.039360  2.840420  2.855220  2.967630  4630550   2.967630\n",
       "2017-11-10  2.993850  2.606440  2.959770  2.616590  3069090   2.616590\n",
       "2017-11-11  2.714720  2.520320  2.627440  2.597220  3258960   2.597220\n",
       "2017-11-12  3.109670  2.173080  2.598040  2.817210  9822060   2.817210\n",
       "2017-11-13  3.254420  2.666150  2.795100  2.895720  9818930   2.895720\n",
       "...              ...       ...       ...       ...      ...        ...\n",
       "2022-05-11  0.745291  0.641406  0.727768  0.643084   391894   0.643084\n",
       "2022-05-12  0.656063  0.560419  0.643348  0.639287   526501   0.639287\n",
       "2022-05-13  0.708057  0.634488  0.638468  0.674481   407607   0.674481\n",
       "2022-05-14  0.695439  0.655490  0.674821  0.690910   222011   0.690910\n",
       "2022-05-15  0.693841  0.674689  0.689188  0.680900   204418   0.680900\n",
       "\n",
       "[1649 rows x 6 columns]"
      ]
     },
     "execution_count": 2,
     "metadata": {},
     "output_type": "execute_result"
    }
   ],
   "source": [
    "doge = web.DataReader('MONA-USD', 'yahoo')\n",
    "doge"
   ]
  },
  {
   "cell_type": "code",
   "execution_count": 3,
   "metadata": {},
   "outputs": [
    {
     "name": "stdout",
     "output_type": "stream",
     "text": [
      "        High       Low      Open     Close   Volume  Adj Close  Polarity Score\n",
      "0   0.040466  0.038822  0.039959  0.039110  4540382   0.039110        0.095867\n",
      "1   0.021496  0.019967  0.021055  0.020416  2354228   0.020416        0.146020\n",
      "2   0.021305  0.020069  0.021282  0.020087  3187547   0.020087        0.138143\n",
      "3   0.025363  0.023064  0.024562  0.023468  8960013   0.023468        0.146417\n",
      "4   0.014378  0.014238  0.014378  0.014256  3676427   0.014256        0.134860\n",
      "..       ...       ...       ...       ...      ...        ...             ...\n",
      "59  0.023269  0.022024  0.022421  0.022790  3532996   0.022790        0.114973\n",
      "60  0.016646  0.015695  0.016506  0.015704  5824475   0.015704        0.131016\n",
      "61  0.022805  0.021691  0.022789  0.022610  5609570   0.022610        0.107061\n",
      "62  0.015841  0.014353  0.015703  0.014370  4648590   0.014370        0.141040\n",
      "63  0.022841  0.021453  0.022609  0.021560  5378382   0.021560        0.083907\n",
      "\n",
      "[64 rows x 7 columns]\n"
     ]
    }
   ],
   "source": [
    "#lstm_data = np.genfromtxt('./sample_data/lstm.csv', delimiter=',', skip_header=True)\n",
    "lstm_data = read_csv('lstmsamo.csv')\n",
    "lstm_data = lstm_data.drop(['Date'], axis=1)\n",
    "print(lstm_data)"
   ]
  },
  {
   "cell_type": "code",
   "execution_count": 4,
   "metadata": {},
   "outputs": [],
   "source": [
    "lstm_data_X = lstm_data.drop(['Close'], axis=1)\n",
    "lstm_data_y = lstm_data['Close']"
   ]
  },
  {
   "cell_type": "code",
   "execution_count": 5,
   "metadata": {},
   "outputs": [],
   "source": [
    "look_back = 5 # how many days to look back\n",
    "batch_size = 3 # size of batches used when training\n",
    "n_feat = 6 # number of features \n",
    "n_target = 2\n",
    "n_validation = 6\n",
    "n_test = 8\n",
    "n_train = lstm_data_X.shape[0] - n_validation - n_test - 1\n"
   ]
  },
  {
   "cell_type": "code",
   "execution_count": 6,
   "metadata": {},
   "outputs": [
    {
     "data": {
      "text/plain": [
       "49"
      ]
     },
     "execution_count": 6,
     "metadata": {},
     "output_type": "execute_result"
    }
   ],
   "source": [
    "n_train"
   ]
  },
  {
   "cell_type": "code",
   "execution_count": 7,
   "metadata": {},
   "outputs": [],
   "source": [
    "#lstm_data_X_train = lstm_data_X.iloc[:30,:]\n",
    "#lstm_data_X_val = lstm_data_X.iloc[30:40,:]\n",
    "#lstm_data_X_test = lstm_data_X.iloc[40:52,:]\n",
    "\n",
    "#lstm_data_y_train = lstm_data_y.iloc[:30]\n",
    "#lstm_data_y_val = lstm_data_y.iloc[30:40]\n",
    "#lstm_data_y_test = lstm_data_y.iloc[40:52]\n",
    "# Convert to numpy arrays\n",
    "#X_train = lstm_data_X_train.to_numpy()\n",
    "#X_val = lstm_data_X_val.to_numpy()\n",
    "#X_test = lstm_data_X_test.to_numpy()\n",
    "#y_train = lstm_data_y_train.to_numpy()\n",
    "#y_val = lstm_data_y_val.to_numpy()\n",
    "#y_test = lstm_data_y_test.to_numpy()"
   ]
  },
  {
   "cell_type": "code",
   "execution_count": 8,
   "metadata": {},
   "outputs": [],
   "source": [
    "lstm_data_X_train = lstm_data_X.iloc[:n_train,:]\n",
    "lstm_data_X_val = lstm_data_X.iloc[n_train:n_train + n_validation,:]\n",
    "lstm_data_X_test = lstm_data_X.iloc[n_train + n_validation:n_train + n_validation + n_test,:]\n",
    "\n",
    "lstm_data_y_train = lstm_data_y.iloc[:n_train]\n",
    "lstm_data_y_val = lstm_data_y.iloc[n_train:n_train + n_validation]\n",
    "lstm_data_y_test = lstm_data_y.iloc[n_train + n_validation:n_train + n_validation + n_test]\n",
    "# Convert to numpy arrays\n",
    "X_train = lstm_data_X_train.to_numpy()\n",
    "X_val = lstm_data_X_val.to_numpy()\n",
    "X_test = lstm_data_X_test.to_numpy()\n",
    "y_train = lstm_data_y_train.to_numpy()\n",
    "y_val = lstm_data_y_val.to_numpy()\n",
    "y_test = lstm_data_y_test.to_numpy()"
   ]
  },
  {
   "cell_type": "code",
   "execution_count": 9,
   "metadata": {},
   "outputs": [
    {
     "data": {
      "text/plain": [
       "array([[1.60910003e-02, 1.56830009e-02, 1.58719998e-02, 4.58019800e+06,\n",
       "        1.58030000e-02, 1.48283467e-01],\n",
       "       [2.02500001e-02, 1.89590007e-02, 1.90309994e-02, 4.10461000e+06,\n",
       "        2.02270001e-02, 1.31502325e-01],\n",
       "       [2.25079991e-02, 1.84300002e-02, 1.84509996e-02, 7.97182800e+06,\n",
       "        2.24239994e-02, 1.53586280e-01],\n",
       "       [1.65059995e-02, 1.55039998e-02, 1.58009995e-02, 5.23944600e+06,\n",
       "        1.65059995e-02, 1.28670540e-01],\n",
       "       [2.32689995e-02, 2.20240001e-02, 2.24210005e-02, 3.53299600e+06,\n",
       "        2.27899998e-02, 1.14973180e-01],\n",
       "       [1.66459996e-02, 1.56950001e-02, 1.65059995e-02, 5.82447500e+06,\n",
       "        1.57040004e-02, 1.31015680e-01],\n",
       "       [2.28049997e-02, 2.16910001e-02, 2.27889996e-02, 5.60957000e+06,\n",
       "        2.26099994e-02, 1.07060620e-01],\n",
       "       [1.58409998e-02, 1.43529996e-02, 1.57030001e-02, 4.64859000e+06,\n",
       "        1.43700000e-02, 1.41039940e-01]])"
      ]
     },
     "execution_count": 9,
     "metadata": {},
     "output_type": "execute_result"
    }
   ],
   "source": [
    "X_test"
   ]
  },
  {
   "cell_type": "code",
   "execution_count": 10,
   "metadata": {},
   "outputs": [
    {
     "data": {
      "text/plain": [
       "array([0.015803, 0.020227, 0.022424, 0.016506, 0.02279 , 0.015704,\n",
       "       0.02261 , 0.01437 ])"
      ]
     },
     "execution_count": 10,
     "metadata": {},
     "output_type": "execute_result"
    }
   ],
   "source": [
    "y_test"
   ]
  },
  {
   "cell_type": "code",
   "execution_count": 11,
   "metadata": {},
   "outputs": [],
   "source": [
    "import keras\n",
    "from keras.preprocessing.sequence import TimeseriesGenerator\n",
    "from keras.models import Sequential\n",
    "from keras.layers import LSTM, Dense, Activation, ThresholdedReLU, MaxPooling2D, Embedding, Dropout\n",
    "from tensorflow.keras.optimizers import Adam, SGD, RMSprop\n",
    "# Load the TensorBoard notebook extension.\n",
    "%load_ext tensorboard\n",
    "from datetime import datetime\n"
   ]
  },
  {
   "cell_type": "code",
   "execution_count": 12,
   "metadata": {},
   "outputs": [],
   "source": [
    "train_data_gen = TimeseriesGenerator(X_train, y_train, length=look_back, batch_size=batch_size)\n",
    "val_data_gen = TimeseriesGenerator(X_val, y_val, length=look_back, batch_size=batch_size)\n",
    "test_data_gen = TimeseriesGenerator(X_test, y_test, length=look_back, batch_size=batch_size)"
   ]
  },
  {
   "cell_type": "code",
   "execution_count": 13,
   "metadata": {},
   "outputs": [
    {
     "name": "stdout",
     "output_type": "stream",
     "text": [
      "(3, 5, 6) (3,)\n",
      "(3, 5, 6) (3,)\n",
      "(3, 5, 6) (3,)\n",
      "(3, 5, 6) (3,)\n",
      "(3, 5, 6) (3,)\n",
      "(3, 5, 6) (3,)\n",
      "(3, 5, 6) (3,)\n",
      "(3, 5, 6) (3,)\n",
      "(3, 5, 6) (3,)\n",
      "(3, 5, 6) (3,)\n",
      "(3, 5, 6) (3,)\n",
      "(3, 5, 6) (3,)\n",
      "(3, 5, 6) (3,)\n",
      "(3, 5, 6) (3,)\n",
      "(2, 5, 6) (2,)\n"
     ]
    }
   ],
   "source": [
    "# check generator dimensions\n",
    "for i in range(len(train_data_gen)):\n",
    "    x, y = train_data_gen[i]\n",
    "    print(x.shape, y.shape)"
   ]
  },
  {
   "cell_type": "code",
   "execution_count": 14,
   "metadata": {},
   "outputs": [
    {
     "name": "stdout",
     "output_type": "stream",
     "text": [
      "Model: \"sequential\"\n",
      "_________________________________________________________________\n",
      " Layer (type)                Output Shape              Param #   \n",
      "=================================================================\n",
      " lstm (LSTM)                 (None, 5, 32)             4992      \n",
      "                                                                 \n",
      " dropout (Dropout)           (None, 5, 32)             0         \n",
      "                                                                 \n",
      " lstm_1 (LSTM)               (None, 32)                8320      \n",
      "                                                                 \n",
      " dropout_1 (Dropout)         (None, 32)                0         \n",
      "                                                                 \n",
      " dense (Dense)               (None, 1)                 33        \n",
      "                                                                 \n",
      "=================================================================\n",
      "Total params: 13,345\n",
      "Trainable params: 13,345\n",
      "Non-trainable params: 0\n",
      "_________________________________________________________________\n",
      "None\n"
     ]
    }
   ],
   "source": [
    "model_lstm = Sequential()\n",
    "model_lstm.add(LSTM(32, input_shape=(look_back, n_feat), return_sequences=True))\n",
    "model_lstm.add(Dropout(0.1))\n",
    "model_lstm.add(LSTM(32))\n",
    "model_lstm.add(Dropout(0.1))\n",
    "model_lstm.add(Dense(1))\n",
    "model_lstm.compile(optimizer=\"adam\", loss='mse', metrics=[\"mse\"])\n",
    "print(model_lstm.summary())"
   ]
  },
  {
   "cell_type": "code",
   "execution_count": 15,
   "metadata": {},
   "outputs": [
    {
     "name": "stderr",
     "output_type": "stream",
     "text": [
      "C:\\Users\\moham\\AppData\\Local\\Temp/ipykernel_17256/531576743.py:4: UserWarning: `Model.fit_generator` is deprecated and will be removed in a future version. Please use `Model.fit`, which supports generators.\n",
      "  hist = model_lstm.fit_generator(train_data_gen,\n"
     ]
    },
    {
     "name": "stdout",
     "output_type": "stream",
     "text": [
      "Epoch 1/30\n",
      "10/10 [==============================] - 5s 160ms/step - loss: 0.0095 - mse: 0.0095 - val_loss: 0.0019 - val_mse: 0.0019\n",
      "Epoch 2/30\n",
      "10/10 [==============================] - 1s 71ms/step - loss: 0.0050 - mse: 0.0050 - val_loss: 0.0013 - val_mse: 0.0013\n",
      "Epoch 3/30\n",
      "10/10 [==============================] - 0s 16ms/step - loss: 0.0025 - mse: 0.0025 - val_loss: 4.5114e-05 - val_mse: 4.5114e-05\n",
      "Epoch 4/30\n",
      "10/10 [==============================] - 0s 16ms/step - loss: 0.0046 - mse: 0.0046 - val_loss: 0.0012 - val_mse: 0.0012\n",
      "Epoch 5/30\n",
      "10/10 [==============================] - 0s 16ms/step - loss: 0.0045 - mse: 0.0045 - val_loss: 3.1003e-05 - val_mse: 3.1003e-05\n",
      "Epoch 6/30\n",
      "10/10 [==============================] - 0s 15ms/step - loss: 0.0022 - mse: 0.0022 - val_loss: 2.6491e-06 - val_mse: 2.6491e-06\n",
      "Epoch 7/30\n",
      "10/10 [==============================] - 0s 16ms/step - loss: 0.0028 - mse: 0.0028 - val_loss: 4.6920e-04 - val_mse: 4.6920e-04\n",
      "Epoch 8/30\n",
      "10/10 [==============================] - 0s 15ms/step - loss: 0.0025 - mse: 0.0025 - val_loss: 3.3498e-06 - val_mse: 3.3498e-06\n",
      "Epoch 9/30\n",
      "10/10 [==============================] - 0s 16ms/step - loss: 0.0018 - mse: 0.0018 - val_loss: 1.7311e-04 - val_mse: 1.7311e-04\n",
      "Epoch 10/30\n",
      "10/10 [==============================] - 0s 18ms/step - loss: 0.0022 - mse: 0.0022 - val_loss: 3.4097e-05 - val_mse: 3.4097e-05\n",
      "Epoch 11/30\n",
      "10/10 [==============================] - 0s 16ms/step - loss: 0.0034 - mse: 0.0034 - val_loss: 8.3844e-05 - val_mse: 8.3844e-05\n",
      "Epoch 12/30\n",
      "10/10 [==============================] - 0s 16ms/step - loss: 8.5160e-04 - mse: 8.5160e-04 - val_loss: 5.5357e-05 - val_mse: 5.5357e-05\n",
      "Epoch 13/30\n",
      "10/10 [==============================] - 0s 16ms/step - loss: 0.0021 - mse: 0.0021 - val_loss: 4.0003e-05 - val_mse: 4.0003e-05\n",
      "Epoch 14/30\n",
      "10/10 [==============================] - 0s 14ms/step - loss: 9.4302e-04 - mse: 9.4302e-04 - val_loss: 4.0800e-04 - val_mse: 4.0800e-04\n",
      "Epoch 15/30\n",
      "10/10 [==============================] - 0s 16ms/step - loss: 0.0012 - mse: 0.0012 - val_loss: 2.1065e-05 - val_mse: 2.1065e-05\n",
      "Epoch 16/30\n",
      "10/10 [==============================] - 0s 15ms/step - loss: 0.0013 - mse: 0.0013 - val_loss: 2.1238e-04 - val_mse: 2.1238e-04\n",
      "Epoch 17/30\n",
      "10/10 [==============================] - 0s 16ms/step - loss: 0.0013 - mse: 0.0013 - val_loss: 4.8038e-05 - val_mse: 4.8038e-05\n",
      "Epoch 18/30\n",
      "10/10 [==============================] - 0s 16ms/step - loss: 6.6074e-04 - mse: 6.6074e-04 - val_loss: 1.5440e-04 - val_mse: 1.5440e-04\n",
      "Epoch 19/30\n",
      "10/10 [==============================] - 0s 16ms/step - loss: 0.0019 - mse: 0.0019 - val_loss: 8.1663e-07 - val_mse: 8.1663e-07\n",
      "Epoch 20/30\n",
      "10/10 [==============================] - 0s 16ms/step - loss: 7.5956e-04 - mse: 7.5956e-04 - val_loss: 1.5482e-07 - val_mse: 1.5482e-07\n",
      "Epoch 21/30\n",
      "10/10 [==============================] - 0s 15ms/step - loss: 8.1542e-04 - mse: 8.1542e-04 - val_loss: 3.0298e-05 - val_mse: 3.0298e-05\n",
      "Epoch 22/30\n",
      "10/10 [==============================] - 0s 15ms/step - loss: 8.2035e-04 - mse: 8.2035e-04 - val_loss: 2.0565e-05 - val_mse: 2.0565e-05\n",
      "Epoch 23/30\n",
      "10/10 [==============================] - 0s 15ms/step - loss: 7.6380e-04 - mse: 7.6380e-04 - val_loss: 1.5308e-06 - val_mse: 1.5308e-06\n",
      "Epoch 24/30\n",
      "10/10 [==============================] - 0s 16ms/step - loss: 0.0011 - mse: 0.0011 - val_loss: 1.9521e-06 - val_mse: 1.9521e-06\n",
      "Epoch 25/30\n",
      "10/10 [==============================] - 0s 16ms/step - loss: 9.3881e-04 - mse: 9.3881e-04 - val_loss: 1.7365e-07 - val_mse: 1.7365e-07\n",
      "Epoch 26/30\n",
      "10/10 [==============================] - 0s 16ms/step - loss: 7.9368e-04 - mse: 7.9368e-04 - val_loss: 1.5375e-05 - val_mse: 1.5375e-05\n",
      "Epoch 27/30\n",
      "10/10 [==============================] - 0s 15ms/step - loss: 6.2250e-04 - mse: 6.2250e-04 - val_loss: 5.5898e-06 - val_mse: 5.5898e-06\n",
      "Epoch 28/30\n",
      "10/10 [==============================] - 0s 16ms/step - loss: 5.2927e-04 - mse: 5.2927e-04 - val_loss: 8.9604e-05 - val_mse: 8.9604e-05\n",
      "Epoch 29/30\n",
      "10/10 [==============================] - 0s 17ms/step - loss: 6.2714e-04 - mse: 6.2714e-04 - val_loss: 4.6210e-05 - val_mse: 4.6210e-05\n",
      "Epoch 30/30\n",
      "10/10 [==============================] - 0s 16ms/step - loss: 0.0011 - mse: 0.0011 - val_loss: 6.6515e-05 - val_mse: 6.6515e-05\n"
     ]
    }
   ],
   "source": [
    "# Define the Keras TensorBoard callback.\n",
    "logdir=\"logs/fit/\" + datetime.now().strftime(\"%Y%m%d-%H%M%S\")\n",
    "tensorboard_callback = keras.callbacks.TensorBoard(log_dir=logdir)\n",
    "hist = model_lstm.fit_generator(train_data_gen,\n",
    "                                        steps_per_epoch=10,\n",
    "                                        epochs=30,\n",
    "                                        verbose=1,\n",
    "                                        validation_data=val_data_gen, #training put a graph of traing loss and val loss\n",
    "                                        callbacks=[tensorboard_callback])\n"
   ]
  },
  {
   "cell_type": "code",
   "execution_count": 16,
   "metadata": {},
   "outputs": [
    {
     "data": {
      "image/png": "[encoded data removed]",
      "text/plain": [
       "<Figure size 432x288 with 1 Axes>"
      ]
     },
     "metadata": {
      "needs_background": "light"
     },
     "output_type": "display_data"
    }
   ],
   "source": [
    "plt.plot(hist.history['loss'])\n",
    "plt.plot(hist.history['val_loss'])\n",
    "plt.title('model loss')\n",
    "plt.ylabel('loss')\n",
    "plt.xlabel('epoch')\n",
    "plt.legend(['train', 'validation'], loc='upper right')\n",
    "plt.show()"
   ]
  },
  {
   "cell_type": "code",
   "execution_count": 17,
   "metadata": {},
   "outputs": [],
   "source": [
    "pred = model_lstm.predict(test_data_gen)"
   ]
  },
  {
   "cell_type": "code",
   "execution_count": 18,
   "metadata": {},
   "outputs": [
    {
     "data": {
      "text/plain": [
       "(array([[[1.60910003e-02, 1.56830009e-02, 1.58719998e-02, 4.58019800e+06,\n",
       "          1.58030000e-02, 1.48283467e-01],\n",
       "         [2.02500001e-02, 1.89590007e-02, 1.90309994e-02, 4.10461000e+06,\n",
       "          2.02270001e-02, 1.31502325e-01],\n",
       "         [2.25079991e-02, 1.84300002e-02, 1.84509996e-02, 7.97182800e+06,\n",
       "          2.24239994e-02, 1.53586280e-01],\n",
       "         [1.65059995e-02, 1.55039998e-02, 1.58009995e-02, 5.23944600e+06,\n",
       "          1.65059995e-02, 1.28670540e-01],\n",
       "         [2.32689995e-02, 2.20240001e-02, 2.24210005e-02, 3.53299600e+06,\n",
       "          2.27899998e-02, 1.14973180e-01]],\n",
       " \n",
       "        [[2.02500001e-02, 1.89590007e-02, 1.90309994e-02, 4.10461000e+06,\n",
       "          2.02270001e-02, 1.31502325e-01],\n",
       "         [2.25079991e-02, 1.84300002e-02, 1.84509996e-02, 7.97182800e+06,\n",
       "          2.24239994e-02, 1.53586280e-01],\n",
       "         [1.65059995e-02, 1.55039998e-02, 1.58009995e-02, 5.23944600e+06,\n",
       "          1.65059995e-02, 1.28670540e-01],\n",
       "         [2.32689995e-02, 2.20240001e-02, 2.24210005e-02, 3.53299600e+06,\n",
       "          2.27899998e-02, 1.14973180e-01],\n",
       "         [1.66459996e-02, 1.56950001e-02, 1.65059995e-02, 5.82447500e+06,\n",
       "          1.57040004e-02, 1.31015680e-01]],\n",
       " \n",
       "        [[2.25079991e-02, 1.84300002e-02, 1.84509996e-02, 7.97182800e+06,\n",
       "          2.24239994e-02, 1.53586280e-01],\n",
       "         [1.65059995e-02, 1.55039998e-02, 1.58009995e-02, 5.23944600e+06,\n",
       "          1.65059995e-02, 1.28670540e-01],\n",
       "         [2.32689995e-02, 2.20240001e-02, 2.24210005e-02, 3.53299600e+06,\n",
       "          2.27899998e-02, 1.14973180e-01],\n",
       "         [1.66459996e-02, 1.56950001e-02, 1.65059995e-02, 5.82447500e+06,\n",
       "          1.57040004e-02, 1.31015680e-01],\n",
       "         [2.28049997e-02, 2.16910001e-02, 2.27889996e-02, 5.60957000e+06,\n",
       "          2.26099994e-02, 1.07060620e-01]]]),\n",
       " array([0.015704, 0.02261 , 0.01437 ]))"
      ]
     },
     "execution_count": 18,
     "metadata": {},
     "output_type": "execute_result"
    }
   ],
   "source": [
    "test_data_gen[0]"
   ]
  },
  {
   "cell_type": "code",
   "execution_count": 19,
   "metadata": {},
   "outputs": [
    {
     "data": {
      "text/plain": [
       "array([[0.02660668],\n",
       "       [0.02660668],\n",
       "       [0.02660668]], dtype=float32)"
      ]
     },
     "execution_count": 19,
     "metadata": {},
     "output_type": "execute_result"
    }
   ],
   "source": [
    "pred"
   ]
  },
  {
   "cell_type": "code",
   "execution_count": 20,
   "metadata": {},
   "outputs": [],
   "source": [
    "import matplotlib.pyplot as plt"
   ]
  },
  {
   "cell_type": "code",
   "execution_count": 21,
   "metadata": {},
   "outputs": [
    {
     "data": {
      "image/png": "[encoded data removed]",
      "text/plain": [
       "<Figure size 720x288 with 1 Axes>"
      ]
     },
     "metadata": {
      "needs_background": "light"
     },
     "output_type": "display_data"
    }
   ],
   "source": [
    "# Visualising the results\n",
    "plt.figure(figsize=(10,4))\n",
    "plt.plot(y_test[0:y_test.shape[0]-5], color = 'red', label = 'Real MONAPrice')\n",
    "plt.plot(pred, color = 'blue', label = 'Predicted MONA Price')\n",
    "plt.title('MONA Price Prediction')\n",
    "plt.xlabel('Time')\n",
    "plt.ylabel('MONA Price')\n",
    "plt.ylim(0,1)\n",
    "plt.legend()\n",
    "plt.show()"
   ]
  },
  {
   "cell_type": "code",
   "execution_count": 22,
   "metadata": {},
   "outputs": [],
   "source": [
    "# on cmd promt, you should use the function below to kill the tensorboard \n",
    "#taskkill /im tensorboard.exe /f\n",
    "#del /q %TMP%\\.tensorboard-info\\*#"
   ]
  },
  {
   "cell_type": "code",
   "execution_count": 23,
   "metadata": {},
   "outputs": [
    {
     "data": {
      "text/plain": [
       "Reusing TensorBoard on port 6006 (pid 2592), started 1 day, 6:31:51 ago. (Use '!kill 2592' to kill it.)"
      ]
     },
     "metadata": {},
     "output_type": "display_data"
    },
    {
     "data": {
      "text/html": [
       "\n",
       "      <iframe id=\"tensorboard-frame-1fc508b4b3c20b6\" width=\"100%\" height=\"800\" frameborder=\"0\">\n",
       "      </iframe>\n",
       "      <script>\n",
       "        (function() {\n",
       "          const frame = document.getElementById(\"tensorboard-frame-1fc508b4b3c20b6\");\n",
       "          const url = new URL(\"http://localhost\");\n",
       "          const port = 6006;\n",
       "          if (port) {\n",
       "            url.port = port;\n",
       "          }\n",
       "          frame.src = url;\n",
       "        })();\n",
       "      </script>\n",
       "    "
      ],
      "text/plain": [
       "<IPython.core.display.HTML object>"
      ]
     },
     "metadata": {},
     "output_type": "display_data"
    }
   ],
   "source": [
    "%tensorboard --logdir logs"
   ]
  }
 ],
 "metadata": {
  "interpreter": {
   "hash": "2f2e1fb2a3b1494e2ce2d620806ace1f30b1e2c236dd55f932f68dad84626b10"
  },
  "kernelspec": {
   "display_name": "Python 3.9.5 64-bit",
   "language": "python",
   "name": "python3"
  },
  "language_info": {
   "codemirror_mode": {
    "name": "ipython",
    "version": 3
   },
   "file_extension": ".py",
   "mimetype": "text/x-python",
   "name": "python",
   "nbconvert_exporter": "python",
   "pygments_lexer": "ipython3",
   "version": "3.9.5"
  },
  "orig_nbformat": 4
 },
 "nbformat": 4,
 "nbformat_minor": 2
}
