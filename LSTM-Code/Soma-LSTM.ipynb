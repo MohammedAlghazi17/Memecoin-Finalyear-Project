{
 "cells": [
  {
   "cell_type": "code",
   "execution_count": 10,
   "metadata": {},
   "outputs": [],
   "source": [
    "import numpy as np\n",
    "from pandas import read_csv\n",
    "import pandas_datareader.data as web"
   ]
  },
  {
   "cell_type": "code",
   "execution_count": 11,
   "metadata": {},
   "outputs": [
    {
     "data": {
      "text/html": [
       "<div>\n",
       "<style scoped>\n",
       "    .dataframe tbody tr th:only-of-type {\n",
       "        vertical-align: middle;\n",
       "    }\n",
       "\n",
       "    .dataframe tbody tr th {\n",
       "        vertical-align: top;\n",
       "    }\n",
       "\n",
       "    .dataframe thead th {\n",
       "        text-align: right;\n",
       "    }\n",
       "</style>\n",
       "<table border=\"1\" class=\"dataframe\">\n",
       "  <thead>\n",
       "    <tr style=\"text-align: right;\">\n",
       "      <th></th>\n",
       "      <th>High</th>\n",
       "      <th>Low</th>\n",
       "      <th>Open</th>\n",
       "      <th>Close</th>\n",
       "      <th>Volume</th>\n",
       "      <th>Adj Close</th>\n",
       "    </tr>\n",
       "    <tr>\n",
       "      <th>Date</th>\n",
       "      <th></th>\n",
       "      <th></th>\n",
       "      <th></th>\n",
       "      <th></th>\n",
       "      <th></th>\n",
       "      <th></th>\n",
       "    </tr>\n",
       "  </thead>\n",
       "  <tbody>\n",
       "    <tr>\n",
       "      <th>2017-11-09</th>\n",
       "      <td>3.039360</td>\n",
       "      <td>2.840420</td>\n",
       "      <td>2.855220</td>\n",
       "      <td>2.967630</td>\n",
       "      <td>4630550</td>\n",
       "      <td>2.967630</td>\n",
       "    </tr>\n",
       "    <tr>\n",
       "      <th>2017-11-10</th>\n",
       "      <td>2.993850</td>\n",
       "      <td>2.606440</td>\n",
       "      <td>2.959770</td>\n",
       "      <td>2.616590</td>\n",
       "      <td>3069090</td>\n",
       "      <td>2.616590</td>\n",
       "    </tr>\n",
       "    <tr>\n",
       "      <th>2017-11-11</th>\n",
       "      <td>2.714720</td>\n",
       "      <td>2.520320</td>\n",
       "      <td>2.627440</td>\n",
       "      <td>2.597220</td>\n",
       "      <td>3258960</td>\n",
       "      <td>2.597220</td>\n",
       "    </tr>\n",
       "    <tr>\n",
       "      <th>2017-11-12</th>\n",
       "      <td>3.109670</td>\n",
       "      <td>2.173080</td>\n",
       "      <td>2.598040</td>\n",
       "      <td>2.817210</td>\n",
       "      <td>9822060</td>\n",
       "      <td>2.817210</td>\n",
       "    </tr>\n",
       "    <tr>\n",
       "      <th>2017-11-13</th>\n",
       "      <td>3.254420</td>\n",
       "      <td>2.666150</td>\n",
       "      <td>2.795100</td>\n",
       "      <td>2.895720</td>\n",
       "      <td>9818930</td>\n",
       "      <td>2.895720</td>\n",
       "    </tr>\n",
       "    <tr>\n",
       "      <th>...</th>\n",
       "      <td>...</td>\n",
       "      <td>...</td>\n",
       "      <td>...</td>\n",
       "      <td>...</td>\n",
       "      <td>...</td>\n",
       "      <td>...</td>\n",
       "    </tr>\n",
       "    <tr>\n",
       "      <th>2022-04-26</th>\n",
       "      <td>0.873849</td>\n",
       "      <td>0.848864</td>\n",
       "      <td>0.871581</td>\n",
       "      <td>0.854787</td>\n",
       "      <td>343544</td>\n",
       "      <td>0.854787</td>\n",
       "    </tr>\n",
       "    <tr>\n",
       "      <th>2022-04-27</th>\n",
       "      <td>0.874509</td>\n",
       "      <td>0.846216</td>\n",
       "      <td>0.854779</td>\n",
       "      <td>0.853320</td>\n",
       "      <td>290011</td>\n",
       "      <td>0.853320</td>\n",
       "    </tr>\n",
       "    <tr>\n",
       "      <th>2022-04-28</th>\n",
       "      <td>0.861507</td>\n",
       "      <td>0.836389</td>\n",
       "      <td>0.852525</td>\n",
       "      <td>0.843836</td>\n",
       "      <td>211458</td>\n",
       "      <td>0.843836</td>\n",
       "    </tr>\n",
       "    <tr>\n",
       "      <th>2022-04-29</th>\n",
       "      <td>0.851174</td>\n",
       "      <td>0.818889</td>\n",
       "      <td>0.843720</td>\n",
       "      <td>0.824758</td>\n",
       "      <td>153179</td>\n",
       "      <td>0.824758</td>\n",
       "    </tr>\n",
       "    <tr>\n",
       "      <th>2022-04-30</th>\n",
       "      <td>0.833132</td>\n",
       "      <td>0.822332</td>\n",
       "      <td>0.825314</td>\n",
       "      <td>0.823479</td>\n",
       "      <td>121967</td>\n",
       "      <td>0.823479</td>\n",
       "    </tr>\n",
       "  </tbody>\n",
       "</table>\n",
       "<p>1634 rows × 6 columns</p>\n",
       "</div>"
      ],
      "text/plain": [
       "                High       Low      Open     Close   Volume  Adj Close\n",
       "Date                                                                  \n",
       "2017-11-09  3.039360  2.840420  2.855220  2.967630  4630550   2.967630\n",
       "2017-11-10  2.993850  2.606440  2.959770  2.616590  3069090   2.616590\n",
       "2017-11-11  2.714720  2.520320  2.627440  2.597220  3258960   2.597220\n",
       "2017-11-12  3.109670  2.173080  2.598040  2.817210  9822060   2.817210\n",
       "2017-11-13  3.254420  2.666150  2.795100  2.895720  9818930   2.895720\n",
       "...              ...       ...       ...       ...      ...        ...\n",
       "2022-04-26  0.873849  0.848864  0.871581  0.854787   343544   0.854787\n",
       "2022-04-27  0.874509  0.846216  0.854779  0.853320   290011   0.853320\n",
       "2022-04-28  0.861507  0.836389  0.852525  0.843836   211458   0.843836\n",
       "2022-04-29  0.851174  0.818889  0.843720  0.824758   153179   0.824758\n",
       "2022-04-30  0.833132  0.822332  0.825314  0.823479   121967   0.823479\n",
       "\n",
       "[1634 rows x 6 columns]"
      ]
     },
     "execution_count": 11,
     "metadata": {},
     "output_type": "execute_result"
    }
   ],
   "source": [
    "doge = web.DataReader('MONA-USD', 'yahoo')\n",
    "doge"
   ]
  },
  {
   "cell_type": "code",
   "execution_count": 12,
   "metadata": {},
   "outputs": [
    {
     "name": "stdout",
     "output_type": "stream",
     "text": [
      "        High       Low      Open     Close   Volume  Adj Close  Polarity Score\n",
      "0   0.040466  0.038822  0.039959  0.039110  4540382   0.039110        0.095867\n",
      "1   0.021496  0.019967  0.021055  0.020416  2354228   0.020416        0.146020\n",
      "2   0.021305  0.020069  0.021282  0.020087  3187547   0.020087        0.138143\n",
      "3   0.025363  0.023064  0.024562  0.023468  8960013   0.023468        0.146417\n",
      "4   0.039302  0.037781  0.039100  0.037854  3339748   0.037854        0.071015\n",
      "..       ...       ...       ...       ...      ...        ...             ...\n",
      "56  0.023269  0.022024  0.022421  0.022790  3532996   0.022790        0.114973\n",
      "57  0.016646  0.015695  0.016506  0.015704  5824475   0.015704        0.131016\n",
      "58  0.022805  0.021691  0.022789  0.022610  5609570   0.022610        0.107061\n",
      "59  0.015840  0.015388  0.015713  0.015509  5317448   0.015509        0.141040\n",
      "60  0.022841  0.021453  0.022609  0.021560  5378382   0.021560        0.083907\n",
      "\n",
      "[61 rows x 7 columns]\n"
     ]
    }
   ],
   "source": [
    "#lstm_data = np.genfromtxt('./sample_data/lstm.csv', delimiter=',', skip_header=True)\n",
    "lstm_data = read_csv('lstmsamo.csv')\n",
    "lstm_data = lstm_data.drop(['Date'], axis=1)\n",
    "print(lstm_data)"
   ]
  },
  {
   "cell_type": "code",
   "execution_count": 13,
   "metadata": {},
   "outputs": [],
   "source": [
    "lstm_data_X = lstm_data.drop(['Close'], axis=1)\n",
    "lstm_data_y = lstm_data['Close']"
   ]
  },
  {
   "cell_type": "code",
   "execution_count": 14,
   "metadata": {},
   "outputs": [],
   "source": [
    "look_back = 5 # how many days to look back\n",
    "batch_size = 3 # size of batches used when training\n",
    "n_feat = 6 # number of features \n",
    "n_target = 2\n",
    "n_validation = 6\n",
    "n_test = 8\n",
    "n_train = lstm_data_X.shape[0] - n_validation - n_test - 1\n"
   ]
  },
  {
   "cell_type": "code",
   "execution_count": 15,
   "metadata": {},
   "outputs": [
    {
     "data": {
      "text/plain": [
       "46"
      ]
     },
     "execution_count": 15,
     "metadata": {},
     "output_type": "execute_result"
    }
   ],
   "source": [
    "n_train"
   ]
  },
  {
   "cell_type": "code",
   "execution_count": 16,
   "metadata": {},
   "outputs": [],
   "source": [
    "#lstm_data_X_train = lstm_data_X.iloc[:30,:]\n",
    "#lstm_data_X_val = lstm_data_X.iloc[30:40,:]\n",
    "#lstm_data_X_test = lstm_data_X.iloc[40:52,:]\n",
    "\n",
    "#lstm_data_y_train = lstm_data_y.iloc[:30]\n",
    "#lstm_data_y_val = lstm_data_y.iloc[30:40]\n",
    "#lstm_data_y_test = lstm_data_y.iloc[40:52]\n",
    "# Convert to numpy arrays\n",
    "#X_train = lstm_data_X_train.to_numpy()\n",
    "#X_val = lstm_data_X_val.to_numpy()\n",
    "#X_test = lstm_data_X_test.to_numpy()\n",
    "#y_train = lstm_data_y_train.to_numpy()\n",
    "#y_val = lstm_data_y_val.to_numpy()\n",
    "#y_test = lstm_data_y_test.to_numpy()"
   ]
  },
  {
   "cell_type": "code",
   "execution_count": 17,
   "metadata": {},
   "outputs": [],
   "source": [
    "lstm_data_X_train = lstm_data_X.iloc[:n_train,:]\n",
    "lstm_data_X_val = lstm_data_X.iloc[n_train:n_train + n_validation,:]\n",
    "lstm_data_X_test = lstm_data_X.iloc[n_train + n_validation:n_train + n_validation + n_test,:]\n",
    "\n",
    "lstm_data_y_train = lstm_data_y.iloc[:n_train]\n",
    "lstm_data_y_val = lstm_data_y.iloc[n_train:n_train + n_validation]\n",
    "lstm_data_y_test = lstm_data_y.iloc[n_train + n_validation:n_train + n_validation + n_test]\n",
    "# Convert to numpy arrays\n",
    "X_train = lstm_data_X_train.to_numpy()\n",
    "X_val = lstm_data_X_val.to_numpy()\n",
    "X_test = lstm_data_X_test.to_numpy()\n",
    "y_train = lstm_data_y_train.to_numpy()\n",
    "y_val = lstm_data_y_val.to_numpy()\n",
    "y_test = lstm_data_y_test.to_numpy()"
   ]
  },
  {
   "cell_type": "code",
   "execution_count": 18,
   "metadata": {},
   "outputs": [
    {
     "data": {
      "text/plain": [
       "array([[1.60910003e-02, 1.56830009e-02, 1.58719998e-02, 4.58019800e+06,\n",
       "        1.58030000e-02, 1.48283467e-01],\n",
       "       [2.02500001e-02, 1.89590007e-02, 1.90309994e-02, 4.10461000e+06,\n",
       "        2.02270001e-02, 1.31502325e-01],\n",
       "       [2.25079991e-02, 1.84300002e-02, 1.84509996e-02, 7.97182800e+06,\n",
       "        2.24239994e-02, 1.53586280e-01],\n",
       "       [1.65059995e-02, 1.55039998e-02, 1.58009995e-02, 5.23944600e+06,\n",
       "        1.65059995e-02, 1.28670540e-01],\n",
       "       [2.32689995e-02, 2.20240001e-02, 2.24210005e-02, 3.53299600e+06,\n",
       "        2.27899998e-02, 1.14973180e-01],\n",
       "       [1.66459996e-02, 1.56950001e-02, 1.65059995e-02, 5.82447500e+06,\n",
       "        1.57040004e-02, 1.31015680e-01],\n",
       "       [2.28049997e-02, 2.16910001e-02, 2.27889996e-02, 5.60957000e+06,\n",
       "        2.26099994e-02, 1.07060620e-01],\n",
       "       [1.58396158e-02, 1.53879039e-02, 1.57133099e-02, 5.31744800e+06,\n",
       "        1.55088129e-02, 1.41039940e-01]])"
      ]
     },
     "execution_count": 18,
     "metadata": {},
     "output_type": "execute_result"
    }
   ],
   "source": [
    "X_test"
   ]
  },
  {
   "cell_type": "code",
   "execution_count": 19,
   "metadata": {},
   "outputs": [
    {
     "data": {
      "text/plain": [
       "array([0.015803  , 0.020227  , 0.022424  , 0.016506  , 0.02279   ,\n",
       "       0.015704  , 0.02261   , 0.01550881])"
      ]
     },
     "execution_count": 19,
     "metadata": {},
     "output_type": "execute_result"
    }
   ],
   "source": [
    "y_test"
   ]
  },
  {
   "cell_type": "code",
   "execution_count": 20,
   "metadata": {},
   "outputs": [],
   "source": [
    "import keras\n",
    "from keras.preprocessing.sequence import TimeseriesGenerator\n",
    "from keras.models import Sequential\n",
    "from keras.layers import LSTM, Dense, Activation, ThresholdedReLU, MaxPooling2D, Embedding, Dropout\n",
    "from tensorflow.keras.optimizers import Adam, SGD, RMSprop"
   ]
  },
  {
   "cell_type": "code",
   "execution_count": 21,
   "metadata": {},
   "outputs": [],
   "source": [
    "train_data_gen = TimeseriesGenerator(X_train, y_train, length=look_back, batch_size=batch_size)\n",
    "val_data_gen = TimeseriesGenerator(X_val, y_val, length=look_back, batch_size=batch_size)\n",
    "test_data_gen = TimeseriesGenerator(X_test, y_test, length=look_back, batch_size=batch_size)"
   ]
  },
  {
   "cell_type": "code",
   "execution_count": 22,
   "metadata": {},
   "outputs": [
    {
     "name": "stdout",
     "output_type": "stream",
     "text": [
      "(3, 5, 6) (3,)\n",
      "(3, 5, 6) (3,)\n",
      "(3, 5, 6) (3,)\n",
      "(3, 5, 6) (3,)\n",
      "(3, 5, 6) (3,)\n",
      "(3, 5, 6) (3,)\n",
      "(3, 5, 6) (3,)\n",
      "(3, 5, 6) (3,)\n",
      "(3, 5, 6) (3,)\n",
      "(3, 5, 6) (3,)\n",
      "(3, 5, 6) (3,)\n",
      "(3, 5, 6) (3,)\n",
      "(3, 5, 6) (3,)\n",
      "(2, 5, 6) (2,)\n"
     ]
    }
   ],
   "source": [
    "# check generator dimensions\n",
    "for i in range(len(train_data_gen)):\n",
    "    x, y = train_data_gen[i]\n",
    "    print(x.shape, y.shape)"
   ]
  },
  {
   "cell_type": "code",
   "execution_count": 23,
   "metadata": {},
   "outputs": [
    {
     "name": "stdout",
     "output_type": "stream",
     "text": [
      "Model: \"sequential\"\n",
      "_________________________________________________________________\n",
      " Layer (type)                Output Shape              Param #   \n",
      "=================================================================\n",
      " lstm (LSTM)                 (None, 5, 32)             4992      \n",
      "                                                                 \n",
      " dropout (Dropout)           (None, 5, 32)             0         \n",
      "                                                                 \n",
      " lstm_1 (LSTM)               (None, 32)                8320      \n",
      "                                                                 \n",
      " dropout_1 (Dropout)         (None, 32)                0         \n",
      "                                                                 \n",
      " dense (Dense)               (None, 1)                 33        \n",
      "                                                                 \n",
      "=================================================================\n",
      "Total params: 13,345\n",
      "Trainable params: 13,345\n",
      "Non-trainable params: 0\n",
      "_________________________________________________________________\n",
      "None\n"
     ]
    }
   ],
   "source": [
    "model_lstm = Sequential()\n",
    "model_lstm.add(LSTM(32, input_shape=(look_back, n_feat), return_sequences=True))\n",
    "model_lstm.add(Dropout(0.1))\n",
    "model_lstm.add(LSTM(32))\n",
    "model_lstm.add(Dropout(0.1))\n",
    "model_lstm.add(Dense(1))\n",
    "model_lstm.compile(optimizer=\"adam\", loss='mse', metrics=[\"mse\"])\n",
    "print(model_lstm.summary())"
   ]
  },
  {
   "cell_type": "code",
   "execution_count": 24,
   "metadata": {},
   "outputs": [
    {
     "name": "stdout",
     "output_type": "stream",
     "text": [
      "Epoch 1/20\n"
     ]
    },
    {
     "name": "stderr",
     "output_type": "stream",
     "text": [
      "C:\\Users\\moham\\AppData\\Local\\Temp/ipykernel_19092/192094070.py:1: UserWarning: `Model.fit_generator` is deprecated and will be removed in a future version. Please use `Model.fit`, which supports generators.\n",
      "  hist = model_lstm.fit_generator(train_data_gen,\n"
     ]
    },
    {
     "name": "stdout",
     "output_type": "stream",
     "text": [
      "10/10 [==============================] - 5s 98ms/step - loss: 0.0778 - mse: 0.0778 - val_loss: 0.0070 - val_mse: 0.0070\n",
      "Epoch 2/20\n",
      "10/10 [==============================] - 0s 12ms/step - loss: 0.0238 - mse: 0.0238 - val_loss: 0.0111 - val_mse: 0.0111\n",
      "Epoch 3/20\n",
      "10/10 [==============================] - 0s 11ms/step - loss: 0.0098 - mse: 0.0098 - val_loss: 0.0021 - val_mse: 0.0021\n",
      "Epoch 4/20\n",
      "10/10 [==============================] - 0s 10ms/step - loss: 0.0070 - mse: 0.0070 - val_loss: 5.6983e-04 - val_mse: 5.6983e-04\n",
      "Epoch 5/20\n",
      "10/10 [==============================] - 0s 10ms/step - loss: 0.0057 - mse: 0.0057 - val_loss: 4.4893e-04 - val_mse: 4.4893e-04\n",
      "Epoch 6/20\n",
      "10/10 [==============================] - 0s 10ms/step - loss: 0.0069 - mse: 0.0069 - val_loss: 1.1665e-04 - val_mse: 1.1665e-04\n",
      "Epoch 7/20\n",
      "10/10 [==============================] - 0s 10ms/step - loss: 0.0057 - mse: 0.0057 - val_loss: 2.4737e-05 - val_mse: 2.4737e-05\n",
      "Epoch 8/20\n",
      "10/10 [==============================] - 0s 11ms/step - loss: 0.0057 - mse: 0.0057 - val_loss: 5.4292e-04 - val_mse: 5.4292e-04\n",
      "Epoch 9/20\n",
      "10/10 [==============================] - 0s 10ms/step - loss: 0.0070 - mse: 0.0070 - val_loss: 7.3760e-04 - val_mse: 7.3760e-04\n",
      "Epoch 10/20\n",
      "10/10 [==============================] - 0s 11ms/step - loss: 0.0034 - mse: 0.0034 - val_loss: 0.0010 - val_mse: 0.0010\n",
      "Epoch 11/20\n",
      "10/10 [==============================] - 0s 11ms/step - loss: 0.0064 - mse: 0.0064 - val_loss: 1.4106e-04 - val_mse: 1.4106e-04\n",
      "Epoch 12/20\n",
      "10/10 [==============================] - 0s 11ms/step - loss: 0.0025 - mse: 0.0025 - val_loss: 2.2180e-05 - val_mse: 2.2180e-05\n",
      "Epoch 13/20\n",
      "10/10 [==============================] - 0s 10ms/step - loss: 0.0023 - mse: 0.0023 - val_loss: 1.0562e-06 - val_mse: 1.0562e-06\n",
      "Epoch 14/20\n",
      "10/10 [==============================] - 0s 11ms/step - loss: 0.0041 - mse: 0.0041 - val_loss: 1.8378e-05 - val_mse: 1.8378e-05\n",
      "Epoch 15/20\n",
      "10/10 [==============================] - 0s 11ms/step - loss: 0.0032 - mse: 0.0032 - val_loss: 7.3989e-04 - val_mse: 7.3989e-04\n",
      "Epoch 16/20\n",
      "10/10 [==============================] - 0s 11ms/step - loss: 0.0026 - mse: 0.0026 - val_loss: 5.3482e-06 - val_mse: 5.3482e-06\n",
      "Epoch 17/20\n",
      "10/10 [==============================] - 0s 10ms/step - loss: 0.0026 - mse: 0.0026 - val_loss: 1.2598e-04 - val_mse: 1.2598e-04\n",
      "Epoch 18/20\n",
      "10/10 [==============================] - 0s 11ms/step - loss: 0.0035 - mse: 0.0035 - val_loss: 4.4387e-04 - val_mse: 4.4387e-04\n",
      "Epoch 19/20\n",
      "10/10 [==============================] - 0s 11ms/step - loss: 0.0022 - mse: 0.0022 - val_loss: 2.1483e-05 - val_mse: 2.1483e-05\n",
      "Epoch 20/20\n",
      "10/10 [==============================] - 0s 10ms/step - loss: 0.0025 - mse: 0.0025 - val_loss: 2.1621e-07 - val_mse: 2.1621e-07\n"
     ]
    }
   ],
   "source": [
    "hist = model_lstm.fit_generator(train_data_gen,\n",
    "                                        steps_per_epoch=10,\n",
    "                                        epochs=20,\n",
    "                                        verbose=1,\n",
    "                                        validation_data=val_data_gen)"
   ]
  },
  {
   "cell_type": "code",
   "execution_count": 25,
   "metadata": {},
   "outputs": [],
   "source": [
    "pred = model_lstm.predict(test_data_gen)"
   ]
  },
  {
   "cell_type": "code",
   "execution_count": 26,
   "metadata": {},
   "outputs": [
    {
     "data": {
      "text/plain": [
       "(array([[[1.60910003e-02, 1.56830009e-02, 1.58719998e-02, 4.58019800e+06,\n",
       "          1.58030000e-02, 1.48283467e-01],\n",
       "         [2.02500001e-02, 1.89590007e-02, 1.90309994e-02, 4.10461000e+06,\n",
       "          2.02270001e-02, 1.31502325e-01],\n",
       "         [2.25079991e-02, 1.84300002e-02, 1.84509996e-02, 7.97182800e+06,\n",
       "          2.24239994e-02, 1.53586280e-01],\n",
       "         [1.65059995e-02, 1.55039998e-02, 1.58009995e-02, 5.23944600e+06,\n",
       "          1.65059995e-02, 1.28670540e-01],\n",
       "         [2.32689995e-02, 2.20240001e-02, 2.24210005e-02, 3.53299600e+06,\n",
       "          2.27899998e-02, 1.14973180e-01]],\n",
       " \n",
       "        [[2.02500001e-02, 1.89590007e-02, 1.90309994e-02, 4.10461000e+06,\n",
       "          2.02270001e-02, 1.31502325e-01],\n",
       "         [2.25079991e-02, 1.84300002e-02, 1.84509996e-02, 7.97182800e+06,\n",
       "          2.24239994e-02, 1.53586280e-01],\n",
       "         [1.65059995e-02, 1.55039998e-02, 1.58009995e-02, 5.23944600e+06,\n",
       "          1.65059995e-02, 1.28670540e-01],\n",
       "         [2.32689995e-02, 2.20240001e-02, 2.24210005e-02, 3.53299600e+06,\n",
       "          2.27899998e-02, 1.14973180e-01],\n",
       "         [1.66459996e-02, 1.56950001e-02, 1.65059995e-02, 5.82447500e+06,\n",
       "          1.57040004e-02, 1.31015680e-01]],\n",
       " \n",
       "        [[2.25079991e-02, 1.84300002e-02, 1.84509996e-02, 7.97182800e+06,\n",
       "          2.24239994e-02, 1.53586280e-01],\n",
       "         [1.65059995e-02, 1.55039998e-02, 1.58009995e-02, 5.23944600e+06,\n",
       "          1.65059995e-02, 1.28670540e-01],\n",
       "         [2.32689995e-02, 2.20240001e-02, 2.24210005e-02, 3.53299600e+06,\n",
       "          2.27899998e-02, 1.14973180e-01],\n",
       "         [1.66459996e-02, 1.56950001e-02, 1.65059995e-02, 5.82447500e+06,\n",
       "          1.57040004e-02, 1.31015680e-01],\n",
       "         [2.28049997e-02, 2.16910001e-02, 2.27889996e-02, 5.60957000e+06,\n",
       "          2.26099994e-02, 1.07060620e-01]]]),\n",
       " array([0.015704  , 0.02261   , 0.01550881]))"
      ]
     },
     "execution_count": 26,
     "metadata": {},
     "output_type": "execute_result"
    }
   ],
   "source": [
    "test_data_gen[0]"
   ]
  },
  {
   "cell_type": "code",
   "execution_count": 27,
   "metadata": {},
   "outputs": [
    {
     "data": {
      "text/plain": [
       "array([[0.01891597],\n",
       "       [0.01891597],\n",
       "       [0.01891597]], dtype=float32)"
      ]
     },
     "execution_count": 27,
     "metadata": {},
     "output_type": "execute_result"
    }
   ],
   "source": [
    "pred"
   ]
  },
  {
   "cell_type": "code",
   "execution_count": 28,
   "metadata": {},
   "outputs": [],
   "source": [
    "import matplotlib.pyplot as plt"
   ]
  },
  {
   "cell_type": "code",
   "execution_count": 29,
   "metadata": {},
   "outputs": [
    {
     "data": {
      "image/png": "[encoded data removed]",
      "text/plain": [
       "<Figure size 720x288 with 1 Axes>"
      ]
     },
     "metadata": {
      "needs_background": "light"
     },
     "output_type": "display_data"
    }
   ],
   "source": [
    "# Visualising the results\n",
    "plt.figure(figsize=(10,4))\n",
    "plt.plot(y_test[0:y_test.shape[0]-5], color = 'red', label = 'Real MONAPrice')\n",
    "plt.plot(pred, color = 'blue', label = 'Predicted MONA Price')\n",
    "plt.title('MONA Price Prediction')\n",
    "plt.xlabel('Time')\n",
    "plt.ylabel('MONA Price')\n",
    "plt.ylim(0,1)\n",
    "plt.legend()\n",
    "plt.show()"
   ]
  }
 ],
 "metadata": {
  "interpreter": {
   "hash": "b2d2dc41cbfaf67ac4a91a427b68830b69dde48fe3ce74dedd3ecbeef6226b1d"
  },
  "kernelspec": {
   "display_name": "Python 3.9.7 ('base')",
   "language": "python",
   "name": "python3"
  },
  "language_info": {
   "codemirror_mode": {
    "name": "ipython",
    "version": 3
   },
   "file_extension": ".py",
   "mimetype": "text/x-python",
   "name": "python",
   "nbconvert_exporter": "python",
   "pygments_lexer": "ipython3",
   "version": "3.9.5"
  },
  "orig_nbformat": 4
 },
 "nbformat": 4,
 "nbformat_minor": 2
}
