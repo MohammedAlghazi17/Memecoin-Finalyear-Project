{
  "cells": [
    {
      "cell_type": "code",
      "execution_count": null,
      "id": "5dabdc47",
      "metadata": {
        "id": "5dabdc47"
      },
      "outputs": [],
      "source": []
    },
    {
      "cell_type": "code",
      "execution_count": 2,
      "id": "faeFgAvYDiv2",
      "metadata": {
        "colab": {
          "base_uri": "https://localhost:8080/"
        },
        "id": "faeFgAvYDiv2",
        "outputId": "151c32fe-23d6-4563-d21b-b95ae5593c1b"
      },
      "outputs": [],
      "source": [
        "#!pip install python-binance pandas mplfinance\n",
        "#!pip install pandas-datareader\n"
      ]
    },
    {
      "cell_type": "code",
      "execution_count": 3,
      "id": "3fb5845a",
      "metadata": {
        "id": "3fb5845a"
      },
      "outputs": [],
      "source": [
        "from binance import Client, ThreadedWebsocketManager, ThreadedDepthCacheManager\n",
        "import pandas as pd\n",
        "import datetime as dt\n",
        "import pandas_datareader.data as web\n",
        "import matplotlib.pyplot as plt\n",
        "import numpy as np\n",
        "import csv\n",
        "from IPython.display import display\n",
        "from textblob import TextBlob\n",
        "%matplotlib inline"
      ]
    },
    {
      "cell_type": "markdown",
      "id": "yOUDU-ap2ChZ",
      "metadata": {
        "id": "yOUDU-ap2ChZ"
      },
      "source": [
        "Binance API Data"
      ]
    },
    {
      "cell_type": "code",
      "execution_count": 4,
      "id": "00f677c8",
      "metadata": {
        "id": "00f677c8"
      },
      "outputs": [],
      "source": [
        "client = Client(apikey, secret)"
      ]
    },
    {
      "cell_type": "code",
      "execution_count": null,
      "id": "c12c2c29",
      "metadata": {
        "colab": {
          "base_uri": "https://localhost:8080/"
        },
        "id": "c12c2c29",
        "outputId": "2568c9f1-5bf7-4a96-cac6-25d06a647459",
        "scrolled": true
      },
      "outputs": [],
      "source": [
        "tickers =client.get_all_tickers()\n",
        "tickers"
      ]
    },
    {
      "cell_type": "code",
      "execution_count": 6,
      "id": "4652a87d",
      "metadata": {
        "colab": {
          "base_uri": "https://localhost:8080/"
        },
        "id": "4652a87d",
        "outputId": "165f5e4d-a7d6-40ba-ec64-6ccbe328fcbc"
      },
      "outputs": [
        {
          "data": {
            "text/plain": [
              "{'symbol': 'DOGEUSDT', 'price': '0.14050000'}"
            ]
          },
          "execution_count": 6,
          "metadata": {},
          "output_type": "execute_result"
        }
      ],
      "source": [
        "tickers[558]"
      ]
    },
    {
      "cell_type": "code",
      "execution_count": 7,
      "id": "2a81e75b",
      "metadata": {
        "id": "2a81e75b"
      },
      "outputs": [],
      "source": [
        "ticker_df = pd.DataFrame(tickers)"
      ]
    },
    {
      "cell_type": "code",
      "execution_count": 8,
      "id": "2f4fd004",
      "metadata": {
        "id": "2f4fd004"
      },
      "outputs": [],
      "source": [
        "ticker_df.set_index('symbol', inplace=True)"
      ]
    },
    {
      "cell_type": "code",
      "execution_count": 9,
      "id": "3040d19c",
      "metadata": {
        "colab": {
          "base_uri": "https://localhost:8080/"
        },
        "id": "3040d19c",
        "outputId": "c3338b4f-ac2e-4b77-d355-88d110fa6e31"
      },
      "outputs": [
        {
          "data": {
            "text/plain": [
              "price    0.14050000\n",
              "Name: DOGEUSDT, dtype: object"
            ]
          },
          "execution_count": 9,
          "metadata": {},
          "output_type": "execute_result"
        }
      ],
      "source": [
        "ticker_df.loc['DOGEUSDT']"
      ]
    },
    {
      "cell_type": "code",
      "execution_count": 10,
      "id": "98346265",
      "metadata": {
        "id": "98346265"
      },
      "outputs": [],
      "source": [
        "historical = client.get_historical_klines('DOGEUSDT', client.KLINE_INTERVAL_1DAY, '1 jan 2016')"
      ]
    },
    {
      "cell_type": "code",
      "execution_count": null,
      "id": "b89184e5",
      "metadata": {
        "colab": {
          "base_uri": "https://localhost:8080/"
        },
        "id": "b89184e5",
        "outputId": "ccf36b39-7ff7-4d72-dae3-b8b8742dc2d1",
        "scrolled": true
      },
      "outputs": [],
      "source": [
        "historical\n"
      ]
    },
    {
      "cell_type": "code",
      "execution_count": 12,
      "id": "43077759",
      "metadata": {
        "id": "43077759"
      },
      "outputs": [],
      "source": [
        "hist_df = pd.DataFrame(historical)"
      ]
    },
    {
      "cell_type": "code",
      "execution_count": 13,
      "id": "5d7bd1ee",
      "metadata": {
        "colab": {
          "base_uri": "https://localhost:8080/",
          "height": 270
        },
        "id": "5d7bd1ee",
        "outputId": "188dd5ae-ccb2-4a75-9da4-a94f3e8807bc"
      },
      "outputs": [
        {
          "data": {
            "text/html": [
              "<div>\n",
              "<style scoped>\n",
              "    .dataframe tbody tr th:only-of-type {\n",
              "        vertical-align: middle;\n",
              "    }\n",
              "\n",
              "    .dataframe tbody tr th {\n",
              "        vertical-align: top;\n",
              "    }\n",
              "\n",
              "    .dataframe thead th {\n",
              "        text-align: right;\n",
              "    }\n",
              "</style>\n",
              "<table border=\"1\" class=\"dataframe\">\n",
              "  <thead>\n",
              "    <tr style=\"text-align: right;\">\n",
              "      <th></th>\n",
              "      <th>0</th>\n",
              "      <th>1</th>\n",
              "      <th>2</th>\n",
              "      <th>3</th>\n",
              "      <th>4</th>\n",
              "      <th>5</th>\n",
              "      <th>6</th>\n",
              "      <th>7</th>\n",
              "      <th>8</th>\n",
              "      <th>9</th>\n",
              "      <th>10</th>\n",
              "      <th>11</th>\n",
              "    </tr>\n",
              "  </thead>\n",
              "  <tbody>\n",
              "    <tr>\n",
              "      <th>0</th>\n",
              "      <td>1562284800000</td>\n",
              "      <td>0.00449000</td>\n",
              "      <td>0.00460000</td>\n",
              "      <td>0.00355000</td>\n",
              "      <td>0.00387010</td>\n",
              "      <td>1928297660.00000000</td>\n",
              "      <td>1562371199999</td>\n",
              "      <td>7506289.39817290</td>\n",
              "      <td>18589</td>\n",
              "      <td>858403324.00000000</td>\n",
              "      <td>3336426.01151920</td>\n",
              "      <td>0</td>\n",
              "    </tr>\n",
              "    <tr>\n",
              "      <th>1</th>\n",
              "      <td>1562371200000</td>\n",
              "      <td>0.00387410</td>\n",
              "      <td>0.00394260</td>\n",
              "      <td>0.00336520</td>\n",
              "      <td>0.00350000</td>\n",
              "      <td>1010744287.00000000</td>\n",
              "      <td>1562457599999</td>\n",
              "      <td>3692804.08878380</td>\n",
              "      <td>17250</td>\n",
              "      <td>522724122.00000000</td>\n",
              "      <td>1908499.50964960</td>\n",
              "      <td>0</td>\n",
              "    </tr>\n",
              "    <tr>\n",
              "      <th>2</th>\n",
              "      <td>1562457600000</td>\n",
              "      <td>0.00350400</td>\n",
              "      <td>0.00365000</td>\n",
              "      <td>0.00340000</td>\n",
              "      <td>0.00353770</td>\n",
              "      <td>530613992.00000000</td>\n",
              "      <td>1562543999999</td>\n",
              "      <td>1860353.07168390</td>\n",
              "      <td>9394</td>\n",
              "      <td>275110757.00000000</td>\n",
              "      <td>965093.40977300</td>\n",
              "      <td>0</td>\n",
              "    </tr>\n",
              "    <tr>\n",
              "      <th>3</th>\n",
              "      <td>1562544000000</td>\n",
              "      <td>0.00353780</td>\n",
              "      <td>0.00356180</td>\n",
              "      <td>0.00340000</td>\n",
              "      <td>0.00345800</td>\n",
              "      <td>308445688.00000000</td>\n",
              "      <td>1562630399999</td>\n",
              "      <td>1078072.00566180</td>\n",
              "      <td>4958</td>\n",
              "      <td>159456967.00000000</td>\n",
              "      <td>558024.17586270</td>\n",
              "      <td>0</td>\n",
              "    </tr>\n",
              "    <tr>\n",
              "      <th>4</th>\n",
              "      <td>1562630400000</td>\n",
              "      <td>0.00346200</td>\n",
              "      <td>0.00358200</td>\n",
              "      <td>0.00335640</td>\n",
              "      <td>0.00345450</td>\n",
              "      <td>253375582.00000000</td>\n",
              "      <td>1562716799999</td>\n",
              "      <td>878528.33377630</td>\n",
              "      <td>5690</td>\n",
              "      <td>115809520.00000000</td>\n",
              "      <td>402047.29506700</td>\n",
              "      <td>0</td>\n",
              "    </tr>\n",
              "  </tbody>\n",
              "</table>\n",
              "</div>"
            ],
            "text/plain": [
              "              0           1           2           3           4   \\\n",
              "0  1562284800000  0.00449000  0.00460000  0.00355000  0.00387010   \n",
              "1  1562371200000  0.00387410  0.00394260  0.00336520  0.00350000   \n",
              "2  1562457600000  0.00350400  0.00365000  0.00340000  0.00353770   \n",
              "3  1562544000000  0.00353780  0.00356180  0.00340000  0.00345800   \n",
              "4  1562630400000  0.00346200  0.00358200  0.00335640  0.00345450   \n",
              "\n",
              "                    5              6                 7      8   \\\n",
              "0  1928297660.00000000  1562371199999  7506289.39817290  18589   \n",
              "1  1010744287.00000000  1562457599999  3692804.08878380  17250   \n",
              "2   530613992.00000000  1562543999999  1860353.07168390   9394   \n",
              "3   308445688.00000000  1562630399999  1078072.00566180   4958   \n",
              "4   253375582.00000000  1562716799999   878528.33377630   5690   \n",
              "\n",
              "                   9                 10 11  \n",
              "0  858403324.00000000  3336426.01151920  0  \n",
              "1  522724122.00000000  1908499.50964960  0  \n",
              "2  275110757.00000000   965093.40977300  0  \n",
              "3  159456967.00000000   558024.17586270  0  \n",
              "4  115809520.00000000   402047.29506700  0  "
            ]
          },
          "execution_count": 13,
          "metadata": {},
          "output_type": "execute_result"
        }
      ],
      "source": [
        "hist_df.head()\n",
        "\n"
      ]
    },
    {
      "cell_type": "code",
      "execution_count": 14,
      "id": "5f025b23",
      "metadata": {
        "id": "5f025b23"
      },
      "outputs": [],
      "source": [
        "hist_df.columns = ['Open Time', 'Open', 'High', 'Low', 'Close', 'Volume', 'Close Time', 'Quote Asset Time', 'Number of Trades', 'TB Base Volume', 'TB Quote Volume', 'Ignore'] "
      ]
    },
    {
      "cell_type": "code",
      "execution_count": 15,
      "id": "d03c145b",
      "metadata": {
        "colab": {
          "base_uri": "https://localhost:8080/",
          "height": 305
        },
        "id": "d03c145b",
        "outputId": "d98f3546-3875-4d67-c124-bb081c0598f8"
      },
      "outputs": [
        {
          "data": {
            "text/html": [
              "<div>\n",
              "<style scoped>\n",
              "    .dataframe tbody tr th:only-of-type {\n",
              "        vertical-align: middle;\n",
              "    }\n",
              "\n",
              "    .dataframe tbody tr th {\n",
              "        vertical-align: top;\n",
              "    }\n",
              "\n",
              "    .dataframe thead th {\n",
              "        text-align: right;\n",
              "    }\n",
              "</style>\n",
              "<table border=\"1\" class=\"dataframe\">\n",
              "  <thead>\n",
              "    <tr style=\"text-align: right;\">\n",
              "      <th></th>\n",
              "      <th>Open Time</th>\n",
              "      <th>Open</th>\n",
              "      <th>High</th>\n",
              "      <th>Low</th>\n",
              "      <th>Close</th>\n",
              "      <th>Volume</th>\n",
              "      <th>Close Time</th>\n",
              "      <th>Quote Asset Time</th>\n",
              "      <th>Number of Trades</th>\n",
              "      <th>TB Base Volume</th>\n",
              "      <th>TB Quote Volume</th>\n",
              "      <th>Ignore</th>\n",
              "    </tr>\n",
              "  </thead>\n",
              "  <tbody>\n",
              "    <tr>\n",
              "      <th>0</th>\n",
              "      <td>1562284800000</td>\n",
              "      <td>0.00449000</td>\n",
              "      <td>0.00460000</td>\n",
              "      <td>0.00355000</td>\n",
              "      <td>0.00387010</td>\n",
              "      <td>1928297660.00000000</td>\n",
              "      <td>1562371199999</td>\n",
              "      <td>7506289.39817290</td>\n",
              "      <td>18589</td>\n",
              "      <td>858403324.00000000</td>\n",
              "      <td>3336426.01151920</td>\n",
              "      <td>0</td>\n",
              "    </tr>\n",
              "    <tr>\n",
              "      <th>1</th>\n",
              "      <td>1562371200000</td>\n",
              "      <td>0.00387410</td>\n",
              "      <td>0.00394260</td>\n",
              "      <td>0.00336520</td>\n",
              "      <td>0.00350000</td>\n",
              "      <td>1010744287.00000000</td>\n",
              "      <td>1562457599999</td>\n",
              "      <td>3692804.08878380</td>\n",
              "      <td>17250</td>\n",
              "      <td>522724122.00000000</td>\n",
              "      <td>1908499.50964960</td>\n",
              "      <td>0</td>\n",
              "    </tr>\n",
              "    <tr>\n",
              "      <th>2</th>\n",
              "      <td>1562457600000</td>\n",
              "      <td>0.00350400</td>\n",
              "      <td>0.00365000</td>\n",
              "      <td>0.00340000</td>\n",
              "      <td>0.00353770</td>\n",
              "      <td>530613992.00000000</td>\n",
              "      <td>1562543999999</td>\n",
              "      <td>1860353.07168390</td>\n",
              "      <td>9394</td>\n",
              "      <td>275110757.00000000</td>\n",
              "      <td>965093.40977300</td>\n",
              "      <td>0</td>\n",
              "    </tr>\n",
              "    <tr>\n",
              "      <th>3</th>\n",
              "      <td>1562544000000</td>\n",
              "      <td>0.00353780</td>\n",
              "      <td>0.00356180</td>\n",
              "      <td>0.00340000</td>\n",
              "      <td>0.00345800</td>\n",
              "      <td>308445688.00000000</td>\n",
              "      <td>1562630399999</td>\n",
              "      <td>1078072.00566180</td>\n",
              "      <td>4958</td>\n",
              "      <td>159456967.00000000</td>\n",
              "      <td>558024.17586270</td>\n",
              "      <td>0</td>\n",
              "    </tr>\n",
              "    <tr>\n",
              "      <th>4</th>\n",
              "      <td>1562630400000</td>\n",
              "      <td>0.00346200</td>\n",
              "      <td>0.00358200</td>\n",
              "      <td>0.00335640</td>\n",
              "      <td>0.00345450</td>\n",
              "      <td>253375582.00000000</td>\n",
              "      <td>1562716799999</td>\n",
              "      <td>878528.33377630</td>\n",
              "      <td>5690</td>\n",
              "      <td>115809520.00000000</td>\n",
              "      <td>402047.29506700</td>\n",
              "      <td>0</td>\n",
              "    </tr>\n",
              "  </tbody>\n",
              "</table>\n",
              "</div>"
            ],
            "text/plain": [
              "       Open Time        Open        High         Low       Close  \\\n",
              "0  1562284800000  0.00449000  0.00460000  0.00355000  0.00387010   \n",
              "1  1562371200000  0.00387410  0.00394260  0.00336520  0.00350000   \n",
              "2  1562457600000  0.00350400  0.00365000  0.00340000  0.00353770   \n",
              "3  1562544000000  0.00353780  0.00356180  0.00340000  0.00345800   \n",
              "4  1562630400000  0.00346200  0.00358200  0.00335640  0.00345450   \n",
              "\n",
              "                Volume     Close Time  Quote Asset Time  Number of Trades  \\\n",
              "0  1928297660.00000000  1562371199999  7506289.39817290             18589   \n",
              "1  1010744287.00000000  1562457599999  3692804.08878380             17250   \n",
              "2   530613992.00000000  1562543999999  1860353.07168390              9394   \n",
              "3   308445688.00000000  1562630399999  1078072.00566180              4958   \n",
              "4   253375582.00000000  1562716799999   878528.33377630              5690   \n",
              "\n",
              "       TB Base Volume   TB Quote Volume Ignore  \n",
              "0  858403324.00000000  3336426.01151920      0  \n",
              "1  522724122.00000000  1908499.50964960      0  \n",
              "2  275110757.00000000   965093.40977300      0  \n",
              "3  159456967.00000000   558024.17586270      0  \n",
              "4  115809520.00000000   402047.29506700      0  "
            ]
          },
          "execution_count": 15,
          "metadata": {},
          "output_type": "execute_result"
        }
      ],
      "source": [
        "\n",
        "hist_df.head()"
      ]
    },
    {
      "cell_type": "code",
      "execution_count": 16,
      "id": "4cebfba2",
      "metadata": {
        "id": "4cebfba2"
      },
      "outputs": [],
      "source": [
        "hist_df['Open Time'] = pd.to_datetime(hist_df['Open Time']/1000, unit='s')\n",
        "hist_df['Close Time'] = pd.to_datetime(hist_df['Close Time']/1000, unit='s')\n"
      ]
    },
    {
      "cell_type": "code",
      "execution_count": 17,
      "id": "37cc8946",
      "metadata": {
        "colab": {
          "base_uri": "https://localhost:8080/",
          "height": 391
        },
        "id": "37cc8946",
        "outputId": "171539fd-2775-41d6-b82d-43e850d8a919"
      },
      "outputs": [
        {
          "data": {
            "text/html": [
              "<div>\n",
              "<style scoped>\n",
              "    .dataframe tbody tr th:only-of-type {\n",
              "        vertical-align: middle;\n",
              "    }\n",
              "\n",
              "    .dataframe tbody tr th {\n",
              "        vertical-align: top;\n",
              "    }\n",
              "\n",
              "    .dataframe thead th {\n",
              "        text-align: right;\n",
              "    }\n",
              "</style>\n",
              "<table border=\"1\" class=\"dataframe\">\n",
              "  <thead>\n",
              "    <tr style=\"text-align: right;\">\n",
              "      <th></th>\n",
              "      <th>Open Time</th>\n",
              "      <th>Open</th>\n",
              "      <th>High</th>\n",
              "      <th>Low</th>\n",
              "      <th>Close</th>\n",
              "      <th>Volume</th>\n",
              "      <th>Close Time</th>\n",
              "      <th>Quote Asset Time</th>\n",
              "      <th>Number of Trades</th>\n",
              "      <th>TB Base Volume</th>\n",
              "      <th>TB Quote Volume</th>\n",
              "      <th>Ignore</th>\n",
              "    </tr>\n",
              "  </thead>\n",
              "  <tbody>\n",
              "    <tr>\n",
              "      <th>0</th>\n",
              "      <td>2019-07-05</td>\n",
              "      <td>0.00449000</td>\n",
              "      <td>0.00460000</td>\n",
              "      <td>0.00355000</td>\n",
              "      <td>0.00387010</td>\n",
              "      <td>1928297660.00000000</td>\n",
              "      <td>2019-07-05 23:59:59.999000064</td>\n",
              "      <td>7506289.39817290</td>\n",
              "      <td>18589</td>\n",
              "      <td>858403324.00000000</td>\n",
              "      <td>3336426.01151920</td>\n",
              "      <td>0</td>\n",
              "    </tr>\n",
              "    <tr>\n",
              "      <th>1</th>\n",
              "      <td>2019-07-06</td>\n",
              "      <td>0.00387410</td>\n",
              "      <td>0.00394260</td>\n",
              "      <td>0.00336520</td>\n",
              "      <td>0.00350000</td>\n",
              "      <td>1010744287.00000000</td>\n",
              "      <td>2019-07-06 23:59:59.999000064</td>\n",
              "      <td>3692804.08878380</td>\n",
              "      <td>17250</td>\n",
              "      <td>522724122.00000000</td>\n",
              "      <td>1908499.50964960</td>\n",
              "      <td>0</td>\n",
              "    </tr>\n",
              "    <tr>\n",
              "      <th>2</th>\n",
              "      <td>2019-07-07</td>\n",
              "      <td>0.00350400</td>\n",
              "      <td>0.00365000</td>\n",
              "      <td>0.00340000</td>\n",
              "      <td>0.00353770</td>\n",
              "      <td>530613992.00000000</td>\n",
              "      <td>2019-07-07 23:59:59.999000064</td>\n",
              "      <td>1860353.07168390</td>\n",
              "      <td>9394</td>\n",
              "      <td>275110757.00000000</td>\n",
              "      <td>965093.40977300</td>\n",
              "      <td>0</td>\n",
              "    </tr>\n",
              "    <tr>\n",
              "      <th>3</th>\n",
              "      <td>2019-07-08</td>\n",
              "      <td>0.00353780</td>\n",
              "      <td>0.00356180</td>\n",
              "      <td>0.00340000</td>\n",
              "      <td>0.00345800</td>\n",
              "      <td>308445688.00000000</td>\n",
              "      <td>2019-07-08 23:59:59.999000064</td>\n",
              "      <td>1078072.00566180</td>\n",
              "      <td>4958</td>\n",
              "      <td>159456967.00000000</td>\n",
              "      <td>558024.17586270</td>\n",
              "      <td>0</td>\n",
              "    </tr>\n",
              "    <tr>\n",
              "      <th>4</th>\n",
              "      <td>2019-07-09</td>\n",
              "      <td>0.00346200</td>\n",
              "      <td>0.00358200</td>\n",
              "      <td>0.00335640</td>\n",
              "      <td>0.00345450</td>\n",
              "      <td>253375582.00000000</td>\n",
              "      <td>2019-07-09 23:59:59.999000064</td>\n",
              "      <td>878528.33377630</td>\n",
              "      <td>5690</td>\n",
              "      <td>115809520.00000000</td>\n",
              "      <td>402047.29506700</td>\n",
              "      <td>0</td>\n",
              "    </tr>\n",
              "  </tbody>\n",
              "</table>\n",
              "</div>"
            ],
            "text/plain": [
              "   Open Time        Open        High         Low       Close  \\\n",
              "0 2019-07-05  0.00449000  0.00460000  0.00355000  0.00387010   \n",
              "1 2019-07-06  0.00387410  0.00394260  0.00336520  0.00350000   \n",
              "2 2019-07-07  0.00350400  0.00365000  0.00340000  0.00353770   \n",
              "3 2019-07-08  0.00353780  0.00356180  0.00340000  0.00345800   \n",
              "4 2019-07-09  0.00346200  0.00358200  0.00335640  0.00345450   \n",
              "\n",
              "                Volume                    Close Time  Quote Asset Time  \\\n",
              "0  1928297660.00000000 2019-07-05 23:59:59.999000064  7506289.39817290   \n",
              "1  1010744287.00000000 2019-07-06 23:59:59.999000064  3692804.08878380   \n",
              "2   530613992.00000000 2019-07-07 23:59:59.999000064  1860353.07168390   \n",
              "3   308445688.00000000 2019-07-08 23:59:59.999000064  1078072.00566180   \n",
              "4   253375582.00000000 2019-07-09 23:59:59.999000064   878528.33377630   \n",
              "\n",
              "   Number of Trades      TB Base Volume   TB Quote Volume Ignore  \n",
              "0             18589  858403324.00000000  3336426.01151920      0  \n",
              "1             17250  522724122.00000000  1908499.50964960      0  \n",
              "2              9394  275110757.00000000   965093.40977300      0  \n",
              "3              4958  159456967.00000000   558024.17586270      0  \n",
              "4              5690  115809520.00000000   402047.29506700      0  "
            ]
          },
          "execution_count": 17,
          "metadata": {},
          "output_type": "execute_result"
        }
      ],
      "source": [
        "hist_df.head()"
      ]
    },
    {
      "cell_type": "code",
      "execution_count": 18,
      "id": "38505e54",
      "metadata": {
        "id": "38505e54"
      },
      "outputs": [],
      "source": [
        "numeric_columns = ['Open', 'High', 'Low', 'Close', 'Volume', 'Quote Asset Time', 'TB Base Volume', 'TB Quote Volume']"
      ]
    },
    {
      "cell_type": "code",
      "execution_count": 19,
      "id": "110366c6",
      "metadata": {
        "id": "110366c6"
      },
      "outputs": [],
      "source": [
        "hist_df[numeric_columns] = hist_df[numeric_columns].apply(pd.to_numeric, axis=1)\n"
      ]
    },
    {
      "cell_type": "code",
      "execution_count": 20,
      "id": "716b3434",
      "metadata": {
        "colab": {
          "base_uri": "https://localhost:8080/",
          "height": 391
        },
        "id": "716b3434",
        "outputId": "267019d2-3be9-43bc-9771-4943cf2a2b47"
      },
      "outputs": [
        {
          "data": {
            "text/html": [
              "<div>\n",
              "<style scoped>\n",
              "    .dataframe tbody tr th:only-of-type {\n",
              "        vertical-align: middle;\n",
              "    }\n",
              "\n",
              "    .dataframe tbody tr th {\n",
              "        vertical-align: top;\n",
              "    }\n",
              "\n",
              "    .dataframe thead th {\n",
              "        text-align: right;\n",
              "    }\n",
              "</style>\n",
              "<table border=\"1\" class=\"dataframe\">\n",
              "  <thead>\n",
              "    <tr style=\"text-align: right;\">\n",
              "      <th></th>\n",
              "      <th>Open Time</th>\n",
              "      <th>Open</th>\n",
              "      <th>High</th>\n",
              "      <th>Low</th>\n",
              "      <th>Close</th>\n",
              "      <th>Volume</th>\n",
              "      <th>Close Time</th>\n",
              "      <th>Quote Asset Time</th>\n",
              "      <th>Number of Trades</th>\n",
              "      <th>TB Base Volume</th>\n",
              "      <th>TB Quote Volume</th>\n",
              "      <th>Ignore</th>\n",
              "    </tr>\n",
              "  </thead>\n",
              "  <tbody>\n",
              "    <tr>\n",
              "      <th>1009</th>\n",
              "      <td>2022-04-09</td>\n",
              "      <td>0.1423</td>\n",
              "      <td>0.1446</td>\n",
              "      <td>0.1405</td>\n",
              "      <td>0.1442</td>\n",
              "      <td>5.987070e+08</td>\n",
              "      <td>2022-04-09 23:59:59.999000064</td>\n",
              "      <td>8.553394e+07</td>\n",
              "      <td>104463</td>\n",
              "      <td>2.931591e+08</td>\n",
              "      <td>4.188595e+07</td>\n",
              "      <td>0</td>\n",
              "    </tr>\n",
              "    <tr>\n",
              "      <th>1010</th>\n",
              "      <td>2022-04-10</td>\n",
              "      <td>0.1442</td>\n",
              "      <td>0.1578</td>\n",
              "      <td>0.1435</td>\n",
              "      <td>0.1482</td>\n",
              "      <td>2.653382e+09</td>\n",
              "      <td>2022-04-10 23:59:59.999000064</td>\n",
              "      <td>4.023391e+08</td>\n",
              "      <td>440083</td>\n",
              "      <td>1.316691e+09</td>\n",
              "      <td>1.996247e+08</td>\n",
              "      <td>0</td>\n",
              "    </tr>\n",
              "    <tr>\n",
              "      <th>1011</th>\n",
              "      <td>2022-04-11</td>\n",
              "      <td>0.1482</td>\n",
              "      <td>0.1515</td>\n",
              "      <td>0.1329</td>\n",
              "      <td>0.1341</td>\n",
              "      <td>2.077945e+09</td>\n",
              "      <td>2022-04-11 23:59:59.999000064</td>\n",
              "      <td>2.955515e+08</td>\n",
              "      <td>336976</td>\n",
              "      <td>9.826098e+08</td>\n",
              "      <td>1.397557e+08</td>\n",
              "      <td>0</td>\n",
              "    </tr>\n",
              "    <tr>\n",
              "      <th>1012</th>\n",
              "      <td>2022-04-12</td>\n",
              "      <td>0.1340</td>\n",
              "      <td>0.1446</td>\n",
              "      <td>0.1332</td>\n",
              "      <td>0.1380</td>\n",
              "      <td>1.432968e+09</td>\n",
              "      <td>2022-04-12 23:59:59.999000064</td>\n",
              "      <td>1.987637e+08</td>\n",
              "      <td>239645</td>\n",
              "      <td>7.241156e+08</td>\n",
              "      <td>1.003889e+08</td>\n",
              "      <td>0</td>\n",
              "    </tr>\n",
              "    <tr>\n",
              "      <th>1013</th>\n",
              "      <td>2022-04-13</td>\n",
              "      <td>0.1380</td>\n",
              "      <td>0.1435</td>\n",
              "      <td>0.1371</td>\n",
              "      <td>0.1405</td>\n",
              "      <td>4.155514e+08</td>\n",
              "      <td>2022-04-13 23:59:59.999000064</td>\n",
              "      <td>5.835226e+07</td>\n",
              "      <td>69884</td>\n",
              "      <td>2.075103e+08</td>\n",
              "      <td>2.913982e+07</td>\n",
              "      <td>0</td>\n",
              "    </tr>\n",
              "  </tbody>\n",
              "</table>\n",
              "</div>"
            ],
            "text/plain": [
              "      Open Time    Open    High     Low   Close        Volume  \\\n",
              "1009 2022-04-09  0.1423  0.1446  0.1405  0.1442  5.987070e+08   \n",
              "1010 2022-04-10  0.1442  0.1578  0.1435  0.1482  2.653382e+09   \n",
              "1011 2022-04-11  0.1482  0.1515  0.1329  0.1341  2.077945e+09   \n",
              "1012 2022-04-12  0.1340  0.1446  0.1332  0.1380  1.432968e+09   \n",
              "1013 2022-04-13  0.1380  0.1435  0.1371  0.1405  4.155514e+08   \n",
              "\n",
              "                        Close Time  Quote Asset Time  Number of Trades  \\\n",
              "1009 2022-04-09 23:59:59.999000064      8.553394e+07            104463   \n",
              "1010 2022-04-10 23:59:59.999000064      4.023391e+08            440083   \n",
              "1011 2022-04-11 23:59:59.999000064      2.955515e+08            336976   \n",
              "1012 2022-04-12 23:59:59.999000064      1.987637e+08            239645   \n",
              "1013 2022-04-13 23:59:59.999000064      5.835226e+07             69884   \n",
              "\n",
              "      TB Base Volume  TB Quote Volume Ignore  \n",
              "1009    2.931591e+08     4.188595e+07      0  \n",
              "1010    1.316691e+09     1.996247e+08      0  \n",
              "1011    9.826098e+08     1.397557e+08      0  \n",
              "1012    7.241156e+08     1.003889e+08      0  \n",
              "1013    2.075103e+08     2.913982e+07      0  "
            ]
          },
          "execution_count": 20,
          "metadata": {},
          "output_type": "execute_result"
        }
      ],
      "source": [
        "hist_df.tail()"
      ]
    },
    {
      "cell_type": "code",
      "execution_count": 21,
      "id": "9f109e2e",
      "metadata": {
        "id": "9f109e2e"
      },
      "outputs": [],
      "source": [
        "import mplfinance as mpf"
      ]
    },
    {
      "cell_type": "code",
      "execution_count": 22,
      "id": "d034e47e",
      "metadata": {
        "colab": {
          "base_uri": "https://localhost:8080/",
          "height": 727
        },
        "id": "d034e47e",
        "outputId": "9e891b6d-ea4d-4d73-df9a-48fda88d1f81"
      },
      "outputs": [
        {
          "data": {
            "text/html": [
              "<div>\n",
              "<style scoped>\n",
              "    .dataframe tbody tr th:only-of-type {\n",
              "        vertical-align: middle;\n",
              "    }\n",
              "\n",
              "    .dataframe tbody tr th {\n",
              "        vertical-align: top;\n",
              "    }\n",
              "\n",
              "    .dataframe thead th {\n",
              "        text-align: right;\n",
              "    }\n",
              "</style>\n",
              "<table border=\"1\" class=\"dataframe\">\n",
              "  <thead>\n",
              "    <tr style=\"text-align: right;\">\n",
              "      <th></th>\n",
              "      <th>Open Time</th>\n",
              "      <th>Open</th>\n",
              "      <th>High</th>\n",
              "      <th>Low</th>\n",
              "      <th>Close</th>\n",
              "      <th>Volume</th>\n",
              "      <th>Quote Asset Time</th>\n",
              "      <th>Number of Trades</th>\n",
              "      <th>TB Base Volume</th>\n",
              "      <th>TB Quote Volume</th>\n",
              "      <th>Ignore</th>\n",
              "    </tr>\n",
              "    <tr>\n",
              "      <th>Close Time</th>\n",
              "      <th></th>\n",
              "      <th></th>\n",
              "      <th></th>\n",
              "      <th></th>\n",
              "      <th></th>\n",
              "      <th></th>\n",
              "      <th></th>\n",
              "      <th></th>\n",
              "      <th></th>\n",
              "      <th></th>\n",
              "      <th></th>\n",
              "    </tr>\n",
              "  </thead>\n",
              "  <tbody>\n",
              "    <tr>\n",
              "      <th>2019-07-05 23:59:59.999000064</th>\n",
              "      <td>2019-07-05</td>\n",
              "      <td>0.004490</td>\n",
              "      <td>0.004600</td>\n",
              "      <td>0.003550</td>\n",
              "      <td>0.003870</td>\n",
              "      <td>1.928298e+09</td>\n",
              "      <td>7.506289e+06</td>\n",
              "      <td>18589</td>\n",
              "      <td>8.584033e+08</td>\n",
              "      <td>3.336426e+06</td>\n",
              "      <td>0</td>\n",
              "    </tr>\n",
              "    <tr>\n",
              "      <th>2019-07-06 23:59:59.999000064</th>\n",
              "      <td>2019-07-06</td>\n",
              "      <td>0.003874</td>\n",
              "      <td>0.003943</td>\n",
              "      <td>0.003365</td>\n",
              "      <td>0.003500</td>\n",
              "      <td>1.010744e+09</td>\n",
              "      <td>3.692804e+06</td>\n",
              "      <td>17250</td>\n",
              "      <td>5.227241e+08</td>\n",
              "      <td>1.908500e+06</td>\n",
              "      <td>0</td>\n",
              "    </tr>\n",
              "    <tr>\n",
              "      <th>2019-07-07 23:59:59.999000064</th>\n",
              "      <td>2019-07-07</td>\n",
              "      <td>0.003504</td>\n",
              "      <td>0.003650</td>\n",
              "      <td>0.003400</td>\n",
              "      <td>0.003538</td>\n",
              "      <td>5.306140e+08</td>\n",
              "      <td>1.860353e+06</td>\n",
              "      <td>9394</td>\n",
              "      <td>2.751108e+08</td>\n",
              "      <td>9.650934e+05</td>\n",
              "      <td>0</td>\n",
              "    </tr>\n",
              "    <tr>\n",
              "      <th>2019-07-08 23:59:59.999000064</th>\n",
              "      <td>2019-07-08</td>\n",
              "      <td>0.003538</td>\n",
              "      <td>0.003562</td>\n",
              "      <td>0.003400</td>\n",
              "      <td>0.003458</td>\n",
              "      <td>3.084457e+08</td>\n",
              "      <td>1.078072e+06</td>\n",
              "      <td>4958</td>\n",
              "      <td>1.594570e+08</td>\n",
              "      <td>5.580242e+05</td>\n",
              "      <td>0</td>\n",
              "    </tr>\n",
              "    <tr>\n",
              "      <th>2019-07-09 23:59:59.999000064</th>\n",
              "      <td>2019-07-09</td>\n",
              "      <td>0.003462</td>\n",
              "      <td>0.003582</td>\n",
              "      <td>0.003356</td>\n",
              "      <td>0.003455</td>\n",
              "      <td>2.533756e+08</td>\n",
              "      <td>8.785283e+05</td>\n",
              "      <td>5690</td>\n",
              "      <td>1.158095e+08</td>\n",
              "      <td>4.020473e+05</td>\n",
              "      <td>0</td>\n",
              "    </tr>\n",
              "    <tr>\n",
              "      <th>...</th>\n",
              "      <td>...</td>\n",
              "      <td>...</td>\n",
              "      <td>...</td>\n",
              "      <td>...</td>\n",
              "      <td>...</td>\n",
              "      <td>...</td>\n",
              "      <td>...</td>\n",
              "      <td>...</td>\n",
              "      <td>...</td>\n",
              "      <td>...</td>\n",
              "      <td>...</td>\n",
              "    </tr>\n",
              "    <tr>\n",
              "      <th>2022-04-09 23:59:59.999000064</th>\n",
              "      <td>2022-04-09</td>\n",
              "      <td>0.142300</td>\n",
              "      <td>0.144600</td>\n",
              "      <td>0.140500</td>\n",
              "      <td>0.144200</td>\n",
              "      <td>5.987070e+08</td>\n",
              "      <td>8.553394e+07</td>\n",
              "      <td>104463</td>\n",
              "      <td>2.931591e+08</td>\n",
              "      <td>4.188595e+07</td>\n",
              "      <td>0</td>\n",
              "    </tr>\n",
              "    <tr>\n",
              "      <th>2022-04-10 23:59:59.999000064</th>\n",
              "      <td>2022-04-10</td>\n",
              "      <td>0.144200</td>\n",
              "      <td>0.157800</td>\n",
              "      <td>0.143500</td>\n",
              "      <td>0.148200</td>\n",
              "      <td>2.653382e+09</td>\n",
              "      <td>4.023391e+08</td>\n",
              "      <td>440083</td>\n",
              "      <td>1.316691e+09</td>\n",
              "      <td>1.996247e+08</td>\n",
              "      <td>0</td>\n",
              "    </tr>\n",
              "    <tr>\n",
              "      <th>2022-04-11 23:59:59.999000064</th>\n",
              "      <td>2022-04-11</td>\n",
              "      <td>0.148200</td>\n",
              "      <td>0.151500</td>\n",
              "      <td>0.132900</td>\n",
              "      <td>0.134100</td>\n",
              "      <td>2.077945e+09</td>\n",
              "      <td>2.955515e+08</td>\n",
              "      <td>336976</td>\n",
              "      <td>9.826098e+08</td>\n",
              "      <td>1.397557e+08</td>\n",
              "      <td>0</td>\n",
              "    </tr>\n",
              "    <tr>\n",
              "      <th>2022-04-12 23:59:59.999000064</th>\n",
              "      <td>2022-04-12</td>\n",
              "      <td>0.134000</td>\n",
              "      <td>0.144600</td>\n",
              "      <td>0.133200</td>\n",
              "      <td>0.138000</td>\n",
              "      <td>1.432968e+09</td>\n",
              "      <td>1.987637e+08</td>\n",
              "      <td>239645</td>\n",
              "      <td>7.241156e+08</td>\n",
              "      <td>1.003889e+08</td>\n",
              "      <td>0</td>\n",
              "    </tr>\n",
              "    <tr>\n",
              "      <th>2022-04-13 23:59:59.999000064</th>\n",
              "      <td>2022-04-13</td>\n",
              "      <td>0.138000</td>\n",
              "      <td>0.143500</td>\n",
              "      <td>0.137100</td>\n",
              "      <td>0.140500</td>\n",
              "      <td>4.155514e+08</td>\n",
              "      <td>5.835226e+07</td>\n",
              "      <td>69884</td>\n",
              "      <td>2.075103e+08</td>\n",
              "      <td>2.913982e+07</td>\n",
              "      <td>0</td>\n",
              "    </tr>\n",
              "  </tbody>\n",
              "</table>\n",
              "<p>1014 rows × 11 columns</p>\n",
              "</div>"
            ],
            "text/plain": [
              "                               Open Time      Open      High       Low  \\\n",
              "Close Time                                                               \n",
              "2019-07-05 23:59:59.999000064 2019-07-05  0.004490  0.004600  0.003550   \n",
              "2019-07-06 23:59:59.999000064 2019-07-06  0.003874  0.003943  0.003365   \n",
              "2019-07-07 23:59:59.999000064 2019-07-07  0.003504  0.003650  0.003400   \n",
              "2019-07-08 23:59:59.999000064 2019-07-08  0.003538  0.003562  0.003400   \n",
              "2019-07-09 23:59:59.999000064 2019-07-09  0.003462  0.003582  0.003356   \n",
              "...                                  ...       ...       ...       ...   \n",
              "2022-04-09 23:59:59.999000064 2022-04-09  0.142300  0.144600  0.140500   \n",
              "2022-04-10 23:59:59.999000064 2022-04-10  0.144200  0.157800  0.143500   \n",
              "2022-04-11 23:59:59.999000064 2022-04-11  0.148200  0.151500  0.132900   \n",
              "2022-04-12 23:59:59.999000064 2022-04-12  0.134000  0.144600  0.133200   \n",
              "2022-04-13 23:59:59.999000064 2022-04-13  0.138000  0.143500  0.137100   \n",
              "\n",
              "                                  Close        Volume  Quote Asset Time  \\\n",
              "Close Time                                                                \n",
              "2019-07-05 23:59:59.999000064  0.003870  1.928298e+09      7.506289e+06   \n",
              "2019-07-06 23:59:59.999000064  0.003500  1.010744e+09      3.692804e+06   \n",
              "2019-07-07 23:59:59.999000064  0.003538  5.306140e+08      1.860353e+06   \n",
              "2019-07-08 23:59:59.999000064  0.003458  3.084457e+08      1.078072e+06   \n",
              "2019-07-09 23:59:59.999000064  0.003455  2.533756e+08      8.785283e+05   \n",
              "...                                 ...           ...               ...   \n",
              "2022-04-09 23:59:59.999000064  0.144200  5.987070e+08      8.553394e+07   \n",
              "2022-04-10 23:59:59.999000064  0.148200  2.653382e+09      4.023391e+08   \n",
              "2022-04-11 23:59:59.999000064  0.134100  2.077945e+09      2.955515e+08   \n",
              "2022-04-12 23:59:59.999000064  0.138000  1.432968e+09      1.987637e+08   \n",
              "2022-04-13 23:59:59.999000064  0.140500  4.155514e+08      5.835226e+07   \n",
              "\n",
              "                               Number of Trades  TB Base Volume  \\\n",
              "Close Time                                                        \n",
              "2019-07-05 23:59:59.999000064             18589    8.584033e+08   \n",
              "2019-07-06 23:59:59.999000064             17250    5.227241e+08   \n",
              "2019-07-07 23:59:59.999000064              9394    2.751108e+08   \n",
              "2019-07-08 23:59:59.999000064              4958    1.594570e+08   \n",
              "2019-07-09 23:59:59.999000064              5690    1.158095e+08   \n",
              "...                                         ...             ...   \n",
              "2022-04-09 23:59:59.999000064            104463    2.931591e+08   \n",
              "2022-04-10 23:59:59.999000064            440083    1.316691e+09   \n",
              "2022-04-11 23:59:59.999000064            336976    9.826098e+08   \n",
              "2022-04-12 23:59:59.999000064            239645    7.241156e+08   \n",
              "2022-04-13 23:59:59.999000064             69884    2.075103e+08   \n",
              "\n",
              "                               TB Quote Volume Ignore  \n",
              "Close Time                                             \n",
              "2019-07-05 23:59:59.999000064     3.336426e+06      0  \n",
              "2019-07-06 23:59:59.999000064     1.908500e+06      0  \n",
              "2019-07-07 23:59:59.999000064     9.650934e+05      0  \n",
              "2019-07-08 23:59:59.999000064     5.580242e+05      0  \n",
              "2019-07-09 23:59:59.999000064     4.020473e+05      0  \n",
              "...                                        ...    ...  \n",
              "2022-04-09 23:59:59.999000064     4.188595e+07      0  \n",
              "2022-04-10 23:59:59.999000064     1.996247e+08      0  \n",
              "2022-04-11 23:59:59.999000064     1.397557e+08      0  \n",
              "2022-04-12 23:59:59.999000064     1.003889e+08      0  \n",
              "2022-04-13 23:59:59.999000064     2.913982e+07      0  \n",
              "\n",
              "[1014 rows x 11 columns]"
            ]
          },
          "execution_count": 22,
          "metadata": {},
          "output_type": "execute_result"
        }
      ],
      "source": [
        "hist_df.set_index('Close Time').tail(1460)"
      ]
    },
    {
      "cell_type": "code",
      "execution_count": 23,
      "id": "49c4f1bc",
      "metadata": {
        "colab": {
          "base_uri": "https://localhost:8080/",
          "height": 589
        },
        "id": "49c4f1bc",
        "outputId": "4df49efc-f2eb-4de3-a8fa-95915110a63d"
      },
      "outputs": [
        {
          "data": {
            "image/png": "[encoded data removed]",
            "text/plain": [
              "<Figure size 800x575 with 4 Axes>"
            ]
          },
          "metadata": {},
          "output_type": "display_data"
        }
      ],
      "source": [
        "mpf.plot(hist_df.set_index('Open Time').tail(100), \n",
        "        type='candle', style='charles', \n",
        "        volume=True, \n",
        "        title='DOGEUSDT Last 100 Days', \n",
        "        mav=(10,20,30))"
      ]
    },
    {
      "cell_type": "code",
      "execution_count": 24,
      "id": "ca74de6e",
      "metadata": {
        "id": "ca74de6e"
      },
      "outputs": [],
      "source": [
        "start = dt.datetime(2020,12,1)\n",
        "end = dt.datetime(2021,11,1)\n"
      ]
    },
    {
      "cell_type": "code",
      "execution_count": 25,
      "id": "a88a15a5",
      "metadata": {
        "colab": {
          "base_uri": "https://localhost:8080/",
          "height": 642
        },
        "id": "a88a15a5",
        "outputId": "f443d87f-c03f-4ecc-c84e-ccc9ccdb3cda"
      },
      "outputs": [
        {
          "data": {
            "text/html": [
              "<div>\n",
              "<style scoped>\n",
              "    .dataframe tbody tr th:only-of-type {\n",
              "        vertical-align: middle;\n",
              "    }\n",
              "\n",
              "    .dataframe tbody tr th {\n",
              "        vertical-align: top;\n",
              "    }\n",
              "\n",
              "    .dataframe thead th {\n",
              "        text-align: right;\n",
              "    }\n",
              "</style>\n",
              "<table border=\"1\" class=\"dataframe\">\n",
              "  <thead>\n",
              "    <tr style=\"text-align: right;\">\n",
              "      <th></th>\n",
              "      <th>High</th>\n",
              "      <th>Low</th>\n",
              "      <th>Open</th>\n",
              "      <th>Close</th>\n",
              "      <th>Volume</th>\n",
              "      <th>Adj Close</th>\n",
              "    </tr>\n",
              "    <tr>\n",
              "      <th>Date</th>\n",
              "      <th></th>\n",
              "      <th></th>\n",
              "      <th></th>\n",
              "      <th></th>\n",
              "      <th></th>\n",
              "      <th></th>\n",
              "    </tr>\n",
              "  </thead>\n",
              "  <tbody>\n",
              "    <tr>\n",
              "      <th>2020-12-01</th>\n",
              "      <td>0.003572</td>\n",
              "      <td>0.003269</td>\n",
              "      <td>0.003551</td>\n",
              "      <td>0.003335</td>\n",
              "      <td>80163603</td>\n",
              "      <td>0.003335</td>\n",
              "    </tr>\n",
              "    <tr>\n",
              "      <th>2020-12-02</th>\n",
              "      <td>0.003436</td>\n",
              "      <td>0.003293</td>\n",
              "      <td>0.003335</td>\n",
              "      <td>0.003374</td>\n",
              "      <td>58705661</td>\n",
              "      <td>0.003374</td>\n",
              "    </tr>\n",
              "    <tr>\n",
              "      <th>2020-12-03</th>\n",
              "      <td>0.003500</td>\n",
              "      <td>0.003352</td>\n",
              "      <td>0.003375</td>\n",
              "      <td>0.003428</td>\n",
              "      <td>47907032</td>\n",
              "      <td>0.003428</td>\n",
              "    </tr>\n",
              "    <tr>\n",
              "      <th>2020-12-04</th>\n",
              "      <td>0.003447</td>\n",
              "      <td>0.003285</td>\n",
              "      <td>0.003429</td>\n",
              "      <td>0.003298</td>\n",
              "      <td>45062222</td>\n",
              "      <td>0.003298</td>\n",
              "    </tr>\n",
              "    <tr>\n",
              "      <th>2020-12-05</th>\n",
              "      <td>0.003414</td>\n",
              "      <td>0.003268</td>\n",
              "      <td>0.003297</td>\n",
              "      <td>0.003397</td>\n",
              "      <td>43386583</td>\n",
              "      <td>0.003397</td>\n",
              "    </tr>\n",
              "    <tr>\n",
              "      <th>...</th>\n",
              "      <td>...</td>\n",
              "      <td>...</td>\n",
              "      <td>...</td>\n",
              "      <td>...</td>\n",
              "      <td>...</td>\n",
              "      <td>...</td>\n",
              "    </tr>\n",
              "    <tr>\n",
              "      <th>2021-10-29</th>\n",
              "      <td>0.306312</td>\n",
              "      <td>0.279771</td>\n",
              "      <td>0.299964</td>\n",
              "      <td>0.287853</td>\n",
              "      <td>5866664030</td>\n",
              "      <td>0.287853</td>\n",
              "    </tr>\n",
              "    <tr>\n",
              "      <th>2021-10-30</th>\n",
              "      <td>0.294647</td>\n",
              "      <td>0.259888</td>\n",
              "      <td>0.287764</td>\n",
              "      <td>0.268345</td>\n",
              "      <td>3637334331</td>\n",
              "      <td>0.268345</td>\n",
              "    </tr>\n",
              "    <tr>\n",
              "      <th>2021-10-31</th>\n",
              "      <td>0.284707</td>\n",
              "      <td>0.252614</td>\n",
              "      <td>0.269239</td>\n",
              "      <td>0.280244</td>\n",
              "      <td>4224104205</td>\n",
              "      <td>0.280244</td>\n",
              "    </tr>\n",
              "    <tr>\n",
              "      <th>2021-11-01</th>\n",
              "      <td>0.285551</td>\n",
              "      <td>0.264089</td>\n",
              "      <td>0.280123</td>\n",
              "      <td>0.271728</td>\n",
              "      <td>2784956027</td>\n",
              "      <td>0.271728</td>\n",
              "    </tr>\n",
              "    <tr>\n",
              "      <th>2021-11-02</th>\n",
              "      <td>0.280686</td>\n",
              "      <td>0.267597</td>\n",
              "      <td>0.271892</td>\n",
              "      <td>0.273121</td>\n",
              "      <td>2336414476</td>\n",
              "      <td>0.273121</td>\n",
              "    </tr>\n",
              "  </tbody>\n",
              "</table>\n",
              "<p>337 rows × 6 columns</p>\n",
              "</div>"
            ],
            "text/plain": [
              "                High       Low      Open     Close      Volume  Adj Close\n",
              "Date                                                                     \n",
              "2020-12-01  0.003572  0.003269  0.003551  0.003335    80163603   0.003335\n",
              "2020-12-02  0.003436  0.003293  0.003335  0.003374    58705661   0.003374\n",
              "2020-12-03  0.003500  0.003352  0.003375  0.003428    47907032   0.003428\n",
              "2020-12-04  0.003447  0.003285  0.003429  0.003298    45062222   0.003298\n",
              "2020-12-05  0.003414  0.003268  0.003297  0.003397    43386583   0.003397\n",
              "...              ...       ...       ...       ...         ...        ...\n",
              "2021-10-29  0.306312  0.279771  0.299964  0.287853  5866664030   0.287853\n",
              "2021-10-30  0.294647  0.259888  0.287764  0.268345  3637334331   0.268345\n",
              "2021-10-31  0.284707  0.252614  0.269239  0.280244  4224104205   0.280244\n",
              "2021-11-01  0.285551  0.264089  0.280123  0.271728  2784956027   0.271728\n",
              "2021-11-02  0.280686  0.267597  0.271892  0.273121  2336414476   0.273121\n",
              "\n",
              "[337 rows x 6 columns]"
            ]
          },
          "execution_count": 25,
          "metadata": {},
          "output_type": "execute_result"
        }
      ],
      "source": [
        "doge = web.DataReader('DOGE-USD', 'yahoo', start, end)\n",
        "\n",
        "doge"
      ]
    },
    {
      "cell_type": "code",
      "execution_count": 26,
      "id": "a7a5cde1",
      "metadata": {
        "id": "a7a5cde1"
      },
      "outputs": [],
      "source": [
        "start = dt.datetime(2021,5,13)\n",
        "end = dt.datetime(2021,5,15)"
      ]
    },
    {
      "cell_type": "code",
      "execution_count": 27,
      "id": "87a0680b",
      "metadata": {
        "id": "87a0680b"
      },
      "outputs": [
        {
          "data": {
            "text/html": [
              "<div>\n",
              "<style scoped>\n",
              "    .dataframe tbody tr th:only-of-type {\n",
              "        vertical-align: middle;\n",
              "    }\n",
              "\n",
              "    .dataframe tbody tr th {\n",
              "        vertical-align: top;\n",
              "    }\n",
              "\n",
              "    .dataframe thead th {\n",
              "        text-align: right;\n",
              "    }\n",
              "</style>\n",
              "<table border=\"1\" class=\"dataframe\">\n",
              "  <thead>\n",
              "    <tr style=\"text-align: right;\">\n",
              "      <th></th>\n",
              "      <th>High</th>\n",
              "      <th>Low</th>\n",
              "      <th>Open</th>\n",
              "      <th>Close</th>\n",
              "      <th>Volume</th>\n",
              "      <th>Adj Close</th>\n",
              "    </tr>\n",
              "    <tr>\n",
              "      <th>Date</th>\n",
              "      <th></th>\n",
              "      <th></th>\n",
              "      <th></th>\n",
              "      <th></th>\n",
              "      <th></th>\n",
              "      <th></th>\n",
              "    </tr>\n",
              "  </thead>\n",
              "  <tbody>\n",
              "    <tr>\n",
              "      <th>2021-05-13</th>\n",
              "      <td>0.519461</td>\n",
              "      <td>0.357175</td>\n",
              "      <td>0.392176</td>\n",
              "      <td>0.490374</td>\n",
              "      <td>18663174069</td>\n",
              "      <td>0.490374</td>\n",
              "    </tr>\n",
              "    <tr>\n",
              "      <th>2021-05-14</th>\n",
              "      <td>0.589690</td>\n",
              "      <td>0.464622</td>\n",
              "      <td>0.487070</td>\n",
              "      <td>0.559604</td>\n",
              "      <td>20466177002</td>\n",
              "      <td>0.559604</td>\n",
              "    </tr>\n",
              "    <tr>\n",
              "      <th>2021-05-15</th>\n",
              "      <td>0.562676</td>\n",
              "      <td>0.491299</td>\n",
              "      <td>0.559668</td>\n",
              "      <td>0.507972</td>\n",
              "      <td>9836892944</td>\n",
              "      <td>0.507972</td>\n",
              "    </tr>\n",
              "    <tr>\n",
              "      <th>2021-05-16</th>\n",
              "      <td>0.548145</td>\n",
              "      <td>0.451023</td>\n",
              "      <td>0.507910</td>\n",
              "      <td>0.514895</td>\n",
              "      <td>9541552064</td>\n",
              "      <td>0.514895</td>\n",
              "    </tr>\n",
              "  </tbody>\n",
              "</table>\n",
              "</div>"
            ],
            "text/plain": [
              "                High       Low      Open     Close       Volume  Adj Close\n",
              "Date                                                                      \n",
              "2021-05-13  0.519461  0.357175  0.392176  0.490374  18663174069   0.490374\n",
              "2021-05-14  0.589690  0.464622  0.487070  0.559604  20466177002   0.559604\n",
              "2021-05-15  0.562676  0.491299  0.559668  0.507972   9836892944   0.507972\n",
              "2021-05-16  0.548145  0.451023  0.507910  0.514895   9541552064   0.514895"
            ]
          },
          "execution_count": 27,
          "metadata": {},
          "output_type": "execute_result"
        }
      ],
      "source": [
        "doge = web.DataReader('DOGE-USD', 'yahoo', start, end)\n",
        "doge"
      ]
    },
    {
      "cell_type": "code",
      "execution_count": 28,
      "id": "841b5085",
      "metadata": {
        "id": "841b5085",
        "scrolled": false
      },
      "outputs": [
        {
          "data": {
            "image/png": "[encoded data removed]",
            "text/plain": [
              "<Figure size 800x575 with 4 Axes>"
            ]
          },
          "metadata": {},
          "output_type": "display_data"
        }
      ],
      "source": [
        "mpf.plot(doge, type = \"candle\" , volume=True, style=\"charles\", title='Elon Musk tweets postivily on DOGE 13-05-2021 -15-05-2021  ')"
      ]
    },
    {
      "cell_type": "code",
      "execution_count": 29,
      "id": "25525be6",
      "metadata": {
        "id": "25525be6"
      },
      "outputs": [],
      "source": [
        "start = dt.datetime(2021,5,9)\n",
        "end = dt.datetime(2021,5,10)\n"
      ]
    },
    {
      "cell_type": "code",
      "execution_count": 30,
      "id": "09035072",
      "metadata": {
        "id": "09035072"
      },
      "outputs": [
        {
          "data": {
            "text/html": [
              "<div>\n",
              "<style scoped>\n",
              "    .dataframe tbody tr th:only-of-type {\n",
              "        vertical-align: middle;\n",
              "    }\n",
              "\n",
              "    .dataframe tbody tr th {\n",
              "        vertical-align: top;\n",
              "    }\n",
              "\n",
              "    .dataframe thead th {\n",
              "        text-align: right;\n",
              "    }\n",
              "</style>\n",
              "<table border=\"1\" class=\"dataframe\">\n",
              "  <thead>\n",
              "    <tr style=\"text-align: right;\">\n",
              "      <th></th>\n",
              "      <th>High</th>\n",
              "      <th>Low</th>\n",
              "      <th>Open</th>\n",
              "      <th>Close</th>\n",
              "      <th>Volume</th>\n",
              "      <th>Adj Close</th>\n",
              "    </tr>\n",
              "    <tr>\n",
              "      <th>Date</th>\n",
              "      <th></th>\n",
              "      <th></th>\n",
              "      <th></th>\n",
              "      <th></th>\n",
              "      <th></th>\n",
              "      <th></th>\n",
              "    </tr>\n",
              "  </thead>\n",
              "  <tbody>\n",
              "    <tr>\n",
              "      <th>2021-05-09</th>\n",
              "      <td>0.697625</td>\n",
              "      <td>0.425706</td>\n",
              "      <td>0.635820</td>\n",
              "      <td>0.570070</td>\n",
              "      <td>46138063928</td>\n",
              "      <td>0.570070</td>\n",
              "    </tr>\n",
              "    <tr>\n",
              "      <th>2021-05-10</th>\n",
              "      <td>0.569687</td>\n",
              "      <td>0.421291</td>\n",
              "      <td>0.569687</td>\n",
              "      <td>0.449964</td>\n",
              "      <td>16514521828</td>\n",
              "      <td>0.449964</td>\n",
              "    </tr>\n",
              "    <tr>\n",
              "      <th>2021-05-11</th>\n",
              "      <td>0.546651</td>\n",
              "      <td>0.445034</td>\n",
              "      <td>0.450488</td>\n",
              "      <td>0.495231</td>\n",
              "      <td>14566975476</td>\n",
              "      <td>0.495231</td>\n",
              "    </tr>\n",
              "  </tbody>\n",
              "</table>\n",
              "</div>"
            ],
            "text/plain": [
              "                High       Low      Open     Close       Volume  Adj Close\n",
              "Date                                                                      \n",
              "2021-05-09  0.697625  0.425706  0.635820  0.570070  46138063928   0.570070\n",
              "2021-05-10  0.569687  0.421291  0.569687  0.449964  16514521828   0.449964\n",
              "2021-05-11  0.546651  0.445034  0.450488  0.495231  14566975476   0.495231"
            ]
          },
          "execution_count": 30,
          "metadata": {},
          "output_type": "execute_result"
        }
      ],
      "source": [
        "doge = web.DataReader('DOGE-USD', 'yahoo', start, end)\n",
        "doge"
      ]
    },
    {
      "cell_type": "code",
      "execution_count": 31,
      "id": "ea13d9b8",
      "metadata": {
        "id": "ea13d9b8"
      },
      "outputs": [
        {
          "data": {
            "image/png": "[encoded data removed]",
            "text/plain": [
              "<Figure size 800x575 with 4 Axes>"
            ]
          },
          "metadata": {},
          "output_type": "display_data"
        }
      ],
      "source": [
        "mpf.plot(doge, type = \"candle\" , volume=True, style=\"charles\", title='Elon Musk tweets negitivly on DOGE 09-05-2021')"
      ]
    },
    {
      "cell_type": "code",
      "execution_count": 32,
      "id": "19c1538d",
      "metadata": {
        "id": "19c1538d"
      },
      "outputs": [],
      "source": [
        "start = dt.datetime(2021,8,9)\n",
        "end = dt.datetime(2021,9,9)"
      ]
    },
    {
      "cell_type": "code",
      "execution_count": 33,
      "id": "e559a7f5",
      "metadata": {
        "id": "e559a7f5"
      },
      "outputs": [
        {
          "data": {
            "text/html": [
              "<div>\n",
              "<style scoped>\n",
              "    .dataframe tbody tr th:only-of-type {\n",
              "        vertical-align: middle;\n",
              "    }\n",
              "\n",
              "    .dataframe tbody tr th {\n",
              "        vertical-align: top;\n",
              "    }\n",
              "\n",
              "    .dataframe thead th {\n",
              "        text-align: right;\n",
              "    }\n",
              "</style>\n",
              "<table border=\"1\" class=\"dataframe\">\n",
              "  <thead>\n",
              "    <tr style=\"text-align: right;\">\n",
              "      <th></th>\n",
              "      <th>High</th>\n",
              "      <th>Low</th>\n",
              "      <th>Open</th>\n",
              "      <th>Close</th>\n",
              "      <th>Volume</th>\n",
              "      <th>Adj Close</th>\n",
              "    </tr>\n",
              "    <tr>\n",
              "      <th>Date</th>\n",
              "      <th></th>\n",
              "      <th></th>\n",
              "      <th></th>\n",
              "      <th></th>\n",
              "      <th></th>\n",
              "      <th></th>\n",
              "    </tr>\n",
              "  </thead>\n",
              "  <tbody>\n",
              "    <tr>\n",
              "      <th>2021-08-09</th>\n",
              "      <td>0.266265</td>\n",
              "      <td>0.231410</td>\n",
              "      <td>0.240122</td>\n",
              "      <td>0.256897</td>\n",
              "      <td>4607903346</td>\n",
              "      <td>0.256897</td>\n",
              "    </tr>\n",
              "    <tr>\n",
              "      <th>2021-08-10</th>\n",
              "      <td>0.262791</td>\n",
              "      <td>0.245352</td>\n",
              "      <td>0.256366</td>\n",
              "      <td>0.257325</td>\n",
              "      <td>3424415504</td>\n",
              "      <td>0.257325</td>\n",
              "    </tr>\n",
              "    <tr>\n",
              "      <th>2021-08-11</th>\n",
              "      <td>0.282482</td>\n",
              "      <td>0.256382</td>\n",
              "      <td>0.257424</td>\n",
              "      <td>0.265263</td>\n",
              "      <td>4732068476</td>\n",
              "      <td>0.265263</td>\n",
              "    </tr>\n",
              "    <tr>\n",
              "      <th>2021-08-12</th>\n",
              "      <td>0.294142</td>\n",
              "      <td>0.252775</td>\n",
              "      <td>0.264853</td>\n",
              "      <td>0.263921</td>\n",
              "      <td>5264857508</td>\n",
              "      <td>0.263921</td>\n",
              "    </tr>\n",
              "    <tr>\n",
              "      <th>2021-08-13</th>\n",
              "      <td>0.287188</td>\n",
              "      <td>0.261907</td>\n",
              "      <td>0.264249</td>\n",
              "      <td>0.286808</td>\n",
              "      <td>3565092106</td>\n",
              "      <td>0.286808</td>\n",
              "    </tr>\n",
              "    <tr>\n",
              "      <th>2021-08-14</th>\n",
              "      <td>0.298456</td>\n",
              "      <td>0.277154</td>\n",
              "      <td>0.286801</td>\n",
              "      <td>0.293113</td>\n",
              "      <td>4677579997</td>\n",
              "      <td>0.293113</td>\n",
              "    </tr>\n",
              "    <tr>\n",
              "      <th>2021-08-15</th>\n",
              "      <td>0.348722</td>\n",
              "      <td>0.287063</td>\n",
              "      <td>0.294086</td>\n",
              "      <td>0.341441</td>\n",
              "      <td>8046171669</td>\n",
              "      <td>0.341441</td>\n",
              "    </tr>\n",
              "    <tr>\n",
              "      <th>2021-08-16</th>\n",
              "      <td>0.350953</td>\n",
              "      <td>0.310828</td>\n",
              "      <td>0.340165</td>\n",
              "      <td>0.320715</td>\n",
              "      <td>6681324187</td>\n",
              "      <td>0.320715</td>\n",
              "    </tr>\n",
              "    <tr>\n",
              "      <th>2021-08-17</th>\n",
              "      <td>0.339462</td>\n",
              "      <td>0.295763</td>\n",
              "      <td>0.319631</td>\n",
              "      <td>0.299442</td>\n",
              "      <td>5699700481</td>\n",
              "      <td>0.299442</td>\n",
              "    </tr>\n",
              "    <tr>\n",
              "      <th>2021-08-18</th>\n",
              "      <td>0.324227</td>\n",
              "      <td>0.282016</td>\n",
              "      <td>0.299203</td>\n",
              "      <td>0.303739</td>\n",
              "      <td>6347995770</td>\n",
              "      <td>0.303739</td>\n",
              "    </tr>\n",
              "    <tr>\n",
              "      <th>2021-08-19</th>\n",
              "      <td>0.319018</td>\n",
              "      <td>0.294088</td>\n",
              "      <td>0.303376</td>\n",
              "      <td>0.317144</td>\n",
              "      <td>3760495939</td>\n",
              "      <td>0.317144</td>\n",
              "    </tr>\n",
              "    <tr>\n",
              "      <th>2021-08-20</th>\n",
              "      <td>0.333223</td>\n",
              "      <td>0.314142</td>\n",
              "      <td>0.317571</td>\n",
              "      <td>0.327491</td>\n",
              "      <td>3512291078</td>\n",
              "      <td>0.327491</td>\n",
              "    </tr>\n",
              "    <tr>\n",
              "      <th>2021-08-21</th>\n",
              "      <td>0.329356</td>\n",
              "      <td>0.315433</td>\n",
              "      <td>0.327395</td>\n",
              "      <td>0.316797</td>\n",
              "      <td>2600396651</td>\n",
              "      <td>0.316797</td>\n",
              "    </tr>\n",
              "    <tr>\n",
              "      <th>2021-08-22</th>\n",
              "      <td>0.321541</td>\n",
              "      <td>0.306546</td>\n",
              "      <td>0.317085</td>\n",
              "      <td>0.314963</td>\n",
              "      <td>2237836352</td>\n",
              "      <td>0.314963</td>\n",
              "    </tr>\n",
              "    <tr>\n",
              "      <th>2021-08-23</th>\n",
              "      <td>0.328094</td>\n",
              "      <td>0.313368</td>\n",
              "      <td>0.314926</td>\n",
              "      <td>0.317914</td>\n",
              "      <td>2836628655</td>\n",
              "      <td>0.317914</td>\n",
              "    </tr>\n",
              "    <tr>\n",
              "      <th>2021-08-24</th>\n",
              "      <td>0.319757</td>\n",
              "      <td>0.277777</td>\n",
              "      <td>0.318386</td>\n",
              "      <td>0.288739</td>\n",
              "      <td>3143768703</td>\n",
              "      <td>0.288739</td>\n",
              "    </tr>\n",
              "    <tr>\n",
              "      <th>2021-08-25</th>\n",
              "      <td>0.296815</td>\n",
              "      <td>0.279995</td>\n",
              "      <td>0.289218</td>\n",
              "      <td>0.292226</td>\n",
              "      <td>2518743227</td>\n",
              "      <td>0.292226</td>\n",
              "    </tr>\n",
              "    <tr>\n",
              "      <th>2021-08-26</th>\n",
              "      <td>0.296002</td>\n",
              "      <td>0.265313</td>\n",
              "      <td>0.292794</td>\n",
              "      <td>0.268909</td>\n",
              "      <td>2410285454</td>\n",
              "      <td>0.268909</td>\n",
              "    </tr>\n",
              "    <tr>\n",
              "      <th>2021-08-27</th>\n",
              "      <td>0.294845</td>\n",
              "      <td>0.265392</td>\n",
              "      <td>0.268819</td>\n",
              "      <td>0.294433</td>\n",
              "      <td>2382150423</td>\n",
              "      <td>0.294433</td>\n",
              "    </tr>\n",
              "    <tr>\n",
              "      <th>2021-08-28</th>\n",
              "      <td>0.299170</td>\n",
              "      <td>0.283273</td>\n",
              "      <td>0.294631</td>\n",
              "      <td>0.285629</td>\n",
              "      <td>1534807298</td>\n",
              "      <td>0.285629</td>\n",
              "    </tr>\n",
              "    <tr>\n",
              "      <th>2021-08-29</th>\n",
              "      <td>0.291663</td>\n",
              "      <td>0.277486</td>\n",
              "      <td>0.285863</td>\n",
              "      <td>0.281125</td>\n",
              "      <td>1473623363</td>\n",
              "      <td>0.281125</td>\n",
              "    </tr>\n",
              "    <tr>\n",
              "      <th>2021-08-30</th>\n",
              "      <td>0.289559</td>\n",
              "      <td>0.270375</td>\n",
              "      <td>0.281233</td>\n",
              "      <td>0.272125</td>\n",
              "      <td>1748987269</td>\n",
              "      <td>0.272125</td>\n",
              "    </tr>\n",
              "    <tr>\n",
              "      <th>2021-08-31</th>\n",
              "      <td>0.285819</td>\n",
              "      <td>0.270047</td>\n",
              "      <td>0.271878</td>\n",
              "      <td>0.278453</td>\n",
              "      <td>1745967018</td>\n",
              "      <td>0.278453</td>\n",
              "    </tr>\n",
              "    <tr>\n",
              "      <th>2021-09-01</th>\n",
              "      <td>0.294889</td>\n",
              "      <td>0.273526</td>\n",
              "      <td>0.278062</td>\n",
              "      <td>0.294401</td>\n",
              "      <td>1937809622</td>\n",
              "      <td>0.294401</td>\n",
              "    </tr>\n",
              "    <tr>\n",
              "      <th>2021-09-02</th>\n",
              "      <td>0.309227</td>\n",
              "      <td>0.292010</td>\n",
              "      <td>0.294393</td>\n",
              "      <td>0.295955</td>\n",
              "      <td>2981069411</td>\n",
              "      <td>0.295955</td>\n",
              "    </tr>\n",
              "    <tr>\n",
              "      <th>2021-09-03</th>\n",
              "      <td>0.304494</td>\n",
              "      <td>0.288541</td>\n",
              "      <td>0.294754</td>\n",
              "      <td>0.296273</td>\n",
              "      <td>2384046931</td>\n",
              "      <td>0.296273</td>\n",
              "    </tr>\n",
              "    <tr>\n",
              "      <th>2021-09-04</th>\n",
              "      <td>0.308731</td>\n",
              "      <td>0.293342</td>\n",
              "      <td>0.296068</td>\n",
              "      <td>0.299388</td>\n",
              "      <td>2263193245</td>\n",
              "      <td>0.299388</td>\n",
              "    </tr>\n",
              "    <tr>\n",
              "      <th>2021-09-05</th>\n",
              "      <td>0.315009</td>\n",
              "      <td>0.296582</td>\n",
              "      <td>0.299324</td>\n",
              "      <td>0.314527</td>\n",
              "      <td>2393033527</td>\n",
              "      <td>0.314527</td>\n",
              "    </tr>\n",
              "    <tr>\n",
              "      <th>2021-09-06</th>\n",
              "      <td>0.319751</td>\n",
              "      <td>0.300451</td>\n",
              "      <td>0.314315</td>\n",
              "      <td>0.308765</td>\n",
              "      <td>2611846129</td>\n",
              "      <td>0.308765</td>\n",
              "    </tr>\n",
              "    <tr>\n",
              "      <th>2021-09-07</th>\n",
              "      <td>0.311030</td>\n",
              "      <td>0.216527</td>\n",
              "      <td>0.308951</td>\n",
              "      <td>0.253744</td>\n",
              "      <td>5653327525</td>\n",
              "      <td>0.253744</td>\n",
              "    </tr>\n",
              "    <tr>\n",
              "      <th>2021-09-08</th>\n",
              "      <td>0.263290</td>\n",
              "      <td>0.234864</td>\n",
              "      <td>0.254266</td>\n",
              "      <td>0.257113</td>\n",
              "      <td>3226346052</td>\n",
              "      <td>0.257113</td>\n",
              "    </tr>\n",
              "    <tr>\n",
              "      <th>2021-09-09</th>\n",
              "      <td>0.259558</td>\n",
              "      <td>0.249270</td>\n",
              "      <td>0.250362</td>\n",
              "      <td>0.252596</td>\n",
              "      <td>1763183557</td>\n",
              "      <td>0.252596</td>\n",
              "    </tr>\n",
              "    <tr>\n",
              "      <th>2021-09-10</th>\n",
              "      <td>0.261622</td>\n",
              "      <td>0.235909</td>\n",
              "      <td>0.252585</td>\n",
              "      <td>0.239982</td>\n",
              "      <td>1840815800</td>\n",
              "      <td>0.239982</td>\n",
              "    </tr>\n",
              "  </tbody>\n",
              "</table>\n",
              "</div>"
            ],
            "text/plain": [
              "                High       Low      Open     Close      Volume  Adj Close\n",
              "Date                                                                     \n",
              "2021-08-09  0.266265  0.231410  0.240122  0.256897  4607903346   0.256897\n",
              "2021-08-10  0.262791  0.245352  0.256366  0.257325  3424415504   0.257325\n",
              "2021-08-11  0.282482  0.256382  0.257424  0.265263  4732068476   0.265263\n",
              "2021-08-12  0.294142  0.252775  0.264853  0.263921  5264857508   0.263921\n",
              "2021-08-13  0.287188  0.261907  0.264249  0.286808  3565092106   0.286808\n",
              "2021-08-14  0.298456  0.277154  0.286801  0.293113  4677579997   0.293113\n",
              "2021-08-15  0.348722  0.287063  0.294086  0.341441  8046171669   0.341441\n",
              "2021-08-16  0.350953  0.310828  0.340165  0.320715  6681324187   0.320715\n",
              "2021-08-17  0.339462  0.295763  0.319631  0.299442  5699700481   0.299442\n",
              "2021-08-18  0.324227  0.282016  0.299203  0.303739  6347995770   0.303739\n",
              "2021-08-19  0.319018  0.294088  0.303376  0.317144  3760495939   0.317144\n",
              "2021-08-20  0.333223  0.314142  0.317571  0.327491  3512291078   0.327491\n",
              "2021-08-21  0.329356  0.315433  0.327395  0.316797  2600396651   0.316797\n",
              "2021-08-22  0.321541  0.306546  0.317085  0.314963  2237836352   0.314963\n",
              "2021-08-23  0.328094  0.313368  0.314926  0.317914  2836628655   0.317914\n",
              "2021-08-24  0.319757  0.277777  0.318386  0.288739  3143768703   0.288739\n",
              "2021-08-25  0.296815  0.279995  0.289218  0.292226  2518743227   0.292226\n",
              "2021-08-26  0.296002  0.265313  0.292794  0.268909  2410285454   0.268909\n",
              "2021-08-27  0.294845  0.265392  0.268819  0.294433  2382150423   0.294433\n",
              "2021-08-28  0.299170  0.283273  0.294631  0.285629  1534807298   0.285629\n",
              "2021-08-29  0.291663  0.277486  0.285863  0.281125  1473623363   0.281125\n",
              "2021-08-30  0.289559  0.270375  0.281233  0.272125  1748987269   0.272125\n",
              "2021-08-31  0.285819  0.270047  0.271878  0.278453  1745967018   0.278453\n",
              "2021-09-01  0.294889  0.273526  0.278062  0.294401  1937809622   0.294401\n",
              "2021-09-02  0.309227  0.292010  0.294393  0.295955  2981069411   0.295955\n",
              "2021-09-03  0.304494  0.288541  0.294754  0.296273  2384046931   0.296273\n",
              "2021-09-04  0.308731  0.293342  0.296068  0.299388  2263193245   0.299388\n",
              "2021-09-05  0.315009  0.296582  0.299324  0.314527  2393033527   0.314527\n",
              "2021-09-06  0.319751  0.300451  0.314315  0.308765  2611846129   0.308765\n",
              "2021-09-07  0.311030  0.216527  0.308951  0.253744  5653327525   0.253744\n",
              "2021-09-08  0.263290  0.234864  0.254266  0.257113  3226346052   0.257113\n",
              "2021-09-09  0.259558  0.249270  0.250362  0.252596  1763183557   0.252596\n",
              "2021-09-10  0.261622  0.235909  0.252585  0.239982  1840815800   0.239982"
            ]
          },
          "execution_count": 33,
          "metadata": {},
          "output_type": "execute_result"
        }
      ],
      "source": [
        "doge = web.DataReader('DOGE-USD', 'yahoo', start, end)\n",
        "doge"
      ]
    },
    {
      "cell_type": "code",
      "execution_count": 34,
      "id": "f7ba0cb7",
      "metadata": {
        "id": "f7ba0cb7"
      },
      "outputs": [
        {
          "data": {
            "image/png": "[encoded data removed]",
            "text/plain": [
              "<Figure size 800x575 with 4 Axes>"
            ]
          },
          "metadata": {},
          "output_type": "display_data"
        }
      ],
      "source": [
        "mpf.plot(doge, type = \"candle\" , volume=True, style=\"charles\", title='Elon Musk does not tweet on DOGE 09-08-2021 - 09-09-2021')"
      ]
    },
    {
      "cell_type": "code",
      "execution_count": 35,
      "id": "f45c7ac1",
      "metadata": {
        "id": "f45c7ac1"
      },
      "outputs": [],
      "source": [
        "df = pd.read_csv('Dogecoin Historical Data.csv', usecols=['Date', 'High'])\n",
        "df['Date'] = pd.to_datetime(df['Date'])\n",
        "df['Pct change'] = df['High'].pct_change().multiply(100)\n",
        "\n",
        "tweets_df = pd.read_csv('53tweets.csv', usecols=['Date', 'Tweet', 'Time'])\n",
        "tweets_df['Offset'] = tweets_df['Time'].apply(lambda time: '1 days' if time.find('pm') > -1 else 0)\n",
        "tweets_df['Date'] = (pd.to_datetime(tweets_df['Date']) + pd.to_timedelta(tweets_df['Offset']))\n",
        "data = pd.merge(df, tweets_df, on=\"Date\")"
      ]
    },
    {
      "cell_type": "code",
      "execution_count": 36,
      "id": "832bd481",
      "metadata": {
        "id": "832bd481"
      },
      "outputs": [
        {
          "data": {
            "image/png": "[encoded data removed]",
            "text/plain": [
              "<Figure size 1800x1000 with 1 Axes>"
            ]
          },
          "metadata": {},
          "output_type": "display_data"
        }
      ],
      "source": [
        "fig, ax = plt.subplots(figsize=(18,10))\n",
        "width = 0.2\n",
        "labels = list(map(lambda x: x.replace('tweet', ''), data['Tweet'].values.tolist()))\n",
        "percentage_change = data['Pct change'].values.tolist()\n",
        "ax.bar(labels, percentage_change, width, label='Percentage change')\n",
        "ax.set_ylabel('Dogecoin price percentage change')\n",
        "ax.set_xlabel('Tweets')\n",
        "ax. set_title(\"Dogecoin Price Percentage Changes by Elon Musk's tweets\")\n",
        "ax.legend()\n",
        "plt.show()"
      ]
    },
    {
      "cell_type": "code",
      "execution_count": 37,
      "id": "aa7748f5",
      "metadata": {
        "id": "aa7748f5"
      },
      "outputs": [],
      "source": [
        "datafile ='53tweets.csv'"
      ]
    },
    {
      "cell_type": "code",
      "execution_count": 38,
      "id": "4db14c8a",
      "metadata": {
        "id": "4db14c8a"
      },
      "outputs": [],
      "source": [
        "raw_data = pd.read_csv(datafile, parse_dates=[0], infer_datetime_format=True)"
      ]
    },
    {
      "cell_type": "code",
      "execution_count": 39,
      "id": "681cc60e",
      "metadata": {
        "id": "681cc60e"
      },
      "outputs": [],
      "source": [
        "reindexed_data = raw_data['Tweet']\n",
        "reindexed_data.index = raw_data['Text']"
      ]
    },
    {
      "cell_type": "code",
      "execution_count": 40,
      "id": "458b9773",
      "metadata": {
        "id": "458b9773",
        "scrolled": false
      },
      "outputs": [
        {
          "data": {
            "text/html": [
              "<div>\n",
              "<style scoped>\n",
              "    .dataframe tbody tr th:only-of-type {\n",
              "        vertical-align: middle;\n",
              "    }\n",
              "\n",
              "    .dataframe tbody tr th {\n",
              "        vertical-align: top;\n",
              "    }\n",
              "\n",
              "    .dataframe thead th {\n",
              "        text-align: right;\n",
              "    }\n",
              "</style>\n",
              "<table border=\"1\" class=\"dataframe\">\n",
              "  <thead>\n",
              "    <tr style=\"text-align: right;\">\n",
              "      <th></th>\n",
              "      <th>Tweet</th>\n",
              "      <th>Date</th>\n",
              "      <th>Time</th>\n",
              "      <th>Text</th>\n",
              "    </tr>\n",
              "  </thead>\n",
              "  <tbody>\n",
              "    <tr>\n",
              "      <th>0</th>\n",
              "      <td>tweet01</td>\n",
              "      <td>Dec-02-2017</td>\n",
              "      <td>7:33 pm</td>\n",
              "      <td>{\"Text\":\"@highqualitysh1t I love the thought o...</td>\n",
              "    </tr>\n",
              "    <tr>\n",
              "      <th>1</th>\n",
              "      <td>tweet02</td>\n",
              "      <td>Apr-04-2019</td>\n",
              "      <td>10:24 am</td>\n",
              "      <td>{\"Text\":\"@Tom_Heats Dogecoin might be my fav c...</td>\n",
              "    </tr>\n",
              "    <tr>\n",
              "      <th>2</th>\n",
              "      <td>tweet03</td>\n",
              "      <td>Apr-02-2019</td>\n",
              "      <td>8:40 pm</td>\n",
              "      <td>{\"Text\":\"@dogecoin Uh oh\"</td>\n",
              "    </tr>\n",
              "    <tr>\n",
              "      <th>3</th>\n",
              "      <td>tweet04</td>\n",
              "      <td>Apr-02-2019</td>\n",
              "      <td>9:16 pm</td>\n",
              "      <td>{\"Text\":\"Dogecoin rulz https://t.co/flWWUgAgLU\"</td>\n",
              "    </tr>\n",
              "    <tr>\n",
              "      <th>4</th>\n",
              "      <td>tweet05</td>\n",
              "      <td>Apr-02-2019</td>\n",
              "      <td>9:38 pm</td>\n",
              "      <td>{\"Text\":\"Dogecoin value may vary https://t.co/...</td>\n",
              "    </tr>\n",
              "  </tbody>\n",
              "</table>\n",
              "</div>"
            ],
            "text/plain": [
              "     Tweet         Date      Time  \\\n",
              "0  tweet01  Dec-02-2017   7:33 pm   \n",
              "1  tweet02  Apr-04-2019  10:24 am   \n",
              "2  tweet03  Apr-02-2019   8:40 pm   \n",
              "3  tweet04  Apr-02-2019   9:16 pm   \n",
              "4  tweet05  Apr-02-2019   9:38 pm   \n",
              "\n",
              "                                                Text  \n",
              "0  {\"Text\":\"@highqualitysh1t I love the thought o...  \n",
              "1  {\"Text\":\"@Tom_Heats Dogecoin might be my fav c...  \n",
              "2                          {\"Text\":\"@dogecoin Uh oh\"  \n",
              "3    {\"Text\":\"Dogecoin rulz https://t.co/flWWUgAgLU\"  \n",
              "4  {\"Text\":\"Dogecoin value may vary https://t.co/...  "
            ]
          },
          "execution_count": 40,
          "metadata": {},
          "output_type": "execute_result"
        }
      ],
      "source": [
        "raw_data.head()\n"
      ]
    },
    {
      "cell_type": "code",
      "execution_count": 41,
      "id": "951d79d2",
      "metadata": {
        "id": "951d79d2"
      },
      "outputs": [],
      "source": [
        "positive_sentence = \"dogecoin, doge, dogecoin is for the people, dogecoin is good!\"\n",
        "neutral_sentence = \"dogecoin looks okay\"\n",
        "negative_sentence = \"dogecoin is bad\""
      ]
    },
    {
      "cell_type": "code",
      "execution_count": 42,
      "id": "ed6a8de4",
      "metadata": {
        "id": "ed6a8de4"
      },
      "outputs": [],
      "source": [
        "positive_blob = TextBlob(positive_sentence)\n",
        "neutral_blob = TextBlob(neutral_sentence)\n",
        "negative_blob = TextBlob(negative_sentence)"
      ]
    },
    {
      "cell_type": "code",
      "execution_count": 43,
      "id": "fb046bde",
      "metadata": {
        "id": "fb046bde"
      },
      "outputs": [
        {
          "name": "stdout",
          "output_type": "stream",
          "text": [
            "Positive sentence:  Sentiment(polarity=0.875, subjectivity=0.6000000000000001)\n",
            "Neutral sentence:  Sentiment(polarity=0.5, subjectivity=0.5)\n",
            "Negative sentence:  Sentiment(polarity=-0.6999999999999998, subjectivity=0.6666666666666666)\n"
          ]
        }
      ],
      "source": [
        "print(\"Positive sentence: \", positive_blob.sentiment)\n",
        "print(\"Neutral sentence: \", neutral_blob.sentiment)\n",
        "print(\"Negative sentence: \", negative_blob.sentiment)"
      ]
    },
    {
      "cell_type": "markdown",
      "id": "jcYuQNhvwI65",
      "metadata": {
        "id": "jcYuQNhvwI65"
      },
      "source": [
        "Stopwords\n"
      ]
    },
    {
      "cell_type": "code",
      "execution_count": 44,
      "id": "nxVbAlKjwI67",
      "metadata": {
        "colab": {
          "base_uri": "https://localhost:8080/"
        },
        "id": "nxVbAlKjwI67",
        "outputId": "f0e8026f-9dcc-4fd3-c7bb-5165ba9e2cc2"
      },
      "outputs": [
        {
          "name": "stderr",
          "output_type": "stream",
          "text": [
            "[nltk_data] Downloading package stopwords to\n",
            "[nltk_data]     C:\\Users\\moham\\AppData\\Roaming\\nltk_data...\n",
            "[nltk_data]   Package stopwords is already up-to-date!\n"
          ]
        },
        {
          "data": {
            "text/plain": [
              "True"
            ]
          },
          "execution_count": 44,
          "metadata": {},
          "output_type": "execute_result"
        }
      ],
      "source": [
        "import io\n",
        "from nltk.corpus import stopwords\n",
        "from nltk.tokenize import word_tokenize\n",
        "import nltk\n",
        "nltk.download('stopwords')"
      ]
    },
    {
      "cell_type": "code",
      "execution_count": 45,
      "id": "Ns3y7Y7dwI68",
      "metadata": {
        "id": "Ns3y7Y7dwI68"
      },
      "outputs": [],
      "source": [
        "# word_tokenize accepts\n",
        "\n",
        "stop_words = set(stopwords.words('english'))\n",
        "file1 = open('data-clensing.csv', encoding= \"UTF-8\")"
      ]
    },
    {
      "cell_type": "code",
      "execution_count": 46,
      "id": "_pLET_FzwI6-",
      "metadata": {
        "id": "_pLET_FzwI6-"
      },
      "outputs": [],
      "source": [
        "line = file1.read()\n",
        "words = line.split()\n",
        "for r in words:\n",
        "    if not r in stop_words:\n",
        "        appendFile = open('fstop.txt','a', encoding=\"utf-8\")\n",
        "        appendFile.write(\" \"+r)\n",
        "        appendFile.close()"
      ]
    },
    {
      "cell_type": "markdown",
      "id": "a7m2RJVT9JU0",
      "metadata": {
        "id": "a7m2RJVT9JU0"
      },
      "source": [
        "\n",
        "\n",
        "```\n",
        "Frequency distabution in Tweets collected \n",
        "\n",
        "```\n",
        "\n"
      ]
    },
    {
      "cell_type": "code",
      "execution_count": 47,
      "id": "rCwsB5vfOwWD",
      "metadata": {
        "id": "rCwsB5vfOwWD"
      },
      "outputs": [],
      "source": [
        "import nltk\n",
        "from nltk.corpus import webtext\n",
        "from nltk.probability import FreqDist"
      ]
    },
    {
      "cell_type": "code",
      "execution_count": 48,
      "id": "BScULCMEeYBK",
      "metadata": {
        "colab": {
          "base_uri": "https://localhost:8080/"
        },
        "id": "BScULCMEeYBK",
        "outputId": "6c10486e-cc17-46d9-de5e-99b0a72edbd4"
      },
      "outputs": [],
      "source": [
        "wt_words = open('fstop.txt', encoding= \"UTF-8\")\n",
        "mydata = wt_words.read()\n",
        "# add individual characters you want to get rid of\n",
        "for c in \"#0123456789£!$%^&*'()\"\"';:-_/?><,.@\":\n",
        "    mydata = mydata.replace(c,\"\")\n",
        "\n",
        "for w in [\"RT\", \"date\", \"http\"]:\n",
        "    mydata = mydata.replace(w, \"\")\n",
        "\n",
        "\n",
        "data_analysis = nltk.FreqDist(nltk.tokenize.word_tokenize(mydata))"
      ]
    },
    {
      "cell_type": "code",
      "execution_count": 49,
      "id": "noIw_LI7eopw",
      "metadata": {
        "id": "noIw_LI7eopw"
      },
      "outputs": [],
      "source": [
        "# Let's take the specific words only if their frequency is greater than 10.\n",
        "filter_words = dict([(m, n) for m, n in data_analysis.items() if n > 50])"
      ]
    },
    {
      "cell_type": "code",
      "execution_count": 50,
      "id": "b9f9b579",
      "metadata": {},
      "outputs": [
        {
          "data": {
            "text/plain": [
              "55522"
            ]
          },
          "execution_count": 50,
          "metadata": {},
          "output_type": "execute_result"
        }
      ],
      "source": [
        "filter_words[\"dogecoin\"]\n"
      ]
    },
    {
      "cell_type": "code",
      "execution_count": null,
      "id": "qdurOdYmevqI",
      "metadata": {
        "colab": {
          "base_uri": "https://localhost:8080/"
        },
        "id": "qdurOdYmevqI",
        "outputId": "2a6cfc83-04b0-4e44-e310-33acb18a7af0"
      },
      "outputs": [],
      "source": [
        "for key in sorted(filter_words):\n",
        "    print(\"%s: %s\" % (key, filter_words[key]))"
      ]
    },
    {
      "cell_type": "code",
      "execution_count": 52,
      "id": "f7798481",
      "metadata": {},
      "outputs": [
        {
          "data": {
            "text/plain": [
              "FreqDist({\"''\": 389903, 'dogecoin': 55522, 'DogelonMars': 38582, 'BabyDogeCoin': 37887, 'Shiba': 32419, '為替': 31989, '米ドル→円': 31989, '香港ドル→円': 31989, '台湾ドル→円': 31989, '中国元→円': 31989, ...})"
            ]
          },
          "execution_count": 52,
          "metadata": {},
          "output_type": "execute_result"
        }
      ],
      "source": [
        "data_analysis"
      ]
    },
    {
      "cell_type": "code",
      "execution_count": 53,
      "id": "jGwk1AkNe3WO",
      "metadata": {
        "colab": {
          "base_uri": "https://localhost:8080/",
          "height": 1000
        },
        "id": "jGwk1AkNe3WO",
        "outputId": "4fb093c3-8692-40f7-d330-2a4a9621ff95"
      },
      "outputs": [
        {
          "name": "stderr",
          "output_type": "stream",
          "text": [
            "C:\\Users\\moham\\AppData\\Local\\Programs\\Python\\Python39\\lib\\site-packages\\IPython\\core\\pylabtools.py:151: UserWarning: Glyph 28858 (\\N{CJK UNIFIED IDEOGRAPH-70BA}) missing from current font.\n",
            "  fig.canvas.print_figure(bytes_io, **kw)\n",
            "C:\\Users\\moham\\AppData\\Local\\Programs\\Python\\Python39\\lib\\site-packages\\IPython\\core\\pylabtools.py:151: UserWarning: Glyph 26367 (\\N{CJK UNIFIED IDEOGRAPH-66FF}) missing from current font.\n",
            "  fig.canvas.print_figure(bytes_io, **kw)\n",
            "C:\\Users\\moham\\AppData\\Local\\Programs\\Python\\Python39\\lib\\site-packages\\IPython\\core\\pylabtools.py:151: UserWarning: Glyph 31859 (\\N{CJK UNIFIED IDEOGRAPH-7C73}) missing from current font.\n",
            "  fig.canvas.print_figure(bytes_io, **kw)\n",
            "C:\\Users\\moham\\AppData\\Local\\Programs\\Python\\Python39\\lib\\site-packages\\IPython\\core\\pylabtools.py:151: UserWarning: Glyph 12489 (\\N{KATAKANA LETTER DO}) missing from current font.\n",
            "  fig.canvas.print_figure(bytes_io, **kw)\n",
            "C:\\Users\\moham\\AppData\\Local\\Programs\\Python\\Python39\\lib\\site-packages\\IPython\\core\\pylabtools.py:151: UserWarning: Glyph 12523 (\\N{KATAKANA LETTER RU}) missing from current font.\n",
            "  fig.canvas.print_figure(bytes_io, **kw)\n",
            "C:\\Users\\moham\\AppData\\Local\\Programs\\Python\\Python39\\lib\\site-packages\\IPython\\core\\pylabtools.py:151: UserWarning: Glyph 20870 (\\N{CJK UNIFIED IDEOGRAPH-5186}) missing from current font.\n",
            "  fig.canvas.print_figure(bytes_io, **kw)\n",
            "C:\\Users\\moham\\AppData\\Local\\Programs\\Python\\Python39\\lib\\site-packages\\IPython\\core\\pylabtools.py:151: UserWarning: Glyph 39321 (\\N{CJK UNIFIED IDEOGRAPH-9999}) missing from current font.\n",
            "  fig.canvas.print_figure(bytes_io, **kw)\n",
            "C:\\Users\\moham\\AppData\\Local\\Programs\\Python\\Python39\\lib\\site-packages\\IPython\\core\\pylabtools.py:151: UserWarning: Glyph 28207 (\\N{CJK UNIFIED IDEOGRAPH-6E2F}) missing from current font.\n",
            "  fig.canvas.print_figure(bytes_io, **kw)\n",
            "C:\\Users\\moham\\AppData\\Local\\Programs\\Python\\Python39\\lib\\site-packages\\IPython\\core\\pylabtools.py:151: UserWarning: Glyph 21488 (\\N{CJK UNIFIED IDEOGRAPH-53F0}) missing from current font.\n",
            "  fig.canvas.print_figure(bytes_io, **kw)\n",
            "C:\\Users\\moham\\AppData\\Local\\Programs\\Python\\Python39\\lib\\site-packages\\IPython\\core\\pylabtools.py:151: UserWarning: Glyph 28286 (\\N{CJK UNIFIED IDEOGRAPH-6E7E}) missing from current font.\n",
            "  fig.canvas.print_figure(bytes_io, **kw)\n",
            "C:\\Users\\moham\\AppData\\Local\\Programs\\Python\\Python39\\lib\\site-packages\\IPython\\core\\pylabtools.py:151: UserWarning: Glyph 20013 (\\N{CJK UNIFIED IDEOGRAPH-4E2D}) missing from current font.\n",
            "  fig.canvas.print_figure(bytes_io, **kw)\n",
            "C:\\Users\\moham\\AppData\\Local\\Programs\\Python\\Python39\\lib\\site-packages\\IPython\\core\\pylabtools.py:151: UserWarning: Glyph 22269 (\\N{CJK UNIFIED IDEOGRAPH-56FD}) missing from current font.\n",
            "  fig.canvas.print_figure(bytes_io, **kw)\n",
            "C:\\Users\\moham\\AppData\\Local\\Programs\\Python\\Python39\\lib\\site-packages\\IPython\\core\\pylabtools.py:151: UserWarning: Glyph 20803 (\\N{CJK UNIFIED IDEOGRAPH-5143}) missing from current font.\n",
            "  fig.canvas.print_figure(bytes_io, **kw)\n",
            "C:\\Users\\moham\\AppData\\Local\\Programs\\Python\\Python39\\lib\\site-packages\\IPython\\core\\pylabtools.py:151: UserWarning: Glyph 12518 (\\N{KATAKANA LETTER YU}) missing from current font.\n",
            "  fig.canvas.print_figure(bytes_io, **kw)\n",
            "C:\\Users\\moham\\AppData\\Local\\Programs\\Python\\Python39\\lib\\site-packages\\IPython\\core\\pylabtools.py:151: UserWarning: Glyph 12540 (\\N{KATAKANA-HIRAGANA PROLONGED SOUND MARK}) missing from current font.\n",
            "  fig.canvas.print_figure(bytes_io, **kw)\n",
            "C:\\Users\\moham\\AppData\\Local\\Programs\\Python\\Python39\\lib\\site-packages\\IPython\\core\\pylabtools.py:151: UserWarning: Glyph 12525 (\\N{KATAKANA LETTER RO}) missing from current font.\n",
            "  fig.canvas.print_figure(bytes_io, **kw)\n",
            "C:\\Users\\moham\\AppData\\Local\\Programs\\Python\\Python39\\lib\\site-packages\\IPython\\core\\pylabtools.py:151: UserWarning: Glyph 33521 (\\N{CJK UNIFIED IDEOGRAPH-82F1}) missing from current font.\n",
            "  fig.canvas.print_figure(bytes_io, **kw)\n",
            "C:\\Users\\moham\\AppData\\Local\\Programs\\Python\\Python39\\lib\\site-packages\\IPython\\core\\pylabtools.py:151: UserWarning: Glyph 12509 (\\N{KATAKANA LETTER PO}) missing from current font.\n",
            "  fig.canvas.print_figure(bytes_io, **kw)\n",
            "C:\\Users\\moham\\AppData\\Local\\Programs\\Python\\Python39\\lib\\site-packages\\IPython\\core\\pylabtools.py:151: UserWarning: Glyph 12531 (\\N{KATAKANA LETTER N}) missing from current font.\n",
            "  fig.canvas.print_figure(bytes_io, **kw)\n",
            "C:\\Users\\moham\\AppData\\Local\\Programs\\Python\\Python39\\lib\\site-packages\\IPython\\core\\pylabtools.py:151: UserWarning: Glyph 35946 (\\N{CJK UNIFIED IDEOGRAPH-8C6A}) missing from current font.\n",
            "  fig.canvas.print_figure(bytes_io, **kw)\n",
            "C:\\Users\\moham\\AppData\\Local\\Programs\\Python\\Python39\\lib\\site-packages\\IPython\\core\\pylabtools.py:151: UserWarning: Glyph 65433 (\\N{HALFWIDTH KATAKANA LETTER RU}) missing from current font.\n",
            "  fig.canvas.print_figure(bytes_io, **kw)\n",
            "C:\\Users\\moham\\AppData\\Local\\Programs\\Python\\Python39\\lib\\site-packages\\IPython\\core\\pylabtools.py:151: UserWarning: Glyph 65392 (\\N{HALFWIDTH KATAKANA-HIRAGANA PROLONGED SOUND MARK}) missing from current font.\n",
            "  fig.canvas.print_figure(bytes_io, **kw)\n",
            "C:\\Users\\moham\\AppData\\Local\\Programs\\Python\\Python39\\lib\\site-packages\\IPython\\core\\pylabtools.py:151: UserWarning: Glyph 65420 (\\N{HALFWIDTH KATAKANA LETTER HU}) missing from current font.\n",
            "  fig.canvas.print_figure(bytes_io, **kw)\n",
            "C:\\Users\\moham\\AppData\\Local\\Programs\\Python\\Python39\\lib\\site-packages\\IPython\\core\\pylabtools.py:151: UserWarning: Glyph 65438 (\\N{HALFWIDTH KATAKANA VOICED SOUND MARK}) missing from current font.\n",
            "  fig.canvas.print_figure(bytes_io, **kw)\n",
            "C:\\Users\\moham\\AppData\\Local\\Programs\\Python\\Python39\\lib\\site-packages\\IPython\\core\\pylabtools.py:151: UserWarning: Glyph 128200 (\\N{CHART WITH UPWARDS TREND}) missing from current font.\n",
            "  fig.canvas.print_figure(bytes_io, **kw)\n"
          ]
        },
        {
          "data": {
            "image/png": "[encoded data removed]",
            "text/plain": [
              "<Figure size 640x480 with 1 Axes>"
            ]
          },
          "metadata": {},
          "output_type": "display_data"
        },
        {
          "data": {
            "text/plain": [
              "<AxesSubplot:xlabel='Samples', ylabel='Counts'>"
            ]
          },
          "execution_count": 53,
          "metadata": {},
          "output_type": "execute_result"
        }
      ],
      "source": [
        "data_analysispost = nltk.FreqDist(filter_words)\n",
        " \n",
        "data_analysispost.plot(30, cumulative=False)\n"
      ]
    },
    {
      "cell_type": "markdown",
      "id": "85a94257",
      "metadata": {},
      "source": [
        "Sentiment Analysis\n"
      ]
    },
    {
      "cell_type": "code",
      "execution_count": 54,
      "id": "0dea0f86",
      "metadata": {},
      "outputs": [],
      "source": [
        "import numpy as np\n",
        "import pandas as pd"
      ]
    },
    {
      "cell_type": "code",
      "execution_count": 55,
      "id": "807f3e84",
      "metadata": {},
      "outputs": [
        {
          "name": "stderr",
          "output_type": "stream",
          "text": [
            "C:\\Users\\moham\\AppData\\Local\\Programs\\Python\\Python39\\lib\\site-packages\\IPython\\core\\interactiveshell.py:3444: DtypeWarning: Columns (1) have mixed types.Specify dtype option on import or set low_memory=False.\n",
            "  exec(code_obj, self.user_global_ns, self.user_ns)\n"
          ]
        }
      ],
      "source": [
        "df = pd.read_csv('data-clensing.csv')"
      ]
    },
    {
      "cell_type": "code",
      "execution_count": 56,
      "id": "6810089f",
      "metadata": {},
      "outputs": [
        {
          "data": {
            "text/plain": [
              "(270151, 4)"
            ]
          },
          "execution_count": 56,
          "metadata": {},
          "output_type": "execute_result"
        }
      ],
      "source": [
        "df.shape"
      ]
    },
    {
      "cell_type": "code",
      "execution_count": 57,
      "id": "00f4821f",
      "metadata": {},
      "outputs": [
        {
          "data": {
            "text/html": [
              "<div>\n",
              "<style scoped>\n",
              "    .dataframe tbody tr th:only-of-type {\n",
              "        vertical-align: middle;\n",
              "    }\n",
              "\n",
              "    .dataframe tbody tr th {\n",
              "        vertical-align: top;\n",
              "    }\n",
              "\n",
              "    .dataframe thead th {\n",
              "        text-align: right;\n",
              "    }\n",
              "</style>\n",
              "<table border=\"1\" class=\"dataframe\">\n",
              "  <thead>\n",
              "    <tr style=\"text-align: right;\">\n",
              "      <th></th>\n",
              "      <th>Date</th>\n",
              "      <th>TweetNo</th>\n",
              "      <th>User</th>\n",
              "      <th>Tweet</th>\n",
              "    </tr>\n",
              "  </thead>\n",
              "  <tbody>\n",
              "    <tr>\n",
              "      <th>0</th>\n",
              "      <td>2022-02-06</td>\n",
              "      <td>1</td>\n",
              "      <td>Filimon1987</td>\n",
              "      <td>RT @hardbitspace: BitTorrent 10000.\\nRetweet t...</td>\n",
              "    </tr>\n",
              "    <tr>\n",
              "      <th>1</th>\n",
              "      <td>2022-02-06</td>\n",
              "      <td>2</td>\n",
              "      <td>amir_shazrin</td>\n",
              "      <td>RT @ElonPunkYC: Floor went from 5 ETH to 8.6 E...</td>\n",
              "    </tr>\n",
              "    <tr>\n",
              "      <th>2</th>\n",
              "      <td>2022-02-06</td>\n",
              "      <td>3</td>\n",
              "      <td>umit587</td>\n",
              "      <td>RT @fzthsyn: Tercihini hangi kedilerden yana  ...</td>\n",
              "    </tr>\n",
              "    <tr>\n",
              "      <th>3</th>\n",
              "      <td>2022-02-06</td>\n",
              "      <td>4</td>\n",
              "      <td>realwhalehacker</td>\n",
              "      <td>\"The FTX ad with Brady had some charm, it's cu...</td>\n",
              "    </tr>\n",
              "    <tr>\n",
              "      <th>4</th>\n",
              "      <td>2022-02-06</td>\n",
              "      <td>5</td>\n",
              "      <td>hasanKylp33</td>\n",
              "      <td>RT @fzthsyn: Tercihini hangi kedilerden yana  ...</td>\n",
              "    </tr>\n",
              "  </tbody>\n",
              "</table>\n",
              "</div>"
            ],
            "text/plain": [
              "         Date TweetNo             User  \\\n",
              "0  2022-02-06       1      Filimon1987   \n",
              "1  2022-02-06       2     amir_shazrin   \n",
              "2  2022-02-06       3          umit587   \n",
              "3  2022-02-06       4  realwhalehacker   \n",
              "4  2022-02-06       5      hasanKylp33   \n",
              "\n",
              "                                               Tweet  \n",
              "0  RT @hardbitspace: BitTorrent 10000.\\nRetweet t...  \n",
              "1  RT @ElonPunkYC: Floor went from 5 ETH to 8.6 E...  \n",
              "2  RT @fzthsyn: Tercihini hangi kedilerden yana  ...  \n",
              "3  \"The FTX ad with Brady had some charm, it's cu...  \n",
              "4  RT @fzthsyn: Tercihini hangi kedilerden yana  ...  "
            ]
          },
          "execution_count": 57,
          "metadata": {},
          "output_type": "execute_result"
        }
      ],
      "source": [
        "df.head()"
      ]
    },
    {
      "cell_type": "code",
      "execution_count": 58,
      "id": "ef358560",
      "metadata": {},
      "outputs": [
        {
          "name": "stderr",
          "output_type": "stream",
          "text": [
            "[nltk_data] Downloading package stopwords to\n",
            "[nltk_data]     C:\\Users\\moham\\AppData\\Roaming\\nltk_data...\n",
            "[nltk_data]   Package stopwords is already up-to-date!\n"
          ]
        }
      ],
      "source": [
        "import re \n",
        "import nltk\n",
        "\n",
        "nltk.download('stopwords')\n",
        "\n",
        "from nltk.corpus import stopwords\n",
        "\n",
        "from nltk.stem.porter import PorterStemmer\n",
        "ps = PorterStemmer()\n",
        "\n",
        "all_stopwords = stopwords.words('english')\n",
        "all_stopwords.remove('not')"
      ]
    },
    {
      "cell_type": "code",
      "execution_count": 59,
      "id": "d78516e1",
      "metadata": {},
      "outputs": [],
      "source": [
        "corpus=[df]\n",
        "\n",
        "for i in range(46256, 5):\n",
        "  review = re.sub('[^a-zA-Z]', ' ', df['Tweet'][i])\n",
        "  review = review.lower()\n",
        "  review = review.split()\n",
        "  review = [ps.stem(word) for word in review if not word in set(all_stopwords)]\n",
        "  review = ' '.join(review)\n",
        "  corpus.append(review)\n"
      ]
    },
    {
      "cell_type": "code",
      "execution_count": null,
      "id": "4199e6f3",
      "metadata": {},
      "outputs": [],
      "source": [
        "corpus"
      ]
    },
    {
      "cell_type": "code",
      "execution_count": 61,
      "id": "7a25b047",
      "metadata": {},
      "outputs": [],
      "source": [
        "#@okex_brasil"
      ]
    },
    {
      "cell_type": "code",
      "execution_count": 62,
      "id": "cda965d0",
      "metadata": {},
      "outputs": [
        {
          "data": {
            "text/html": [
              "<div>\n",
              "<style scoped>\n",
              "    .dataframe tbody tr th:only-of-type {\n",
              "        vertical-align: middle;\n",
              "    }\n",
              "\n",
              "    .dataframe tbody tr th {\n",
              "        vertical-align: top;\n",
              "    }\n",
              "\n",
              "    .dataframe thead th {\n",
              "        text-align: right;\n",
              "    }\n",
              "</style>\n",
              "<table border=\"1\" class=\"dataframe\">\n",
              "  <thead>\n",
              "    <tr style=\"text-align: right;\">\n",
              "      <th></th>\n",
              "      <th>Date</th>\n",
              "      <th>TweetNo</th>\n",
              "      <th>User</th>\n",
              "      <th>Tweet</th>\n",
              "      <th>Polarity Score</th>\n",
              "      <th>Neutral Score</th>\n",
              "      <th>Negative Score</th>\n",
              "      <th>Positive Score</th>\n",
              "      <th>Sentiment</th>\n",
              "    </tr>\n",
              "  </thead>\n",
              "  <tbody>\n",
              "    <tr>\n",
              "      <th>0</th>\n",
              "      <td>2022-02-06</td>\n",
              "      <td>1</td>\n",
              "      <td>Filimon1987</td>\n",
              "      <td>RT @hardbitspace: BitTorrent 10000.\\nRetweet t...</td>\n",
              "      <td>0.0000</td>\n",
              "      <td>1.000</td>\n",
              "      <td>0.000</td>\n",
              "      <td>0.000</td>\n",
              "      <td>Neutral</td>\n",
              "    </tr>\n",
              "    <tr>\n",
              "      <th>1</th>\n",
              "      <td>2022-02-06</td>\n",
              "      <td>2</td>\n",
              "      <td>amir_shazrin</td>\n",
              "      <td>RT @ElonPunkYC: Floor went from 5 ETH to 8.6 E...</td>\n",
              "      <td>0.0000</td>\n",
              "      <td>1.000</td>\n",
              "      <td>0.000</td>\n",
              "      <td>0.000</td>\n",
              "      <td>Neutral</td>\n",
              "    </tr>\n",
              "    <tr>\n",
              "      <th>2</th>\n",
              "      <td>2022-02-06</td>\n",
              "      <td>3</td>\n",
              "      <td>umit587</td>\n",
              "      <td>RT @fzthsyn: Tercihini hangi kedilerden yana  ...</td>\n",
              "      <td>0.0000</td>\n",
              "      <td>1.000</td>\n",
              "      <td>0.000</td>\n",
              "      <td>0.000</td>\n",
              "      <td>Neutral</td>\n",
              "    </tr>\n",
              "    <tr>\n",
              "      <th>3</th>\n",
              "      <td>2022-02-06</td>\n",
              "      <td>4</td>\n",
              "      <td>realwhalehacker</td>\n",
              "      <td>\"The FTX ad with Brady had some charm, it's cu...</td>\n",
              "      <td>0.6908</td>\n",
              "      <td>0.769</td>\n",
              "      <td>0.000</td>\n",
              "      <td>0.231</td>\n",
              "      <td>Positive</td>\n",
              "    </tr>\n",
              "    <tr>\n",
              "      <th>4</th>\n",
              "      <td>2022-02-06</td>\n",
              "      <td>5</td>\n",
              "      <td>hasanKylp33</td>\n",
              "      <td>RT @fzthsyn: Tercihini hangi kedilerden yana  ...</td>\n",
              "      <td>0.0000</td>\n",
              "      <td>1.000</td>\n",
              "      <td>0.000</td>\n",
              "      <td>0.000</td>\n",
              "      <td>Neutral</td>\n",
              "    </tr>\n",
              "    <tr>\n",
              "      <th>...</th>\n",
              "      <td>...</td>\n",
              "      <td>...</td>\n",
              "      <td>...</td>\n",
              "      <td>...</td>\n",
              "      <td>...</td>\n",
              "      <td>...</td>\n",
              "      <td>...</td>\n",
              "      <td>...</td>\n",
              "      <td>...</td>\n",
              "    </tr>\n",
              "    <tr>\n",
              "      <th>95</th>\n",
              "      <td>2022-02-06</td>\n",
              "      <td>96</td>\n",
              "      <td>E__dollar</td>\n",
              "      <td>RT @shegzynanah: @W3stSideCryp @marvininu @Mar...</td>\n",
              "      <td>0.6597</td>\n",
              "      <td>0.645</td>\n",
              "      <td>0.089</td>\n",
              "      <td>0.266</td>\n",
              "      <td>Positive</td>\n",
              "    </tr>\n",
              "    <tr>\n",
              "      <th>96</th>\n",
              "      <td>2022-02-06</td>\n",
              "      <td>97</td>\n",
              "      <td>HamidJahanfakhr</td>\n",
              "      <td>RT @MemesCoinLover: What is the top #Token com...</td>\n",
              "      <td>0.2023</td>\n",
              "      <td>0.899</td>\n",
              "      <td>0.000</td>\n",
              "      <td>0.101</td>\n",
              "      <td>Positive</td>\n",
              "    </tr>\n",
              "    <tr>\n",
              "      <th>97</th>\n",
              "      <td>2022-02-06</td>\n",
              "      <td>98</td>\n",
              "      <td>itnyeinchanko</td>\n",
              "      <td>RT @ElonPunkYC: Floor went from 5 ETH to 8.6 E...</td>\n",
              "      <td>0.0000</td>\n",
              "      <td>1.000</td>\n",
              "      <td>0.000</td>\n",
              "      <td>0.000</td>\n",
              "      <td>Neutral</td>\n",
              "    </tr>\n",
              "    <tr>\n",
              "      <th>98</th>\n",
              "      <td>2022-02-06</td>\n",
              "      <td>99</td>\n",
              "      <td>rodamus444</td>\n",
              "      <td>RT @ElonPunkYC: Floor went from 5 ETH to 8.6 E...</td>\n",
              "      <td>0.0000</td>\n",
              "      <td>1.000</td>\n",
              "      <td>0.000</td>\n",
              "      <td>0.000</td>\n",
              "      <td>Neutral</td>\n",
              "    </tr>\n",
              "    <tr>\n",
              "      <th>99</th>\n",
              "      <td>2022-02-06</td>\n",
              "      <td>100</td>\n",
              "      <td>Omidjafari7813</td>\n",
              "      <td>RT @Crypto_Familyy: Imagine, I gave you $10,00...</td>\n",
              "      <td>0.0000</td>\n",
              "      <td>1.000</td>\n",
              "      <td>0.000</td>\n",
              "      <td>0.000</td>\n",
              "      <td>Neutral</td>\n",
              "    </tr>\n",
              "  </tbody>\n",
              "</table>\n",
              "<p>100 rows × 9 columns</p>\n",
              "</div>"
            ],
            "text/plain": [
              "          Date TweetNo             User  \\\n",
              "0   2022-02-06       1      Filimon1987   \n",
              "1   2022-02-06       2     amir_shazrin   \n",
              "2   2022-02-06       3          umit587   \n",
              "3   2022-02-06       4  realwhalehacker   \n",
              "4   2022-02-06       5      hasanKylp33   \n",
              "..         ...     ...              ...   \n",
              "95  2022-02-06      96        E__dollar   \n",
              "96  2022-02-06      97  HamidJahanfakhr   \n",
              "97  2022-02-06      98    itnyeinchanko   \n",
              "98  2022-02-06      99       rodamus444   \n",
              "99  2022-02-06     100   Omidjafari7813   \n",
              "\n",
              "                                                Tweet  Polarity Score  \\\n",
              "0   RT @hardbitspace: BitTorrent 10000.\\nRetweet t...          0.0000   \n",
              "1   RT @ElonPunkYC: Floor went from 5 ETH to 8.6 E...          0.0000   \n",
              "2   RT @fzthsyn: Tercihini hangi kedilerden yana  ...          0.0000   \n",
              "3   \"The FTX ad with Brady had some charm, it's cu...          0.6908   \n",
              "4   RT @fzthsyn: Tercihini hangi kedilerden yana  ...          0.0000   \n",
              "..                                                ...             ...   \n",
              "95  RT @shegzynanah: @W3stSideCryp @marvininu @Mar...          0.6597   \n",
              "96  RT @MemesCoinLover: What is the top #Token com...          0.2023   \n",
              "97  RT @ElonPunkYC: Floor went from 5 ETH to 8.6 E...          0.0000   \n",
              "98  RT @ElonPunkYC: Floor went from 5 ETH to 8.6 E...          0.0000   \n",
              "99  RT @Crypto_Familyy: Imagine, I gave you $10,00...          0.0000   \n",
              "\n",
              "    Neutral Score  Negative Score  Positive Score Sentiment  \n",
              "0           1.000           0.000           0.000   Neutral  \n",
              "1           1.000           0.000           0.000   Neutral  \n",
              "2           1.000           0.000           0.000   Neutral  \n",
              "3           0.769           0.000           0.231  Positive  \n",
              "4           1.000           0.000           0.000   Neutral  \n",
              "..            ...             ...             ...       ...  \n",
              "95          0.645           0.089           0.266  Positive  \n",
              "96          0.899           0.000           0.101  Positive  \n",
              "97          1.000           0.000           0.000   Neutral  \n",
              "98          1.000           0.000           0.000   Neutral  \n",
              "99          1.000           0.000           0.000   Neutral  \n",
              "\n",
              "[100 rows x 9 columns]"
            ]
          },
          "execution_count": 62,
          "metadata": {},
          "output_type": "execute_result"
        }
      ],
      "source": [
        "from nltk.sentiment.vader import SentimentIntensityAnalyzer\n",
        "from nltk.sentiment.util import *\n",
        "#Sentiment Analysis\n",
        "SA = SentimentIntensityAnalyzer()\n",
        "df[\"Tweet\"]= df[\"Tweet\"].astype(str)\n",
        "# Applying Model, Variable Creation\n",
        "df['Polarity Score']=df[\"Tweet\"].apply(lambda x:SA.polarity_scores(x)['compound'])\n",
        "df['Neutral Score']=df[\"Tweet\"].apply(lambda x:SA.polarity_scores(x)['neu'])\n",
        "df['Negative Score']=df[\"Tweet\"].apply(lambda x:SA.polarity_scores(x)['neg'])\n",
        "df['Positive Score']=df[\"Tweet\"].apply(lambda x:SA.polarity_scores(x)['pos'])\n",
        "\n",
        "\n",
        "# Converting 0 to 1 Decimal Score to a Categorical Variable\n",
        "df['Sentiment']=''\n",
        "df.loc[df['Polarity Score']>0,'Sentiment']='Positive'\n",
        "df.loc[df['Polarity Score']==0,'Sentiment']='Neutral'\n",
        "df.loc[df['Polarity Score']<0,'Sentiment']='Negative'\n",
        "\n",
        "\n",
        "\n",
        "df[:100]\n",
        "#df.to_csv('Sentimental-data.csv')"
      ]
    },
    {
      "cell_type": "code",
      "execution_count": 63,
      "id": "f3520942",
      "metadata": {},
      "outputs": [
        {
          "data": {
            "text/html": [
              "<div>\n",
              "<style scoped>\n",
              "    .dataframe tbody tr th:only-of-type {\n",
              "        vertical-align: middle;\n",
              "    }\n",
              "\n",
              "    .dataframe tbody tr th {\n",
              "        vertical-align: top;\n",
              "    }\n",
              "\n",
              "    .dataframe thead th {\n",
              "        text-align: right;\n",
              "    }\n",
              "</style>\n",
              "<table border=\"1\" class=\"dataframe\">\n",
              "  <thead>\n",
              "    <tr style=\"text-align: right;\">\n",
              "      <th></th>\n",
              "      <th>Polarity Score</th>\n",
              "      <th>Neutral Score</th>\n",
              "      <th>Negative Score</th>\n",
              "      <th>Positive Score</th>\n",
              "    </tr>\n",
              "    <tr>\n",
              "      <th>Date</th>\n",
              "      <th></th>\n",
              "      <th></th>\n",
              "      <th></th>\n",
              "      <th></th>\n",
              "    </tr>\n",
              "  </thead>\n",
              "  <tbody>\n",
              "    <tr>\n",
              "      <th>2022-02-06</th>\n",
              "      <td>0.259914</td>\n",
              "      <td>0.875484</td>\n",
              "      <td>0.021574</td>\n",
              "      <td>0.103003</td>\n",
              "    </tr>\n",
              "    <tr>\n",
              "      <th>2022-02-07</th>\n",
              "      <td>0.215312</td>\n",
              "      <td>0.908980</td>\n",
              "      <td>0.010099</td>\n",
              "      <td>0.080921</td>\n",
              "    </tr>\n",
              "    <tr>\n",
              "      <th>2022-02-08</th>\n",
              "      <td>0.149469</td>\n",
              "      <td>0.932775</td>\n",
              "      <td>0.009386</td>\n",
              "      <td>0.057860</td>\n",
              "    </tr>\n",
              "    <tr>\n",
              "      <th>2022-02-09</th>\n",
              "      <td>0.289365</td>\n",
              "      <td>0.890400</td>\n",
              "      <td>0.004510</td>\n",
              "      <td>0.105106</td>\n",
              "    </tr>\n",
              "    <tr>\n",
              "      <th>2022-02-10</th>\n",
              "      <td>0.193530</td>\n",
              "      <td>0.898696</td>\n",
              "      <td>0.017984</td>\n",
              "      <td>0.082852</td>\n",
              "    </tr>\n",
              "    <tr>\n",
              "      <th>...</th>\n",
              "      <td>...</td>\n",
              "      <td>...</td>\n",
              "      <td>...</td>\n",
              "      <td>...</td>\n",
              "    </tr>\n",
              "    <tr>\n",
              "      <th>2022-04-09</th>\n",
              "      <td>0.179828</td>\n",
              "      <td>0.912748</td>\n",
              "      <td>0.008401</td>\n",
              "      <td>0.078865</td>\n",
              "    </tr>\n",
              "    <tr>\n",
              "      <th>2022-04-10</th>\n",
              "      <td>0.146409</td>\n",
              "      <td>0.919011</td>\n",
              "      <td>0.012731</td>\n",
              "      <td>0.068280</td>\n",
              "    </tr>\n",
              "    <tr>\n",
              "      <th>2022-04-11</th>\n",
              "      <td>0.116294</td>\n",
              "      <td>0.939486</td>\n",
              "      <td>0.008157</td>\n",
              "      <td>0.052354</td>\n",
              "    </tr>\n",
              "    <tr>\n",
              "      <th>2022-04-12</th>\n",
              "      <td>0.119733</td>\n",
              "      <td>0.933821</td>\n",
              "      <td>0.011021</td>\n",
              "      <td>0.055158</td>\n",
              "    </tr>\n",
              "    <tr>\n",
              "      <th>2022-04-13</th>\n",
              "      <td>0.119920</td>\n",
              "      <td>0.939379</td>\n",
              "      <td>0.009124</td>\n",
              "      <td>0.051496</td>\n",
              "    </tr>\n",
              "  </tbody>\n",
              "</table>\n",
              "<p>67 rows × 4 columns</p>\n",
              "</div>"
            ],
            "text/plain": [
              "            Polarity Score  Neutral Score  Negative Score  Positive Score\n",
              "Date                                                                     \n",
              "2022-02-06        0.259914       0.875484        0.021574        0.103003\n",
              "2022-02-07        0.215312       0.908980        0.010099        0.080921\n",
              "2022-02-08        0.149469       0.932775        0.009386        0.057860\n",
              "2022-02-09        0.289365       0.890400        0.004510        0.105106\n",
              "2022-02-10        0.193530       0.898696        0.017984        0.082852\n",
              "...                    ...            ...             ...             ...\n",
              "2022-04-09        0.179828       0.912748        0.008401        0.078865\n",
              "2022-04-10        0.146409       0.919011        0.012731        0.068280\n",
              "2022-04-11        0.116294       0.939486        0.008157        0.052354\n",
              "2022-04-12        0.119733       0.933821        0.011021        0.055158\n",
              "2022-04-13        0.119920       0.939379        0.009124        0.051496\n",
              "\n",
              "[67 rows x 4 columns]"
            ]
          },
          "execution_count": 63,
          "metadata": {},
          "output_type": "execute_result"
        }
      ],
      "source": [
        "df.loc[df['Polarity Score']>0,'Sentiment']\n",
        "df['Date']= pd.to_datetime(df['Date'])\n",
        "dfagg=df.groupby(by='Date').agg('mean')\n",
        "dfagg[dfagg['Polarity Score']<0]\n",
        "#dfagg2=dfagg.iloc[:,[1]]\n",
        "#dfagg2.to_csv('dfagg2.csv')\n",
        "dfagg"
      ]
    },
    {
      "cell_type": "code",
      "execution_count": 64,
      "id": "c70c54dc",
      "metadata": {},
      "outputs": [
        {
          "data": {
            "text/html": [
              "<div>\n",
              "<style scoped>\n",
              "    .dataframe tbody tr th:only-of-type {\n",
              "        vertical-align: middle;\n",
              "    }\n",
              "\n",
              "    .dataframe tbody tr th {\n",
              "        vertical-align: top;\n",
              "    }\n",
              "\n",
              "    .dataframe thead th {\n",
              "        text-align: right;\n",
              "    }\n",
              "</style>\n",
              "<table border=\"1\" class=\"dataframe\">\n",
              "  <thead>\n",
              "    <tr style=\"text-align: right;\">\n",
              "      <th></th>\n",
              "      <th>Polarity Score</th>\n",
              "    </tr>\n",
              "    <tr>\n",
              "      <th>Date</th>\n",
              "      <th></th>\n",
              "    </tr>\n",
              "  </thead>\n",
              "  <tbody>\n",
              "    <tr>\n",
              "      <th>2022-02-06</th>\n",
              "      <td>0.259914</td>\n",
              "    </tr>\n",
              "    <tr>\n",
              "      <th>2022-02-07</th>\n",
              "      <td>0.215312</td>\n",
              "    </tr>\n",
              "    <tr>\n",
              "      <th>2022-02-08</th>\n",
              "      <td>0.149469</td>\n",
              "    </tr>\n",
              "    <tr>\n",
              "      <th>2022-02-09</th>\n",
              "      <td>0.289365</td>\n",
              "    </tr>\n",
              "    <tr>\n",
              "      <th>2022-02-10</th>\n",
              "      <td>0.193530</td>\n",
              "    </tr>\n",
              "    <tr>\n",
              "      <th>...</th>\n",
              "      <td>...</td>\n",
              "    </tr>\n",
              "    <tr>\n",
              "      <th>2022-04-09</th>\n",
              "      <td>0.179828</td>\n",
              "    </tr>\n",
              "    <tr>\n",
              "      <th>2022-04-10</th>\n",
              "      <td>0.146409</td>\n",
              "    </tr>\n",
              "    <tr>\n",
              "      <th>2022-04-11</th>\n",
              "      <td>0.116294</td>\n",
              "    </tr>\n",
              "    <tr>\n",
              "      <th>2022-04-12</th>\n",
              "      <td>0.119733</td>\n",
              "    </tr>\n",
              "    <tr>\n",
              "      <th>2022-04-13</th>\n",
              "      <td>0.119920</td>\n",
              "    </tr>\n",
              "  </tbody>\n",
              "</table>\n",
              "<p>67 rows × 1 columns</p>\n",
              "</div>"
            ],
            "text/plain": [
              "            Polarity Score\n",
              "Date                      \n",
              "2022-02-06        0.259914\n",
              "2022-02-07        0.215312\n",
              "2022-02-08        0.149469\n",
              "2022-02-09        0.289365\n",
              "2022-02-10        0.193530\n",
              "...                    ...\n",
              "2022-04-09        0.179828\n",
              "2022-04-10        0.146409\n",
              "2022-04-11        0.116294\n",
              "2022-04-12        0.119733\n",
              "2022-04-13        0.119920\n",
              "\n",
              "[67 rows x 1 columns]"
            ]
          },
          "execution_count": 64,
          "metadata": {},
          "output_type": "execute_result"
        }
      ],
      "source": [
        "dfagg2=dfagg.iloc[:,[0]]\n",
        "#dfagg2.to_csv('dfagg2.csv')\n",
        "dfagg2"
      ]
    },
    {
      "cell_type": "markdown",
      "id": "74b2e769",
      "metadata": {},
      "source": [
        "Mering the data from the web scraper and the polarity scores from the daily sentiment\n"
      ]
    },
    {
      "cell_type": "code",
      "execution_count": 65,
      "id": "ec9d12b6",
      "metadata": {},
      "outputs": [],
      "source": [
        "#mergedf = pd.merge(doge, dfagg, on='Date', how='inner')"
      ]
    },
    {
      "cell_type": "code",
      "execution_count": 104,
      "id": "cd3a7062",
      "metadata": {},
      "outputs": [],
      "source": [
        "mergedf = pd.concat([doge, dfagg2], axis=1, sort=True, join='inner')"
      ]
    },
    {
      "cell_type": "code",
      "execution_count": 105,
      "id": "99220b24",
      "metadata": {},
      "outputs": [
        {
          "data": {
            "text/html": [
              "<div>\n",
              "<style scoped>\n",
              "    .dataframe tbody tr th:only-of-type {\n",
              "        vertical-align: middle;\n",
              "    }\n",
              "\n",
              "    .dataframe tbody tr th {\n",
              "        vertical-align: top;\n",
              "    }\n",
              "\n",
              "    .dataframe thead th {\n",
              "        text-align: right;\n",
              "    }\n",
              "</style>\n",
              "<table border=\"1\" class=\"dataframe\">\n",
              "  <thead>\n",
              "    <tr style=\"text-align: right;\">\n",
              "      <th></th>\n",
              "      <th>Open</th>\n",
              "      <th>High</th>\n",
              "      <th>Low</th>\n",
              "      <th>Close</th>\n",
              "      <th>Adj Close</th>\n",
              "      <th>Volume</th>\n",
              "      <th>MarktCap</th>\n",
              "      <th>MA50</th>\n",
              "      <th>MA200</th>\n",
              "      <th>returns</th>\n",
              "      <th>Polarity Score</th>\n",
              "    </tr>\n",
              "    <tr>\n",
              "      <th>Date</th>\n",
              "      <th></th>\n",
              "      <th></th>\n",
              "      <th></th>\n",
              "      <th></th>\n",
              "      <th></th>\n",
              "      <th></th>\n",
              "      <th></th>\n",
              "      <th></th>\n",
              "      <th></th>\n",
              "      <th></th>\n",
              "      <th></th>\n",
              "    </tr>\n",
              "  </thead>\n",
              "  <tbody>\n",
              "    <tr>\n",
              "      <th>2022-02-06</th>\n",
              "      <td>0.147140</td>\n",
              "      <td>0.154775</td>\n",
              "      <td>0.145258</td>\n",
              "      <td>0.153770</td>\n",
              "      <td>0.153770</td>\n",
              "      <td>757004142</td>\n",
              "      <td>1.113856e+08</td>\n",
              "      <td>NaN</td>\n",
              "      <td>NaN</td>\n",
              "      <td>0.045052</td>\n",
              "      <td>0.259914</td>\n",
              "    </tr>\n",
              "    <tr>\n",
              "      <th>2022-02-07</th>\n",
              "      <td>0.153803</td>\n",
              "      <td>0.171586</td>\n",
              "      <td>0.151741</td>\n",
              "      <td>0.165578</td>\n",
              "      <td>0.165578</td>\n",
              "      <td>1791358822</td>\n",
              "      <td>2.755164e+08</td>\n",
              "      <td>NaN</td>\n",
              "      <td>NaN</td>\n",
              "      <td>0.076790</td>\n",
              "      <td>0.215312</td>\n",
              "    </tr>\n",
              "    <tr>\n",
              "      <th>2022-02-08</th>\n",
              "      <td>0.165606</td>\n",
              "      <td>0.169145</td>\n",
              "      <td>0.153709</td>\n",
              "      <td>0.158405</td>\n",
              "      <td>0.158405</td>\n",
              "      <td>1190116000</td>\n",
              "      <td>1.970904e+08</td>\n",
              "      <td>NaN</td>\n",
              "      <td>NaN</td>\n",
              "      <td>-0.043321</td>\n",
              "      <td>0.149469</td>\n",
              "    </tr>\n",
              "    <tr>\n",
              "      <th>2022-02-09</th>\n",
              "      <td>0.158357</td>\n",
              "      <td>0.160704</td>\n",
              "      <td>0.155035</td>\n",
              "      <td>0.159123</td>\n",
              "      <td>0.159123</td>\n",
              "      <td>778670798</td>\n",
              "      <td>1.233080e+08</td>\n",
              "      <td>NaN</td>\n",
              "      <td>NaN</td>\n",
              "      <td>0.004533</td>\n",
              "      <td>0.289365</td>\n",
              "    </tr>\n",
              "    <tr>\n",
              "      <th>2022-02-10</th>\n",
              "      <td>0.159145</td>\n",
              "      <td>0.160437</td>\n",
              "      <td>0.151497</td>\n",
              "      <td>0.151889</td>\n",
              "      <td>0.151889</td>\n",
              "      <td>1053630584</td>\n",
              "      <td>1.676800e+08</td>\n",
              "      <td>NaN</td>\n",
              "      <td>NaN</td>\n",
              "      <td>-0.045462</td>\n",
              "      <td>0.193530</td>\n",
              "    </tr>\n",
              "    <tr>\n",
              "      <th>...</th>\n",
              "      <td>...</td>\n",
              "      <td>...</td>\n",
              "      <td>...</td>\n",
              "      <td>...</td>\n",
              "      <td>...</td>\n",
              "      <td>...</td>\n",
              "      <td>...</td>\n",
              "      <td>...</td>\n",
              "      <td>...</td>\n",
              "      <td>...</td>\n",
              "      <td>...</td>\n",
              "    </tr>\n",
              "    <tr>\n",
              "      <th>2022-04-07</th>\n",
              "      <td>0.143432</td>\n",
              "      <td>0.148028</td>\n",
              "      <td>0.141312</td>\n",
              "      <td>0.146102</td>\n",
              "      <td>0.146102</td>\n",
              "      <td>1420790611</td>\n",
              "      <td>2.037868e+08</td>\n",
              "      <td>0.130177</td>\n",
              "      <td>NaN</td>\n",
              "      <td>0.018722</td>\n",
              "      <td>0.121249</td>\n",
              "    </tr>\n",
              "    <tr>\n",
              "      <th>2022-04-08</th>\n",
              "      <td>0.146106</td>\n",
              "      <td>0.152716</td>\n",
              "      <td>0.141608</td>\n",
              "      <td>0.142549</td>\n",
              "      <td>0.142549</td>\n",
              "      <td>1683800631</td>\n",
              "      <td>2.460134e+08</td>\n",
              "      <td>0.130118</td>\n",
              "      <td>NaN</td>\n",
              "      <td>-0.024319</td>\n",
              "      <td>0.127558</td>\n",
              "    </tr>\n",
              "    <tr>\n",
              "      <th>2022-04-09</th>\n",
              "      <td>0.142544</td>\n",
              "      <td>0.144462</td>\n",
              "      <td>0.141416</td>\n",
              "      <td>0.144303</td>\n",
              "      <td>0.144303</td>\n",
              "      <td>523997409</td>\n",
              "      <td>7.469269e+07</td>\n",
              "      <td>0.130197</td>\n",
              "      <td>NaN</td>\n",
              "      <td>0.012305</td>\n",
              "      <td>0.179828</td>\n",
              "    </tr>\n",
              "    <tr>\n",
              "      <th>2022-04-10</th>\n",
              "      <td>0.144304</td>\n",
              "      <td>0.156972</td>\n",
              "      <td>0.143863</td>\n",
              "      <td>0.149535</td>\n",
              "      <td>0.149535</td>\n",
              "      <td>1931829669</td>\n",
              "      <td>2.787708e+08</td>\n",
              "      <td>0.130308</td>\n",
              "      <td>NaN</td>\n",
              "      <td>0.036257</td>\n",
              "      <td>0.146409</td>\n",
              "    </tr>\n",
              "    <tr>\n",
              "      <th>2022-04-11</th>\n",
              "      <td>0.149374</td>\n",
              "      <td>0.151292</td>\n",
              "      <td>0.133818</td>\n",
              "      <td>0.134654</td>\n",
              "      <td>0.134654</td>\n",
              "      <td>1515679359</td>\n",
              "      <td>2.264031e+08</td>\n",
              "      <td>0.130471</td>\n",
              "      <td>NaN</td>\n",
              "      <td>-0.099515</td>\n",
              "      <td>0.116294</td>\n",
              "    </tr>\n",
              "  </tbody>\n",
              "</table>\n",
              "<p>65 rows × 11 columns</p>\n",
              "</div>"
            ],
            "text/plain": [
              "                Open      High       Low     Close  Adj Close      Volume  \\\n",
              "Date                                                                        \n",
              "2022-02-06  0.147140  0.154775  0.145258  0.153770   0.153770   757004142   \n",
              "2022-02-07  0.153803  0.171586  0.151741  0.165578   0.165578  1791358822   \n",
              "2022-02-08  0.165606  0.169145  0.153709  0.158405   0.158405  1190116000   \n",
              "2022-02-09  0.158357  0.160704  0.155035  0.159123   0.159123   778670798   \n",
              "2022-02-10  0.159145  0.160437  0.151497  0.151889   0.151889  1053630584   \n",
              "...              ...       ...       ...       ...        ...         ...   \n",
              "2022-04-07  0.143432  0.148028  0.141312  0.146102   0.146102  1420790611   \n",
              "2022-04-08  0.146106  0.152716  0.141608  0.142549   0.142549  1683800631   \n",
              "2022-04-09  0.142544  0.144462  0.141416  0.144303   0.144303   523997409   \n",
              "2022-04-10  0.144304  0.156972  0.143863  0.149535   0.149535  1931829669   \n",
              "2022-04-11  0.149374  0.151292  0.133818  0.134654   0.134654  1515679359   \n",
              "\n",
              "                MarktCap      MA50  MA200   returns  Polarity Score  \n",
              "Date                                                                 \n",
              "2022-02-06  1.113856e+08       NaN    NaN  0.045052        0.259914  \n",
              "2022-02-07  2.755164e+08       NaN    NaN  0.076790        0.215312  \n",
              "2022-02-08  1.970904e+08       NaN    NaN -0.043321        0.149469  \n",
              "2022-02-09  1.233080e+08       NaN    NaN  0.004533        0.289365  \n",
              "2022-02-10  1.676800e+08       NaN    NaN -0.045462        0.193530  \n",
              "...                  ...       ...    ...       ...             ...  \n",
              "2022-04-07  2.037868e+08  0.130177    NaN  0.018722        0.121249  \n",
              "2022-04-08  2.460134e+08  0.130118    NaN -0.024319        0.127558  \n",
              "2022-04-09  7.469269e+07  0.130197    NaN  0.012305        0.179828  \n",
              "2022-04-10  2.787708e+08  0.130308    NaN  0.036257        0.146409  \n",
              "2022-04-11  2.264031e+08  0.130471    NaN -0.099515        0.116294  \n",
              "\n",
              "[65 rows x 11 columns]"
            ]
          },
          "execution_count": 105,
          "metadata": {},
          "output_type": "execute_result"
        }
      ],
      "source": [
        "mergedf"
      ]
    },
    {
      "cell_type": "code",
      "execution_count": 68,
      "id": "1bb37bf9",
      "metadata": {},
      "outputs": [],
      "source": [
        "#mergedf.to_csv('lstm.csv')"
      ]
    },
    {
      "cell_type": "markdown",
      "id": "32c0d041",
      "metadata": {},
      "source": [
        "plotting all the coins respective of the days the data gathered"
      ]
    },
    {
      "cell_type": "code",
      "execution_count": 69,
      "id": "dc247147",
      "metadata": {},
      "outputs": [],
      "source": [
        "import pandas as pd\n",
        "import datetime\n",
        "import numpy as np\n",
        "import matplotlib.pyplot as plt\n",
        "from pandas.plotting import scatter_matrix\n",
        "import yfinance as yf\n",
        "%matplotlib inline"
      ]
    },
    {
      "cell_type": "code",
      "execution_count": 70,
      "id": "55174927",
      "metadata": {},
      "outputs": [
        {
          "name": "stdout",
          "output_type": "stream",
          "text": [
            "[*********************100%***********************]  1 of 1 completed\n",
            "[*********************100%***********************]  1 of 1 completed\n",
            "[*********************100%***********************]  1 of 1 completed\n",
            "[*********************100%***********************]  1 of 1 completed\n",
            "[*********************100%***********************]  1 of 1 completed\n"
          ]
        }
      ],
      "source": [
        "start = \"2022-1-06\"\n",
        "end = '2022-4-12'\n",
        "doge = yf.download('DOGE-USD',start,end)\n",
        "mona = yf.download('MONA-USD',start,end)\n",
        "shib = yf.download('SHIB-USD',start,end)\n",
        "soma = yf.download('SAMO-USD',start,end)\n",
        "elon = yf.download('ELON-USD',start,end)"
      ]
    },
    {
      "cell_type": "markdown",
      "id": "a363988e",
      "metadata": {},
      "source": [
        "Exploratory Analysis"
      ]
    },
    {
      "cell_type": "code",
      "execution_count": 71,
      "id": "2d8ed3c4",
      "metadata": {},
      "outputs": [
        {
          "data": {
            "text/plain": [
              "<matplotlib.legend.Legend at 0x1cf6f62f250>"
            ]
          },
          "execution_count": 71,
          "metadata": {},
          "output_type": "execute_result"
        },
        {
          "data": {
            "image/png": "[encoded data removed]",
            "text/plain": [
              "<Figure size 1080x504 with 1 Axes>"
            ]
          },
          "metadata": {
            "needs_background": "light"
          },
          "output_type": "display_data"
        }
      ],
      "source": [
        "doge['Open'].plot(label = 'DOGECOIN', figsize = (15,7))\n",
        "mona['Open'].plot(label = 'MONA')\n",
        "shib['Open'].plot(label = 'SHIBA')\n",
        "soma['Open'].plot(label = 'SAMO')\n",
        "elon['Open'].plot(label = 'ELON')\n",
        "plt.title('Prices of DOGECOIN, MONA,SHIBA,SAMO & ELON Coins ')\n",
        "plt.legend()"
      ]
    },
    {
      "cell_type": "markdown",
      "id": "b4045ce1",
      "metadata": {},
      "source": [
        "Volume Traded"
      ]
    },
    {
      "cell_type": "code",
      "execution_count": 72,
      "id": "90724992",
      "metadata": {},
      "outputs": [
        {
          "data": {
            "text/plain": [
              "<matplotlib.legend.Legend at 0x1cf6f615c10>"
            ]
          },
          "execution_count": 72,
          "metadata": {},
          "output_type": "execute_result"
        },
        {
          "data": {
            "image/png": "[encoded data removed]",
            "text/plain": [
              "<Figure size 1080x504 with 1 Axes>"
            ]
          },
          "metadata": {
            "needs_background": "light"
          },
          "output_type": "display_data"
        }
      ],
      "source": [
        "doge['Volume'].plot(label = 'DOGECOIN', figsize = (15,7))\n",
        "mona['Volume'].plot(label = \"MONA\")\n",
        "shib['Volume'].plot(label = 'SHIBA')\n",
        "soma['Volume'].plot(label = \"SAMO\")\n",
        "elon['Volume'].plot(label = 'ELON')\n",
        "plt.title('Volume of MEME Coins Traded')\n",
        "plt.legend()"
      ]
    },
    {
      "cell_type": "markdown",
      "id": "d14090ce",
      "metadata": {},
      "source": [
        "Market Capitalisation"
      ]
    },
    {
      "cell_type": "code",
      "execution_count": 73,
      "id": "b860a2f1",
      "metadata": {},
      "outputs": [
        {
          "data": {
            "text/plain": [
              "<matplotlib.legend.Legend at 0x1cf4376dfd0>"
            ]
          },
          "execution_count": 73,
          "metadata": {},
          "output_type": "execute_result"
        },
        {
          "data": {
            "image/png": "[encoded data removed]",
            "text/plain": [
              "<Figure size 1080x504 with 1 Axes>"
            ]
          },
          "metadata": {
            "needs_background": "light"
          },
          "output_type": "display_data"
        }
      ],
      "source": [
        "doge['MarktCap'] = doge['Open'] * doge['Volume']\n",
        "mona['MarktCap'] = mona['Open'] * mona['Volume']\n",
        "shib['MarktCap'] = shib['Open'] * shib['Volume']\n",
        "soma['MarktCap'] = soma['Open'] * soma['Volume']\n",
        "elon['MarktCap'] = elon['Open'] * elon['Volume']\n",
        "doge['MarktCap'].plot(label = 'DOGE', figsize = (15,7))\n",
        "mona['MarktCap'].plot(label = 'MONA')\n",
        "shib['MarktCap'].plot(label = 'SHIBA')\n",
        "soma['MarktCap'].plot(label = 'SAMO')\n",
        "elon['MarktCap'].plot(label = 'ELON')\n",
        "plt.title('Market Cap')\n",
        "plt.legend()"
      ]
    },
    {
      "cell_type": "markdown",
      "id": "1c3126d0",
      "metadata": {},
      "source": [
        "Moving Average DOGECOIN"
      ]
    },
    {
      "cell_type": "code",
      "execution_count": 74,
      "id": "9ef1b38b",
      "metadata": {},
      "outputs": [
        {
          "data": {
            "text/plain": [
              "<matplotlib.legend.Legend at 0x1cf71d54820>"
            ]
          },
          "execution_count": 74,
          "metadata": {},
          "output_type": "execute_result"
        },
        {
          "data": {
            "image/png": "[encoded data removed]",
            "text/plain": [
              "<Figure size 1080x504 with 1 Axes>"
            ]
          },
          "metadata": {
            "needs_background": "light"
          },
          "output_type": "display_data"
        }
      ],
      "source": [
        "doge['MA50'] = doge['Open'].rolling(50).mean()\n",
        "doge['MA200'] = doge['Open'].rolling(200).mean()\n",
        "doge['Open'].plot(figsize = (15,7))\n",
        "doge['MA50'].plot()\n",
        "doge['MA200'].plot()\n",
        "plt.legend()"
      ]
    },
    {
      "cell_type": "markdown",
      "id": "7508ab16",
      "metadata": {},
      "source": [
        "Percentage increase in Coins value"
      ]
    },
    {
      "cell_type": "code",
      "execution_count": 75,
      "id": "a2cb1c98",
      "metadata": {},
      "outputs": [
        {
          "data": {
            "text/plain": [
              "<matplotlib.legend.Legend at 0x1cf717fe1f0>"
            ]
          },
          "execution_count": 75,
          "metadata": {},
          "output_type": "execute_result"
        },
        {
          "data": {
            "image/png": "[encoded data removed]",
            "text/plain": [
              "<Figure size 1080x720 with 1 Axes>"
            ]
          },
          "metadata": {
            "needs_background": "light"
          },
          "output_type": "display_data"
        }
      ],
      "source": [
        "doge['returns'] = (doge['Close']/doge['Close'].shift(1)) -1\n",
        "mona['returns'] = (mona['Close']/mona['Close'].shift(1))-1\n",
        "soma['returns'] = (soma['Close']/soma['Close'].shift(1)) - 1\n",
        "shib['returns'] = (shib['Close']/shib['Close'].shift(1))-1\n",
        "elon['returns'] = (elon['Close']/elon['Close'].shift(1)) - 1\n",
        "doge['returns'].hist(bins = 100, label = 'DOGECOIN', alpha = 0.5, figsize = (15,10))\n",
        "mona['returns'].hist(bins = 100, label = 'MONA', alpha = 0.5)\n",
        "soma['returns'].hist(bins = 100, label = 'SAMO', alpha = 0.5)\n",
        "shib['returns'].hist(bins = 100, label = 'SHIBA', alpha = 0.5)\n",
        "elon['returns'].hist(bins = 100, label = 'ELON', alpha = 0.5)\n",
        "plt.title('Percentage increase')\n",
        "plt.legend()"
      ]
    },
    {
      "cell_type": "markdown",
      "id": "30a67d2a",
      "metadata": {},
      "source": [
        "LSTM testing "
      ]
    },
    {
      "cell_type": "code",
      "execution_count": 76,
      "id": "817a0f74",
      "metadata": {},
      "outputs": [],
      "source": [
        "import numpy as np\n",
        "import matplotlib.pyplot as plt\n",
        "import pandas as pd\n",
        "from sklearn.preprocessing import MinMaxScaler\n",
        "import pandas_datareader.data as web"
      ]
    },
    {
      "cell_type": "code",
      "execution_count": 77,
      "id": "4f37f7fb",
      "metadata": {},
      "outputs": [],
      "source": [
        "Doge = web.DataReader('DOGE-USD','yahoo',start ='2019-01-01',end = '2022-04-08')"
      ]
    },
    {
      "cell_type": "code",
      "execution_count": 78,
      "id": "1c247281",
      "metadata": {},
      "outputs": [
        {
          "data": {
            "text/html": [
              "<div>\n",
              "<style scoped>\n",
              "    .dataframe tbody tr th:only-of-type {\n",
              "        vertical-align: middle;\n",
              "    }\n",
              "\n",
              "    .dataframe tbody tr th {\n",
              "        vertical-align: top;\n",
              "    }\n",
              "\n",
              "    .dataframe thead th {\n",
              "        text-align: right;\n",
              "    }\n",
              "</style>\n",
              "<table border=\"1\" class=\"dataframe\">\n",
              "  <thead>\n",
              "    <tr style=\"text-align: right;\">\n",
              "      <th></th>\n",
              "      <th>High</th>\n",
              "      <th>Low</th>\n",
              "      <th>Open</th>\n",
              "      <th>Close</th>\n",
              "      <th>Volume</th>\n",
              "      <th>Adj Close</th>\n",
              "    </tr>\n",
              "    <tr>\n",
              "      <th>Date</th>\n",
              "      <th></th>\n",
              "      <th></th>\n",
              "      <th></th>\n",
              "      <th></th>\n",
              "      <th></th>\n",
              "      <th></th>\n",
              "    </tr>\n",
              "  </thead>\n",
              "  <tbody>\n",
              "    <tr>\n",
              "      <th>2022-04-05</th>\n",
              "      <td>0.178045</td>\n",
              "      <td>0.147727</td>\n",
              "      <td>0.148614</td>\n",
              "      <td>0.172907</td>\n",
              "      <td>5230288678</td>\n",
              "      <td>0.172907</td>\n",
              "    </tr>\n",
              "    <tr>\n",
              "      <th>2022-04-06</th>\n",
              "      <td>0.173497</td>\n",
              "      <td>0.143291</td>\n",
              "      <td>0.172485</td>\n",
              "      <td>0.143417</td>\n",
              "      <td>3729047979</td>\n",
              "      <td>0.143417</td>\n",
              "    </tr>\n",
              "    <tr>\n",
              "      <th>2022-04-07</th>\n",
              "      <td>0.148028</td>\n",
              "      <td>0.141312</td>\n",
              "      <td>0.143432</td>\n",
              "      <td>0.146102</td>\n",
              "      <td>1420790611</td>\n",
              "      <td>0.146102</td>\n",
              "    </tr>\n",
              "    <tr>\n",
              "      <th>2022-04-08</th>\n",
              "      <td>0.152716</td>\n",
              "      <td>0.141608</td>\n",
              "      <td>0.146106</td>\n",
              "      <td>0.142549</td>\n",
              "      <td>1683800631</td>\n",
              "      <td>0.142549</td>\n",
              "    </tr>\n",
              "    <tr>\n",
              "      <th>2022-04-09</th>\n",
              "      <td>0.144462</td>\n",
              "      <td>0.141416</td>\n",
              "      <td>0.142544</td>\n",
              "      <td>0.144303</td>\n",
              "      <td>523997409</td>\n",
              "      <td>0.144303</td>\n",
              "    </tr>\n",
              "  </tbody>\n",
              "</table>\n",
              "</div>"
            ],
            "text/plain": [
              "                High       Low      Open     Close      Volume  Adj Close\n",
              "Date                                                                     \n",
              "2022-04-05  0.178045  0.147727  0.148614  0.172907  5230288678   0.172907\n",
              "2022-04-06  0.173497  0.143291  0.172485  0.143417  3729047979   0.143417\n",
              "2022-04-07  0.148028  0.141312  0.143432  0.146102  1420790611   0.146102\n",
              "2022-04-08  0.152716  0.141608  0.146106  0.142549  1683800631   0.142549\n",
              "2022-04-09  0.144462  0.141416  0.142544  0.144303   523997409   0.144303"
            ]
          },
          "execution_count": 78,
          "metadata": {},
          "output_type": "execute_result"
        }
      ],
      "source": [
        "Doge.tail()"
      ]
    },
    {
      "cell_type": "code",
      "execution_count": 79,
      "id": "426eaba7",
      "metadata": {},
      "outputs": [
        {
          "data": {
            "text/plain": [
              "(1195, 6)"
            ]
          },
          "execution_count": 79,
          "metadata": {},
          "output_type": "execute_result"
        }
      ],
      "source": [
        "Doge.shape"
      ]
    },
    {
      "cell_type": "code",
      "execution_count": 80,
      "id": "89739540",
      "metadata": {},
      "outputs": [],
      "source": [
        "#data = Doge.to_csv('LSTMdoge.csv')\n"
      ]
    },
    {
      "cell_type": "code",
      "execution_count": 81,
      "id": "7e88355c",
      "metadata": {},
      "outputs": [],
      "source": [
        "data = pd.read_csv('LSTMdoge.csv',date_parser = True)\n"
      ]
    },
    {
      "cell_type": "code",
      "execution_count": 82,
      "id": "f3d88415",
      "metadata": {},
      "outputs": [
        {
          "data": {
            "text/html": [
              "<div>\n",
              "<style scoped>\n",
              "    .dataframe tbody tr th:only-of-type {\n",
              "        vertical-align: middle;\n",
              "    }\n",
              "\n",
              "    .dataframe tbody tr th {\n",
              "        vertical-align: top;\n",
              "    }\n",
              "\n",
              "    .dataframe thead th {\n",
              "        text-align: right;\n",
              "    }\n",
              "</style>\n",
              "<table border=\"1\" class=\"dataframe\">\n",
              "  <thead>\n",
              "    <tr style=\"text-align: right;\">\n",
              "      <th></th>\n",
              "      <th>Date</th>\n",
              "      <th>High</th>\n",
              "      <th>Low</th>\n",
              "      <th>Open</th>\n",
              "      <th>Close</th>\n",
              "      <th>Volume</th>\n",
              "      <th>Adj Close</th>\n",
              "    </tr>\n",
              "  </thead>\n",
              "  <tbody>\n",
              "    <tr>\n",
              "      <th>1187</th>\n",
              "      <td>2022-04-02</td>\n",
              "      <td>0.144069</td>\n",
              "      <td>0.138882</td>\n",
              "      <td>0.141310</td>\n",
              "      <td>0.138913</td>\n",
              "      <td>682408266</td>\n",
              "      <td>0.138913</td>\n",
              "    </tr>\n",
              "    <tr>\n",
              "      <th>1188</th>\n",
              "      <td>2022-04-03</td>\n",
              "      <td>0.148558</td>\n",
              "      <td>0.137088</td>\n",
              "      <td>0.138903</td>\n",
              "      <td>0.146453</td>\n",
              "      <td>1047399132</td>\n",
              "      <td>0.146453</td>\n",
              "    </tr>\n",
              "    <tr>\n",
              "      <th>1189</th>\n",
              "      <td>2022-04-04</td>\n",
              "      <td>0.155312</td>\n",
              "      <td>0.142008</td>\n",
              "      <td>0.146413</td>\n",
              "      <td>0.148591</td>\n",
              "      <td>2253509569</td>\n",
              "      <td>0.148591</td>\n",
              "    </tr>\n",
              "    <tr>\n",
              "      <th>1190</th>\n",
              "      <td>2022-04-05</td>\n",
              "      <td>0.178045</td>\n",
              "      <td>0.147727</td>\n",
              "      <td>0.148614</td>\n",
              "      <td>0.172907</td>\n",
              "      <td>5230288678</td>\n",
              "      <td>0.172907</td>\n",
              "    </tr>\n",
              "    <tr>\n",
              "      <th>1191</th>\n",
              "      <td>2022-04-06</td>\n",
              "      <td>0.172790</td>\n",
              "      <td>0.157570</td>\n",
              "      <td>0.172020</td>\n",
              "      <td>0.157570</td>\n",
              "      <td>6170317824</td>\n",
              "      <td>0.157570</td>\n",
              "    </tr>\n",
              "  </tbody>\n",
              "</table>\n",
              "</div>"
            ],
            "text/plain": [
              "            Date      High       Low      Open     Close      Volume  \\\n",
              "1187  2022-04-02  0.144069  0.138882  0.141310  0.138913   682408266   \n",
              "1188  2022-04-03  0.148558  0.137088  0.138903  0.146453  1047399132   \n",
              "1189  2022-04-04  0.155312  0.142008  0.146413  0.148591  2253509569   \n",
              "1190  2022-04-05  0.178045  0.147727  0.148614  0.172907  5230288678   \n",
              "1191  2022-04-06  0.172790  0.157570  0.172020  0.157570  6170317824   \n",
              "\n",
              "      Adj Close  \n",
              "1187   0.138913  \n",
              "1188   0.146453  \n",
              "1189   0.148591  \n",
              "1190   0.172907  \n",
              "1191   0.157570  "
            ]
          },
          "execution_count": 82,
          "metadata": {},
          "output_type": "execute_result"
        }
      ],
      "source": [
        "data.tail()"
      ]
    },
    {
      "cell_type": "code",
      "execution_count": 83,
      "id": "1a142ad3",
      "metadata": {},
      "outputs": [
        {
          "data": {
            "text/plain": [
              "(1192, 7)"
            ]
          },
          "execution_count": 83,
          "metadata": {},
          "output_type": "execute_result"
        }
      ],
      "source": [
        "data.shape\n"
      ]
    },
    {
      "cell_type": "code",
      "execution_count": 84,
      "id": "b207d4ed",
      "metadata": {},
      "outputs": [],
      "source": [
        "data_training = data[data['Date']<'2022-01-01'].copy()\n",
        "data_test = data[data['Date']>='2022-01-01'].copy()"
      ]
    },
    {
      "cell_type": "code",
      "execution_count": 85,
      "id": "a973cb7d",
      "metadata": {},
      "outputs": [],
      "source": [
        "data_training = data_training.drop(['Date', 'Adj Close'], axis = 1)"
      ]
    },
    {
      "cell_type": "code",
      "execution_count": 86,
      "id": "84511ef9",
      "metadata": {},
      "outputs": [
        {
          "data": {
            "text/plain": [
              "array([[1.05984740e-03, 1.77123551e-03, 1.17448021e-03, 1.25139055e-03,\n",
              "        7.99973571e-05],\n",
              "       [1.14952685e-03, 1.85361841e-03, 1.23568154e-03, 1.27334460e-03,\n",
              "        8.93728415e-05],\n",
              "       [1.08974044e-03, 1.82725602e-03, 1.25899612e-03, 1.20455487e-03,\n",
              "        8.36644198e-05],\n",
              "       ...,\n",
              "       [2.38774111e-01, 2.72709292e-01, 2.51442241e-01, 2.43293720e-01,\n",
              "        1.16978179e-02],\n",
              "       [2.36643540e-01, 2.70437170e-01, 2.42760405e-01, 2.48486619e-01,\n",
              "        8.46445733e-03],\n",
              "       [2.35995401e-01, 2.73610573e-01, 2.47394206e-01, 2.47290844e-01,\n",
              "        9.11547547e-03]])"
            ]
          },
          "execution_count": 86,
          "metadata": {},
          "output_type": "execute_result"
        }
      ],
      "source": [
        "scaler = MinMaxScaler()\n",
        "data_training = scaler.fit_transform(data_training)\n",
        "data_training"
      ]
    },
    {
      "cell_type": "code",
      "execution_count": 87,
      "id": "8010327a",
      "metadata": {},
      "outputs": [],
      "source": [
        "X_train = []\n",
        "y_train = []\n",
        "\n",
        "for i in range(60, data_training.shape[0]):\n",
        "    X_train.append(data_training[i-60:i])\n",
        "    y_train.append(data_training[i, 0])\n",
        "    \n",
        "X_train, y_train = np.array(X_train), np.array(y_train)"
      ]
    },
    {
      "cell_type": "code",
      "execution_count": 88,
      "id": "a6836c2d",
      "metadata": {},
      "outputs": [
        {
          "data": {
            "text/plain": [
              "(1096, 5)"
            ]
          },
          "execution_count": 88,
          "metadata": {},
          "output_type": "execute_result"
        }
      ],
      "source": [
        "data_training.shape"
      ]
    },
    {
      "cell_type": "code",
      "execution_count": 89,
      "id": "aefea597",
      "metadata": {},
      "outputs": [
        {
          "data": {
            "text/plain": [
              "(1036, 60, 5)"
            ]
          },
          "execution_count": 89,
          "metadata": {},
          "output_type": "execute_result"
        }
      ],
      "source": [
        "X_train.shape"
      ]
    },
    {
      "cell_type": "code",
      "execution_count": 90,
      "id": "65e5c933",
      "metadata": {},
      "outputs": [],
      "source": [
        "from tensorflow.keras import Sequential\n",
        "from tensorflow.keras.layers import Dense, LSTM, Dropout"
      ]
    },
    {
      "cell_type": "code",
      "execution_count": 91,
      "id": "fc396c0b",
      "metadata": {},
      "outputs": [],
      "source": [
        "regressor = Sequential()\n",
        "\n",
        "regressor.add(LSTM(units = 60, activation = 'relu', return_sequences = True, input_shape = (X_train.shape[1], 5)))\n",
        "regressor.add(Dropout(0.2))\n",
        "\n",
        "regressor.add(LSTM(units = 60, activation = 'relu', return_sequences = True))\n",
        "regressor.add(Dropout(0.2))\n",
        "\n",
        "regressor.add(LSTM(units = 80, activation = 'relu', return_sequences = True))\n",
        "regressor.add(Dropout(0.2))\n",
        "\n",
        "regressor.add(LSTM(units = 120, activation = 'relu'))\n",
        "regressor.add(Dropout(0.2))\n",
        "\n",
        "regressor.add(Dense(units = 1))"
      ]
    },
    {
      "cell_type": "code",
      "execution_count": 92,
      "id": "b7cdfed9",
      "metadata": {},
      "outputs": [
        {
          "name": "stdout",
          "output_type": "stream",
          "text": [
            "Model: \"sequential\"\n",
            "_________________________________________________________________\n",
            " Layer (type)                Output Shape              Param #   \n",
            "=================================================================\n",
            " lstm (LSTM)                 (None, 60, 60)            15840     \n",
            "                                                                 \n",
            " dropout (Dropout)           (None, 60, 60)            0         \n",
            "                                                                 \n",
            " lstm_1 (LSTM)               (None, 60, 60)            29040     \n",
            "                                                                 \n",
            " dropout_1 (Dropout)         (None, 60, 60)            0         \n",
            "                                                                 \n",
            " lstm_2 (LSTM)               (None, 60, 80)            45120     \n",
            "                                                                 \n",
            " dropout_2 (Dropout)         (None, 60, 80)            0         \n",
            "                                                                 \n",
            " lstm_3 (LSTM)               (None, 120)               96480     \n",
            "                                                                 \n",
            " dropout_3 (Dropout)         (None, 120)               0         \n",
            "                                                                 \n",
            " dense (Dense)               (None, 1)                 121       \n",
            "                                                                 \n",
            "=================================================================\n",
            "Total params: 186,601\n",
            "Trainable params: 186,601\n",
            "Non-trainable params: 0\n",
            "_________________________________________________________________\n"
          ]
        }
      ],
      "source": [
        "regressor.summary()"
      ]
    },
    {
      "cell_type": "code",
      "execution_count": 93,
      "id": "9a80f29f",
      "metadata": {},
      "outputs": [
        {
          "name": "stdout",
          "output_type": "stream",
          "text": [
            "33/33 [==============================] - 9s 152ms/step - loss: 0.0139\n"
          ]
        },
        {
          "data": {
            "text/plain": [
              "<keras.callbacks.History at 0x1cf72e09e80>"
            ]
          },
          "execution_count": 93,
          "metadata": {},
          "output_type": "execute_result"
        }
      ],
      "source": [
        "regressor.compile(optimizer='adam', loss = 'mean_squared_error')\n",
        "regressor.fit(X_train, y_train, epochs=1, batch_size=32)"
      ]
    },
    {
      "cell_type": "code",
      "execution_count": 94,
      "id": "97750913",
      "metadata": {},
      "outputs": [
        {
          "data": {
            "text/html": [
              "<div>\n",
              "<style scoped>\n",
              "    .dataframe tbody tr th:only-of-type {\n",
              "        vertical-align: middle;\n",
              "    }\n",
              "\n",
              "    .dataframe tbody tr th {\n",
              "        vertical-align: top;\n",
              "    }\n",
              "\n",
              "    .dataframe thead th {\n",
              "        text-align: right;\n",
              "    }\n",
              "</style>\n",
              "<table border=\"1\" class=\"dataframe\">\n",
              "  <thead>\n",
              "    <tr style=\"text-align: right;\">\n",
              "      <th></th>\n",
              "      <th>Date</th>\n",
              "      <th>High</th>\n",
              "      <th>Low</th>\n",
              "      <th>Open</th>\n",
              "      <th>Close</th>\n",
              "      <th>Volume</th>\n",
              "      <th>Adj Close</th>\n",
              "    </tr>\n",
              "  </thead>\n",
              "  <tbody>\n",
              "    <tr>\n",
              "      <th>1096</th>\n",
              "      <td>2022-01-01</td>\n",
              "      <td>0.173423</td>\n",
              "      <td>0.170353</td>\n",
              "      <td>0.170510</td>\n",
              "      <td>0.173035</td>\n",
              "      <td>371336089</td>\n",
              "      <td>0.173035</td>\n",
              "    </tr>\n",
              "    <tr>\n",
              "      <th>1097</th>\n",
              "      <td>2022-01-02</td>\n",
              "      <td>0.175989</td>\n",
              "      <td>0.171201</td>\n",
              "      <td>0.173027</td>\n",
              "      <td>0.174403</td>\n",
              "      <td>391041933</td>\n",
              "      <td>0.174403</td>\n",
              "    </tr>\n",
              "    <tr>\n",
              "      <th>1098</th>\n",
              "      <td>2022-01-03</td>\n",
              "      <td>0.174406</td>\n",
              "      <td>0.168271</td>\n",
              "      <td>0.174406</td>\n",
              "      <td>0.170088</td>\n",
              "      <td>505900382</td>\n",
              "      <td>0.170088</td>\n",
              "    </tr>\n",
              "    <tr>\n",
              "      <th>1099</th>\n",
              "      <td>2022-01-04</td>\n",
              "      <td>0.172339</td>\n",
              "      <td>0.168128</td>\n",
              "      <td>0.170151</td>\n",
              "      <td>0.168803</td>\n",
              "      <td>541922892</td>\n",
              "      <td>0.168803</td>\n",
              "    </tr>\n",
              "    <tr>\n",
              "      <th>1100</th>\n",
              "      <td>2022-01-05</td>\n",
              "      <td>0.170747</td>\n",
              "      <td>0.151898</td>\n",
              "      <td>0.168835</td>\n",
              "      <td>0.159420</td>\n",
              "      <td>994086848</td>\n",
              "      <td>0.159420</td>\n",
              "    </tr>\n",
              "  </tbody>\n",
              "</table>\n",
              "</div>"
            ],
            "text/plain": [
              "            Date      High       Low      Open     Close     Volume  Adj Close\n",
              "1096  2022-01-01  0.173423  0.170353  0.170510  0.173035  371336089   0.173035\n",
              "1097  2022-01-02  0.175989  0.171201  0.173027  0.174403  391041933   0.174403\n",
              "1098  2022-01-03  0.174406  0.168271  0.174406  0.170088  505900382   0.170088\n",
              "1099  2022-01-04  0.172339  0.168128  0.170151  0.168803  541922892   0.168803\n",
              "1100  2022-01-05  0.170747  0.151898  0.168835  0.159420  994086848   0.159420"
            ]
          },
          "execution_count": 94,
          "metadata": {},
          "output_type": "execute_result"
        }
      ],
      "source": [
        "data_test.head()"
      ]
    },
    {
      "cell_type": "code",
      "execution_count": 95,
      "id": "7a20c496",
      "metadata": {},
      "outputs": [],
      "source": [
        "past_60_days = data_test.tail(60)"
      ]
    },
    {
      "cell_type": "code",
      "execution_count": 96,
      "id": "96a04216",
      "metadata": {},
      "outputs": [
        {
          "data": {
            "text/html": [
              "<div>\n",
              "<style scoped>\n",
              "    .dataframe tbody tr th:only-of-type {\n",
              "        vertical-align: middle;\n",
              "    }\n",
              "\n",
              "    .dataframe tbody tr th {\n",
              "        vertical-align: top;\n",
              "    }\n",
              "\n",
              "    .dataframe thead th {\n",
              "        text-align: right;\n",
              "    }\n",
              "</style>\n",
              "<table border=\"1\" class=\"dataframe\">\n",
              "  <thead>\n",
              "    <tr style=\"text-align: right;\">\n",
              "      <th></th>\n",
              "      <th>High</th>\n",
              "      <th>Low</th>\n",
              "      <th>Open</th>\n",
              "      <th>Close</th>\n",
              "      <th>Volume</th>\n",
              "    </tr>\n",
              "  </thead>\n",
              "  <tbody>\n",
              "    <tr>\n",
              "      <th>0</th>\n",
              "      <td>0.154775</td>\n",
              "      <td>0.145258</td>\n",
              "      <td>0.147140</td>\n",
              "      <td>0.153770</td>\n",
              "      <td>757004142</td>\n",
              "    </tr>\n",
              "    <tr>\n",
              "      <th>1</th>\n",
              "      <td>0.171586</td>\n",
              "      <td>0.151741</td>\n",
              "      <td>0.153803</td>\n",
              "      <td>0.165578</td>\n",
              "      <td>1791358822</td>\n",
              "    </tr>\n",
              "    <tr>\n",
              "      <th>2</th>\n",
              "      <td>0.169145</td>\n",
              "      <td>0.153709</td>\n",
              "      <td>0.165606</td>\n",
              "      <td>0.158405</td>\n",
              "      <td>1190116000</td>\n",
              "    </tr>\n",
              "    <tr>\n",
              "      <th>3</th>\n",
              "      <td>0.160704</td>\n",
              "      <td>0.155035</td>\n",
              "      <td>0.158357</td>\n",
              "      <td>0.159123</td>\n",
              "      <td>778670798</td>\n",
              "    </tr>\n",
              "    <tr>\n",
              "      <th>4</th>\n",
              "      <td>0.160437</td>\n",
              "      <td>0.151497</td>\n",
              "      <td>0.159145</td>\n",
              "      <td>0.151889</td>\n",
              "      <td>1053630584</td>\n",
              "    </tr>\n",
              "  </tbody>\n",
              "</table>\n",
              "</div>"
            ],
            "text/plain": [
              "       High       Low      Open     Close      Volume\n",
              "0  0.154775  0.145258  0.147140  0.153770   757004142\n",
              "1  0.171586  0.151741  0.153803  0.165578  1791358822\n",
              "2  0.169145  0.153709  0.165606  0.158405  1190116000\n",
              "3  0.160704  0.155035  0.158357  0.159123   778670798\n",
              "4  0.160437  0.151497  0.159145  0.151889  1053630584"
            ]
          },
          "execution_count": 96,
          "metadata": {},
          "output_type": "execute_result"
        }
      ],
      "source": [
        "df = past_60_days.append(data_test, ignore_index = True)\n",
        "df = df.drop(['Date', 'Adj Close'], axis = 1)\n",
        "df.head()"
      ]
    },
    {
      "cell_type": "code",
      "execution_count": 97,
      "id": "69b99bd9",
      "metadata": {},
      "outputs": [
        {
          "data": {
            "text/plain": [
              "array([[0.20811462, 0.23728128, 0.21216417, 0.22281043, 0.0107378 ],\n",
              "       [0.23095706, 0.24796307, 0.22187332, 0.24009278, 0.02564229],\n",
              "       [0.22764028, 0.25120566, 0.23907232, 0.22959429, 0.01697871],\n",
              "       [0.21617083, 0.25339048, 0.22850926, 0.23064516, 0.01105   ],\n",
              "       [0.21580803, 0.24756106, 0.22965752, 0.22005736, 0.01501203],\n",
              "       [0.20715534, 0.23413592, 0.21909303, 0.2097506 , 0.01102205],\n",
              "       [0.19756778, 0.23138267, 0.208836  , 0.20910369, 0.00851435],\n",
              "       [0.21161891, 0.23525962, 0.20814093, 0.21575287, 0.02261208],\n",
              "       [0.20180582, 0.2346302 , 0.21468361, 0.21144252, 0.01277009],\n",
              "       [0.20461441, 0.23719066, 0.21049718, 0.21987002, 0.00955561],\n",
              "       [0.20410486, 0.2397742 , 0.21892399, 0.21596803, 0.00711504],\n",
              "       [0.20147564, 0.22543955, 0.21494737, 0.20053713, 0.01022451],\n",
              "       [0.19088802, 0.223609  , 0.19971119, 0.20085328, 0.00795408],\n",
              "       [0.19606362, 0.22655996, 0.1999589 , 0.20442157, 0.00927925],\n",
              "       [0.18966512, 0.22178338, 0.2035042 , 0.19807241, 0.00689241],\n",
              "       [0.18986622, 0.20925128, 0.1971524 , 0.18581025, 0.01299676],\n",
              "       [0.17675537, 0.20450438, 0.18498502, 0.19029329, 0.01008884],\n",
              "       [0.18170268, 0.20859222, 0.18946289, 0.18486769, 0.00829495],\n",
              "       [0.17153086, 0.17845485, 0.18401308, 0.17896493, 0.02931841],\n",
              "       [0.17197926, 0.19728432, 0.17821645, 0.1844725 , 0.01143171],\n",
              "       [0.17454735, 0.20587853, 0.18364442, 0.18457642, 0.00754714],\n",
              "       [0.17205263, 0.19904732, 0.18374787, 0.17793747, 0.00837184],\n",
              "       [0.18053685, 0.1988842 , 0.17716   , 0.19263948, 0.01086391],\n",
              "       [0.18495424, 0.21290251, 0.19181332, 0.19378402, 0.01246118],\n",
              "       [0.18289434, 0.21417119, 0.19296449, 0.19239652, 0.01005381],\n",
              "       [0.17940907, 0.20853291, 0.19155686, 0.1874495 , 0.00729667],\n",
              "       [0.17425522, 0.19820867, 0.18665056, 0.17717638, 0.00920552],\n",
              "       [0.16816653, 0.1982548 , 0.17642559, 0.18069638, 0.00464386],\n",
              "       [0.16848721, 0.19629737, 0.17993883, 0.17450529, 0.00560017],\n",
              "       [0.16434564, 0.18745108, 0.17373711, 0.169147  , 0.00722205],\n",
              "       [0.16048807, 0.18880711, 0.16839948, 0.16903576, 0.00691079],\n",
              "       [0.16593677, 0.19033613, 0.16831351, 0.17570838, 0.00731056],\n",
              "       [0.16305344, 0.18830293, 0.17490722, 0.168825  , 0.00723107],\n",
              "       [0.15854366, 0.18671787, 0.16808911, 0.16694719, 0.00543113],\n",
              "       [0.1571115 , 0.18764385, 0.16621664, 0.16626514, 0.00321999],\n",
              "       [0.15574186, 0.18031835, 0.16544725, 0.16110151, 0.00521071],\n",
              "       [0.15945947, 0.1805342 , 0.1603865 , 0.16467273, 0.01167568],\n",
              "       [0.15299984, 0.18073192, 0.16393617, 0.16282272, 0.00560242],\n",
              "       [0.15666175, 0.18308314, 0.1620943 , 0.16885867, 0.00757012],\n",
              "       [0.15911027, 0.18953703, 0.16810951, 0.16826444, 0.00577856],\n",
              "       [0.16001386, 0.18671458, 0.16750187, 0.17236841, 0.00575009],\n",
              "       [0.16707679, 0.19324261, 0.17156446, 0.1786078 , 0.0088801 ],\n",
              "       [0.16618815, 0.19235452, 0.17783176, 0.17214594, 0.00599864],\n",
              "       [0.16267298, 0.19287354, 0.17137211, 0.17241671, 0.00616254],\n",
              "       [0.16813256, 0.19404008, 0.17164461, 0.1770154 , 0.00862686],\n",
              "       [0.17541969, 0.19790714, 0.17624053, 0.18762075, 0.01422372],\n",
              "       [0.18886073, 0.20959564, 0.18678316, 0.19760698, 0.02890701],\n",
              "       [0.18433599, 0.21013444, 0.19680996, 0.18950296, 0.01254593],\n",
              "       [0.18327614, 0.21194027, 0.18865999, 0.1966088 , 0.00862534],\n",
              "       [0.19463962, 0.22153789, 0.19578558, 0.20958228, 0.02065173],\n",
              "       [0.20534544, 0.23266618, 0.2086451 , 0.20654527, 0.02111075],\n",
              "       [0.19966846, 0.23074336, 0.20548595, 0.20919882, 0.01367834],\n",
              "       [0.19482849, 0.22842017, 0.20825313, 0.20735465, 0.01257214],\n",
              "       [0.19784905, 0.2239583 , 0.20639961, 0.19947455, 0.01503373],\n",
              "       [0.19129159, 0.21742863, 0.19873197, 0.2045811 , 0.01247451],\n",
              "       [0.19356754, 0.2267758 , 0.20366887, 0.20106551, 0.00966291],\n",
              "       [0.1996671 , 0.2238199 , 0.20016146, 0.21210115, 0.01492223],\n",
              "       [0.20884429, 0.2319264 , 0.21110481, 0.21523036, 0.03230163],\n",
              "       [0.23973341, 0.24134936, 0.21431205, 0.25081961, 0.0751954 ],\n",
              "       [0.23259265, 0.25756691, 0.24841824, 0.22837182, 0.08874071],\n",
              "       [0.23345314, 0.27862933, 0.24621827, 0.25100695, 0.00518053],\n",
              "       [0.23693976, 0.28002657, 0.24988597, 0.25300918, 0.00546448],\n",
              "       [0.23478882, 0.27519892, 0.25189542, 0.24669368, 0.00711953],\n",
              "       [0.23198022, 0.27496329, 0.24569514, 0.24481295, 0.0076386 ],\n",
              "       [0.22981703, 0.24822175, 0.24377751, 0.23107985, 0.01415403],\n",
              "       [0.21753232, 0.25356676, 0.23008156, 0.23224048, 0.01013752],\n",
              "       [0.21561508, 0.24723481, 0.23120213, 0.22464433, 0.01379809],\n",
              "       [0.21212303, 0.24125381, 0.22366271, 0.22015249, 0.0082512 ],\n",
              "       [0.20671101, 0.24444697, 0.21918629, 0.21885136, 0.00572017],\n",
              "       [0.20452745, 0.22835428, 0.21789522, 0.20757274, 0.01083407],\n",
              "       [0.22149315, 0.23297925, 0.20664296, 0.22226743, 0.02329483],\n",
              "       [0.21745894, 0.24854636, 0.22137058, 0.23434663, 0.01274078],\n",
              "       [0.23531331, 0.26414475, 0.2331795 , 0.24955505, 0.03299776],\n",
              "       [0.27395697, 0.28016168, 0.24846668, 0.2663954 , 0.08317415],\n",
              "       [0.26086921, 0.29893347, 0.26535676, 0.26866986, 0.02689481],\n",
              "       [0.24931008, 0.28682481, 0.26746821, 0.25706778, 0.01571981],\n",
              "       [0.23949834, 0.27292513, 0.2559478 , 0.24824074, 0.01559919],\n",
              "       [0.23395179, 0.26579735, 0.2470576 , 0.23995666, 0.01394663],\n",
              "       [0.22696361, 0.26177213, 0.23889598, 0.23537703, 0.01330271],\n",
              "       [0.22723399, 0.25362279, 0.23432193, 0.22490925, 0.0065917 ],\n",
              "       [0.21134988, 0.2310828 , 0.22400079, 0.20652039, 0.01658887],\n",
              "       [0.19486925, 0.20030448, 0.20562294, 0.19225308, 0.02423255],\n",
              "       [0.19221283, 0.21678603, 0.19150149, 0.20538317, 0.01432908],\n",
              "       [0.19068964, 0.20756079, 0.20450092, 0.19943357, 0.02067844],\n",
              "       [0.1978708 , 0.21747145, 0.19853088, 0.20711902, 0.0192475 ],\n",
              "       [0.20516336, 0.23216365, 0.20615188, 0.20820208, 0.01788639],\n",
              "       [0.19484614, 0.22358759, 0.20723311, 0.20448159, 0.00860093],\n",
              "       [0.19131741, 0.22594869, 0.20357268, 0.20508019, 0.00713058],\n",
              "       [0.19345205, 0.23105643, 0.20416284, 0.20712927, 0.00555914],\n",
              "       [0.19281478, 0.2265649 , 0.20621455, 0.20188219, 0.00507449],\n",
              "       [0.19111494, 0.22343269, 0.20098621, 0.20529827, 0.0057709 ],\n",
              "       [0.19364906, 0.2304715 , 0.20439016, 0.20650722, 0.00572948],\n",
              "       [0.19517634, 0.22353979, 0.20558651, 0.19860956, 0.00679235],\n",
              "       [0.18633613, 0.22131051, 0.19769884, 0.19905742, 0.0053559 ],\n",
              "       [0.19835451, 0.22408683, 0.19815055, 0.21363796, 0.00819794],\n",
              "       [0.20181669, 0.23753174, 0.21273684, 0.21310812, 0.00828827],\n",
              "       [0.20811462, 0.23728128, 0.21216417, 0.22281043, 0.0107378 ],\n",
              "       [0.23095706, 0.24796307, 0.22187332, 0.24009278, 0.02564229],\n",
              "       [0.22764028, 0.25120566, 0.23907232, 0.22959429, 0.01697871],\n",
              "       [0.21617083, 0.25339048, 0.22850926, 0.23064516, 0.01105   ],\n",
              "       [0.21580803, 0.24756106, 0.22965752, 0.22005736, 0.01501203],\n",
              "       [0.20715534, 0.23413592, 0.21909303, 0.2097506 , 0.01102205],\n",
              "       [0.19756778, 0.23138267, 0.208836  , 0.20910369, 0.00851435],\n",
              "       [0.21161891, 0.23525962, 0.20814093, 0.21575287, 0.02261208],\n",
              "       [0.20180582, 0.2346302 , 0.21468361, 0.21144252, 0.01277009],\n",
              "       [0.20461441, 0.23719066, 0.21049718, 0.21987002, 0.00955561],\n",
              "       [0.20410486, 0.2397742 , 0.21892399, 0.21596803, 0.00711504],\n",
              "       [0.20147564, 0.22543955, 0.21494737, 0.20053713, 0.01022451],\n",
              "       [0.19088802, 0.223609  , 0.19971119, 0.20085328, 0.00795408],\n",
              "       [0.19606362, 0.22655996, 0.1999589 , 0.20442157, 0.00927925],\n",
              "       [0.18966512, 0.22178338, 0.2035042 , 0.19807241, 0.00689241],\n",
              "       [0.18986622, 0.20925128, 0.1971524 , 0.18581025, 0.01299676],\n",
              "       [0.17675537, 0.20450438, 0.18498502, 0.19029329, 0.01008884],\n",
              "       [0.18170268, 0.20859222, 0.18946289, 0.18486769, 0.00829495],\n",
              "       [0.17153086, 0.17845485, 0.18401308, 0.17896493, 0.02931841],\n",
              "       [0.17197926, 0.19728432, 0.17821645, 0.1844725 , 0.01143171],\n",
              "       [0.17454735, 0.20587853, 0.18364442, 0.18457642, 0.00754714],\n",
              "       [0.17205263, 0.19904732, 0.18374787, 0.17793747, 0.00837184],\n",
              "       [0.18053685, 0.1988842 , 0.17716   , 0.19263948, 0.01086391],\n",
              "       [0.18495424, 0.21290251, 0.19181332, 0.19378402, 0.01246118],\n",
              "       [0.18289434, 0.21417119, 0.19296449, 0.19239652, 0.01005381],\n",
              "       [0.17940907, 0.20853291, 0.19155686, 0.1874495 , 0.00729667],\n",
              "       [0.17425522, 0.19820867, 0.18665056, 0.17717638, 0.00920552],\n",
              "       [0.16816653, 0.1982548 , 0.17642559, 0.18069638, 0.00464386],\n",
              "       [0.16848721, 0.19629737, 0.17993883, 0.17450529, 0.00560017],\n",
              "       [0.16434564, 0.18745108, 0.17373711, 0.169147  , 0.00722205],\n",
              "       [0.16048807, 0.18880711, 0.16839948, 0.16903576, 0.00691079],\n",
              "       [0.16593677, 0.19033613, 0.16831351, 0.17570838, 0.00731056],\n",
              "       [0.16305344, 0.18830293, 0.17490722, 0.168825  , 0.00723107],\n",
              "       [0.15854366, 0.18671787, 0.16808911, 0.16694719, 0.00543113],\n",
              "       [0.1571115 , 0.18764385, 0.16621664, 0.16626514, 0.00321999],\n",
              "       [0.15574186, 0.18031835, 0.16544725, 0.16110151, 0.00521071],\n",
              "       [0.15945947, 0.1805342 , 0.1603865 , 0.16467273, 0.01167568],\n",
              "       [0.15299984, 0.18073192, 0.16393617, 0.16282272, 0.00560242],\n",
              "       [0.15666175, 0.18308314, 0.1620943 , 0.16885867, 0.00757012],\n",
              "       [0.15911027, 0.18953703, 0.16810951, 0.16826444, 0.00577856],\n",
              "       [0.16001386, 0.18671458, 0.16750187, 0.17236841, 0.00575009],\n",
              "       [0.16707679, 0.19324261, 0.17156446, 0.1786078 , 0.0088801 ],\n",
              "       [0.16618815, 0.19235452, 0.17783176, 0.17214594, 0.00599864],\n",
              "       [0.16267298, 0.19287354, 0.17137211, 0.17241671, 0.00616254],\n",
              "       [0.16813256, 0.19404008, 0.17164461, 0.1770154 , 0.00862686],\n",
              "       [0.17541969, 0.19790714, 0.17624053, 0.18762075, 0.01422372],\n",
              "       [0.18886073, 0.20959564, 0.18678316, 0.19760698, 0.02890701],\n",
              "       [0.18433599, 0.21013444, 0.19680996, 0.18950296, 0.01254593],\n",
              "       [0.18327614, 0.21194027, 0.18865999, 0.1966088 , 0.00862534],\n",
              "       [0.19463962, 0.22153789, 0.19578558, 0.20958228, 0.02065173],\n",
              "       [0.20534544, 0.23266618, 0.2086451 , 0.20654527, 0.02111075],\n",
              "       [0.19966846, 0.23074336, 0.20548595, 0.20919882, 0.01367834],\n",
              "       [0.19482849, 0.22842017, 0.20825313, 0.20735465, 0.01257214],\n",
              "       [0.19784905, 0.2239583 , 0.20639961, 0.19947455, 0.01503373],\n",
              "       [0.19129159, 0.21742863, 0.19873197, 0.2045811 , 0.01247451],\n",
              "       [0.19356754, 0.2267758 , 0.20366887, 0.20106551, 0.00966291],\n",
              "       [0.1996671 , 0.2238199 , 0.20016146, 0.21210115, 0.01492223],\n",
              "       [0.20884429, 0.2319264 , 0.21110481, 0.21523036, 0.03230163],\n",
              "       [0.23973341, 0.24134936, 0.21431205, 0.25081961, 0.0751954 ],\n",
              "       [0.23259265, 0.25756691, 0.24841824, 0.22837182, 0.08874071]])"
            ]
          },
          "execution_count": 97,
          "metadata": {},
          "output_type": "execute_result"
        }
      ],
      "source": [
        "inputs = scaler.transform(df)\n",
        "inputs"
      ]
    },
    {
      "cell_type": "code",
      "execution_count": 98,
      "id": "1ba280da",
      "metadata": {},
      "outputs": [
        {
          "data": {
            "text/plain": [
              "((96, 60, 5), (96,))"
            ]
          },
          "execution_count": 98,
          "metadata": {},
          "output_type": "execute_result"
        }
      ],
      "source": [
        "X_test = []\n",
        "y_test = []\n",
        "\n",
        "for i in range(60, inputs.shape[0]):\n",
        "    X_test.append(inputs[i-60:i])\n",
        "    y_test.append(inputs[i, 0])\n",
        "\n",
        "X_test, y_test = np.array(X_test), np.array(y_test)\n",
        "X_test.shape, y_test.shape"
      ]
    },
    {
      "cell_type": "code",
      "execution_count": 99,
      "id": "54130b48",
      "metadata": {},
      "outputs": [],
      "source": [
        "y_pred = regressor.predict(X_test)"
      ]
    },
    {
      "cell_type": "code",
      "execution_count": 100,
      "id": "b8f5f3a1",
      "metadata": {},
      "outputs": [
        {
          "data": {
            "text/plain": [
              "array([1.35877872e+00, 1.64766088e+00, 1.45717154e+00, 1.46361450e+00,\n",
              "       1.44094570e-11])"
            ]
          },
          "execution_count": 100,
          "metadata": {},
          "output_type": "execute_result"
        }
      ],
      "source": [
        "scaler.scale_"
      ]
    },
    {
      "cell_type": "code",
      "execution_count": 101,
      "id": "de9887ba",
      "metadata": {},
      "outputs": [
        {
          "data": {
            "text/plain": [
              "1221.5901990069017"
            ]
          },
          "execution_count": 101,
          "metadata": {},
          "output_type": "execute_result"
        }
      ],
      "source": [
        "scale = 1/8.18605127e-04\n",
        "scale"
      ]
    },
    {
      "cell_type": "code",
      "execution_count": 102,
      "id": "243647fe",
      "metadata": {},
      "outputs": [],
      "source": [
        "y_pred = y_pred*scale\n",
        "y_test = y_test*scale"
      ]
    },
    {
      "cell_type": "code",
      "execution_count": 103,
      "id": "e7f2d10e",
      "metadata": {},
      "outputs": [
        {
          "data": {
            "image/png": "[encoded data removed]",
            "text/plain": [
              "<Figure size 1008x360 with 1 Axes>"
            ]
          },
          "metadata": {
            "needs_background": "light"
          },
          "output_type": "display_data"
        }
      ],
      "source": [
        "# Visualising the results\n",
        "plt.figure(figsize=(14,5))\n",
        "plt.plot(y_test, color = 'red', label = 'Real Doge Price')\n",
        "plt.plot(y_pred, color = 'blue', label = 'Predicted Dogecoin Price')\n",
        "plt.title('DOGE Price Prediction')\n",
        "plt.xlabel('Time')\n",
        "plt.ylabel('DOGE Price')\n",
        "plt.legend()\n",
        "plt.show()"
      ]
    },
    {
      "cell_type": "code",
      "execution_count": null,
      "id": "26a02d25",
      "metadata": {},
      "outputs": [],
      "source": []
    }
  ],
  "metadata": {
    "colab": {
      "collapsed_sections": [],
      "name": "dogecoindata (fullcode).ipynb",
      "provenance": []
    },
    "kernelspec": {
      "display_name": "Python 3 (ipykernel)",
      "language": "python",
      "name": "python3"
    },
    "language_info": {
      "codemirror_mode": {
        "name": "ipython",
        "version": 3
      },
      "file_extension": ".py",
      "mimetype": "text/x-python",
      "name": "python",
      "nbconvert_exporter": "python",
      "pygments_lexer": "ipython3",
      "version": "3.9.5"
    }
  },
  "nbformat": 4,
  "nbformat_minor": 5
}
